{
  "nbformat": 4,
  "nbformat_minor": 0,
  "metadata": {
    "colab": {
      "name": "1_Downloaded_July_Signal_Manual_Train_Test_Cathaoir_V2_Thesis_LSTM.ipynb",
      "provenance": [],
      "collapsed_sections": []
    },
    "kernelspec": {
      "display_name": "Python 3",
      "name": "python3"
    },
    "language_info": {
      "name": "python"
    }
  },
  "cells": [
    {
      "cell_type": "markdown",
      "metadata": {
        "id": "FN84-i0Cqz52"
      },
      "source": [
        "# Signal Measurements\n",
        "\n",
        "\n"
      ]
    },
    {
      "cell_type": "markdown",
      "metadata": {
        "id": "pSZWa4RAQsNg"
      },
      "source": [
        "# Imports\n",
        "\n",
        "\n",
        "-------------------------"
      ]
    },
    {
      "cell_type": "code",
      "metadata": {
        "id": "2AhOxn2FQsAw"
      },
      "source": [
        "\n",
        "########################### (https://github.com/curiousily/TensorFlow-on-Android-for-Human-Activity-Recognition-with-LSTMs/blob/master/human_activity_recognition.ipynb) imports\n",
        "import numpy as np \n",
        "import pandas as pd\n",
        "import matplotlib.pyplot as plt\n",
        "\n",
        "\n",
        "from scipy import stats\n",
        "import tensorflow as tf\n",
        "import seaborn as sns\n",
        "from pylab import rcParams\n",
        "from sklearn import metrics\n",
        "from sklearn.model_selection import train_test_split\n",
        "\n",
        "%matplotlib inline\n",
        "sns.set(style='whitegrid', palette='muted', font_scale=1.5)\n",
        "rcParams['figure.figsize'] = 14, 8\n",
        "RANDOM_SEED = 42"
      ],
      "execution_count": null,
      "outputs": []
    },
    {
      "cell_type": "markdown",
      "metadata": {
        "id": "W_M5F5DwPrKk"
      },
      "source": [
        "# Upload Data \n",
        "\n",
        "---------------------------------\n",
        "\n"
      ]
    },
    {
      "cell_type": "markdown",
      "metadata": {
        "id": "7Gfe3HF-vVBm"
      },
      "source": [
        "## Signal "
      ]
    },
    {
      "cell_type": "markdown",
      "metadata": {
        "id": "1ZX9OGsWPzvD"
      },
      "source": [
        "Train"
      ]
    },
    {
      "cell_type": "code",
      "metadata": {
        "colab": {
          "resources": {
            "http://localhost:8080/nbextensions/google.colab/files.js": {
              "data": "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",
              "ok": true,
              "headers": [
                [
                  "content-type",
                  "application/javascript"
                ]
              ],
              "status": 200,
              "status_text": "OK"
            }
          },
          "base_uri": "https://localhost:8080/",
          "height": 1000
        },
        "id": "7IyDYp-eLY8K",
        "outputId": "6d0f3f1e-a706-4a0c-e56d-dc0f2547bd2d"
      },
      "source": [
        "from google.colab import files\n",
        "uploaded_signal_train = files.upload()"
      ],
      "execution_count": null,
      "outputs": [
        {
          "output_type": "display_data",
          "data": {
            "text/html": [
              "\n",
              "     <input type=\"file\" id=\"files-b59b308b-e001-4efd-8538-3eb1ce203c6b\" name=\"files[]\" multiple disabled\n",
              "        style=\"border:none\" />\n",
              "     <output id=\"result-b59b308b-e001-4efd-8538-3eb1ce203c6b\">\n",
              "      Upload widget is only available when the cell has been executed in the\n",
              "      current browser session. Please rerun this cell to enable.\n",
              "      </output>\n",
              "      <script src=\"/nbextensions/google.colab/files.js\"></script> "
            ],
            "text/plain": [
              "<IPython.core.display.HTML object>"
            ]
          },
          "metadata": {
            "tags": []
          }
        },
        {
          "output_type": "stream",
          "text": [
            "Saving 28_2_Participant_SlideSize_10_Signal_Segments_RJP.npy to 28_2_Participant_SlideSize_10_Signal_Segments_RJP.npy\n",
            "Saving 28_3_Participant_SlideSize_10_Signal_Segments_RJP.npy to 28_3_Participant_SlideSize_10_Signal_Segments_RJP.npy\n",
            "Saving 28_4_Participant_SlideSize_10_Signal_Segments_RJP.npy to 28_4_Participant_SlideSize_10_Signal_Segments_RJP.npy\n",
            "Saving 28_6_Participant_SlideSize_10_Signal_Segments_RJP.npy to 28_6_Participant_SlideSize_10_Signal_Segments_RJP.npy\n",
            "Saving 28_7_Participant_SlideSize_10_Signal_Segments_RJP.npy to 28_7_Participant_SlideSize_10_Signal_Segments_RJP.npy\n",
            "Saving 28_8_Participant_SlideSize_10_Signal_Segments_RJP.npy to 28_8_Participant_SlideSize_10_Signal_Segments_RJP.npy\n",
            "Saving 28_9_Participant_SlideSize_10_Signal_Segments_RJP.npy to 28_9_Participant_SlideSize_10_Signal_Segments_RJP.npy\n",
            "Saving 29_2_Participant_SlideSize_10_Signal_Segments_RCP.npy to 29_2_Participant_SlideSize_10_Signal_Segments_RCP.npy\n",
            "Saving 29_3_Participant_SlideSize_10_Signal_Segments_RCP.npy to 29_3_Participant_SlideSize_10_Signal_Segments_RCP.npy\n",
            "Saving 29_4_Participant_SlideSize_10_Signal_Segments_RCP.npy to 29_4_Participant_SlideSize_10_Signal_Segments_RCP.npy\n",
            "Saving 29_5_Participant_SlideSize_10_Signal_Segments_RCP.npy to 29_5_Participant_SlideSize_10_Signal_Segments_RCP.npy\n",
            "Saving 29_6_Participant_SlideSize_10_Signal_Segments_RCP.npy to 29_6_Participant_SlideSize_10_Signal_Segments_RCP.npy\n",
            "Saving 29_8_Participant_SlideSize_10_Signal_Segments_RCP.npy to 29_8_Participant_SlideSize_10_Signal_Segments_RCP.npy\n",
            "Saving 29_9_Participant_SlideSize_10_Signal_Segments_RCP.npy to 29_9_Participant_SlideSize_10_Signal_Segments_RCP.npy\n",
            "Saving 32_2_Participant_SlideSize_10_Signal_Segments_RJP.npy to 32_2_Participant_SlideSize_10_Signal_Segments_RJP.npy\n",
            "Saving 32_4_Participant_SlideSize_10_Signal_Segments_RJP.npy to 32_4_Participant_SlideSize_10_Signal_Segments_RJP.npy\n",
            "Saving 32_5_Participant_SlideSize_10_Signal_Segments_RJP.npy to 32_5_Participant_SlideSize_10_Signal_Segments_RJP.npy\n",
            "Saving 32_6_Participant_SlideSize_10_Signal_Segments_RJP.npy to 32_6_Participant_SlideSize_10_Signal_Segments_RJP.npy\n",
            "Saving 32_7_Participant_SlideSize_10_Signal_Segments_RJP.npy to 32_7_Participant_SlideSize_10_Signal_Segments_RJP.npy\n",
            "Saving 32_8_Participant_SlideSize_10_Signal_Segments_RJP.npy to 32_8_Participant_SlideSize_10_Signal_Segments_RJP.npy\n",
            "Saving 32_9_Participant_SlideSize_10_Signal_Segments_RJP.npy to 32_9_Participant_SlideSize_10_Signal_Segments_RJP.npy\n",
            "Saving 33_2_Participant_SlideSize_10_Signal_Segments_LJP.npy to 33_2_Participant_SlideSize_10_Signal_Segments_LJP.npy\n",
            "Saving 33_4_Participant_SlideSize_10_Signal_Segments_LJP.npy to 33_4_Participant_SlideSize_10_Signal_Segments_LJP.npy\n",
            "Saving 33_5_Participant_SlideSize_10_Signal_Segments_LJP.npy to 33_5_Participant_SlideSize_10_Signal_Segments_LJP.npy\n",
            "Saving 33_6_Participant_SlideSize_10_Signal_Segments_LJP.npy to 33_6_Participant_SlideSize_10_Signal_Segments_LJP.npy\n",
            "Saving 33_7_Participant_SlideSize_10_Signal_Segments_LJP.npy to 33_7_Participant_SlideSize_10_Signal_Segments_LJP.npy\n",
            "Saving 33_8_Participant_SlideSize_10_Signal_Segments_LJP.npy to 33_8_Participant_SlideSize_10_Signal_Segments_LJP.npy\n",
            "Saving 33_9_Participant_SlideSize_10_Signal_Segments_LJP.npy to 33_9_Participant_SlideSize_10_Signal_Segments_LJP.npy\n",
            "Saving 34_2_Participant_SlideSize_10_Signal_Segments_RJP.npy to 34_2_Participant_SlideSize_10_Signal_Segments_RJP.npy\n",
            "Saving 34_4_Participant_SlideSize_10_Signal_Segments_RJP.npy to 34_4_Participant_SlideSize_10_Signal_Segments_RJP.npy\n",
            "Saving 34_5_Participant_SlideSize_10_Signal_Segments_RJP.npy to 34_5_Participant_SlideSize_10_Signal_Segments_RJP.npy\n",
            "Saving 34_6_Participant_SlideSize_10_Signal_Segments_RJP.npy to 34_6_Participant_SlideSize_10_Signal_Segments_RJP.npy\n",
            "Saving 34_7_Participant_SlideSize_10_Signal_Segments_RJP.npy to 34_7_Participant_SlideSize_10_Signal_Segments_RJP.npy\n",
            "Saving 34_8_Participant_SlideSize_10_Signal_Segments_RJP.npy to 34_8_Participant_SlideSize_10_Signal_Segments_RJP.npy\n",
            "Saving 34_9_Participant_SlideSize_10_Signal_Segments_RJP.npy to 34_9_Participant_SlideSize_10_Signal_Segments_RJP.npy\n",
            "Saving 35_2_Participant_SlideSize_10_Signal_Segments_RCP.npy to 35_2_Participant_SlideSize_10_Signal_Segments_RCP.npy\n",
            "Saving 35_3_Participant_SlideSize_10_Signal_Segments_RCP.npy to 35_3_Participant_SlideSize_10_Signal_Segments_RCP.npy\n",
            "Saving 35_4_Participant_SlideSize_10_Signal_Segments_RCP.npy to 35_4_Participant_SlideSize_10_Signal_Segments_RCP.npy\n",
            "Saving 35_6_Participant_SlideSize_10_Signal_Segments_RCP.npy to 35_6_Participant_SlideSize_10_Signal_Segments_RCP.npy\n",
            "Saving 35_7_Participant_SlideSize_10_Signal_Segments_RCP.npy to 35_7_Participant_SlideSize_10_Signal_Segments_RCP.npy\n",
            "Saving 35_8_Participant_SlideSize_10_Signal_Segments_RCP.npy to 35_8_Participant_SlideSize_10_Signal_Segments_RCP.npy\n",
            "Saving 35_9_Participant_SlideSize_10_Signal_Segments_RCP.npy to 35_9_Participant_SlideSize_10_Signal_Segments_RCP.npy\n",
            "Saving 36_3_Participant_SlideSize_10_Signal_Segments_OTH.npy to 36_3_Participant_SlideSize_10_Signal_Segments_OTH.npy\n",
            "Saving 36_4_Participant_SlideSize_10_Signal_Segments_OTH.npy to 36_4_Participant_SlideSize_10_Signal_Segments_OTH.npy\n",
            "Saving 36_5_Participant_SlideSize_10_Signal_Segments_OTH.npy to 36_5_Participant_SlideSize_10_Signal_Segments_OTH.npy\n",
            "Saving 36_6_Participant_SlideSize_10_Signal_Segments_OTH.npy to 36_6_Participant_SlideSize_10_Signal_Segments_OTH.npy\n",
            "Saving 36_7_Participant_SlideSize_10_Signal_Segments_OTH.npy to 36_7_Participant_SlideSize_10_Signal_Segments_OTH.npy\n",
            "Saving 36_8_Participant_SlideSize_10_Signal_Segments_OTH.npy to 36_8_Participant_SlideSize_10_Signal_Segments_OTH.npy\n",
            "Saving 36_9_Participant_SlideSize_10_Signal_Segments_OTH.npy to 36_9_Participant_SlideSize_10_Signal_Segments_OTH.npy\n",
            "Saving 37_2_Participant_SlideSize_10_Signal_Segments_RCP.npy to 37_2_Participant_SlideSize_10_Signal_Segments_RCP.npy\n",
            "Saving 37_4_Participant_SlideSize_10_Signal_Segments_RCP.npy to 37_4_Participant_SlideSize_10_Signal_Segments_RCP.npy\n",
            "Saving 37_5_Participant_SlideSize_10_Signal_Segments_RCP.npy to 37_5_Participant_SlideSize_10_Signal_Segments_RCP.npy\n",
            "Saving 37_6_Participant_SlideSize_10_Signal_Segments_RCP.npy to 37_6_Participant_SlideSize_10_Signal_Segments_RCP.npy\n",
            "Saving 37_7_Participant_SlideSize_10_Signal_Segments_RCP.npy to 37_7_Participant_SlideSize_10_Signal_Segments_RCP.npy\n",
            "Saving 37_8_Participant_SlideSize_10_Signal_Segments_RCP.npy to 37_8_Participant_SlideSize_10_Signal_Segments_RCP.npy\n",
            "Saving 37_9_Participant_SlideSize_10_Signal_Segments_RCP.npy to 37_9_Participant_SlideSize_10_Signal_Segments_RCP.npy\n",
            "Saving 38_2_Participant_SlideSize_10_Signal_Segments_RJP.npy to 38_2_Participant_SlideSize_10_Signal_Segments_RJP.npy\n",
            "Saving 38_4_Participant_SlideSize_10_Signal_Segments_RJP.npy to 38_4_Participant_SlideSize_10_Signal_Segments_RJP.npy\n",
            "Saving 38_5_Participant_SlideSize_10_Signal_Segments_RJP.npy to 38_5_Participant_SlideSize_10_Signal_Segments_RJP.npy\n",
            "Saving 38_6_Participant_SlideSize_10_Signal_Segments_RJP.npy to 38_6_Participant_SlideSize_10_Signal_Segments_RJP.npy\n",
            "Saving 38_7_Participant_SlideSize_10_Signal_Segments_RJP.npy to 38_7_Participant_SlideSize_10_Signal_Segments_RJP.npy\n",
            "Saving 38_8_Participant_SlideSize_10_Signal_Segments_RJP.npy to 38_8_Participant_SlideSize_10_Signal_Segments_RJP.npy\n",
            "Saving 38_9_Participant_SlideSize_10_Signal_Segments_RJP.npy to 38_9_Participant_SlideSize_10_Signal_Segments_RJP.npy\n",
            "Saving 39_2_Participant_SlideSize_10_Signal_Segments_OTH.npy to 39_2_Participant_SlideSize_10_Signal_Segments_OTH.npy\n",
            "Saving 39_3_Participant_SlideSize_10_Signal_Segments_OTH.npy to 39_3_Participant_SlideSize_10_Signal_Segments_OTH.npy\n",
            "Saving 39_4_Participant_SlideSize_10_Signal_Segments_OTH.npy to 39_4_Participant_SlideSize_10_Signal_Segments_OTH.npy\n",
            "Saving 39_5_Participant_SlideSize_10_Signal_Segments_OTH.npy to 39_5_Participant_SlideSize_10_Signal_Segments_OTH.npy\n",
            "Saving 39_7_Participant_SlideSize_10_Signal_Segments_OTH.npy to 39_7_Participant_SlideSize_10_Signal_Segments_OTH.npy\n",
            "Saving 39_8_Participant_SlideSize_10_Signal_Segments_OTH.npy to 39_8_Participant_SlideSize_10_Signal_Segments_OTH.npy\n",
            "Saving 40_2_Participant_SlideSize_10_Signal_Segments_OTH.npy to 40_2_Participant_SlideSize_10_Signal_Segments_OTH.npy\n",
            "Saving 40_4_Participant_SlideSize_10_Signal_Segments_OTH.npy to 40_4_Participant_SlideSize_10_Signal_Segments_OTH.npy\n",
            "Saving 40_5_Participant_SlideSize_10_Signal_Segments_OTH.npy to 40_5_Participant_SlideSize_10_Signal_Segments_OTH.npy\n",
            "Saving 40_7_Participant_SlideSize_10_Signal_Segments_OTH.npy to 40_7_Participant_SlideSize_10_Signal_Segments_OTH.npy\n",
            "Saving 40_8_Participant_SlideSize_10_Signal_Segments_OTH.npy to 40_8_Participant_SlideSize_10_Signal_Segments_OTH.npy\n",
            "Saving 40_9_Participant_SlideSize_10_Signal_Segments_OTH.npy to 40_9_Participant_SlideSize_10_Signal_Segments_OTH.npy\n",
            "Saving 41_2_Participant_SlideSize_10_Signal_Segments_OTH.npy to 41_2_Participant_SlideSize_10_Signal_Segments_OTH.npy\n",
            "Saving 41_4_Participant_SlideSize_10_Signal_Segments_OTH.npy to 41_4_Participant_SlideSize_10_Signal_Segments_OTH.npy\n",
            "Saving 41_5_Participant_SlideSize_10_Signal_Segments_OTH.npy to 41_5_Participant_SlideSize_10_Signal_Segments_OTH.npy\n",
            "Saving 41_6_Participant_SlideSize_10_Signal_Segments_OTH.npy to 41_6_Participant_SlideSize_10_Signal_Segments_OTH.npy\n",
            "Saving 41_7_Participant_SlideSize_10_Signal_Segments_OTH.npy to 41_7_Participant_SlideSize_10_Signal_Segments_OTH.npy\n",
            "Saving 41_8_Participant_SlideSize_10_Signal_Segments_OTH.npy to 41_8_Participant_SlideSize_10_Signal_Segments_OTH.npy\n",
            "Saving 41_9_Participant_SlideSize_10_Signal_Segments_OTH.npy to 41_9_Participant_SlideSize_10_Signal_Segments_OTH.npy\n",
            "Saving 42_2_Participant_SlideSize_10_Signal_Segments_LCP.npy to 42_2_Participant_SlideSize_10_Signal_Segments_LCP.npy\n",
            "Saving 42_3_Participant_SlideSize_10_Signal_Segments_LCP.npy to 42_3_Participant_SlideSize_10_Signal_Segments_LCP.npy\n",
            "Saving 42_4_Participant_SlideSize_10_Signal_Segments_LCP.npy to 42_4_Participant_SlideSize_10_Signal_Segments_LCP.npy\n",
            "Saving 42_6_Participant_SlideSize_10_Signal_Segments_LCP.npy to 42_6_Participant_SlideSize_10_Signal_Segments_LCP.npy\n",
            "Saving 42_7_Participant_SlideSize_10_Signal_Segments_LCP.npy to 42_7_Participant_SlideSize_10_Signal_Segments_LCP.npy\n",
            "Saving 42_8_Participant_SlideSize_10_Signal_Segments_LCP.npy to 42_8_Participant_SlideSize_10_Signal_Segments_LCP.npy\n",
            "Saving 42_9_Participant_SlideSize_10_Signal_Segments_LCP.npy to 42_9_Participant_SlideSize_10_Signal_Segments_LCP.npy\n",
            "Saving 43_2_Participant_SlideSize_10_Signal_Segments_RCP.npy to 43_2_Participant_SlideSize_10_Signal_Segments_RCP.npy\n",
            "Saving 43_3_Participant_SlideSize_10_Signal_Segments_RCP.npy to 43_3_Participant_SlideSize_10_Signal_Segments_RCP.npy\n",
            "Saving 43_5_Participant_SlideSize_10_Signal_Segments_RCP.npy to 43_5_Participant_SlideSize_10_Signal_Segments_RCP.npy\n",
            "Saving 43_6_Participant_SlideSize_10_Signal_Segments_RCP.npy to 43_6_Participant_SlideSize_10_Signal_Segments_RCP.npy\n",
            "Saving 43_7_Participant_SlideSize_10_Signal_Segments_RCP.npy to 43_7_Participant_SlideSize_10_Signal_Segments_RCP.npy\n",
            "Saving 43_8_Participant_SlideSize_10_Signal_Segments_RCP.npy to 43_8_Participant_SlideSize_10_Signal_Segments_RCP.npy\n",
            "Saving 43_9_Participant_SlideSize_10_Signal_Segments_RCP.npy to 43_9_Participant_SlideSize_10_Signal_Segments_RCP.npy\n",
            "Saving 44_3_Participant_SlideSize_10_Signal_Segments_LJP.npy to 44_3_Participant_SlideSize_10_Signal_Segments_LJP.npy\n",
            "Saving 44_4_Participant_SlideSize_10_Signal_Segments_LJP.npy to 44_4_Participant_SlideSize_10_Signal_Segments_LJP.npy\n",
            "Saving 44_5_Participant_SlideSize_10_Signal_Segments_LJP.npy to 44_5_Participant_SlideSize_10_Signal_Segments_LJP.npy\n",
            "Saving 44_6_Participant_SlideSize_10_Signal_Segments_LJP.npy to 44_6_Participant_SlideSize_10_Signal_Segments_LJP.npy\n",
            "Saving 44_7_Participant_SlideSize_10_Signal_Segments_LJP.npy to 44_7_Participant_SlideSize_10_Signal_Segments_LJP.npy\n",
            "Saving 44_8_Participant_SlideSize_10_Signal_Segments_LJP.npy to 44_8_Participant_SlideSize_10_Signal_Segments_LJP.npy\n",
            "Saving 44_9_Participant_SlideSize_10_Signal_Segments_LJP.npy to 44_9_Participant_SlideSize_10_Signal_Segments_LJP.npy\n",
            "Saving 45_3_Participant_SlideSize_10_Signal_Segments_OTH.npy to 45_3_Participant_SlideSize_10_Signal_Segments_OTH.npy\n",
            "Saving 45_4_Participant_SlideSize_10_Signal_Segments_OTH.npy to 45_4_Participant_SlideSize_10_Signal_Segments_OTH.npy\n",
            "Saving 45_5_Participant_SlideSize_10_Signal_Segments_OTH.npy to 45_5_Participant_SlideSize_10_Signal_Segments_OTH.npy\n",
            "Saving 45_6_Participant_SlideSize_10_Signal_Segments_OTH.npy to 45_6_Participant_SlideSize_10_Signal_Segments_OTH.npy\n",
            "Saving 45_8_Participant_SlideSize_10_Signal_Segments_OTH.npy to 45_8_Participant_SlideSize_10_Signal_Segments_OTH.npy\n",
            "Saving 45_9_Participant_SlideSize_10_Signal_Segments_OTH.npy to 45_9_Participant_SlideSize_10_Signal_Segments_OTH.npy\n",
            "Saving 46_2_Participant_SlideSize_10_Signal_Segments_LJP.npy to 46_2_Participant_SlideSize_10_Signal_Segments_LJP.npy\n",
            "Saving 46_3_Participant_SlideSize_10_Signal_Segments_LJP.npy to 46_3_Participant_SlideSize_10_Signal_Segments_LJP.npy\n",
            "Saving 46_4_Participant_SlideSize_10_Signal_Segments_LJP.npy to 46_4_Participant_SlideSize_10_Signal_Segments_LJP.npy\n",
            "Saving 46_5_Participant_SlideSize_10_Signal_Segments_LJP.npy to 46_5_Participant_SlideSize_10_Signal_Segments_LJP.npy\n",
            "Saving 46_7_Participant_SlideSize_10_Signal_Segments_LJP.npy to 46_7_Participant_SlideSize_10_Signal_Segments_LJP.npy\n",
            "Saving 46_8_Participant_SlideSize_10_Signal_Segments_LJP.npy to 46_8_Participant_SlideSize_10_Signal_Segments_LJP.npy\n",
            "Saving 46_9_Participant_SlideSize_10_Signal_Segments_LJP.npy to 46_9_Participant_SlideSize_10_Signal_Segments_LJP.npy\n",
            "Saving 47_2_Participant_SlideSize_10_Signal_Segments_LJP.npy to 47_2_Participant_SlideSize_10_Signal_Segments_LJP.npy\n",
            "Saving 47_4_Participant_SlideSize_10_Signal_Segments_LJP.npy to 47_4_Participant_SlideSize_10_Signal_Segments_LJP.npy\n",
            "Saving 47_5_Participant_SlideSize_10_Signal_Segments_LJP.npy to 47_5_Participant_SlideSize_10_Signal_Segments_LJP.npy\n",
            "Saving 47_6_Participant_SlideSize_10_Signal_Segments_LJP.npy to 47_6_Participant_SlideSize_10_Signal_Segments_LJP.npy\n",
            "Saving 47_7_Participant_SlideSize_10_Signal_Segments_LJP.npy to 47_7_Participant_SlideSize_10_Signal_Segments_LJP.npy\n",
            "Saving 47_8_Participant_SlideSize_10_Signal_Segments_LJP.npy to 47_8_Participant_SlideSize_10_Signal_Segments_LJP.npy\n",
            "Saving 47_9_Participant_SlideSize_10_Signal_Segments_LJP.npy to 47_9_Participant_SlideSize_10_Signal_Segments_LJP.npy\n",
            "Saving 48_3_Participant_SlideSize_10_Signal_Segments_OTH.npy to 48_3_Participant_SlideSize_10_Signal_Segments_OTH.npy\n",
            "Saving 48_4_Participant_SlideSize_10_Signal_Segments_OTH.npy to 48_4_Participant_SlideSize_10_Signal_Segments_OTH.npy\n",
            "Saving 48_5_Participant_SlideSize_10_Signal_Segments_OTH.npy to 48_5_Participant_SlideSize_10_Signal_Segments_OTH.npy\n",
            "Saving 48_6_Participant_SlideSize_10_Signal_Segments_OTH.npy to 48_6_Participant_SlideSize_10_Signal_Segments_OTH.npy\n",
            "Saving 48_7_Participant_SlideSize_10_Signal_Segments_OTH.npy to 48_7_Participant_SlideSize_10_Signal_Segments_OTH.npy\n",
            "Saving 48_8_Participant_SlideSize_10_Signal_Segments_OTH.npy to 48_8_Participant_SlideSize_10_Signal_Segments_OTH.npy\n",
            "Saving 48_9_Participant_SlideSize_10_Signal_Segments_OTH.npy to 48_9_Participant_SlideSize_10_Signal_Segments_OTH.npy\n",
            "Saving 49_2_Participant_SlideSize_10_Signal_Segments_OTH.npy to 49_2_Participant_SlideSize_10_Signal_Segments_OTH.npy\n",
            "Saving 49_3_Participant_SlideSize_10_Signal_Segments_OTH.npy to 49_3_Participant_SlideSize_10_Signal_Segments_OTH.npy\n",
            "Saving 49_5_Participant_SlideSize_10_Signal_Segments_OTH.npy to 49_5_Participant_SlideSize_10_Signal_Segments_OTH.npy\n",
            "Saving 49_6_Participant_SlideSize_10_Signal_Segments_OTH.npy to 49_6_Participant_SlideSize_10_Signal_Segments_OTH.npy\n",
            "Saving 49_7_Participant_SlideSize_10_Signal_Segments_OTH.npy to 49_7_Participant_SlideSize_10_Signal_Segments_OTH.npy\n",
            "Saving 49_8_Participant_SlideSize_10_Signal_Segments_OTH.npy to 49_8_Participant_SlideSize_10_Signal_Segments_OTH.npy\n",
            "Saving 49_9_Participant_SlideSize_10_Signal_Segments_OTH.npy to 49_9_Participant_SlideSize_10_Signal_Segments_OTH.npy\n",
            "Saving 50_2_Participant_SlideSize_10_Signal_Segments_OTH.npy to 50_2_Participant_SlideSize_10_Signal_Segments_OTH.npy\n",
            "Saving 50_4_Participant_SlideSize_10_Signal_Segments_OTH.npy to 50_4_Participant_SlideSize_10_Signal_Segments_OTH.npy\n",
            "Saving 50_5_Participant_SlideSize_10_Signal_Segments_OTH.npy to 50_5_Participant_SlideSize_10_Signal_Segments_OTH.npy\n",
            "Saving 50_6_Participant_SlideSize_10_Signal_Segments_OTH.npy to 50_6_Participant_SlideSize_10_Signal_Segments_OTH.npy\n",
            "Saving 50_7_Participant_SlideSize_10_Signal_Segments_OTH.npy to 50_7_Participant_SlideSize_10_Signal_Segments_OTH.npy\n",
            "Saving 50_8_Participant_SlideSize_10_Signal_Segments_OTH.npy to 50_8_Participant_SlideSize_10_Signal_Segments_OTH.npy\n",
            "Saving 50_9_Participant_SlideSize_10_Signal_Segments_OTH.npy to 50_9_Participant_SlideSize_10_Signal_Segments_OTH.npy\n",
            "Saving 51_3_Participant_SlideSize_10_Signal_Segments_RJP.npy to 51_3_Participant_SlideSize_10_Signal_Segments_RJP.npy\n",
            "Saving 51_4_Participant_SlideSize_10_Signal_Segments_RJP.npy to 51_4_Participant_SlideSize_10_Signal_Segments_RJP.npy\n",
            "Saving 51_5_Participant_SlideSize_10_Signal_Segments_RJP.npy to 51_5_Participant_SlideSize_10_Signal_Segments_RJP.npy\n",
            "Saving 51_6_Participant_SlideSize_10_Signal_Segments_RJP.npy to 51_6_Participant_SlideSize_10_Signal_Segments_RJP.npy\n",
            "Saving 51_7_Participant_SlideSize_10_Signal_Segments_RJP.npy to 51_7_Participant_SlideSize_10_Signal_Segments_RJP.npy\n",
            "Saving 51_8_Participant_SlideSize_10_Signal_Segments_RJP.npy to 51_8_Participant_SlideSize_10_Signal_Segments_RJP.npy\n",
            "Saving 51_9_Participant_SlideSize_10_Signal_Segments_RJP.npy to 51_9_Participant_SlideSize_10_Signal_Segments_RJP.npy\n",
            "Saving 52_2_Participant_SlideSize_10_Signal_Segments_RJP.npy to 52_2_Participant_SlideSize_10_Signal_Segments_RJP.npy\n",
            "Saving 52_3_Participant_SlideSize_10_Signal_Segments_RJP.npy to 52_3_Participant_SlideSize_10_Signal_Segments_RJP.npy\n",
            "Saving 52_4_Participant_SlideSize_10_Signal_Segments_RJP.npy to 52_4_Participant_SlideSize_10_Signal_Segments_RJP.npy\n",
            "Saving 52_5_Participant_SlideSize_10_Signal_Segments_RJP.npy to 52_5_Participant_SlideSize_10_Signal_Segments_RJP.npy\n",
            "Saving 52_7_Participant_SlideSize_10_Signal_Segments_RJP.npy to 52_7_Participant_SlideSize_10_Signal_Segments_RJP.npy\n",
            "Saving 52_8_Participant_SlideSize_10_Signal_Segments_RJP.npy to 52_8_Participant_SlideSize_10_Signal_Segments_RJP.npy\n",
            "Saving 52_9_Participant_SlideSize_10_Signal_Segments_RJP.npy to 52_9_Participant_SlideSize_10_Signal_Segments_RJP.npy\n",
            "Saving 53_2_Participant_SlideSize_10_Signal_Segments_RJP.npy to 53_2_Participant_SlideSize_10_Signal_Segments_RJP.npy\n",
            "Saving 53_3_Participant_SlideSize_10_Signal_Segments_RJP.npy to 53_3_Participant_SlideSize_10_Signal_Segments_RJP.npy\n",
            "Saving 53_4_Participant_SlideSize_10_Signal_Segments_RJP.npy to 53_4_Participant_SlideSize_10_Signal_Segments_RJP.npy\n",
            "Saving 53_6_Participant_SlideSize_10_Signal_Segments_RJP.npy to 53_6_Participant_SlideSize_10_Signal_Segments_RJP.npy\n",
            "Saving 53_7_Participant_SlideSize_10_Signal_Segments_RJP.npy to 53_7_Participant_SlideSize_10_Signal_Segments_RJP.npy\n",
            "Saving 53_8_Participant_SlideSize_10_Signal_Segments_RJP.npy to 53_8_Participant_SlideSize_10_Signal_Segments_RJP.npy\n",
            "Saving 53_9_Participant_SlideSize_10_Signal_Segments_RJP.npy to 53_9_Participant_SlideSize_10_Signal_Segments_RJP.npy\n",
            "Saving 54_2_Participant_SlideSize_10_Signal_Segments_OTH.npy to 54_2_Participant_SlideSize_10_Signal_Segments_OTH.npy\n",
            "Saving 54_3_Participant_SlideSize_10_Signal_Segments_OTH.npy to 54_3_Participant_SlideSize_10_Signal_Segments_OTH.npy\n",
            "Saving 54_4_Participant_SlideSize_10_Signal_Segments_OTH.npy to 54_4_Participant_SlideSize_10_Signal_Segments_OTH.npy\n",
            "Saving 54_5_Participant_SlideSize_10_Signal_Segments_OTH.npy to 54_5_Participant_SlideSize_10_Signal_Segments_OTH.npy\n",
            "Saving 54_6_Participant_SlideSize_10_Signal_Segments_OTH.npy to 54_6_Participant_SlideSize_10_Signal_Segments_OTH.npy\n",
            "Saving 54_7_Participant_SlideSize_10_Signal_Segments_OTH.npy to 54_7_Participant_SlideSize_10_Signal_Segments_OTH.npy\n",
            "Saving 54_8_Participant_SlideSize_10_Signal_Segments_OTH.npy to 54_8_Participant_SlideSize_10_Signal_Segments_OTH.npy\n",
            "Saving 55_2_Participant_SlideSize_10_Signal_Segments_OTH.npy to 55_2_Participant_SlideSize_10_Signal_Segments_OTH.npy\n",
            "Saving 55_3_Participant_SlideSize_10_Signal_Segments_OTH.npy to 55_3_Participant_SlideSize_10_Signal_Segments_OTH.npy\n",
            "Saving 55_4_Participant_SlideSize_10_Signal_Segments_OTH.npy to 55_4_Participant_SlideSize_10_Signal_Segments_OTH.npy\n",
            "Saving 55_5_Participant_SlideSize_10_Signal_Segments_OTH.npy to 55_5_Participant_SlideSize_10_Signal_Segments_OTH.npy\n",
            "Saving 55_6_Participant_SlideSize_10_Signal_Segments_OTH.npy to 55_6_Participant_SlideSize_10_Signal_Segments_OTH.npy\n",
            "Saving 55_7_Participant_SlideSize_10_Signal_Segments_OTH.npy to 55_7_Participant_SlideSize_10_Signal_Segments_OTH.npy\n",
            "Saving 55_8_Participant_SlideSize_10_Signal_Segments_OTH.npy to 55_8_Participant_SlideSize_10_Signal_Segments_OTH.npy\n",
            "Saving 56_2_Participant_SlideSize_10_Signal_Segments_RJP.npy to 56_2_Participant_SlideSize_10_Signal_Segments_RJP.npy\n",
            "Saving 56_4_Participant_SlideSize_10_Signal_Segments_RJP.npy to 56_4_Participant_SlideSize_10_Signal_Segments_RJP.npy\n",
            "Saving 56_5_Participant_SlideSize_10_Signal_Segments_RJP.npy to 56_5_Participant_SlideSize_10_Signal_Segments_RJP.npy\n",
            "Saving 56_7_Participant_SlideSize_10_Signal_Segments_RJP.npy to 56_7_Participant_SlideSize_10_Signal_Segments_RJP.npy\n",
            "Saving 56_8_Participant_SlideSize_10_Signal_Segments_RJP.npy to 56_8_Participant_SlideSize_10_Signal_Segments_RJP.npy\n",
            "Saving 56_9_Participant_SlideSize_10_Signal_Segments_RJP.npy to 56_9_Participant_SlideSize_10_Signal_Segments_RJP.npy\n",
            "Saving 57_2_Participant_SlideSize_10_Signal_Segments_RJP.npy to 57_2_Participant_SlideSize_10_Signal_Segments_RJP.npy\n",
            "Saving 57_3_Participant_SlideSize_10_Signal_Segments_RJP.npy to 57_3_Participant_SlideSize_10_Signal_Segments_RJP.npy\n",
            "Saving 57_4_Participant_SlideSize_10_Signal_Segments_RJP.npy to 57_4_Participant_SlideSize_10_Signal_Segments_RJP.npy\n",
            "Saving 57_5_Participant_SlideSize_10_Signal_Segments_RJP.npy to 57_5_Participant_SlideSize_10_Signal_Segments_RJP.npy\n",
            "Saving 57_7_Participant_SlideSize_10_Signal_Segments_RJP.npy to 57_7_Participant_SlideSize_10_Signal_Segments_RJP.npy\n",
            "Saving 57_8_Participant_SlideSize_10_Signal_Segments_RJP.npy to 57_8_Participant_SlideSize_10_Signal_Segments_RJP.npy\n",
            "Saving 57_9_Participant_SlideSize_10_Signal_Segments_RJP.npy to 57_9_Participant_SlideSize_10_Signal_Segments_RJP.npy\n",
            "Saving 58_3_Participant_SlideSize_10_Signal_Segments_LJP.npy to 58_3_Participant_SlideSize_10_Signal_Segments_LJP.npy\n",
            "Saving 58_5_Participant_SlideSize_10_Signal_Segments_LJP.npy to 58_5_Participant_SlideSize_10_Signal_Segments_LJP.npy\n",
            "Saving 58_6_Participant_SlideSize_10_Signal_Segments_LJP.npy to 58_6_Participant_SlideSize_10_Signal_Segments_LJP.npy\n",
            "Saving 58_7_Participant_SlideSize_10_Signal_Segments_LJP.npy to 58_7_Participant_SlideSize_10_Signal_Segments_LJP.npy\n",
            "Saving 58_8_Participant_SlideSize_10_Signal_Segments_LJP.npy to 58_8_Participant_SlideSize_10_Signal_Segments_LJP.npy\n",
            "Saving 58_9_Participant_SlideSize_10_Signal_Segments_LJP.npy to 58_9_Participant_SlideSize_10_Signal_Segments_LJP.npy\n",
            "Saving 59_2_Participant_SlideSize_10_Signal_Segments_RJP.npy to 59_2_Participant_SlideSize_10_Signal_Segments_RJP.npy\n",
            "Saving 59_3_Participant_SlideSize_10_Signal_Segments_RJP.npy to 59_3_Participant_SlideSize_10_Signal_Segments_RJP.npy\n",
            "Saving 59_4_Participant_SlideSize_10_Signal_Segments_RJP.npy to 59_4_Participant_SlideSize_10_Signal_Segments_RJP.npy\n",
            "Saving 59_5_Participant_SlideSize_10_Signal_Segments_RJP.npy to 59_5_Participant_SlideSize_10_Signal_Segments_RJP.npy\n",
            "Saving 59_6_Participant_SlideSize_10_Signal_Segments_RJP.npy to 59_6_Participant_SlideSize_10_Signal_Segments_RJP.npy\n",
            "Saving 59_7_Participant_SlideSize_10_Signal_Segments_RJP.npy to 59_7_Participant_SlideSize_10_Signal_Segments_RJP.npy\n",
            "Saving 59_9_Participant_SlideSize_10_Signal_Segments_RJP.npy to 59_9_Participant_SlideSize_10_Signal_Segments_RJP.npy\n",
            "Saving 60_3_Participant_SlideSize_10_Signal_Segments_RJP.npy to 60_3_Participant_SlideSize_10_Signal_Segments_RJP.npy\n",
            "Saving 60_4_Participant_SlideSize_10_Signal_Segments_RJP.npy to 60_4_Participant_SlideSize_10_Signal_Segments_RJP.npy\n",
            "Saving 60_5_Participant_SlideSize_10_Signal_Segments_RJP.npy to 60_5_Participant_SlideSize_10_Signal_Segments_RJP.npy\n",
            "Saving 60_6_Participant_SlideSize_10_Signal_Segments_RJP.npy to 60_6_Participant_SlideSize_10_Signal_Segments_RJP.npy\n",
            "Saving 60_7_Participant_SlideSize_10_Signal_Segments_RJP.npy to 60_7_Participant_SlideSize_10_Signal_Segments_RJP.npy\n",
            "Saving 60_8_Participant_SlideSize_10_Signal_Segments_RJP.npy to 60_8_Participant_SlideSize_10_Signal_Segments_RJP.npy\n",
            "Saving 60_9_Participant_SlideSize_10_Signal_Segments_RJP.npy to 60_9_Participant_SlideSize_10_Signal_Segments_RJP.npy\n",
            "Saving 61_2_Participant_SlideSize_10_Signal_Segments_RJP.npy to 61_2_Participant_SlideSize_10_Signal_Segments_RJP.npy\n",
            "Saving 61_3_Participant_SlideSize_10_Signal_Segments_RJP.npy to 61_3_Participant_SlideSize_10_Signal_Segments_RJP.npy\n",
            "Saving 61_4_Participant_SlideSize_10_Signal_Segments_RJP.npy to 61_4_Participant_SlideSize_10_Signal_Segments_RJP.npy\n",
            "Saving 61_5_Participant_SlideSize_10_Signal_Segments_RJP.npy to 61_5_Participant_SlideSize_10_Signal_Segments_RJP.npy\n",
            "Saving 61_6_Participant_SlideSize_10_Signal_Segments_RJP.npy to 61_6_Participant_SlideSize_10_Signal_Segments_RJP.npy\n",
            "Saving 61_7_Participant_SlideSize_10_Signal_Segments_RJP.npy to 61_7_Participant_SlideSize_10_Signal_Segments_RJP.npy\n",
            "Saving 61_9_Participant_SlideSize_10_Signal_Segments_RJP.npy to 61_9_Participant_SlideSize_10_Signal_Segments_RJP.npy\n",
            "Saving 62_2_Participant_SlideSize_10_Signal_Segments_RJP.npy to 62_2_Participant_SlideSize_10_Signal_Segments_RJP.npy\n",
            "Saving 62_3_Participant_SlideSize_10_Signal_Segments_RJP.npy to 62_3_Participant_SlideSize_10_Signal_Segments_RJP.npy\n",
            "Saving 62_4_Participant_SlideSize_10_Signal_Segments_RJP.npy to 62_4_Participant_SlideSize_10_Signal_Segments_RJP.npy\n",
            "Saving 62_5_Participant_SlideSize_10_Signal_Segments_RJP.npy to 62_5_Participant_SlideSize_10_Signal_Segments_RJP.npy\n",
            "Saving 62_6_Participant_SlideSize_10_Signal_Segments_RJP.npy to 62_6_Participant_SlideSize_10_Signal_Segments_RJP.npy\n",
            "Saving 62_7_Participant_SlideSize_10_Signal_Segments_RJP.npy to 62_7_Participant_SlideSize_10_Signal_Segments_RJP.npy\n",
            "Saving 63_2_Participant_SlideSize_10_Signal_Segments_RJP.npy to 63_2_Participant_SlideSize_10_Signal_Segments_RJP.npy\n",
            "Saving 63_4_Participant_SlideSize_10_Signal_Segments_RJP.npy to 63_4_Participant_SlideSize_10_Signal_Segments_RJP.npy\n",
            "Saving 63_5_Participant_SlideSize_10_Signal_Segments_RJP.npy to 63_5_Participant_SlideSize_10_Signal_Segments_RJP.npy\n",
            "Saving 63_6_Participant_SlideSize_10_Signal_Segments_RJP.npy to 63_6_Participant_SlideSize_10_Signal_Segments_RJP.npy\n",
            "Saving 63_7_Participant_SlideSize_10_Signal_Segments_RJP.npy to 63_7_Participant_SlideSize_10_Signal_Segments_RJP.npy\n",
            "Saving 63_8_Participant_SlideSize_10_Signal_Segments_RJP.npy to 63_8_Participant_SlideSize_10_Signal_Segments_RJP.npy\n",
            "Saving 63_9_Participant_SlideSize_10_Signal_Segments_RJP.npy to 63_9_Participant_SlideSize_10_Signal_Segments_RJP.npy\n",
            "Saving 64_2_Participant_SlideSize_10_Signal_Segments_OTH.npy to 64_2_Participant_SlideSize_10_Signal_Segments_OTH.npy\n",
            "Saving 64_3_Participant_SlideSize_10_Signal_Segments_OTH.npy to 64_3_Participant_SlideSize_10_Signal_Segments_OTH.npy\n",
            "Saving 64_5_Participant_SlideSize_10_Signal_Segments_OTH.npy to 64_5_Participant_SlideSize_10_Signal_Segments_OTH.npy\n",
            "Saving 64_6_Participant_SlideSize_10_Signal_Segments_OTH.npy to 64_6_Participant_SlideSize_10_Signal_Segments_OTH.npy\n",
            "Saving 64_7_Participant_SlideSize_10_Signal_Segments_OTH.npy to 64_7_Participant_SlideSize_10_Signal_Segments_OTH.npy\n",
            "Saving 64_8_Participant_SlideSize_10_Signal_Segments_OTH.npy to 64_8_Participant_SlideSize_10_Signal_Segments_OTH.npy\n",
            "Saving 64_9_Participant_SlideSize_10_Signal_Segments_OTH.npy to 64_9_Participant_SlideSize_10_Signal_Segments_OTH.npy\n",
            "Saving 65_2_Participant_SlideSize_10_Signal_Segments_LCP.npy to 65_2_Participant_SlideSize_10_Signal_Segments_LCP.npy\n",
            "Saving 65_3_Participant_SlideSize_10_Signal_Segments_LCP.npy to 65_3_Participant_SlideSize_10_Signal_Segments_LCP.npy\n",
            "Saving 65_4_Participant_SlideSize_10_Signal_Segments_LCP.npy to 65_4_Participant_SlideSize_10_Signal_Segments_LCP.npy\n",
            "Saving 65_5_Participant_SlideSize_10_Signal_Segments_LCP.npy to 65_5_Participant_SlideSize_10_Signal_Segments_LCP.npy\n",
            "Saving 65_6_Participant_SlideSize_10_Signal_Segments_LCP.npy to 65_6_Participant_SlideSize_10_Signal_Segments_LCP.npy\n",
            "Saving 65_8_Participant_SlideSize_10_Signal_Segments_LCP.npy to 65_8_Participant_SlideSize_10_Signal_Segments_LCP.npy\n",
            "Saving 65_9_Participant_SlideSize_10_Signal_Segments_LCP.npy to 65_9_Participant_SlideSize_10_Signal_Segments_LCP.npy\n",
            "Saving 66_2_Participant_SlideSize_10_Signal_Segments_RJP.npy to 66_2_Participant_SlideSize_10_Signal_Segments_RJP.npy\n",
            "Saving 66_3_Participant_SlideSize_10_Signal_Segments_RJP.npy to 66_3_Participant_SlideSize_10_Signal_Segments_RJP.npy\n",
            "Saving 66_4_Participant_SlideSize_10_Signal_Segments_RJP.npy to 66_4_Participant_SlideSize_10_Signal_Segments_RJP.npy\n",
            "Saving 66_5_Participant_SlideSize_10_Signal_Segments_RJP.npy to 66_5_Participant_SlideSize_10_Signal_Segments_RJP.npy\n",
            "Saving 66_6_Participant_SlideSize_10_Signal_Segments_RJP.npy to 66_6_Participant_SlideSize_10_Signal_Segments_RJP.npy\n",
            "Saving 66_7_Participant_SlideSize_10_Signal_Segments_RJP.npy to 66_7_Participant_SlideSize_10_Signal_Segments_RJP.npy\n",
            "Saving 66_8_Participant_SlideSize_10_Signal_Segments_RJP.npy to 66_8_Participant_SlideSize_10_Signal_Segments_RJP.npy\n",
            "Saving 67_2_Participant_SlideSize_10_Signal_Segments_RJP.npy to 67_2_Participant_SlideSize_10_Signal_Segments_RJP.npy\n",
            "Saving 67_3_Participant_SlideSize_10_Signal_Segments_RJP.npy to 67_3_Participant_SlideSize_10_Signal_Segments_RJP.npy\n",
            "Saving 67_5_Participant_SlideSize_10_Signal_Segments_RJP.npy to 67_5_Participant_SlideSize_10_Signal_Segments_RJP.npy\n",
            "Saving 67_6_Participant_SlideSize_10_Signal_Segments_RJP.npy to 67_6_Participant_SlideSize_10_Signal_Segments_RJP.npy\n",
            "Saving 67_7_Participant_SlideSize_10_Signal_Segments_RJP.npy to 67_7_Participant_SlideSize_10_Signal_Segments_RJP.npy\n",
            "Saving 67_8_Participant_SlideSize_10_Signal_Segments_RJP.npy to 67_8_Participant_SlideSize_10_Signal_Segments_RJP.npy\n",
            "Saving 67_9_Participant_SlideSize_10_Signal_Segments_RJP.npy to 67_9_Participant_SlideSize_10_Signal_Segments_RJP.npy\n",
            "Saving 68_2_Participant_SlideSize_10_Signal_Segments_OTH.npy to 68_2_Participant_SlideSize_10_Signal_Segments_OTH.npy\n",
            "Saving 68_3_Participant_SlideSize_10_Signal_Segments_OTH.npy to 68_3_Participant_SlideSize_10_Signal_Segments_OTH.npy\n",
            "Saving 68_4_Participant_SlideSize_10_Signal_Segments_OTH.npy to 68_4_Participant_SlideSize_10_Signal_Segments_OTH.npy\n",
            "Saving 68_6_Participant_SlideSize_10_Signal_Segments_OTH.npy to 68_6_Participant_SlideSize_10_Signal_Segments_OTH.npy\n",
            "Saving 68_7_Participant_SlideSize_10_Signal_Segments_OTH.npy to 68_7_Participant_SlideSize_10_Signal_Segments_OTH.npy\n",
            "Saving 68_8_Participant_SlideSize_10_Signal_Segments_OTH.npy to 68_8_Participant_SlideSize_10_Signal_Segments_OTH.npy\n",
            "Saving 68_9_Participant_SlideSize_10_Signal_Segments_OTH.npy to 68_9_Participant_SlideSize_10_Signal_Segments_OTH.npy\n",
            "Saving 69_2_Participant_SlideSize_10_Signal_Segments_LCP.npy to 69_2_Participant_SlideSize_10_Signal_Segments_LCP.npy\n",
            "Saving 69_3_Participant_SlideSize_10_Signal_Segments_LCP.npy to 69_3_Participant_SlideSize_10_Signal_Segments_LCP.npy\n",
            "Saving 69_4_Participant_SlideSize_10_Signal_Segments_LCP.npy to 69_4_Participant_SlideSize_10_Signal_Segments_LCP.npy\n",
            "Saving 69_5_Participant_SlideSize_10_Signal_Segments_LCP.npy to 69_5_Participant_SlideSize_10_Signal_Segments_LCP.npy\n",
            "Saving 69_7_Participant_SlideSize_10_Signal_Segments_LCP.npy to 69_7_Participant_SlideSize_10_Signal_Segments_LCP.npy\n",
            "Saving 69_8_Participant_SlideSize_10_Signal_Segments_LCP.npy to 69_8_Participant_SlideSize_10_Signal_Segments_LCP.npy\n",
            "Saving 69_9_Participant_SlideSize_10_Signal_Segments_LCP.npy to 69_9_Participant_SlideSize_10_Signal_Segments_LCP.npy\n",
            "Saving 70_3_Participant_SlideSize_10_Signal_Segments_LJP.npy to 70_3_Participant_SlideSize_10_Signal_Segments_LJP.npy\n",
            "Saving 70_4_Participant_SlideSize_10_Signal_Segments_LJP.npy to 70_4_Participant_SlideSize_10_Signal_Segments_LJP.npy\n",
            "Saving 70_5_Participant_SlideSize_10_Signal_Segments_LJP.npy to 70_5_Participant_SlideSize_10_Signal_Segments_LJP.npy\n",
            "Saving 70_6_Participant_SlideSize_10_Signal_Segments_LJP.npy to 70_6_Participant_SlideSize_10_Signal_Segments_LJP.npy\n",
            "Saving 70_7_Participant_SlideSize_10_Signal_Segments_LJP.npy to 70_7_Participant_SlideSize_10_Signal_Segments_LJP.npy\n",
            "Saving 70_8_Participant_SlideSize_10_Signal_Segments_LJP.npy to 70_8_Participant_SlideSize_10_Signal_Segments_LJP.npy\n",
            "Saving 70_9_Participant_SlideSize_10_Signal_Segments_LJP.npy to 70_9_Participant_SlideSize_10_Signal_Segments_LJP.npy\n",
            "Saving 71_2_Participant_SlideSize_10_Signal_Segments_RJP.npy to 71_2_Participant_SlideSize_10_Signal_Segments_RJP.npy\n",
            "Saving 71_3_Participant_SlideSize_10_Signal_Segments_RJP.npy to 71_3_Participant_SlideSize_10_Signal_Segments_RJP.npy\n",
            "Saving 71_4_Participant_SlideSize_10_Signal_Segments_RJP.npy to 71_4_Participant_SlideSize_10_Signal_Segments_RJP.npy\n",
            "Saving 71_5_Participant_SlideSize_10_Signal_Segments_RJP.npy to 71_5_Participant_SlideSize_10_Signal_Segments_RJP.npy\n",
            "Saving 71_6_Participant_SlideSize_10_Signal_Segments_RJP.npy to 71_6_Participant_SlideSize_10_Signal_Segments_RJP.npy\n",
            "Saving 71_7_Participant_SlideSize_10_Signal_Segments_RJP.npy to 71_7_Participant_SlideSize_10_Signal_Segments_RJP.npy\n",
            "Saving 71_8_Participant_SlideSize_10_Signal_Segments_RJP.npy to 71_8_Participant_SlideSize_10_Signal_Segments_RJP.npy\n",
            "Saving 72_2_Participant_SlideSize_10_Signal_Segments_OTH.npy to 72_2_Participant_SlideSize_10_Signal_Segments_OTH.npy\n",
            "Saving 72_4_Participant_SlideSize_10_Signal_Segments_OTH.npy to 72_4_Participant_SlideSize_10_Signal_Segments_OTH.npy\n",
            "Saving 72_5_Participant_SlideSize_10_Signal_Segments_OTH.npy to 72_5_Participant_SlideSize_10_Signal_Segments_OTH.npy\n",
            "Saving 72_6_Participant_SlideSize_10_Signal_Segments_OTH.npy to 72_6_Participant_SlideSize_10_Signal_Segments_OTH.npy\n",
            "Saving 72_7_Participant_SlideSize_10_Signal_Segments_OTH.npy to 72_7_Participant_SlideSize_10_Signal_Segments_OTH.npy\n",
            "Saving 72_8_Participant_SlideSize_10_Signal_Segments_OTH.npy to 72_8_Participant_SlideSize_10_Signal_Segments_OTH.npy\n",
            "Saving 72_9_Participant_SlideSize_10_Signal_Segments_OTH.npy to 72_9_Participant_SlideSize_10_Signal_Segments_OTH.npy\n",
            "Saving 73_2_Participant_SlideSize_10_Signal_Segments_OTH.npy to 73_2_Participant_SlideSize_10_Signal_Segments_OTH.npy\n",
            "Saving 73_3_Participant_SlideSize_10_Signal_Segments_OTH.npy to 73_3_Participant_SlideSize_10_Signal_Segments_OTH.npy\n",
            "Saving 73_4_Participant_SlideSize_10_Signal_Segments_OTH.npy to 73_4_Participant_SlideSize_10_Signal_Segments_OTH.npy\n",
            "Saving 73_5_Participant_SlideSize_10_Signal_Segments_OTH.npy to 73_5_Participant_SlideSize_10_Signal_Segments_OTH.npy\n",
            "Saving 73_6_Participant_SlideSize_10_Signal_Segments_OTH.npy to 73_6_Participant_SlideSize_10_Signal_Segments_OTH.npy\n",
            "Saving 73_7_Participant_SlideSize_10_Signal_Segments_OTH.npy to 73_7_Participant_SlideSize_10_Signal_Segments_OTH.npy\n",
            "Saving 73_8_Participant_SlideSize_10_Signal_Segments_OTH.npy to 73_8_Participant_SlideSize_10_Signal_Segments_OTH.npy\n",
            "Saving 74_2_Participant_SlideSize_10_Signal_Segments_OTH.npy to 74_2_Participant_SlideSize_10_Signal_Segments_OTH.npy\n",
            "Saving 74_4_Participant_SlideSize_10_Signal_Segments_OTH.npy to 74_4_Participant_SlideSize_10_Signal_Segments_OTH.npy\n",
            "Saving 74_5_Participant_SlideSize_10_Signal_Segments_OTH.npy to 74_5_Participant_SlideSize_10_Signal_Segments_OTH.npy\n",
            "Saving 74_6_Participant_SlideSize_10_Signal_Segments_OTH.npy to 74_6_Participant_SlideSize_10_Signal_Segments_OTH.npy\n",
            "Saving 74_7_Participant_SlideSize_10_Signal_Segments_OTH.npy to 74_7_Participant_SlideSize_10_Signal_Segments_OTH.npy\n",
            "Saving 74_8_Participant_SlideSize_10_Signal_Segments_OTH.npy to 74_8_Participant_SlideSize_10_Signal_Segments_OTH.npy\n",
            "Saving 74_9_Participant_SlideSize_10_Signal_Segments_OTH.npy to 74_9_Participant_SlideSize_10_Signal_Segments_OTH.npy\n",
            "Saving 75_2_Participant_SlideSize_10_Signal_Segments_RJP.npy to 75_2_Participant_SlideSize_10_Signal_Segments_RJP.npy\n",
            "Saving 75_3_Participant_SlideSize_10_Signal_Segments_RJP.npy to 75_3_Participant_SlideSize_10_Signal_Segments_RJP.npy\n",
            "Saving 75_4_Participant_SlideSize_10_Signal_Segments_RJP.npy to 75_4_Participant_SlideSize_10_Signal_Segments_RJP.npy\n",
            "Saving 75_5_Participant_SlideSize_10_Signal_Segments_RJP.npy to 75_5_Participant_SlideSize_10_Signal_Segments_RJP.npy\n",
            "Saving 75_7_Participant_SlideSize_10_Signal_Segments_RJP.npy to 75_7_Participant_SlideSize_10_Signal_Segments_RJP.npy\n",
            "Saving 75_8_Participant_SlideSize_10_Signal_Segments_RJP.npy to 75_8_Participant_SlideSize_10_Signal_Segments_RJP.npy\n",
            "Saving 75_9_Participant_SlideSize_10_Signal_Segments_RJP.npy to 75_9_Participant_SlideSize_10_Signal_Segments_RJP.npy\n",
            "Saving 76_2_Participant_SlideSize_10_Signal_Segments_OTH.npy to 76_2_Participant_SlideSize_10_Signal_Segments_OTH.npy\n",
            "Saving 76_3_Participant_SlideSize_10_Signal_Segments_OTH.npy to 76_3_Participant_SlideSize_10_Signal_Segments_OTH.npy\n",
            "Saving 76_4_Participant_SlideSize_10_Signal_Segments_OTH.npy to 76_4_Participant_SlideSize_10_Signal_Segments_OTH.npy\n",
            "Saving 76_6_Participant_SlideSize_10_Signal_Segments_OTH.npy to 76_6_Participant_SlideSize_10_Signal_Segments_OTH.npy\n",
            "Saving 76_7_Participant_SlideSize_10_Signal_Segments_OTH.npy to 76_7_Participant_SlideSize_10_Signal_Segments_OTH.npy\n",
            "Saving 76_8_Participant_SlideSize_10_Signal_Segments_OTH.npy to 76_8_Participant_SlideSize_10_Signal_Segments_OTH.npy\n",
            "Saving 76_9_Participant_SlideSize_10_Signal_Segments_OTH.npy to 76_9_Participant_SlideSize_10_Signal_Segments_OTH.npy\n",
            "Saving 77_2_Participant_SlideSize_10_Signal_Segments_OTH.npy to 77_2_Participant_SlideSize_10_Signal_Segments_OTH.npy\n",
            "Saving 77_3_Participant_SlideSize_10_Signal_Segments_OTH.npy to 77_3_Participant_SlideSize_10_Signal_Segments_OTH.npy\n",
            "Saving 77_4_Participant_SlideSize_10_Signal_Segments_OTH.npy to 77_4_Participant_SlideSize_10_Signal_Segments_OTH.npy\n",
            "Saving 77_5_Participant_SlideSize_10_Signal_Segments_OTH.npy to 77_5_Participant_SlideSize_10_Signal_Segments_OTH.npy\n",
            "Saving 77_7_Participant_SlideSize_10_Signal_Segments_OTH.npy to 77_7_Participant_SlideSize_10_Signal_Segments_OTH.npy\n",
            "Saving 77_8_Participant_SlideSize_10_Signal_Segments_OTH.npy to 77_8_Participant_SlideSize_10_Signal_Segments_OTH.npy\n",
            "Saving 77_9_Participant_SlideSize_10_Signal_Segments_OTH.npy to 77_9_Participant_SlideSize_10_Signal_Segments_OTH.npy\n",
            "Saving 78_2_Participant_SlideSize_10_Signal_Segments_RJP.npy to 78_2_Participant_SlideSize_10_Signal_Segments_RJP.npy\n",
            "Saving 78_3_Participant_SlideSize_10_Signal_Segments_RJP.npy to 78_3_Participant_SlideSize_10_Signal_Segments_RJP.npy\n",
            "Saving 78_4_Participant_SlideSize_10_Signal_Segments_RJP.npy to 78_4_Participant_SlideSize_10_Signal_Segments_RJP.npy\n",
            "Saving 78_5_Participant_SlideSize_10_Signal_Segments_RJP.npy to 78_5_Participant_SlideSize_10_Signal_Segments_RJP.npy\n",
            "Saving 78_7_Participant_SlideSize_10_Signal_Segments_RJP.npy to 78_7_Participant_SlideSize_10_Signal_Segments_RJP.npy\n",
            "Saving 78_8_Participant_SlideSize_10_Signal_Segments_RJP.npy to 78_8_Participant_SlideSize_10_Signal_Segments_RJP.npy\n",
            "Saving 78_9_Participant_SlideSize_10_Signal_Segments_RJP.npy to 78_9_Participant_SlideSize_10_Signal_Segments_RJP.npy\n",
            "Saving 79_2_Participant_SlideSize_10_Signal_Segments_RJP.npy to 79_2_Participant_SlideSize_10_Signal_Segments_RJP.npy\n",
            "Saving 79_3_Participant_SlideSize_10_Signal_Segments_RJP.npy to 79_3_Participant_SlideSize_10_Signal_Segments_RJP.npy\n",
            "Saving 79_4_Participant_SlideSize_10_Signal_Segments_RJP.npy to 79_4_Participant_SlideSize_10_Signal_Segments_RJP.npy\n",
            "Saving 79_5_Participant_SlideSize_10_Signal_Segments_RJP.npy to 79_5_Participant_SlideSize_10_Signal_Segments_RJP.npy\n",
            "Saving 79_7_Participant_SlideSize_10_Signal_Segments_RJP.npy to 79_7_Participant_SlideSize_10_Signal_Segments_RJP.npy\n",
            "Saving 79_8_Participant_SlideSize_10_Signal_Segments_RJP.npy to 79_8_Participant_SlideSize_10_Signal_Segments_RJP.npy\n",
            "Saving 79_9_Participant_SlideSize_10_Signal_Segments_RJP.npy to 79_9_Participant_SlideSize_10_Signal_Segments_RJP.npy\n",
            "Saving 80_2_Participant_SlideSize_10_Signal_Segments_RCP.npy to 80_2_Participant_SlideSize_10_Signal_Segments_RCP.npy\n",
            "Saving 80_3_Participant_SlideSize_10_Signal_Segments_RCP.npy to 80_3_Participant_SlideSize_10_Signal_Segments_RCP.npy\n",
            "Saving 80_4_Participant_SlideSize_10_Signal_Segments_RCP.npy to 80_4_Participant_SlideSize_10_Signal_Segments_RCP.npy\n",
            "Saving 80_5_Participant_SlideSize_10_Signal_Segments_RCP.npy to 80_5_Participant_SlideSize_10_Signal_Segments_RCP.npy\n",
            "Saving 80_6_Participant_SlideSize_10_Signal_Segments_RCP.npy to 80_6_Participant_SlideSize_10_Signal_Segments_RCP.npy\n",
            "Saving 80_8_Participant_SlideSize_10_Signal_Segments_RCP.npy to 80_8_Participant_SlideSize_10_Signal_Segments_RCP.npy\n",
            "Saving 80_9_Participant_SlideSize_10_Signal_Segments_RCP.npy to 80_9_Participant_SlideSize_10_Signal_Segments_RCP.npy\n",
            "Saving 81_2_Participant_SlideSize_10_Signal_Segments_RCP.npy to 81_2_Participant_SlideSize_10_Signal_Segments_RCP.npy\n",
            "Saving 81_3_Participant_SlideSize_10_Signal_Segments_RCP.npy to 81_3_Participant_SlideSize_10_Signal_Segments_RCP.npy\n",
            "Saving 81_5_Participant_SlideSize_10_Signal_Segments_RCP.npy to 81_5_Participant_SlideSize_10_Signal_Segments_RCP.npy\n",
            "Saving 81_6_Participant_SlideSize_10_Signal_Segments_RCP.npy to 81_6_Participant_SlideSize_10_Signal_Segments_RCP.npy\n",
            "Saving 81_7_Participant_SlideSize_10_Signal_Segments_RCP.npy to 81_7_Participant_SlideSize_10_Signal_Segments_RCP.npy\n",
            "Saving 81_8_Participant_SlideSize_10_Signal_Segments_RCP.npy to 81_8_Participant_SlideSize_10_Signal_Segments_RCP.npy\n",
            "Saving 81_9_Participant_SlideSize_10_Signal_Segments_RCP.npy to 81_9_Participant_SlideSize_10_Signal_Segments_RCP.npy\n",
            "Saving 82_2_Participant_SlideSize_10_Signal_Segments_RJP.npy to 82_2_Participant_SlideSize_10_Signal_Segments_RJP.npy\n",
            "Saving 82_4_Participant_SlideSize_10_Signal_Segments_RJP.npy to 82_4_Participant_SlideSize_10_Signal_Segments_RJP.npy\n",
            "Saving 82_5_Participant_SlideSize_10_Signal_Segments_RJP.npy to 82_5_Participant_SlideSize_10_Signal_Segments_RJP.npy\n",
            "Saving 82_6_Participant_SlideSize_10_Signal_Segments_RJP.npy to 82_6_Participant_SlideSize_10_Signal_Segments_RJP.npy\n",
            "Saving 82_7_Participant_SlideSize_10_Signal_Segments_RJP.npy to 82_7_Participant_SlideSize_10_Signal_Segments_RJP.npy\n",
            "Saving 82_8_Participant_SlideSize_10_Signal_Segments_RJP.npy to 82_8_Participant_SlideSize_10_Signal_Segments_RJP.npy\n",
            "Saving 82_9_Participant_SlideSize_10_Signal_Segments_RJP.npy to 82_9_Participant_SlideSize_10_Signal_Segments_RJP.npy\n",
            "Saving 83_2_Participant_SlideSize_10_Signal_Segments_OTH.npy to 83_2_Participant_SlideSize_10_Signal_Segments_OTH.npy\n",
            "Saving 83_3_Participant_SlideSize_10_Signal_Segments_OTH.npy to 83_3_Participant_SlideSize_10_Signal_Segments_OTH.npy\n",
            "Saving 83_4_Participant_SlideSize_10_Signal_Segments_OTH.npy to 83_4_Participant_SlideSize_10_Signal_Segments_OTH.npy\n",
            "Saving 83_5_Participant_SlideSize_10_Signal_Segments_OTH.npy to 83_5_Participant_SlideSize_10_Signal_Segments_OTH.npy\n",
            "Saving 83_6_Participant_SlideSize_10_Signal_Segments_OTH.npy to 83_6_Participant_SlideSize_10_Signal_Segments_OTH.npy\n",
            "Saving 83_8_Participant_SlideSize_10_Signal_Segments_OTH.npy to 83_8_Participant_SlideSize_10_Signal_Segments_OTH.npy\n",
            "Saving 83_9_Participant_SlideSize_10_Signal_Segments_OTH.npy to 83_9_Participant_SlideSize_10_Signal_Segments_OTH.npy\n",
            "Saving 84_2_Participant_SlideSize_10_Signal_Segments_OTH.npy to 84_2_Participant_SlideSize_10_Signal_Segments_OTH.npy\n",
            "Saving 84_3_Participant_SlideSize_10_Signal_Segments_OTH.npy to 84_3_Participant_SlideSize_10_Signal_Segments_OTH.npy\n",
            "Saving 84_4_Participant_SlideSize_10_Signal_Segments_OTH.npy to 84_4_Participant_SlideSize_10_Signal_Segments_OTH.npy\n",
            "Saving 84_5_Participant_SlideSize_10_Signal_Segments_OTH.npy to 84_5_Participant_SlideSize_10_Signal_Segments_OTH.npy\n",
            "Saving 84_6_Participant_SlideSize_10_Signal_Segments_OTH.npy to 84_6_Participant_SlideSize_10_Signal_Segments_OTH.npy\n",
            "Saving 84_7_Participant_SlideSize_10_Signal_Segments_OTH.npy to 84_7_Participant_SlideSize_10_Signal_Segments_OTH.npy\n",
            "Saving 84_8_Participant_SlideSize_10_Signal_Segments_OTH.npy to 84_8_Participant_SlideSize_10_Signal_Segments_OTH.npy\n",
            "Saving 85_2_Participant_SlideSize_10_Signal_Segments_OTH.npy to 85_2_Participant_SlideSize_10_Signal_Segments_OTH.npy\n",
            "Saving 85_4_Participant_SlideSize_10_Signal_Segments_OTH.npy to 85_4_Participant_SlideSize_10_Signal_Segments_OTH.npy\n",
            "Saving 85_5_Participant_SlideSize_10_Signal_Segments_OTH.npy to 85_5_Participant_SlideSize_10_Signal_Segments_OTH.npy\n",
            "Saving 85_6_Participant_SlideSize_10_Signal_Segments_OTH.npy to 85_6_Participant_SlideSize_10_Signal_Segments_OTH.npy\n",
            "Saving 85_7_Participant_SlideSize_10_Signal_Segments_OTH.npy to 85_7_Participant_SlideSize_10_Signal_Segments_OTH.npy\n",
            "Saving 85_8_Participant_SlideSize_10_Signal_Segments_OTH.npy to 85_8_Participant_SlideSize_10_Signal_Segments_OTH.npy\n",
            "Saving 85_9_Participant_SlideSize_10_Signal_Segments_OTH.npy to 85_9_Participant_SlideSize_10_Signal_Segments_OTH.npy\n",
            "Saving 86_2_Participant_SlideSize_10_Signal_Segments_RCP.npy to 86_2_Participant_SlideSize_10_Signal_Segments_RCP.npy\n",
            "Saving 86_3_Participant_SlideSize_10_Signal_Segments_RCP.npy to 86_3_Participant_SlideSize_10_Signal_Segments_RCP.npy\n",
            "Saving 86_4_Participant_SlideSize_10_Signal_Segments_RCP.npy to 86_4_Participant_SlideSize_10_Signal_Segments_RCP.npy\n",
            "Saving 86_5_Participant_SlideSize_10_Signal_Segments_RCP.npy to 86_5_Participant_SlideSize_10_Signal_Segments_RCP.npy\n",
            "Saving 86_6_Participant_SlideSize_10_Signal_Segments_RCP.npy to 86_6_Participant_SlideSize_10_Signal_Segments_RCP.npy\n",
            "Saving 86_7_Participant_SlideSize_10_Signal_Segments_RCP.npy to 86_7_Participant_SlideSize_10_Signal_Segments_RCP.npy\n",
            "Saving 86_8_Participant_SlideSize_10_Signal_Segments_RCP.npy to 86_8_Participant_SlideSize_10_Signal_Segments_RCP.npy\n",
            "Saving 87_2_Participant_SlideSize_10_Signal_Segments_OTH.npy to 87_2_Participant_SlideSize_10_Signal_Segments_OTH.npy\n",
            "Saving 87_3_Participant_SlideSize_10_Signal_Segments_OTH.npy to 87_3_Participant_SlideSize_10_Signal_Segments_OTH.npy\n",
            "Saving 87_4_Participant_SlideSize_10_Signal_Segments_OTH.npy to 87_4_Participant_SlideSize_10_Signal_Segments_OTH.npy\n",
            "Saving 87_5_Participant_SlideSize_10_Signal_Segments_OTH.npy to 87_5_Participant_SlideSize_10_Signal_Segments_OTH.npy\n",
            "Saving 87_7_Participant_SlideSize_10_Signal_Segments_OTH.npy to 87_7_Participant_SlideSize_10_Signal_Segments_OTH.npy\n",
            "Saving 87_8_Participant_SlideSize_10_Signal_Segments_OTH.npy to 87_8_Participant_SlideSize_10_Signal_Segments_OTH.npy\n",
            "Saving 87_9_Participant_SlideSize_10_Signal_Segments_OTH.npy to 87_9_Participant_SlideSize_10_Signal_Segments_OTH.npy\n",
            "Saving 88_2_Participant_SlideSize_10_Signal_Segments_LJP.npy to 88_2_Participant_SlideSize_10_Signal_Segments_LJP.npy\n",
            "Saving 88_4_Participant_SlideSize_10_Signal_Segments_LJP.npy to 88_4_Participant_SlideSize_10_Signal_Segments_LJP.npy\n",
            "Saving 88_5_Participant_SlideSize_10_Signal_Segments_LJP.npy to 88_5_Participant_SlideSize_10_Signal_Segments_LJP.npy\n",
            "Saving 88_7_Participant_SlideSize_10_Signal_Segments_LJP.npy to 88_7_Participant_SlideSize_10_Signal_Segments_LJP.npy\n",
            "Saving 88_8_Participant_SlideSize_10_Signal_Segments_LJP.npy to 88_8_Participant_SlideSize_10_Signal_Segments_LJP.npy\n",
            "Saving 88_9_Participant_SlideSize_10_Signal_Segments_LJP.npy to 88_9_Participant_SlideSize_10_Signal_Segments_LJP.npy\n",
            "Saving 89_2_Participant_SlideSize_10_Signal_Segments_OTH.npy to 89_2_Participant_SlideSize_10_Signal_Segments_OTH.npy\n",
            "Saving 89_3_Participant_SlideSize_10_Signal_Segments_OTH.npy to 89_3_Participant_SlideSize_10_Signal_Segments_OTH.npy\n",
            "Saving 89_6_Participant_SlideSize_10_Signal_Segments_OTH.npy to 89_6_Participant_SlideSize_10_Signal_Segments_OTH.npy\n",
            "Saving 89_7_Participant_SlideSize_10_Signal_Segments_OTH.npy to 89_7_Participant_SlideSize_10_Signal_Segments_OTH.npy\n",
            "Saving 89_8_Participant_SlideSize_10_Signal_Segments_OTH.npy to 89_8_Participant_SlideSize_10_Signal_Segments_OTH.npy\n",
            "Saving 89_9_Participant_SlideSize_10_Signal_Segments_OTH.npy to 89_9_Participant_SlideSize_10_Signal_Segments_OTH.npy\n"
          ],
          "name": "stdout"
        }
      ]
    },
    {
      "cell_type": "markdown",
      "metadata": {
        "id": "juXPVt1AP0v1"
      },
      "source": [
        "Testing"
      ]
    },
    {
      "cell_type": "code",
      "metadata": {
        "colab": {
          "resources": {
            "http://localhost:8080/nbextensions/google.colab/files.js": {
              "data": "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",
              "ok": true,
              "headers": [
                [
                  "content-type",
                  "application/javascript"
                ]
              ],
              "status": 200,
              "status_text": "OK"
            }
          },
          "base_uri": "https://localhost:8080/",
          "height": 1000
        },
        "id": "eDlYInx_Pyx5",
        "outputId": "c5f87abe-4f3e-4d1f-cad8-23d22df8f934"
      },
      "source": [
        "from google.colab import files\n",
        "uploaded_signal_test = files.upload()"
      ],
      "execution_count": null,
      "outputs": [
        {
          "output_type": "display_data",
          "data": {
            "text/html": [
              "\n",
              "     <input type=\"file\" id=\"files-15b2f347-51fc-4c86-8487-0a000326c623\" name=\"files[]\" multiple disabled\n",
              "        style=\"border:none\" />\n",
              "     <output id=\"result-15b2f347-51fc-4c86-8487-0a000326c623\">\n",
              "      Upload widget is only available when the cell has been executed in the\n",
              "      current browser session. Please rerun this cell to enable.\n",
              "      </output>\n",
              "      <script src=\"/nbextensions/google.colab/files.js\"></script> "
            ],
            "text/plain": [
              "<IPython.core.display.HTML object>"
            ]
          },
          "metadata": {
            "tags": []
          }
        },
        {
          "output_type": "stream",
          "text": [
            "Saving 28_5_Participant_SlideSize_10_Signal_Segments_RJP.npy to 28_5_Participant_SlideSize_10_Signal_Segments_RJP.npy\n",
            "Saving 29_7_Participant_SlideSize_10_Signal_Segments_RCP.npy to 29_7_Participant_SlideSize_10_Signal_Segments_RCP.npy\n",
            "Saving 32_3_Participant_SlideSize_10_Signal_Segments_RJP.npy to 32_3_Participant_SlideSize_10_Signal_Segments_RJP.npy\n",
            "Saving 33_3_Participant_SlideSize_10_Signal_Segments_LJP.npy to 33_3_Participant_SlideSize_10_Signal_Segments_LJP.npy\n",
            "Saving 34_3_Participant_SlideSize_10_Signal_Segments_RJP.npy to 34_3_Participant_SlideSize_10_Signal_Segments_RJP.npy\n",
            "Saving 35_5_Participant_SlideSize_10_Signal_Segments_RCP.npy to 35_5_Participant_SlideSize_10_Signal_Segments_RCP.npy\n",
            "Saving 36_2_Participant_SlideSize_10_Signal_Segments_OTH.npy to 36_2_Participant_SlideSize_10_Signal_Segments_OTH.npy\n",
            "Saving 37_3_Participant_SlideSize_10_Signal_Segments_RCP.npy to 37_3_Participant_SlideSize_10_Signal_Segments_RCP.npy\n",
            "Saving 38_3_Participant_SlideSize_10_Signal_Segments_RJP.npy to 38_3_Participant_SlideSize_10_Signal_Segments_RJP.npy\n",
            "Saving 39_6_Participant_SlideSize_10_Signal_Segments_OTH.npy to 39_6_Participant_SlideSize_10_Signal_Segments_OTH.npy\n",
            "Saving 40_3_Participant_SlideSize_10_Signal_Segments_OTH.npy to 40_3_Participant_SlideSize_10_Signal_Segments_OTH.npy\n",
            "Saving 41_3_Participant_SlideSize_10_Signal_Segments_OTH.npy to 41_3_Participant_SlideSize_10_Signal_Segments_OTH.npy\n",
            "Saving 42_5_Participant_SlideSize_10_Signal_Segments_LCP.npy to 42_5_Participant_SlideSize_10_Signal_Segments_LCP.npy\n",
            "Saving 43_4_Participant_SlideSize_10_Signal_Segments_RCP.npy to 43_4_Participant_SlideSize_10_Signal_Segments_RCP.npy\n",
            "Saving 44_2_Participant_SlideSize_10_Signal_Segments_LJP.npy to 44_2_Participant_SlideSize_10_Signal_Segments_LJP.npy\n",
            "Saving 45_2_Participant_SlideSize_10_Signal_Segments_OTH.npy to 45_2_Participant_SlideSize_10_Signal_Segments_OTH.npy\n",
            "Saving 46_6_Participant_SlideSize_10_Signal_Segments_LJP.npy to 46_6_Participant_SlideSize_10_Signal_Segments_LJP.npy\n",
            "Saving 47_3_Participant_SlideSize_10_Signal_Segments_LJP.npy to 47_3_Participant_SlideSize_10_Signal_Segments_LJP.npy\n",
            "Saving 48_2_Participant_SlideSize_10_Signal_Segments_OTH.npy to 48_2_Participant_SlideSize_10_Signal_Segments_OTH.npy\n",
            "Saving 49_4_Participant_SlideSize_10_Signal_Segments_OTH.npy to 49_4_Participant_SlideSize_10_Signal_Segments_OTH.npy\n",
            "Saving 50_3_Participant_SlideSize_10_Signal_Segments_OTH.npy to 50_3_Participant_SlideSize_10_Signal_Segments_OTH.npy\n",
            "Saving 51_2_Participant_SlideSize_10_Signal_Segments_RJP.npy to 51_2_Participant_SlideSize_10_Signal_Segments_RJP.npy\n",
            "Saving 52_6_Participant_SlideSize_10_Signal_Segments_RJP.npy to 52_6_Participant_SlideSize_10_Signal_Segments_RJP.npy\n",
            "Saving 53_5_Participant_SlideSize_10_Signal_Segments_RJP.npy to 53_5_Participant_SlideSize_10_Signal_Segments_RJP.npy\n",
            "Saving 54_9_Participant_SlideSize_10_Signal_Segments_OTH.npy to 54_9_Participant_SlideSize_10_Signal_Segments_OTH.npy\n",
            "Saving 55_9_Participant_SlideSize_10_Signal_Segments_OTH.npy to 55_9_Participant_SlideSize_10_Signal_Segments_OTH.npy\n",
            "Saving 56_3_Participant_SlideSize_10_Signal_Segments_RJP.npy to 56_3_Participant_SlideSize_10_Signal_Segments_RJP.npy\n",
            "Saving 57_6_Participant_SlideSize_10_Signal_Segments_RJP.npy to 57_6_Participant_SlideSize_10_Signal_Segments_RJP.npy\n",
            "Saving 58_4_Participant_SlideSize_10_Signal_Segments_LJP.npy to 58_4_Participant_SlideSize_10_Signal_Segments_LJP.npy\n",
            "Saving 59_8_Participant_SlideSize_10_Signal_Segments_RJP.npy to 59_8_Participant_SlideSize_10_Signal_Segments_RJP.npy\n",
            "Saving 60_2_Participant_SlideSize_10_Signal_Segments_RJP.npy to 60_2_Participant_SlideSize_10_Signal_Segments_RJP.npy\n",
            "Saving 61_8_Participant_SlideSize_10_Signal_Segments_RJP.npy to 61_8_Participant_SlideSize_10_Signal_Segments_RJP.npy\n",
            "Saving 62_9_Participant_SlideSize_10_Signal_Segments_RJP.npy to 62_9_Participant_SlideSize_10_Signal_Segments_RJP.npy\n",
            "Saving 63_3_Participant_SlideSize_10_Signal_Segments_RJP.npy to 63_3_Participant_SlideSize_10_Signal_Segments_RJP.npy\n",
            "Saving 64_4_Participant_SlideSize_10_Signal_Segments_OTH.npy to 64_4_Participant_SlideSize_10_Signal_Segments_OTH.npy\n",
            "Saving 65_7_Participant_SlideSize_10_Signal_Segments_LCP.npy to 65_7_Participant_SlideSize_10_Signal_Segments_LCP.npy\n",
            "Saving 66_9_Participant_SlideSize_10_Signal_Segments_RJP.npy to 66_9_Participant_SlideSize_10_Signal_Segments_RJP.npy\n",
            "Saving 67_4_Participant_SlideSize_10_Signal_Segments_RJP.npy to 67_4_Participant_SlideSize_10_Signal_Segments_RJP.npy\n",
            "Saving 68_5_Participant_SlideSize_10_Signal_Segments_OTH.npy to 68_5_Participant_SlideSize_10_Signal_Segments_OTH.npy\n",
            "Saving 69_6_Participant_SlideSize_10_Signal_Segments_LCP.npy to 69_6_Participant_SlideSize_10_Signal_Segments_LCP.npy\n",
            "Saving 70_2_Participant_SlideSize_10_Signal_Segments_LJP.npy to 70_2_Participant_SlideSize_10_Signal_Segments_LJP.npy\n",
            "Saving 71_9_Participant_SlideSize_10_Signal_Segments_RJP.npy to 71_9_Participant_SlideSize_10_Signal_Segments_RJP.npy\n",
            "Saving 72_3_Participant_SlideSize_10_Signal_Segments_OTH.npy to 72_3_Participant_SlideSize_10_Signal_Segments_OTH.npy\n",
            "Saving 73_9_Participant_SlideSize_10_Signal_Segments_OTH.npy to 73_9_Participant_SlideSize_10_Signal_Segments_OTH.npy\n",
            "Saving 74_3_Participant_SlideSize_10_Signal_Segments_OTH.npy to 74_3_Participant_SlideSize_10_Signal_Segments_OTH.npy\n",
            "Saving 75_6_Participant_SlideSize_10_Signal_Segments_RJP.npy to 75_6_Participant_SlideSize_10_Signal_Segments_RJP.npy\n",
            "Saving 76_5_Participant_SlideSize_10_Signal_Segments_OTH.npy to 76_5_Participant_SlideSize_10_Signal_Segments_OTH.npy\n",
            "Saving 77_6_Participant_SlideSize_10_Signal_Segments_OTH.npy to 77_6_Participant_SlideSize_10_Signal_Segments_OTH.npy\n",
            "Saving 78_6_Participant_SlideSize_10_Signal_Segments_RJP.npy to 78_6_Participant_SlideSize_10_Signal_Segments_RJP.npy\n",
            "Saving 79_6_Participant_SlideSize_10_Signal_Segments_RJP.npy to 79_6_Participant_SlideSize_10_Signal_Segments_RJP.npy\n",
            "Saving 80_7_Participant_SlideSize_10_Signal_Segments_RCP.npy to 80_7_Participant_SlideSize_10_Signal_Segments_RCP.npy\n",
            "Saving 81_4_Participant_SlideSize_10_Signal_Segments_RCP.npy to 81_4_Participant_SlideSize_10_Signal_Segments_RCP.npy\n",
            "Saving 82_3_Participant_SlideSize_10_Signal_Segments_RJP.npy to 82_3_Participant_SlideSize_10_Signal_Segments_RJP.npy\n",
            "Saving 83_7_Participant_SlideSize_10_Signal_Segments_OTH.npy to 83_7_Participant_SlideSize_10_Signal_Segments_OTH.npy\n",
            "Saving 84_9_Participant_SlideSize_10_Signal_Segments_OTH.npy to 84_9_Participant_SlideSize_10_Signal_Segments_OTH.npy\n",
            "Saving 85_3_Participant_SlideSize_10_Signal_Segments_OTH.npy to 85_3_Participant_SlideSize_10_Signal_Segments_OTH.npy\n",
            "Saving 86_9_Participant_SlideSize_10_Signal_Segments_RCP.npy to 86_9_Participant_SlideSize_10_Signal_Segments_RCP.npy\n",
            "Saving 87_6_Participant_SlideSize_10_Signal_Segments_OTH.npy to 87_6_Participant_SlideSize_10_Signal_Segments_OTH.npy\n",
            "Saving 88_3_Participant_SlideSize_10_Signal_Segments_LJP.npy to 88_3_Participant_SlideSize_10_Signal_Segments_LJP.npy\n",
            "Saving 89_4_Participant_SlideSize_10_Signal_Segments_OTH.npy to 89_4_Participant_SlideSize_10_Signal_Segments_OTH.npy\n"
          ],
          "name": "stdout"
        }
      ]
    },
    {
      "cell_type": "markdown",
      "metadata": {
        "id": "KWh-0CdrvGmy"
      },
      "source": [
        "\n",
        "## Labels "
      ]
    },
    {
      "cell_type": "markdown",
      "metadata": {
        "id": "vI6mZQZpP4fg"
      },
      "source": [
        "Train"
      ]
    },
    {
      "cell_type": "code",
      "metadata": {
        "colab": {
          "resources": {
            "http://localhost:8080/nbextensions/google.colab/files.js": {
              "data": "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",
              "ok": true,
              "headers": [
                [
                  "content-type",
                  "application/javascript"
                ]
              ],
              "status": 200,
              "status_text": "OK"
            }
          },
          "base_uri": "https://localhost:8080/",
          "height": 1000
        },
        "id": "Jo_VGwhJvG5z",
        "outputId": "1ad0457d-26c9-44d2-f39c-1bb0b060d631"
      },
      "source": [
        "from google.colab import files\n",
        "uploaded_label_train = files.upload()"
      ],
      "execution_count": null,
      "outputs": [
        {
          "output_type": "display_data",
          "data": {
            "text/html": [
              "\n",
              "     <input type=\"file\" id=\"files-bbaa7f3f-2a7d-4b68-8974-af59d36dabd5\" name=\"files[]\" multiple disabled\n",
              "        style=\"border:none\" />\n",
              "     <output id=\"result-bbaa7f3f-2a7d-4b68-8974-af59d36dabd5\">\n",
              "      Upload widget is only available when the cell has been executed in the\n",
              "      current browser session. Please rerun this cell to enable.\n",
              "      </output>\n",
              "      <script src=\"/nbextensions/google.colab/files.js\"></script> "
            ],
            "text/plain": [
              "<IPython.core.display.HTML object>"
            ]
          },
          "metadata": {
            "tags": []
          }
        },
        {
          "output_type": "stream",
          "text": [
            "Saving 28_2_Participant_SlideSize_10_Labels_Segments_RJP.npy to 28_2_Participant_SlideSize_10_Labels_Segments_RJP.npy\n",
            "Saving 28_3_Participant_SlideSize_10_Labels_Segments_RJP.npy to 28_3_Participant_SlideSize_10_Labels_Segments_RJP.npy\n",
            "Saving 28_4_Participant_SlideSize_10_Labels_Segments_RJP.npy to 28_4_Participant_SlideSize_10_Labels_Segments_RJP.npy\n",
            "Saving 28_6_Participant_SlideSize_10_Labels_Segments_RJP.npy to 28_6_Participant_SlideSize_10_Labels_Segments_RJP.npy\n",
            "Saving 28_7_Participant_SlideSize_10_Labels_Segments_RJP.npy to 28_7_Participant_SlideSize_10_Labels_Segments_RJP.npy\n",
            "Saving 28_8_Participant_SlideSize_10_Labels_Segments_RJP.npy to 28_8_Participant_SlideSize_10_Labels_Segments_RJP.npy\n",
            "Saving 28_9_Participant_SlideSize_10_Labels_Segments_RJP.npy to 28_9_Participant_SlideSize_10_Labels_Segments_RJP.npy\n",
            "Saving 29_2_Participant_SlideSize_10_Labels_Segments_RCP.npy to 29_2_Participant_SlideSize_10_Labels_Segments_RCP.npy\n",
            "Saving 29_3_Participant_SlideSize_10_Labels_Segments_RCP.npy to 29_3_Participant_SlideSize_10_Labels_Segments_RCP.npy\n",
            "Saving 29_4_Participant_SlideSize_10_Labels_Segments_RCP.npy to 29_4_Participant_SlideSize_10_Labels_Segments_RCP.npy\n",
            "Saving 29_5_Participant_SlideSize_10_Labels_Segments_RCP.npy to 29_5_Participant_SlideSize_10_Labels_Segments_RCP.npy\n",
            "Saving 29_6_Participant_SlideSize_10_Labels_Segments_RCP.npy to 29_6_Participant_SlideSize_10_Labels_Segments_RCP.npy\n",
            "Saving 29_8_Participant_SlideSize_10_Labels_Segments_RCP.npy to 29_8_Participant_SlideSize_10_Labels_Segments_RCP.npy\n",
            "Saving 29_9_Participant_SlideSize_10_Labels_Segments_RCP.npy to 29_9_Participant_SlideSize_10_Labels_Segments_RCP.npy\n",
            "Saving 32_2_Participant_SlideSize_10_Labels_Segments_RJP.npy to 32_2_Participant_SlideSize_10_Labels_Segments_RJP.npy\n",
            "Saving 32_4_Participant_SlideSize_10_Labels_Segments_RJP.npy to 32_4_Participant_SlideSize_10_Labels_Segments_RJP.npy\n",
            "Saving 32_5_Participant_SlideSize_10_Labels_Segments_RJP.npy to 32_5_Participant_SlideSize_10_Labels_Segments_RJP.npy\n",
            "Saving 32_6_Participant_SlideSize_10_Labels_Segments_RJP.npy to 32_6_Participant_SlideSize_10_Labels_Segments_RJP.npy\n",
            "Saving 32_7_Participant_SlideSize_10_Labels_Segments_RJP.npy to 32_7_Participant_SlideSize_10_Labels_Segments_RJP.npy\n",
            "Saving 32_8_Participant_SlideSize_10_Labels_Segments_RJP.npy to 32_8_Participant_SlideSize_10_Labels_Segments_RJP.npy\n",
            "Saving 32_9_Participant_SlideSize_10_Labels_Segments_RJP.npy to 32_9_Participant_SlideSize_10_Labels_Segments_RJP.npy\n",
            "Saving 33_2_Participant_SlideSize_10_Labels_Segments_LJP.npy to 33_2_Participant_SlideSize_10_Labels_Segments_LJP.npy\n",
            "Saving 33_4_Participant_SlideSize_10_Labels_Segments_LJP.npy to 33_4_Participant_SlideSize_10_Labels_Segments_LJP.npy\n",
            "Saving 33_5_Participant_SlideSize_10_Labels_Segments_LJP.npy to 33_5_Participant_SlideSize_10_Labels_Segments_LJP.npy\n",
            "Saving 33_6_Participant_SlideSize_10_Labels_Segments_LJP.npy to 33_6_Participant_SlideSize_10_Labels_Segments_LJP.npy\n",
            "Saving 33_7_Participant_SlideSize_10_Labels_Segments_LJP.npy to 33_7_Participant_SlideSize_10_Labels_Segments_LJP.npy\n",
            "Saving 33_8_Participant_SlideSize_10_Labels_Segments_LJP.npy to 33_8_Participant_SlideSize_10_Labels_Segments_LJP.npy\n",
            "Saving 33_9_Participant_SlideSize_10_Labels_Segments_LJP.npy to 33_9_Participant_SlideSize_10_Labels_Segments_LJP.npy\n",
            "Saving 34_2_Participant_SlideSize_10_Labels_Segments_RJP.npy to 34_2_Participant_SlideSize_10_Labels_Segments_RJP.npy\n",
            "Saving 34_4_Participant_SlideSize_10_Labels_Segments_RJP.npy to 34_4_Participant_SlideSize_10_Labels_Segments_RJP.npy\n",
            "Saving 34_5_Participant_SlideSize_10_Labels_Segments_RJP.npy to 34_5_Participant_SlideSize_10_Labels_Segments_RJP.npy\n",
            "Saving 34_6_Participant_SlideSize_10_Labels_Segments_RJP.npy to 34_6_Participant_SlideSize_10_Labels_Segments_RJP.npy\n",
            "Saving 34_7_Participant_SlideSize_10_Labels_Segments_RJP.npy to 34_7_Participant_SlideSize_10_Labels_Segments_RJP.npy\n",
            "Saving 34_8_Participant_SlideSize_10_Labels_Segments_RJP.npy to 34_8_Participant_SlideSize_10_Labels_Segments_RJP.npy\n",
            "Saving 34_9_Participant_SlideSize_10_Labels_Segments_RJP.npy to 34_9_Participant_SlideSize_10_Labels_Segments_RJP.npy\n",
            "Saving 35_2_Participant_SlideSize_10_Labels_Segments_RCP.npy to 35_2_Participant_SlideSize_10_Labels_Segments_RCP.npy\n",
            "Saving 35_3_Participant_SlideSize_10_Labels_Segments_RCP.npy to 35_3_Participant_SlideSize_10_Labels_Segments_RCP.npy\n",
            "Saving 35_4_Participant_SlideSize_10_Labels_Segments_RCP.npy to 35_4_Participant_SlideSize_10_Labels_Segments_RCP.npy\n",
            "Saving 35_6_Participant_SlideSize_10_Labels_Segments_RCP.npy to 35_6_Participant_SlideSize_10_Labels_Segments_RCP.npy\n",
            "Saving 35_7_Participant_SlideSize_10_Labels_Segments_RCP.npy to 35_7_Participant_SlideSize_10_Labels_Segments_RCP.npy\n",
            "Saving 35_8_Participant_SlideSize_10_Labels_Segments_RCP.npy to 35_8_Participant_SlideSize_10_Labels_Segments_RCP.npy\n",
            "Saving 35_9_Participant_SlideSize_10_Labels_Segments_RCP.npy to 35_9_Participant_SlideSize_10_Labels_Segments_RCP.npy\n",
            "Saving 36_3_Participant_SlideSize_10_Labels_Segments_OTH.npy to 36_3_Participant_SlideSize_10_Labels_Segments_OTH.npy\n",
            "Saving 36_4_Participant_SlideSize_10_Labels_Segments_OTH.npy to 36_4_Participant_SlideSize_10_Labels_Segments_OTH.npy\n",
            "Saving 36_5_Participant_SlideSize_10_Labels_Segments_OTH.npy to 36_5_Participant_SlideSize_10_Labels_Segments_OTH.npy\n",
            "Saving 36_6_Participant_SlideSize_10_Labels_Segments_OTH.npy to 36_6_Participant_SlideSize_10_Labels_Segments_OTH.npy\n",
            "Saving 36_7_Participant_SlideSize_10_Labels_Segments_OTH.npy to 36_7_Participant_SlideSize_10_Labels_Segments_OTH.npy\n",
            "Saving 36_8_Participant_SlideSize_10_Labels_Segments_OTH.npy to 36_8_Participant_SlideSize_10_Labels_Segments_OTH.npy\n",
            "Saving 36_9_Participant_SlideSize_10_Labels_Segments_OTH.npy to 36_9_Participant_SlideSize_10_Labels_Segments_OTH.npy\n",
            "Saving 37_2_Participant_SlideSize_10_Labels_Segments_RCP.npy to 37_2_Participant_SlideSize_10_Labels_Segments_RCP.npy\n",
            "Saving 37_4_Participant_SlideSize_10_Labels_Segments_RCP.npy to 37_4_Participant_SlideSize_10_Labels_Segments_RCP.npy\n",
            "Saving 37_5_Participant_SlideSize_10_Labels_Segments_RCP.npy to 37_5_Participant_SlideSize_10_Labels_Segments_RCP.npy\n",
            "Saving 37_6_Participant_SlideSize_10_Labels_Segments_RCP.npy to 37_6_Participant_SlideSize_10_Labels_Segments_RCP.npy\n",
            "Saving 37_7_Participant_SlideSize_10_Labels_Segments_RCP.npy to 37_7_Participant_SlideSize_10_Labels_Segments_RCP.npy\n",
            "Saving 37_8_Participant_SlideSize_10_Labels_Segments_RCP.npy to 37_8_Participant_SlideSize_10_Labels_Segments_RCP.npy\n",
            "Saving 37_9_Participant_SlideSize_10_Labels_Segments_RCP.npy to 37_9_Participant_SlideSize_10_Labels_Segments_RCP.npy\n",
            "Saving 38_2_Participant_SlideSize_10_Labels_Segments_RJP.npy to 38_2_Participant_SlideSize_10_Labels_Segments_RJP.npy\n",
            "Saving 38_4_Participant_SlideSize_10_Labels_Segments_RJP.npy to 38_4_Participant_SlideSize_10_Labels_Segments_RJP.npy\n",
            "Saving 38_5_Participant_SlideSize_10_Labels_Segments_RJP.npy to 38_5_Participant_SlideSize_10_Labels_Segments_RJP.npy\n",
            "Saving 38_6_Participant_SlideSize_10_Labels_Segments_RJP.npy to 38_6_Participant_SlideSize_10_Labels_Segments_RJP.npy\n",
            "Saving 38_7_Participant_SlideSize_10_Labels_Segments_RJP.npy to 38_7_Participant_SlideSize_10_Labels_Segments_RJP.npy\n",
            "Saving 38_8_Participant_SlideSize_10_Labels_Segments_RJP.npy to 38_8_Participant_SlideSize_10_Labels_Segments_RJP.npy\n",
            "Saving 38_9_Participant_SlideSize_10_Labels_Segments_RJP.npy to 38_9_Participant_SlideSize_10_Labels_Segments_RJP.npy\n",
            "Saving 39_2_Participant_SlideSize_10_Labels_Segments_OTH.npy to 39_2_Participant_SlideSize_10_Labels_Segments_OTH.npy\n",
            "Saving 39_3_Participant_SlideSize_10_Labels_Segments_OTH.npy to 39_3_Participant_SlideSize_10_Labels_Segments_OTH.npy\n",
            "Saving 39_4_Participant_SlideSize_10_Labels_Segments_OTH.npy to 39_4_Participant_SlideSize_10_Labels_Segments_OTH.npy\n",
            "Saving 39_5_Participant_SlideSize_10_Labels_Segments_OTH.npy to 39_5_Participant_SlideSize_10_Labels_Segments_OTH.npy\n",
            "Saving 39_7_Participant_SlideSize_10_Labels_Segments_OTH.npy to 39_7_Participant_SlideSize_10_Labels_Segments_OTH.npy\n",
            "Saving 39_8_Participant_SlideSize_10_Labels_Segments_OTH.npy to 39_8_Participant_SlideSize_10_Labels_Segments_OTH.npy\n",
            "Saving 40_2_Participant_SlideSize_10_Labels_Segments_OTH.npy to 40_2_Participant_SlideSize_10_Labels_Segments_OTH.npy\n",
            "Saving 40_4_Participant_SlideSize_10_Labels_Segments_OTH.npy to 40_4_Participant_SlideSize_10_Labels_Segments_OTH.npy\n",
            "Saving 40_5_Participant_SlideSize_10_Labels_Segments_OTH.npy to 40_5_Participant_SlideSize_10_Labels_Segments_OTH.npy\n",
            "Saving 40_7_Participant_SlideSize_10_Labels_Segments_OTH.npy to 40_7_Participant_SlideSize_10_Labels_Segments_OTH.npy\n",
            "Saving 40_8_Participant_SlideSize_10_Labels_Segments_OTH.npy to 40_8_Participant_SlideSize_10_Labels_Segments_OTH.npy\n",
            "Saving 40_9_Participant_SlideSize_10_Labels_Segments_OTH.npy to 40_9_Participant_SlideSize_10_Labels_Segments_OTH.npy\n",
            "Saving 41_2_Participant_SlideSize_10_Labels_Segments_OTH.npy to 41_2_Participant_SlideSize_10_Labels_Segments_OTH.npy\n",
            "Saving 41_4_Participant_SlideSize_10_Labels_Segments_OTH.npy to 41_4_Participant_SlideSize_10_Labels_Segments_OTH.npy\n",
            "Saving 41_5_Participant_SlideSize_10_Labels_Segments_OTH.npy to 41_5_Participant_SlideSize_10_Labels_Segments_OTH.npy\n",
            "Saving 41_6_Participant_SlideSize_10_Labels_Segments_OTH.npy to 41_6_Participant_SlideSize_10_Labels_Segments_OTH.npy\n",
            "Saving 41_7_Participant_SlideSize_10_Labels_Segments_OTH.npy to 41_7_Participant_SlideSize_10_Labels_Segments_OTH.npy\n",
            "Saving 41_8_Participant_SlideSize_10_Labels_Segments_OTH.npy to 41_8_Participant_SlideSize_10_Labels_Segments_OTH.npy\n",
            "Saving 41_9_Participant_SlideSize_10_Labels_Segments_OTH.npy to 41_9_Participant_SlideSize_10_Labels_Segments_OTH.npy\n",
            "Saving 42_2_Participant_SlideSize_10_Labels_Segments_LCP.npy to 42_2_Participant_SlideSize_10_Labels_Segments_LCP.npy\n",
            "Saving 42_3_Participant_SlideSize_10_Labels_Segments_LCP.npy to 42_3_Participant_SlideSize_10_Labels_Segments_LCP.npy\n",
            "Saving 42_4_Participant_SlideSize_10_Labels_Segments_LCP.npy to 42_4_Participant_SlideSize_10_Labels_Segments_LCP.npy\n",
            "Saving 42_6_Participant_SlideSize_10_Labels_Segments_LCP.npy to 42_6_Participant_SlideSize_10_Labels_Segments_LCP.npy\n",
            "Saving 42_7_Participant_SlideSize_10_Labels_Segments_LCP.npy to 42_7_Participant_SlideSize_10_Labels_Segments_LCP.npy\n",
            "Saving 42_8_Participant_SlideSize_10_Labels_Segments_LCP.npy to 42_8_Participant_SlideSize_10_Labels_Segments_LCP.npy\n",
            "Saving 42_9_Participant_SlideSize_10_Labels_Segments_LCP.npy to 42_9_Participant_SlideSize_10_Labels_Segments_LCP.npy\n",
            "Saving 43_2_Participant_SlideSize_10_Labels_Segments_RCP.npy to 43_2_Participant_SlideSize_10_Labels_Segments_RCP.npy\n",
            "Saving 43_3_Participant_SlideSize_10_Labels_Segments_RCP.npy to 43_3_Participant_SlideSize_10_Labels_Segments_RCP.npy\n",
            "Saving 43_5_Participant_SlideSize_10_Labels_Segments_RCP.npy to 43_5_Participant_SlideSize_10_Labels_Segments_RCP.npy\n",
            "Saving 43_6_Participant_SlideSize_10_Labels_Segments_RCP.npy to 43_6_Participant_SlideSize_10_Labels_Segments_RCP.npy\n",
            "Saving 43_7_Participant_SlideSize_10_Labels_Segments_RCP.npy to 43_7_Participant_SlideSize_10_Labels_Segments_RCP.npy\n",
            "Saving 43_8_Participant_SlideSize_10_Labels_Segments_RCP.npy to 43_8_Participant_SlideSize_10_Labels_Segments_RCP.npy\n",
            "Saving 43_9_Participant_SlideSize_10_Labels_Segments_RCP.npy to 43_9_Participant_SlideSize_10_Labels_Segments_RCP.npy\n",
            "Saving 44_3_Participant_SlideSize_10_Labels_Segments_LJP.npy to 44_3_Participant_SlideSize_10_Labels_Segments_LJP.npy\n",
            "Saving 44_4_Participant_SlideSize_10_Labels_Segments_LJP.npy to 44_4_Participant_SlideSize_10_Labels_Segments_LJP.npy\n",
            "Saving 44_5_Participant_SlideSize_10_Labels_Segments_LJP.npy to 44_5_Participant_SlideSize_10_Labels_Segments_LJP.npy\n",
            "Saving 44_6_Participant_SlideSize_10_Labels_Segments_LJP.npy to 44_6_Participant_SlideSize_10_Labels_Segments_LJP.npy\n",
            "Saving 44_7_Participant_SlideSize_10_Labels_Segments_LJP.npy to 44_7_Participant_SlideSize_10_Labels_Segments_LJP.npy\n",
            "Saving 44_8_Participant_SlideSize_10_Labels_Segments_LJP.npy to 44_8_Participant_SlideSize_10_Labels_Segments_LJP.npy\n",
            "Saving 44_9_Participant_SlideSize_10_Labels_Segments_LJP.npy to 44_9_Participant_SlideSize_10_Labels_Segments_LJP.npy\n",
            "Saving 45_3_Participant_SlideSize_10_Labels_Segments_OTH.npy to 45_3_Participant_SlideSize_10_Labels_Segments_OTH.npy\n",
            "Saving 45_4_Participant_SlideSize_10_Labels_Segments_OTH.npy to 45_4_Participant_SlideSize_10_Labels_Segments_OTH.npy\n",
            "Saving 45_5_Participant_SlideSize_10_Labels_Segments_OTH.npy to 45_5_Participant_SlideSize_10_Labels_Segments_OTH.npy\n",
            "Saving 45_6_Participant_SlideSize_10_Labels_Segments_OTH.npy to 45_6_Participant_SlideSize_10_Labels_Segments_OTH.npy\n",
            "Saving 45_8_Participant_SlideSize_10_Labels_Segments_OTH.npy to 45_8_Participant_SlideSize_10_Labels_Segments_OTH.npy\n",
            "Saving 45_9_Participant_SlideSize_10_Labels_Segments_OTH.npy to 45_9_Participant_SlideSize_10_Labels_Segments_OTH.npy\n",
            "Saving 46_2_Participant_SlideSize_10_Labels_Segments_LJP.npy to 46_2_Participant_SlideSize_10_Labels_Segments_LJP.npy\n",
            "Saving 46_3_Participant_SlideSize_10_Labels_Segments_LJP.npy to 46_3_Participant_SlideSize_10_Labels_Segments_LJP.npy\n",
            "Saving 46_4_Participant_SlideSize_10_Labels_Segments_LJP.npy to 46_4_Participant_SlideSize_10_Labels_Segments_LJP.npy\n",
            "Saving 46_5_Participant_SlideSize_10_Labels_Segments_LJP.npy to 46_5_Participant_SlideSize_10_Labels_Segments_LJP.npy\n",
            "Saving 46_7_Participant_SlideSize_10_Labels_Segments_LJP.npy to 46_7_Participant_SlideSize_10_Labels_Segments_LJP.npy\n",
            "Saving 46_8_Participant_SlideSize_10_Labels_Segments_LJP.npy to 46_8_Participant_SlideSize_10_Labels_Segments_LJP.npy\n",
            "Saving 46_9_Participant_SlideSize_10_Labels_Segments_LJP.npy to 46_9_Participant_SlideSize_10_Labels_Segments_LJP.npy\n",
            "Saving 47_2_Participant_SlideSize_10_Labels_Segments_LJP.npy to 47_2_Participant_SlideSize_10_Labels_Segments_LJP.npy\n",
            "Saving 47_4_Participant_SlideSize_10_Labels_Segments_LJP.npy to 47_4_Participant_SlideSize_10_Labels_Segments_LJP.npy\n",
            "Saving 47_5_Participant_SlideSize_10_Labels_Segments_LJP.npy to 47_5_Participant_SlideSize_10_Labels_Segments_LJP.npy\n",
            "Saving 47_6_Participant_SlideSize_10_Labels_Segments_LJP.npy to 47_6_Participant_SlideSize_10_Labels_Segments_LJP.npy\n",
            "Saving 47_7_Participant_SlideSize_10_Labels_Segments_LJP.npy to 47_7_Participant_SlideSize_10_Labels_Segments_LJP.npy\n",
            "Saving 47_8_Participant_SlideSize_10_Labels_Segments_LJP.npy to 47_8_Participant_SlideSize_10_Labels_Segments_LJP.npy\n",
            "Saving 47_9_Participant_SlideSize_10_Labels_Segments_LJP.npy to 47_9_Participant_SlideSize_10_Labels_Segments_LJP.npy\n",
            "Saving 48_3_Participant_SlideSize_10_Labels_Segments_OTH.npy to 48_3_Participant_SlideSize_10_Labels_Segments_OTH.npy\n",
            "Saving 48_4_Participant_SlideSize_10_Labels_Segments_OTH.npy to 48_4_Participant_SlideSize_10_Labels_Segments_OTH.npy\n",
            "Saving 48_5_Participant_SlideSize_10_Labels_Segments_OTH.npy to 48_5_Participant_SlideSize_10_Labels_Segments_OTH.npy\n",
            "Saving 48_6_Participant_SlideSize_10_Labels_Segments_OTH.npy to 48_6_Participant_SlideSize_10_Labels_Segments_OTH.npy\n",
            "Saving 48_7_Participant_SlideSize_10_Labels_Segments_OTH.npy to 48_7_Participant_SlideSize_10_Labels_Segments_OTH.npy\n",
            "Saving 48_8_Participant_SlideSize_10_Labels_Segments_OTH.npy to 48_8_Participant_SlideSize_10_Labels_Segments_OTH.npy\n",
            "Saving 48_9_Participant_SlideSize_10_Labels_Segments_OTH.npy to 48_9_Participant_SlideSize_10_Labels_Segments_OTH.npy\n",
            "Saving 49_2_Participant_SlideSize_10_Labels_Segments_OTH.npy to 49_2_Participant_SlideSize_10_Labels_Segments_OTH.npy\n",
            "Saving 49_3_Participant_SlideSize_10_Labels_Segments_OTH.npy to 49_3_Participant_SlideSize_10_Labels_Segments_OTH.npy\n",
            "Saving 49_5_Participant_SlideSize_10_Labels_Segments_OTH.npy to 49_5_Participant_SlideSize_10_Labels_Segments_OTH.npy\n",
            "Saving 49_6_Participant_SlideSize_10_Labels_Segments_OTH.npy to 49_6_Participant_SlideSize_10_Labels_Segments_OTH.npy\n",
            "Saving 49_7_Participant_SlideSize_10_Labels_Segments_OTH.npy to 49_7_Participant_SlideSize_10_Labels_Segments_OTH.npy\n",
            "Saving 49_8_Participant_SlideSize_10_Labels_Segments_OTH.npy to 49_8_Participant_SlideSize_10_Labels_Segments_OTH.npy\n",
            "Saving 49_9_Participant_SlideSize_10_Labels_Segments_OTH.npy to 49_9_Participant_SlideSize_10_Labels_Segments_OTH.npy\n",
            "Saving 50_2_Participant_SlideSize_10_Labels_Segments_OTH.npy to 50_2_Participant_SlideSize_10_Labels_Segments_OTH.npy\n",
            "Saving 50_4_Participant_SlideSize_10_Labels_Segments_OTH.npy to 50_4_Participant_SlideSize_10_Labels_Segments_OTH.npy\n",
            "Saving 50_5_Participant_SlideSize_10_Labels_Segments_OTH.npy to 50_5_Participant_SlideSize_10_Labels_Segments_OTH.npy\n",
            "Saving 50_6_Participant_SlideSize_10_Labels_Segments_OTH.npy to 50_6_Participant_SlideSize_10_Labels_Segments_OTH.npy\n",
            "Saving 50_7_Participant_SlideSize_10_Labels_Segments_OTH.npy to 50_7_Participant_SlideSize_10_Labels_Segments_OTH.npy\n",
            "Saving 50_8_Participant_SlideSize_10_Labels_Segments_OTH.npy to 50_8_Participant_SlideSize_10_Labels_Segments_OTH.npy\n",
            "Saving 50_9_Participant_SlideSize_10_Labels_Segments_OTH.npy to 50_9_Participant_SlideSize_10_Labels_Segments_OTH.npy\n",
            "Saving 51_3_Participant_SlideSize_10_Labels_Segments_RJP.npy to 51_3_Participant_SlideSize_10_Labels_Segments_RJP.npy\n",
            "Saving 51_4_Participant_SlideSize_10_Labels_Segments_RJP.npy to 51_4_Participant_SlideSize_10_Labels_Segments_RJP.npy\n",
            "Saving 51_5_Participant_SlideSize_10_Labels_Segments_RJP.npy to 51_5_Participant_SlideSize_10_Labels_Segments_RJP.npy\n",
            "Saving 51_6_Participant_SlideSize_10_Labels_Segments_RJP.npy to 51_6_Participant_SlideSize_10_Labels_Segments_RJP.npy\n",
            "Saving 51_7_Participant_SlideSize_10_Labels_Segments_RJP.npy to 51_7_Participant_SlideSize_10_Labels_Segments_RJP.npy\n",
            "Saving 51_8_Participant_SlideSize_10_Labels_Segments_RJP.npy to 51_8_Participant_SlideSize_10_Labels_Segments_RJP.npy\n",
            "Saving 51_9_Participant_SlideSize_10_Labels_Segments_RJP.npy to 51_9_Participant_SlideSize_10_Labels_Segments_RJP.npy\n",
            "Saving 52_2_Participant_SlideSize_10_Labels_Segments_RJP.npy to 52_2_Participant_SlideSize_10_Labels_Segments_RJP.npy\n",
            "Saving 52_3_Participant_SlideSize_10_Labels_Segments_RJP.npy to 52_3_Participant_SlideSize_10_Labels_Segments_RJP.npy\n",
            "Saving 52_4_Participant_SlideSize_10_Labels_Segments_RJP.npy to 52_4_Participant_SlideSize_10_Labels_Segments_RJP.npy\n",
            "Saving 52_5_Participant_SlideSize_10_Labels_Segments_RJP.npy to 52_5_Participant_SlideSize_10_Labels_Segments_RJP.npy\n",
            "Saving 52_7_Participant_SlideSize_10_Labels_Segments_RJP.npy to 52_7_Participant_SlideSize_10_Labels_Segments_RJP.npy\n",
            "Saving 52_8_Participant_SlideSize_10_Labels_Segments_RJP.npy to 52_8_Participant_SlideSize_10_Labels_Segments_RJP.npy\n",
            "Saving 52_9_Participant_SlideSize_10_Labels_Segments_RJP.npy to 52_9_Participant_SlideSize_10_Labels_Segments_RJP.npy\n",
            "Saving 53_2_Participant_SlideSize_10_Labels_Segments_RJP.npy to 53_2_Participant_SlideSize_10_Labels_Segments_RJP.npy\n",
            "Saving 53_3_Participant_SlideSize_10_Labels_Segments_RJP.npy to 53_3_Participant_SlideSize_10_Labels_Segments_RJP.npy\n",
            "Saving 53_4_Participant_SlideSize_10_Labels_Segments_RJP.npy to 53_4_Participant_SlideSize_10_Labels_Segments_RJP.npy\n",
            "Saving 53_6_Participant_SlideSize_10_Labels_Segments_RJP.npy to 53_6_Participant_SlideSize_10_Labels_Segments_RJP.npy\n",
            "Saving 53_7_Participant_SlideSize_10_Labels_Segments_RJP.npy to 53_7_Participant_SlideSize_10_Labels_Segments_RJP.npy\n",
            "Saving 53_8_Participant_SlideSize_10_Labels_Segments_RJP.npy to 53_8_Participant_SlideSize_10_Labels_Segments_RJP.npy\n",
            "Saving 53_9_Participant_SlideSize_10_Labels_Segments_RJP.npy to 53_9_Participant_SlideSize_10_Labels_Segments_RJP.npy\n",
            "Saving 54_2_Participant_SlideSize_10_Labels_Segments_OTH.npy to 54_2_Participant_SlideSize_10_Labels_Segments_OTH.npy\n",
            "Saving 54_3_Participant_SlideSize_10_Labels_Segments_OTH.npy to 54_3_Participant_SlideSize_10_Labels_Segments_OTH.npy\n",
            "Saving 54_4_Participant_SlideSize_10_Labels_Segments_OTH.npy to 54_4_Participant_SlideSize_10_Labels_Segments_OTH.npy\n",
            "Saving 54_5_Participant_SlideSize_10_Labels_Segments_OTH.npy to 54_5_Participant_SlideSize_10_Labels_Segments_OTH.npy\n",
            "Saving 54_6_Participant_SlideSize_10_Labels_Segments_OTH.npy to 54_6_Participant_SlideSize_10_Labels_Segments_OTH.npy\n",
            "Saving 54_7_Participant_SlideSize_10_Labels_Segments_OTH.npy to 54_7_Participant_SlideSize_10_Labels_Segments_OTH.npy\n",
            "Saving 54_8_Participant_SlideSize_10_Labels_Segments_OTH.npy to 54_8_Participant_SlideSize_10_Labels_Segments_OTH.npy\n",
            "Saving 55_2_Participant_SlideSize_10_Labels_Segments_OTH.npy to 55_2_Participant_SlideSize_10_Labels_Segments_OTH.npy\n",
            "Saving 55_3_Participant_SlideSize_10_Labels_Segments_OTH.npy to 55_3_Participant_SlideSize_10_Labels_Segments_OTH.npy\n",
            "Saving 55_4_Participant_SlideSize_10_Labels_Segments_OTH.npy to 55_4_Participant_SlideSize_10_Labels_Segments_OTH.npy\n",
            "Saving 55_5_Participant_SlideSize_10_Labels_Segments_OTH.npy to 55_5_Participant_SlideSize_10_Labels_Segments_OTH.npy\n",
            "Saving 55_6_Participant_SlideSize_10_Labels_Segments_OTH.npy to 55_6_Participant_SlideSize_10_Labels_Segments_OTH.npy\n",
            "Saving 55_7_Participant_SlideSize_10_Labels_Segments_OTH.npy to 55_7_Participant_SlideSize_10_Labels_Segments_OTH.npy\n",
            "Saving 55_8_Participant_SlideSize_10_Labels_Segments_OTH.npy to 55_8_Participant_SlideSize_10_Labels_Segments_OTH.npy\n",
            "Saving 56_2_Participant_SlideSize_10_Labels_Segments_RJP.npy to 56_2_Participant_SlideSize_10_Labels_Segments_RJP.npy\n",
            "Saving 56_4_Participant_SlideSize_10_Labels_Segments_RJP.npy to 56_4_Participant_SlideSize_10_Labels_Segments_RJP.npy\n",
            "Saving 56_5_Participant_SlideSize_10_Labels_Segments_RJP.npy to 56_5_Participant_SlideSize_10_Labels_Segments_RJP.npy\n",
            "Saving 56_7_Participant_SlideSize_10_Labels_Segments_RJP.npy to 56_7_Participant_SlideSize_10_Labels_Segments_RJP.npy\n",
            "Saving 56_8_Participant_SlideSize_10_Labels_Segments_RJP.npy to 56_8_Participant_SlideSize_10_Labels_Segments_RJP.npy\n",
            "Saving 56_9_Participant_SlideSize_10_Labels_Segments_RJP.npy to 56_9_Participant_SlideSize_10_Labels_Segments_RJP.npy\n",
            "Saving 57_2_Participant_SlideSize_10_Labels_Segments_RJP.npy to 57_2_Participant_SlideSize_10_Labels_Segments_RJP.npy\n",
            "Saving 57_3_Participant_SlideSize_10_Labels_Segments_RJP.npy to 57_3_Participant_SlideSize_10_Labels_Segments_RJP.npy\n",
            "Saving 57_4_Participant_SlideSize_10_Labels_Segments_RJP.npy to 57_4_Participant_SlideSize_10_Labels_Segments_RJP.npy\n",
            "Saving 57_5_Participant_SlideSize_10_Labels_Segments_RJP.npy to 57_5_Participant_SlideSize_10_Labels_Segments_RJP.npy\n",
            "Saving 57_7_Participant_SlideSize_10_Labels_Segments_RJP.npy to 57_7_Participant_SlideSize_10_Labels_Segments_RJP.npy\n",
            "Saving 57_8_Participant_SlideSize_10_Labels_Segments_RJP.npy to 57_8_Participant_SlideSize_10_Labels_Segments_RJP.npy\n",
            "Saving 57_9_Participant_SlideSize_10_Labels_Segments_RJP.npy to 57_9_Participant_SlideSize_10_Labels_Segments_RJP.npy\n",
            "Saving 58_3_Participant_SlideSize_10_Labels_Segments_LJP.npy to 58_3_Participant_SlideSize_10_Labels_Segments_LJP.npy\n",
            "Saving 58_5_Participant_SlideSize_10_Labels_Segments_LJP.npy to 58_5_Participant_SlideSize_10_Labels_Segments_LJP.npy\n",
            "Saving 58_6_Participant_SlideSize_10_Labels_Segments_LJP.npy to 58_6_Participant_SlideSize_10_Labels_Segments_LJP.npy\n",
            "Saving 58_7_Participant_SlideSize_10_Labels_Segments_LJP.npy to 58_7_Participant_SlideSize_10_Labels_Segments_LJP.npy\n",
            "Saving 58_8_Participant_SlideSize_10_Labels_Segments_LJP.npy to 58_8_Participant_SlideSize_10_Labels_Segments_LJP.npy\n",
            "Saving 58_9_Participant_SlideSize_10_Labels_Segments_LJP.npy to 58_9_Participant_SlideSize_10_Labels_Segments_LJP.npy\n",
            "Saving 59_2_Participant_SlideSize_10_Labels_Segments_RJP.npy to 59_2_Participant_SlideSize_10_Labels_Segments_RJP.npy\n",
            "Saving 59_3_Participant_SlideSize_10_Labels_Segments_RJP.npy to 59_3_Participant_SlideSize_10_Labels_Segments_RJP.npy\n",
            "Saving 59_4_Participant_SlideSize_10_Labels_Segments_RJP.npy to 59_4_Participant_SlideSize_10_Labels_Segments_RJP.npy\n",
            "Saving 59_5_Participant_SlideSize_10_Labels_Segments_RJP.npy to 59_5_Participant_SlideSize_10_Labels_Segments_RJP.npy\n",
            "Saving 59_6_Participant_SlideSize_10_Labels_Segments_RJP.npy to 59_6_Participant_SlideSize_10_Labels_Segments_RJP.npy\n",
            "Saving 59_7_Participant_SlideSize_10_Labels_Segments_RJP.npy to 59_7_Participant_SlideSize_10_Labels_Segments_RJP.npy\n",
            "Saving 59_9_Participant_SlideSize_10_Labels_Segments_RJP.npy to 59_9_Participant_SlideSize_10_Labels_Segments_RJP.npy\n",
            "Saving 60_3_Participant_SlideSize_10_Labels_Segments_RJP.npy to 60_3_Participant_SlideSize_10_Labels_Segments_RJP.npy\n",
            "Saving 60_4_Participant_SlideSize_10_Labels_Segments_RJP.npy to 60_4_Participant_SlideSize_10_Labels_Segments_RJP.npy\n",
            "Saving 60_5_Participant_SlideSize_10_Labels_Segments_RJP.npy to 60_5_Participant_SlideSize_10_Labels_Segments_RJP.npy\n",
            "Saving 60_6_Participant_SlideSize_10_Labels_Segments_RJP.npy to 60_6_Participant_SlideSize_10_Labels_Segments_RJP.npy\n",
            "Saving 60_7_Participant_SlideSize_10_Labels_Segments_RJP.npy to 60_7_Participant_SlideSize_10_Labels_Segments_RJP.npy\n",
            "Saving 60_8_Participant_SlideSize_10_Labels_Segments_RJP.npy to 60_8_Participant_SlideSize_10_Labels_Segments_RJP.npy\n",
            "Saving 60_9_Participant_SlideSize_10_Labels_Segments_RJP.npy to 60_9_Participant_SlideSize_10_Labels_Segments_RJP.npy\n",
            "Saving 61_2_Participant_SlideSize_10_Labels_Segments_RJP.npy to 61_2_Participant_SlideSize_10_Labels_Segments_RJP.npy\n",
            "Saving 61_3_Participant_SlideSize_10_Labels_Segments_RJP.npy to 61_3_Participant_SlideSize_10_Labels_Segments_RJP.npy\n",
            "Saving 61_4_Participant_SlideSize_10_Labels_Segments_RJP.npy to 61_4_Participant_SlideSize_10_Labels_Segments_RJP.npy\n",
            "Saving 61_5_Participant_SlideSize_10_Labels_Segments_RJP.npy to 61_5_Participant_SlideSize_10_Labels_Segments_RJP.npy\n",
            "Saving 61_6_Participant_SlideSize_10_Labels_Segments_RJP.npy to 61_6_Participant_SlideSize_10_Labels_Segments_RJP.npy\n",
            "Saving 61_7_Participant_SlideSize_10_Labels_Segments_RJP.npy to 61_7_Participant_SlideSize_10_Labels_Segments_RJP.npy\n",
            "Saving 61_9_Participant_SlideSize_10_Labels_Segments_RJP.npy to 61_9_Participant_SlideSize_10_Labels_Segments_RJP.npy\n",
            "Saving 62_2_Participant_SlideSize_10_Labels_Segments_RJP.npy to 62_2_Participant_SlideSize_10_Labels_Segments_RJP.npy\n",
            "Saving 62_3_Participant_SlideSize_10_Labels_Segments_RJP.npy to 62_3_Participant_SlideSize_10_Labels_Segments_RJP.npy\n",
            "Saving 62_4_Participant_SlideSize_10_Labels_Segments_RJP.npy to 62_4_Participant_SlideSize_10_Labels_Segments_RJP.npy\n",
            "Saving 62_5_Participant_SlideSize_10_Labels_Segments_RJP.npy to 62_5_Participant_SlideSize_10_Labels_Segments_RJP.npy\n",
            "Saving 62_6_Participant_SlideSize_10_Labels_Segments_RJP.npy to 62_6_Participant_SlideSize_10_Labels_Segments_RJP.npy\n",
            "Saving 62_7_Participant_SlideSize_10_Labels_Segments_RJP.npy to 62_7_Participant_SlideSize_10_Labels_Segments_RJP.npy\n",
            "Saving 63_2_Participant_SlideSize_10_Labels_Segments_RJP.npy to 63_2_Participant_SlideSize_10_Labels_Segments_RJP.npy\n",
            "Saving 63_4_Participant_SlideSize_10_Labels_Segments_RJP.npy to 63_4_Participant_SlideSize_10_Labels_Segments_RJP.npy\n",
            "Saving 63_5_Participant_SlideSize_10_Labels_Segments_RJP.npy to 63_5_Participant_SlideSize_10_Labels_Segments_RJP.npy\n",
            "Saving 63_6_Participant_SlideSize_10_Labels_Segments_RJP.npy to 63_6_Participant_SlideSize_10_Labels_Segments_RJP.npy\n",
            "Saving 63_7_Participant_SlideSize_10_Labels_Segments_RJP.npy to 63_7_Participant_SlideSize_10_Labels_Segments_RJP.npy\n",
            "Saving 63_8_Participant_SlideSize_10_Labels_Segments_RJP.npy to 63_8_Participant_SlideSize_10_Labels_Segments_RJP.npy\n",
            "Saving 63_9_Participant_SlideSize_10_Labels_Segments_RJP.npy to 63_9_Participant_SlideSize_10_Labels_Segments_RJP.npy\n",
            "Saving 64_2_Participant_SlideSize_10_Labels_Segments_OTH.npy to 64_2_Participant_SlideSize_10_Labels_Segments_OTH.npy\n",
            "Saving 64_3_Participant_SlideSize_10_Labels_Segments_OTH.npy to 64_3_Participant_SlideSize_10_Labels_Segments_OTH.npy\n",
            "Saving 64_5_Participant_SlideSize_10_Labels_Segments_OTH.npy to 64_5_Participant_SlideSize_10_Labels_Segments_OTH.npy\n",
            "Saving 64_6_Participant_SlideSize_10_Labels_Segments_OTH.npy to 64_6_Participant_SlideSize_10_Labels_Segments_OTH.npy\n",
            "Saving 64_7_Participant_SlideSize_10_Labels_Segments_OTH.npy to 64_7_Participant_SlideSize_10_Labels_Segments_OTH.npy\n",
            "Saving 64_8_Participant_SlideSize_10_Labels_Segments_OTH.npy to 64_8_Participant_SlideSize_10_Labels_Segments_OTH.npy\n",
            "Saving 64_9_Participant_SlideSize_10_Labels_Segments_OTH.npy to 64_9_Participant_SlideSize_10_Labels_Segments_OTH.npy\n",
            "Saving 65_2_Participant_SlideSize_10_Labels_Segments_LCP.npy to 65_2_Participant_SlideSize_10_Labels_Segments_LCP.npy\n",
            "Saving 65_3_Participant_SlideSize_10_Labels_Segments_LCP.npy to 65_3_Participant_SlideSize_10_Labels_Segments_LCP.npy\n",
            "Saving 65_4_Participant_SlideSize_10_Labels_Segments_LCP.npy to 65_4_Participant_SlideSize_10_Labels_Segments_LCP.npy\n",
            "Saving 65_5_Participant_SlideSize_10_Labels_Segments_LCP.npy to 65_5_Participant_SlideSize_10_Labels_Segments_LCP.npy\n",
            "Saving 65_6_Participant_SlideSize_10_Labels_Segments_LCP.npy to 65_6_Participant_SlideSize_10_Labels_Segments_LCP.npy\n",
            "Saving 65_8_Participant_SlideSize_10_Labels_Segments_LCP.npy to 65_8_Participant_SlideSize_10_Labels_Segments_LCP.npy\n",
            "Saving 65_9_Participant_SlideSize_10_Labels_Segments_LCP.npy to 65_9_Participant_SlideSize_10_Labels_Segments_LCP.npy\n",
            "Saving 66_2_Participant_SlideSize_10_Labels_Segments_RJP.npy to 66_2_Participant_SlideSize_10_Labels_Segments_RJP.npy\n",
            "Saving 66_3_Participant_SlideSize_10_Labels_Segments_RJP.npy to 66_3_Participant_SlideSize_10_Labels_Segments_RJP.npy\n",
            "Saving 66_4_Participant_SlideSize_10_Labels_Segments_RJP.npy to 66_4_Participant_SlideSize_10_Labels_Segments_RJP.npy\n",
            "Saving 66_5_Participant_SlideSize_10_Labels_Segments_RJP.npy to 66_5_Participant_SlideSize_10_Labels_Segments_RJP.npy\n",
            "Saving 66_6_Participant_SlideSize_10_Labels_Segments_RJP.npy to 66_6_Participant_SlideSize_10_Labels_Segments_RJP.npy\n",
            "Saving 66_7_Participant_SlideSize_10_Labels_Segments_RJP.npy to 66_7_Participant_SlideSize_10_Labels_Segments_RJP.npy\n",
            "Saving 66_8_Participant_SlideSize_10_Labels_Segments_RJP.npy to 66_8_Participant_SlideSize_10_Labels_Segments_RJP.npy\n",
            "Saving 67_2_Participant_SlideSize_10_Labels_Segments_RJP.npy to 67_2_Participant_SlideSize_10_Labels_Segments_RJP.npy\n",
            "Saving 67_3_Participant_SlideSize_10_Labels_Segments_RJP.npy to 67_3_Participant_SlideSize_10_Labels_Segments_RJP.npy\n",
            "Saving 67_5_Participant_SlideSize_10_Labels_Segments_RJP.npy to 67_5_Participant_SlideSize_10_Labels_Segments_RJP.npy\n",
            "Saving 67_6_Participant_SlideSize_10_Labels_Segments_RJP.npy to 67_6_Participant_SlideSize_10_Labels_Segments_RJP.npy\n",
            "Saving 67_7_Participant_SlideSize_10_Labels_Segments_RJP.npy to 67_7_Participant_SlideSize_10_Labels_Segments_RJP.npy\n",
            "Saving 67_8_Participant_SlideSize_10_Labels_Segments_RJP.npy to 67_8_Participant_SlideSize_10_Labels_Segments_RJP.npy\n",
            "Saving 67_9_Participant_SlideSize_10_Labels_Segments_RJP.npy to 67_9_Participant_SlideSize_10_Labels_Segments_RJP.npy\n",
            "Saving 68_2_Participant_SlideSize_10_Labels_Segments_OTH.npy to 68_2_Participant_SlideSize_10_Labels_Segments_OTH.npy\n",
            "Saving 68_3_Participant_SlideSize_10_Labels_Segments_OTH.npy to 68_3_Participant_SlideSize_10_Labels_Segments_OTH.npy\n",
            "Saving 68_4_Participant_SlideSize_10_Labels_Segments_OTH.npy to 68_4_Participant_SlideSize_10_Labels_Segments_OTH.npy\n",
            "Saving 68_6_Participant_SlideSize_10_Labels_Segments_OTH.npy to 68_6_Participant_SlideSize_10_Labels_Segments_OTH.npy\n",
            "Saving 68_7_Participant_SlideSize_10_Labels_Segments_OTH.npy to 68_7_Participant_SlideSize_10_Labels_Segments_OTH.npy\n",
            "Saving 68_8_Participant_SlideSize_10_Labels_Segments_OTH.npy to 68_8_Participant_SlideSize_10_Labels_Segments_OTH.npy\n",
            "Saving 68_9_Participant_SlideSize_10_Labels_Segments_OTH.npy to 68_9_Participant_SlideSize_10_Labels_Segments_OTH.npy\n",
            "Saving 69_2_Participant_SlideSize_10_Labels_Segments_LCP.npy to 69_2_Participant_SlideSize_10_Labels_Segments_LCP.npy\n",
            "Saving 69_3_Participant_SlideSize_10_Labels_Segments_LCP.npy to 69_3_Participant_SlideSize_10_Labels_Segments_LCP.npy\n",
            "Saving 69_4_Participant_SlideSize_10_Labels_Segments_LCP.npy to 69_4_Participant_SlideSize_10_Labels_Segments_LCP.npy\n",
            "Saving 69_5_Participant_SlideSize_10_Labels_Segments_LCP.npy to 69_5_Participant_SlideSize_10_Labels_Segments_LCP.npy\n",
            "Saving 69_7_Participant_SlideSize_10_Labels_Segments_LCP.npy to 69_7_Participant_SlideSize_10_Labels_Segments_LCP.npy\n",
            "Saving 69_8_Participant_SlideSize_10_Labels_Segments_LCP.npy to 69_8_Participant_SlideSize_10_Labels_Segments_LCP.npy\n",
            "Saving 69_9_Participant_SlideSize_10_Labels_Segments_LCP.npy to 69_9_Participant_SlideSize_10_Labels_Segments_LCP.npy\n",
            "Saving 70_3_Participant_SlideSize_10_Labels_Segments_LJP.npy to 70_3_Participant_SlideSize_10_Labels_Segments_LJP.npy\n",
            "Saving 70_4_Participant_SlideSize_10_Labels_Segments_LJP.npy to 70_4_Participant_SlideSize_10_Labels_Segments_LJP.npy\n",
            "Saving 70_5_Participant_SlideSize_10_Labels_Segments_LJP.npy to 70_5_Participant_SlideSize_10_Labels_Segments_LJP.npy\n",
            "Saving 70_6_Participant_SlideSize_10_Labels_Segments_LJP.npy to 70_6_Participant_SlideSize_10_Labels_Segments_LJP.npy\n",
            "Saving 70_7_Participant_SlideSize_10_Labels_Segments_LJP.npy to 70_7_Participant_SlideSize_10_Labels_Segments_LJP.npy\n",
            "Saving 70_8_Participant_SlideSize_10_Labels_Segments_LJP.npy to 70_8_Participant_SlideSize_10_Labels_Segments_LJP.npy\n",
            "Saving 70_9_Participant_SlideSize_10_Labels_Segments_LJP.npy to 70_9_Participant_SlideSize_10_Labels_Segments_LJP.npy\n",
            "Saving 71_2_Participant_SlideSize_10_Labels_Segments_RJP.npy to 71_2_Participant_SlideSize_10_Labels_Segments_RJP.npy\n",
            "Saving 71_3_Participant_SlideSize_10_Labels_Segments_RJP.npy to 71_3_Participant_SlideSize_10_Labels_Segments_RJP.npy\n",
            "Saving 71_4_Participant_SlideSize_10_Labels_Segments_RJP.npy to 71_4_Participant_SlideSize_10_Labels_Segments_RJP.npy\n",
            "Saving 71_5_Participant_SlideSize_10_Labels_Segments_RJP.npy to 71_5_Participant_SlideSize_10_Labels_Segments_RJP.npy\n",
            "Saving 71_6_Participant_SlideSize_10_Labels_Segments_RJP.npy to 71_6_Participant_SlideSize_10_Labels_Segments_RJP.npy\n",
            "Saving 71_7_Participant_SlideSize_10_Labels_Segments_RJP.npy to 71_7_Participant_SlideSize_10_Labels_Segments_RJP.npy\n",
            "Saving 71_8_Participant_SlideSize_10_Labels_Segments_RJP.npy to 71_8_Participant_SlideSize_10_Labels_Segments_RJP.npy\n",
            "Saving 72_2_Participant_SlideSize_10_Labels_Segments_OTH.npy to 72_2_Participant_SlideSize_10_Labels_Segments_OTH.npy\n",
            "Saving 72_4_Participant_SlideSize_10_Labels_Segments_OTH.npy to 72_4_Participant_SlideSize_10_Labels_Segments_OTH.npy\n",
            "Saving 72_5_Participant_SlideSize_10_Labels_Segments_OTH.npy to 72_5_Participant_SlideSize_10_Labels_Segments_OTH.npy\n",
            "Saving 72_6_Participant_SlideSize_10_Labels_Segments_OTH.npy to 72_6_Participant_SlideSize_10_Labels_Segments_OTH.npy\n",
            "Saving 72_7_Participant_SlideSize_10_Labels_Segments_OTH.npy to 72_7_Participant_SlideSize_10_Labels_Segments_OTH.npy\n",
            "Saving 72_8_Participant_SlideSize_10_Labels_Segments_OTH.npy to 72_8_Participant_SlideSize_10_Labels_Segments_OTH.npy\n",
            "Saving 72_9_Participant_SlideSize_10_Labels_Segments_OTH.npy to 72_9_Participant_SlideSize_10_Labels_Segments_OTH.npy\n",
            "Saving 73_2_Participant_SlideSize_10_Labels_Segments_OTH.npy to 73_2_Participant_SlideSize_10_Labels_Segments_OTH.npy\n",
            "Saving 73_3_Participant_SlideSize_10_Labels_Segments_OTH.npy to 73_3_Participant_SlideSize_10_Labels_Segments_OTH.npy\n",
            "Saving 73_4_Participant_SlideSize_10_Labels_Segments_OTH.npy to 73_4_Participant_SlideSize_10_Labels_Segments_OTH.npy\n",
            "Saving 73_5_Participant_SlideSize_10_Labels_Segments_OTH.npy to 73_5_Participant_SlideSize_10_Labels_Segments_OTH.npy\n",
            "Saving 73_6_Participant_SlideSize_10_Labels_Segments_OTH.npy to 73_6_Participant_SlideSize_10_Labels_Segments_OTH.npy\n",
            "Saving 73_7_Participant_SlideSize_10_Labels_Segments_OTH.npy to 73_7_Participant_SlideSize_10_Labels_Segments_OTH.npy\n",
            "Saving 73_8_Participant_SlideSize_10_Labels_Segments_OTH.npy to 73_8_Participant_SlideSize_10_Labels_Segments_OTH.npy\n",
            "Saving 74_2_Participant_SlideSize_10_Labels_Segments_OTH.npy to 74_2_Participant_SlideSize_10_Labels_Segments_OTH.npy\n",
            "Saving 74_4_Participant_SlideSize_10_Labels_Segments_OTH.npy to 74_4_Participant_SlideSize_10_Labels_Segments_OTH.npy\n",
            "Saving 74_5_Participant_SlideSize_10_Labels_Segments_OTH.npy to 74_5_Participant_SlideSize_10_Labels_Segments_OTH.npy\n",
            "Saving 74_6_Participant_SlideSize_10_Labels_Segments_OTH.npy to 74_6_Participant_SlideSize_10_Labels_Segments_OTH.npy\n",
            "Saving 74_7_Participant_SlideSize_10_Labels_Segments_OTH.npy to 74_7_Participant_SlideSize_10_Labels_Segments_OTH.npy\n",
            "Saving 74_8_Participant_SlideSize_10_Labels_Segments_OTH.npy to 74_8_Participant_SlideSize_10_Labels_Segments_OTH.npy\n",
            "Saving 74_9_Participant_SlideSize_10_Labels_Segments_OTH.npy to 74_9_Participant_SlideSize_10_Labels_Segments_OTH.npy\n",
            "Saving 75_2_Participant_SlideSize_10_Labels_Segments_RJP.npy to 75_2_Participant_SlideSize_10_Labels_Segments_RJP.npy\n",
            "Saving 75_3_Participant_SlideSize_10_Labels_Segments_RJP.npy to 75_3_Participant_SlideSize_10_Labels_Segments_RJP.npy\n",
            "Saving 75_4_Participant_SlideSize_10_Labels_Segments_RJP.npy to 75_4_Participant_SlideSize_10_Labels_Segments_RJP.npy\n",
            "Saving 75_5_Participant_SlideSize_10_Labels_Segments_RJP.npy to 75_5_Participant_SlideSize_10_Labels_Segments_RJP.npy\n",
            "Saving 75_7_Participant_SlideSize_10_Labels_Segments_RJP.npy to 75_7_Participant_SlideSize_10_Labels_Segments_RJP.npy\n",
            "Saving 75_8_Participant_SlideSize_10_Labels_Segments_RJP.npy to 75_8_Participant_SlideSize_10_Labels_Segments_RJP.npy\n",
            "Saving 75_9_Participant_SlideSize_10_Labels_Segments_RJP.npy to 75_9_Participant_SlideSize_10_Labels_Segments_RJP.npy\n",
            "Saving 76_2_Participant_SlideSize_10_Labels_Segments_OTH.npy to 76_2_Participant_SlideSize_10_Labels_Segments_OTH.npy\n",
            "Saving 76_3_Participant_SlideSize_10_Labels_Segments_OTH.npy to 76_3_Participant_SlideSize_10_Labels_Segments_OTH.npy\n",
            "Saving 76_4_Participant_SlideSize_10_Labels_Segments_OTH.npy to 76_4_Participant_SlideSize_10_Labels_Segments_OTH.npy\n",
            "Saving 76_6_Participant_SlideSize_10_Labels_Segments_OTH.npy to 76_6_Participant_SlideSize_10_Labels_Segments_OTH.npy\n",
            "Saving 76_7_Participant_SlideSize_10_Labels_Segments_OTH.npy to 76_7_Participant_SlideSize_10_Labels_Segments_OTH.npy\n",
            "Saving 76_8_Participant_SlideSize_10_Labels_Segments_OTH.npy to 76_8_Participant_SlideSize_10_Labels_Segments_OTH.npy\n",
            "Saving 76_9_Participant_SlideSize_10_Labels_Segments_OTH.npy to 76_9_Participant_SlideSize_10_Labels_Segments_OTH.npy\n",
            "Saving 77_2_Participant_SlideSize_10_Labels_Segments_OTH.npy to 77_2_Participant_SlideSize_10_Labels_Segments_OTH.npy\n",
            "Saving 77_3_Participant_SlideSize_10_Labels_Segments_OTH.npy to 77_3_Participant_SlideSize_10_Labels_Segments_OTH.npy\n",
            "Saving 77_4_Participant_SlideSize_10_Labels_Segments_OTH.npy to 77_4_Participant_SlideSize_10_Labels_Segments_OTH.npy\n",
            "Saving 77_5_Participant_SlideSize_10_Labels_Segments_OTH.npy to 77_5_Participant_SlideSize_10_Labels_Segments_OTH.npy\n",
            "Saving 77_7_Participant_SlideSize_10_Labels_Segments_OTH.npy to 77_7_Participant_SlideSize_10_Labels_Segments_OTH.npy\n",
            "Saving 77_8_Participant_SlideSize_10_Labels_Segments_OTH.npy to 77_8_Participant_SlideSize_10_Labels_Segments_OTH.npy\n",
            "Saving 77_9_Participant_SlideSize_10_Labels_Segments_OTH.npy to 77_9_Participant_SlideSize_10_Labels_Segments_OTH.npy\n",
            "Saving 78_2_Participant_SlideSize_10_Labels_Segments_RJP.npy to 78_2_Participant_SlideSize_10_Labels_Segments_RJP.npy\n",
            "Saving 78_3_Participant_SlideSize_10_Labels_Segments_RJP.npy to 78_3_Participant_SlideSize_10_Labels_Segments_RJP.npy\n",
            "Saving 78_4_Participant_SlideSize_10_Labels_Segments_RJP.npy to 78_4_Participant_SlideSize_10_Labels_Segments_RJP.npy\n",
            "Saving 78_5_Participant_SlideSize_10_Labels_Segments_RJP.npy to 78_5_Participant_SlideSize_10_Labels_Segments_RJP.npy\n",
            "Saving 78_7_Participant_SlideSize_10_Labels_Segments_RJP.npy to 78_7_Participant_SlideSize_10_Labels_Segments_RJP.npy\n",
            "Saving 78_8_Participant_SlideSize_10_Labels_Segments_RJP.npy to 78_8_Participant_SlideSize_10_Labels_Segments_RJP.npy\n",
            "Saving 78_9_Participant_SlideSize_10_Labels_Segments_RJP.npy to 78_9_Participant_SlideSize_10_Labels_Segments_RJP.npy\n",
            "Saving 79_2_Participant_SlideSize_10_Labels_Segments_RJP.npy to 79_2_Participant_SlideSize_10_Labels_Segments_RJP.npy\n",
            "Saving 79_3_Participant_SlideSize_10_Labels_Segments_RJP.npy to 79_3_Participant_SlideSize_10_Labels_Segments_RJP.npy\n",
            "Saving 79_4_Participant_SlideSize_10_Labels_Segments_RJP.npy to 79_4_Participant_SlideSize_10_Labels_Segments_RJP.npy\n",
            "Saving 79_5_Participant_SlideSize_10_Labels_Segments_RJP.npy to 79_5_Participant_SlideSize_10_Labels_Segments_RJP.npy\n",
            "Saving 79_7_Participant_SlideSize_10_Labels_Segments_RJP.npy to 79_7_Participant_SlideSize_10_Labels_Segments_RJP.npy\n",
            "Saving 79_8_Participant_SlideSize_10_Labels_Segments_RJP.npy to 79_8_Participant_SlideSize_10_Labels_Segments_RJP.npy\n",
            "Saving 79_9_Participant_SlideSize_10_Labels_Segments_RJP.npy to 79_9_Participant_SlideSize_10_Labels_Segments_RJP.npy\n",
            "Saving 80_2_Participant_SlideSize_10_Labels_Segments_RCP.npy to 80_2_Participant_SlideSize_10_Labels_Segments_RCP.npy\n",
            "Saving 80_3_Participant_SlideSize_10_Labels_Segments_RCP.npy to 80_3_Participant_SlideSize_10_Labels_Segments_RCP.npy\n",
            "Saving 80_4_Participant_SlideSize_10_Labels_Segments_RCP.npy to 80_4_Participant_SlideSize_10_Labels_Segments_RCP.npy\n",
            "Saving 80_5_Participant_SlideSize_10_Labels_Segments_RCP.npy to 80_5_Participant_SlideSize_10_Labels_Segments_RCP.npy\n",
            "Saving 80_6_Participant_SlideSize_10_Labels_Segments_RCP.npy to 80_6_Participant_SlideSize_10_Labels_Segments_RCP.npy\n",
            "Saving 80_8_Participant_SlideSize_10_Labels_Segments_RCP.npy to 80_8_Participant_SlideSize_10_Labels_Segments_RCP.npy\n",
            "Saving 80_9_Participant_SlideSize_10_Labels_Segments_RCP.npy to 80_9_Participant_SlideSize_10_Labels_Segments_RCP.npy\n",
            "Saving 81_2_Participant_SlideSize_10_Labels_Segments_RCP.npy to 81_2_Participant_SlideSize_10_Labels_Segments_RCP.npy\n",
            "Saving 81_3_Participant_SlideSize_10_Labels_Segments_RCP.npy to 81_3_Participant_SlideSize_10_Labels_Segments_RCP.npy\n",
            "Saving 81_5_Participant_SlideSize_10_Labels_Segments_RCP.npy to 81_5_Participant_SlideSize_10_Labels_Segments_RCP.npy\n",
            "Saving 81_6_Participant_SlideSize_10_Labels_Segments_RCP.npy to 81_6_Participant_SlideSize_10_Labels_Segments_RCP.npy\n",
            "Saving 81_7_Participant_SlideSize_10_Labels_Segments_RCP.npy to 81_7_Participant_SlideSize_10_Labels_Segments_RCP.npy\n",
            "Saving 81_8_Participant_SlideSize_10_Labels_Segments_RCP.npy to 81_8_Participant_SlideSize_10_Labels_Segments_RCP.npy\n",
            "Saving 81_9_Participant_SlideSize_10_Labels_Segments_RCP.npy to 81_9_Participant_SlideSize_10_Labels_Segments_RCP.npy\n",
            "Saving 82_2_Participant_SlideSize_10_Labels_Segments_RJP.npy to 82_2_Participant_SlideSize_10_Labels_Segments_RJP.npy\n",
            "Saving 82_4_Participant_SlideSize_10_Labels_Segments_RJP.npy to 82_4_Participant_SlideSize_10_Labels_Segments_RJP.npy\n",
            "Saving 82_5_Participant_SlideSize_10_Labels_Segments_RJP.npy to 82_5_Participant_SlideSize_10_Labels_Segments_RJP.npy\n",
            "Saving 82_6_Participant_SlideSize_10_Labels_Segments_RJP.npy to 82_6_Participant_SlideSize_10_Labels_Segments_RJP.npy\n",
            "Saving 82_7_Participant_SlideSize_10_Labels_Segments_RJP.npy to 82_7_Participant_SlideSize_10_Labels_Segments_RJP.npy\n",
            "Saving 82_8_Participant_SlideSize_10_Labels_Segments_RJP.npy to 82_8_Participant_SlideSize_10_Labels_Segments_RJP.npy\n",
            "Saving 82_9_Participant_SlideSize_10_Labels_Segments_RJP.npy to 82_9_Participant_SlideSize_10_Labels_Segments_RJP.npy\n",
            "Saving 83_2_Participant_SlideSize_10_Labels_Segments_OTH.npy to 83_2_Participant_SlideSize_10_Labels_Segments_OTH.npy\n",
            "Saving 83_3_Participant_SlideSize_10_Labels_Segments_OTH.npy to 83_3_Participant_SlideSize_10_Labels_Segments_OTH.npy\n",
            "Saving 83_4_Participant_SlideSize_10_Labels_Segments_OTH.npy to 83_4_Participant_SlideSize_10_Labels_Segments_OTH.npy\n",
            "Saving 83_5_Participant_SlideSize_10_Labels_Segments_OTH.npy to 83_5_Participant_SlideSize_10_Labels_Segments_OTH.npy\n",
            "Saving 83_6_Participant_SlideSize_10_Labels_Segments_OTH.npy to 83_6_Participant_SlideSize_10_Labels_Segments_OTH.npy\n",
            "Saving 83_8_Participant_SlideSize_10_Labels_Segments_OTH.npy to 83_8_Participant_SlideSize_10_Labels_Segments_OTH.npy\n",
            "Saving 83_9_Participant_SlideSize_10_Labels_Segments_OTH.npy to 83_9_Participant_SlideSize_10_Labels_Segments_OTH.npy\n",
            "Saving 84_2_Participant_SlideSize_10_Labels_Segments_OTH.npy to 84_2_Participant_SlideSize_10_Labels_Segments_OTH.npy\n",
            "Saving 84_3_Participant_SlideSize_10_Labels_Segments_OTH.npy to 84_3_Participant_SlideSize_10_Labels_Segments_OTH.npy\n",
            "Saving 84_4_Participant_SlideSize_10_Labels_Segments_OTH.npy to 84_4_Participant_SlideSize_10_Labels_Segments_OTH.npy\n",
            "Saving 84_5_Participant_SlideSize_10_Labels_Segments_OTH.npy to 84_5_Participant_SlideSize_10_Labels_Segments_OTH.npy\n",
            "Saving 84_6_Participant_SlideSize_10_Labels_Segments_OTH.npy to 84_6_Participant_SlideSize_10_Labels_Segments_OTH.npy\n",
            "Saving 84_7_Participant_SlideSize_10_Labels_Segments_OTH.npy to 84_7_Participant_SlideSize_10_Labels_Segments_OTH.npy\n",
            "Saving 84_8_Participant_SlideSize_10_Labels_Segments_OTH.npy to 84_8_Participant_SlideSize_10_Labels_Segments_OTH.npy\n",
            "Saving 85_2_Participant_SlideSize_10_Labels_Segments_OTH.npy to 85_2_Participant_SlideSize_10_Labels_Segments_OTH.npy\n",
            "Saving 85_4_Participant_SlideSize_10_Labels_Segments_OTH.npy to 85_4_Participant_SlideSize_10_Labels_Segments_OTH.npy\n",
            "Saving 85_5_Participant_SlideSize_10_Labels_Segments_OTH.npy to 85_5_Participant_SlideSize_10_Labels_Segments_OTH.npy\n",
            "Saving 85_6_Participant_SlideSize_10_Labels_Segments_OTH.npy to 85_6_Participant_SlideSize_10_Labels_Segments_OTH.npy\n",
            "Saving 85_7_Participant_SlideSize_10_Labels_Segments_OTH.npy to 85_7_Participant_SlideSize_10_Labels_Segments_OTH.npy\n",
            "Saving 85_8_Participant_SlideSize_10_Labels_Segments_OTH.npy to 85_8_Participant_SlideSize_10_Labels_Segments_OTH.npy\n",
            "Saving 85_9_Participant_SlideSize_10_Labels_Segments_OTH.npy to 85_9_Participant_SlideSize_10_Labels_Segments_OTH.npy\n",
            "Saving 86_2_Participant_SlideSize_10_Labels_Segments_RCP.npy to 86_2_Participant_SlideSize_10_Labels_Segments_RCP.npy\n",
            "Saving 86_3_Participant_SlideSize_10_Labels_Segments_RCP.npy to 86_3_Participant_SlideSize_10_Labels_Segments_RCP.npy\n",
            "Saving 86_4_Participant_SlideSize_10_Labels_Segments_RCP.npy to 86_4_Participant_SlideSize_10_Labels_Segments_RCP.npy\n",
            "Saving 86_5_Participant_SlideSize_10_Labels_Segments_RCP.npy to 86_5_Participant_SlideSize_10_Labels_Segments_RCP.npy\n",
            "Saving 86_6_Participant_SlideSize_10_Labels_Segments_RCP.npy to 86_6_Participant_SlideSize_10_Labels_Segments_RCP.npy\n",
            "Saving 86_7_Participant_SlideSize_10_Labels_Segments_RCP.npy to 86_7_Participant_SlideSize_10_Labels_Segments_RCP.npy\n",
            "Saving 86_8_Participant_SlideSize_10_Labels_Segments_RCP.npy to 86_8_Participant_SlideSize_10_Labels_Segments_RCP.npy\n",
            "Saving 87_2_Participant_SlideSize_10_Labels_Segments_OTH.npy to 87_2_Participant_SlideSize_10_Labels_Segments_OTH.npy\n",
            "Saving 87_3_Participant_SlideSize_10_Labels_Segments_OTH.npy to 87_3_Participant_SlideSize_10_Labels_Segments_OTH.npy\n",
            "Saving 87_4_Participant_SlideSize_10_Labels_Segments_OTH.npy to 87_4_Participant_SlideSize_10_Labels_Segments_OTH.npy\n",
            "Saving 87_5_Participant_SlideSize_10_Labels_Segments_OTH.npy to 87_5_Participant_SlideSize_10_Labels_Segments_OTH.npy\n",
            "Saving 87_7_Participant_SlideSize_10_Labels_Segments_OTH.npy to 87_7_Participant_SlideSize_10_Labels_Segments_OTH.npy\n",
            "Saving 87_8_Participant_SlideSize_10_Labels_Segments_OTH.npy to 87_8_Participant_SlideSize_10_Labels_Segments_OTH.npy\n",
            "Saving 87_9_Participant_SlideSize_10_Labels_Segments_OTH.npy to 87_9_Participant_SlideSize_10_Labels_Segments_OTH.npy\n",
            "Saving 88_2_Participant_SlideSize_10_Labels_Segments_LJP.npy to 88_2_Participant_SlideSize_10_Labels_Segments_LJP.npy\n",
            "Saving 88_4_Participant_SlideSize_10_Labels_Segments_LJP.npy to 88_4_Participant_SlideSize_10_Labels_Segments_LJP.npy\n",
            "Saving 88_5_Participant_SlideSize_10_Labels_Segments_LJP.npy to 88_5_Participant_SlideSize_10_Labels_Segments_LJP.npy\n",
            "Saving 88_7_Participant_SlideSize_10_Labels_Segments_LJP.npy to 88_7_Participant_SlideSize_10_Labels_Segments_LJP.npy\n",
            "Saving 88_8_Participant_SlideSize_10_Labels_Segments_LJP.npy to 88_8_Participant_SlideSize_10_Labels_Segments_LJP.npy\n",
            "Saving 88_9_Participant_SlideSize_10_Labels_Segments_LJP.npy to 88_9_Participant_SlideSize_10_Labels_Segments_LJP.npy\n",
            "Saving 89_2_Participant_SlideSize_10_Labels_Segments_OTH.npy to 89_2_Participant_SlideSize_10_Labels_Segments_OTH.npy\n",
            "Saving 89_3_Participant_SlideSize_10_Labels_Segments_OTH.npy to 89_3_Participant_SlideSize_10_Labels_Segments_OTH.npy\n",
            "Saving 89_6_Participant_SlideSize_10_Labels_Segments_OTH.npy to 89_6_Participant_SlideSize_10_Labels_Segments_OTH.npy\n",
            "Saving 89_7_Participant_SlideSize_10_Labels_Segments_OTH.npy to 89_7_Participant_SlideSize_10_Labels_Segments_OTH.npy\n",
            "Saving 89_8_Participant_SlideSize_10_Labels_Segments_OTH.npy to 89_8_Participant_SlideSize_10_Labels_Segments_OTH.npy\n",
            "Saving 89_9_Participant_SlideSize_10_Labels_Segments_OTH.npy to 89_9_Participant_SlideSize_10_Labels_Segments_OTH.npy\n"
          ],
          "name": "stdout"
        }
      ]
    },
    {
      "cell_type": "markdown",
      "metadata": {
        "id": "GWQaWpwJP5iK"
      },
      "source": [
        "Test"
      ]
    },
    {
      "cell_type": "code",
      "metadata": {
        "colab": {
          "resources": {
            "http://localhost:8080/nbextensions/google.colab/files.js": {
              "data": "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",
              "ok": true,
              "headers": [
                [
                  "content-type",
                  "application/javascript"
                ]
              ],
              "status": 200,
              "status_text": "OK"
            }
          },
          "base_uri": "https://localhost:8080/",
          "height": 1000
        },
        "id": "1ii4LZrUP8hS",
        "outputId": "3db98da5-f78c-4270-ec3e-18c68a7d3491"
      },
      "source": [
        "from google.colab import files\n",
        "uploaded_label_test = files.upload()"
      ],
      "execution_count": null,
      "outputs": [
        {
          "output_type": "display_data",
          "data": {
            "text/html": [
              "\n",
              "     <input type=\"file\" id=\"files-caa74269-06a2-4ae9-8e23-b3b108765345\" name=\"files[]\" multiple disabled\n",
              "        style=\"border:none\" />\n",
              "     <output id=\"result-caa74269-06a2-4ae9-8e23-b3b108765345\">\n",
              "      Upload widget is only available when the cell has been executed in the\n",
              "      current browser session. Please rerun this cell to enable.\n",
              "      </output>\n",
              "      <script src=\"/nbextensions/google.colab/files.js\"></script> "
            ],
            "text/plain": [
              "<IPython.core.display.HTML object>"
            ]
          },
          "metadata": {
            "tags": []
          }
        },
        {
          "output_type": "stream",
          "text": [
            "Saving 28_5_Participant_SlideSize_10_Labels_Segments_RJP.npy to 28_5_Participant_SlideSize_10_Labels_Segments_RJP.npy\n",
            "Saving 29_7_Participant_SlideSize_10_Labels_Segments_RCP.npy to 29_7_Participant_SlideSize_10_Labels_Segments_RCP.npy\n",
            "Saving 32_3_Participant_SlideSize_10_Labels_Segments_RJP.npy to 32_3_Participant_SlideSize_10_Labels_Segments_RJP.npy\n",
            "Saving 33_3_Participant_SlideSize_10_Labels_Segments_LJP.npy to 33_3_Participant_SlideSize_10_Labels_Segments_LJP.npy\n",
            "Saving 34_3_Participant_SlideSize_10_Labels_Segments_RJP.npy to 34_3_Participant_SlideSize_10_Labels_Segments_RJP.npy\n",
            "Saving 35_5_Participant_SlideSize_10_Labels_Segments_RCP.npy to 35_5_Participant_SlideSize_10_Labels_Segments_RCP.npy\n",
            "Saving 36_2_Participant_SlideSize_10_Labels_Segments_OTH.npy to 36_2_Participant_SlideSize_10_Labels_Segments_OTH.npy\n",
            "Saving 37_3_Participant_SlideSize_10_Labels_Segments_RCP.npy to 37_3_Participant_SlideSize_10_Labels_Segments_RCP.npy\n",
            "Saving 38_3_Participant_SlideSize_10_Labels_Segments_RJP.npy to 38_3_Participant_SlideSize_10_Labels_Segments_RJP.npy\n",
            "Saving 39_6_Participant_SlideSize_10_Labels_Segments_OTH.npy to 39_6_Participant_SlideSize_10_Labels_Segments_OTH.npy\n",
            "Saving 40_3_Participant_SlideSize_10_Labels_Segments_OTH.npy to 40_3_Participant_SlideSize_10_Labels_Segments_OTH.npy\n",
            "Saving 41_3_Participant_SlideSize_10_Labels_Segments_OTH.npy to 41_3_Participant_SlideSize_10_Labels_Segments_OTH.npy\n",
            "Saving 42_5_Participant_SlideSize_10_Labels_Segments_LCP.npy to 42_5_Participant_SlideSize_10_Labels_Segments_LCP.npy\n",
            "Saving 43_4_Participant_SlideSize_10_Labels_Segments_RCP.npy to 43_4_Participant_SlideSize_10_Labels_Segments_RCP.npy\n",
            "Saving 44_2_Participant_SlideSize_10_Labels_Segments_LJP.npy to 44_2_Participant_SlideSize_10_Labels_Segments_LJP.npy\n",
            "Saving 45_2_Participant_SlideSize_10_Labels_Segments_OTH.npy to 45_2_Participant_SlideSize_10_Labels_Segments_OTH.npy\n",
            "Saving 46_6_Participant_SlideSize_10_Labels_Segments_LJP.npy to 46_6_Participant_SlideSize_10_Labels_Segments_LJP.npy\n",
            "Saving 47_3_Participant_SlideSize_10_Labels_Segments_LJP.npy to 47_3_Participant_SlideSize_10_Labels_Segments_LJP.npy\n",
            "Saving 48_2_Participant_SlideSize_10_Labels_Segments_OTH.npy to 48_2_Participant_SlideSize_10_Labels_Segments_OTH.npy\n",
            "Saving 49_4_Participant_SlideSize_10_Labels_Segments_OTH.npy to 49_4_Participant_SlideSize_10_Labels_Segments_OTH.npy\n",
            "Saving 50_3_Participant_SlideSize_10_Labels_Segments_OTH.npy to 50_3_Participant_SlideSize_10_Labels_Segments_OTH.npy\n",
            "Saving 51_2_Participant_SlideSize_10_Labels_Segments_RJP.npy to 51_2_Participant_SlideSize_10_Labels_Segments_RJP.npy\n",
            "Saving 52_6_Participant_SlideSize_10_Labels_Segments_RJP.npy to 52_6_Participant_SlideSize_10_Labels_Segments_RJP.npy\n",
            "Saving 53_5_Participant_SlideSize_10_Labels_Segments_RJP.npy to 53_5_Participant_SlideSize_10_Labels_Segments_RJP.npy\n",
            "Saving 54_9_Participant_SlideSize_10_Labels_Segments_OTH.npy to 54_9_Participant_SlideSize_10_Labels_Segments_OTH.npy\n",
            "Saving 55_9_Participant_SlideSize_10_Labels_Segments_OTH.npy to 55_9_Participant_SlideSize_10_Labels_Segments_OTH.npy\n",
            "Saving 56_3_Participant_SlideSize_10_Labels_Segments_RJP.npy to 56_3_Participant_SlideSize_10_Labels_Segments_RJP.npy\n",
            "Saving 57_6_Participant_SlideSize_10_Labels_Segments_RJP.npy to 57_6_Participant_SlideSize_10_Labels_Segments_RJP.npy\n",
            "Saving 58_4_Participant_SlideSize_10_Labels_Segments_LJP.npy to 58_4_Participant_SlideSize_10_Labels_Segments_LJP.npy\n",
            "Saving 59_8_Participant_SlideSize_10_Labels_Segments_RJP.npy to 59_8_Participant_SlideSize_10_Labels_Segments_RJP.npy\n",
            "Saving 60_2_Participant_SlideSize_10_Labels_Segments_RJP.npy to 60_2_Participant_SlideSize_10_Labels_Segments_RJP.npy\n",
            "Saving 61_8_Participant_SlideSize_10_Labels_Segments_RJP.npy to 61_8_Participant_SlideSize_10_Labels_Segments_RJP.npy\n",
            "Saving 62_9_Participant_SlideSize_10_Labels_Segments_RJP.npy to 62_9_Participant_SlideSize_10_Labels_Segments_RJP.npy\n",
            "Saving 63_3_Participant_SlideSize_10_Labels_Segments_RJP.npy to 63_3_Participant_SlideSize_10_Labels_Segments_RJP.npy\n",
            "Saving 64_4_Participant_SlideSize_10_Labels_Segments_OTH.npy to 64_4_Participant_SlideSize_10_Labels_Segments_OTH.npy\n",
            "Saving 65_7_Participant_SlideSize_10_Labels_Segments_LCP.npy to 65_7_Participant_SlideSize_10_Labels_Segments_LCP.npy\n",
            "Saving 66_9_Participant_SlideSize_10_Labels_Segments_RJP.npy to 66_9_Participant_SlideSize_10_Labels_Segments_RJP.npy\n",
            "Saving 67_4_Participant_SlideSize_10_Labels_Segments_RJP.npy to 67_4_Participant_SlideSize_10_Labels_Segments_RJP.npy\n",
            "Saving 68_5_Participant_SlideSize_10_Labels_Segments_OTH.npy to 68_5_Participant_SlideSize_10_Labels_Segments_OTH.npy\n",
            "Saving 69_6_Participant_SlideSize_10_Labels_Segments_LCP.npy to 69_6_Participant_SlideSize_10_Labels_Segments_LCP.npy\n",
            "Saving 70_2_Participant_SlideSize_10_Labels_Segments_LJP.npy to 70_2_Participant_SlideSize_10_Labels_Segments_LJP.npy\n",
            "Saving 71_9_Participant_SlideSize_10_Labels_Segments_RJP.npy to 71_9_Participant_SlideSize_10_Labels_Segments_RJP.npy\n",
            "Saving 72_3_Participant_SlideSize_10_Labels_Segments_OTH.npy to 72_3_Participant_SlideSize_10_Labels_Segments_OTH.npy\n",
            "Saving 73_9_Participant_SlideSize_10_Labels_Segments_OTH.npy to 73_9_Participant_SlideSize_10_Labels_Segments_OTH.npy\n",
            "Saving 74_3_Participant_SlideSize_10_Labels_Segments_OTH.npy to 74_3_Participant_SlideSize_10_Labels_Segments_OTH.npy\n",
            "Saving 75_6_Participant_SlideSize_10_Labels_Segments_RJP.npy to 75_6_Participant_SlideSize_10_Labels_Segments_RJP.npy\n",
            "Saving 76_5_Participant_SlideSize_10_Labels_Segments_OTH.npy to 76_5_Participant_SlideSize_10_Labels_Segments_OTH.npy\n",
            "Saving 77_6_Participant_SlideSize_10_Labels_Segments_OTH.npy to 77_6_Participant_SlideSize_10_Labels_Segments_OTH.npy\n",
            "Saving 78_6_Participant_SlideSize_10_Labels_Segments_RJP.npy to 78_6_Participant_SlideSize_10_Labels_Segments_RJP.npy\n",
            "Saving 79_6_Participant_SlideSize_10_Labels_Segments_RJP.npy to 79_6_Participant_SlideSize_10_Labels_Segments_RJP.npy\n",
            "Saving 80_7_Participant_SlideSize_10_Labels_Segments_RCP.npy to 80_7_Participant_SlideSize_10_Labels_Segments_RCP.npy\n",
            "Saving 81_4_Participant_SlideSize_10_Labels_Segments_RCP.npy to 81_4_Participant_SlideSize_10_Labels_Segments_RCP.npy\n",
            "Saving 82_3_Participant_SlideSize_10_Labels_Segments_RJP.npy to 82_3_Participant_SlideSize_10_Labels_Segments_RJP.npy\n",
            "Saving 83_7_Participant_SlideSize_10_Labels_Segments_OTH.npy to 83_7_Participant_SlideSize_10_Labels_Segments_OTH.npy\n",
            "Saving 84_9_Participant_SlideSize_10_Labels_Segments_OTH.npy to 84_9_Participant_SlideSize_10_Labels_Segments_OTH.npy\n",
            "Saving 85_3_Participant_SlideSize_10_Labels_Segments_OTH.npy to 85_3_Participant_SlideSize_10_Labels_Segments_OTH.npy\n",
            "Saving 86_9_Participant_SlideSize_10_Labels_Segments_RCP.npy to 86_9_Participant_SlideSize_10_Labels_Segments_RCP.npy\n",
            "Saving 87_6_Participant_SlideSize_10_Labels_Segments_OTH.npy to 87_6_Participant_SlideSize_10_Labels_Segments_OTH.npy\n",
            "Saving 88_3_Participant_SlideSize_10_Labels_Segments_LJP.npy to 88_3_Participant_SlideSize_10_Labels_Segments_LJP.npy\n",
            "Saving 89_4_Participant_SlideSize_10_Labels_Segments_OTH.npy to 89_4_Participant_SlideSize_10_Labels_Segments_OTH.npy\n"
          ],
          "name": "stdout"
        }
      ]
    },
    {
      "cell_type": "markdown",
      "metadata": {
        "id": "AFIL8q5nvqUf"
      },
      "source": [
        "### Reading in segments & labels"
      ]
    },
    {
      "cell_type": "markdown",
      "metadata": {
        "id": "Y70o5U5mSOUU"
      },
      "source": [
        "Train"
      ]
    },
    {
      "cell_type": "code",
      "metadata": {
        "id": "dxXU40eBttE6"
      },
      "source": [
        "# getting keys, which is file names of npy \n",
        "list_of_signals_train = [key for key in uploaded_signal_train.keys()]\n",
        "list_of_labels_train  = [key for key in uploaded_label_train.keys()]\n",
        "\n",
        "# set up list to hold all loaded npy \n",
        "all_signal_list_train = [] \n",
        "all_label_list_train = [] \n",
        "\n",
        "\n",
        "for i in range(len(list_of_signals_train)):\n",
        "\n",
        "  # check to make sure ID's match for signal & label, first two elements of file name will be ID as this is the naming convention choosen \n",
        "  if list_of_signals_train[i][:2] == list_of_labels_train[i][:2]:\n",
        "\n",
        "    # load in the data \n",
        "    signal_train = np.load(list_of_signals_train[i])\n",
        "    label_train  = np.load(list_of_labels_train[i])\n",
        "\n",
        "    # append the data to 'all' list\n",
        "    all_signal_list_train.append(signal_train) \n",
        "    all_label_list_train.append(label_train) \n",
        "\n"
      ],
      "execution_count": null,
      "outputs": []
    },
    {
      "cell_type": "markdown",
      "metadata": {
        "id": "uXzYX7vVSPqK"
      },
      "source": [
        "Test"
      ]
    },
    {
      "cell_type": "code",
      "metadata": {
        "id": "4s9Wo8YGSQeN"
      },
      "source": [
        "# getting keys, which is file names of npy \n",
        "list_of_signals_test = [key for key in uploaded_signal_test.keys()]\n",
        "list_of_labels_test  = [key for key in uploaded_label_test.keys()]\n",
        "\n",
        "# set up list to hold all loaded npy \n",
        "all_signal_list_test = [] \n",
        "all_label_list_test = [] \n",
        "\n",
        "\n",
        "for i in range(len(list_of_signals_test)):\n",
        "\n",
        "  # check to make sure ID's match for signal & label, first two elements of file name will be ID as this is the naming convention choosen \n",
        "  if list_of_signals_test[i][:2] == list_of_labels_test[i][:2]:\n",
        "\n",
        "    # load in the data \n",
        "    signal_test = np.load(list_of_signals_test[i])\n",
        "    label_test  = np.load(list_of_labels_test[i])\n",
        "\n",
        "    # append the data to 'all' list\n",
        "    all_signal_list_test.append(signal_test) \n",
        "    all_label_list_test.append(label_test) \n",
        "\n"
      ],
      "execution_count": null,
      "outputs": []
    },
    {
      "cell_type": "markdown",
      "metadata": {
        "id": "RD1s9JxEw7UF"
      },
      "source": [
        "### Concate together for both signals and labels "
      ]
    },
    {
      "cell_type": "markdown",
      "metadata": {
        "id": "BFcTdMphSl-C"
      },
      "source": [
        "Train"
      ]
    },
    {
      "cell_type": "code",
      "metadata": {
        "colab": {
          "base_uri": "https://localhost:8080/"
        },
        "id": "yfHfNYc_uVDm",
        "outputId": "e60cc424-88a1-42a3-d3bd-11b4c287f1f2"
      },
      "source": [
        "# concate the signal and labels\n",
        "all_signal_concat_train = np.concatenate((all_signal_list_train))\n",
        "all_label_concat_train = np.concatenate((all_label_list_train))\n",
        "\n",
        "# unique values\n",
        "print(np.unique(all_label_concat_train, return_counts=True))\n",
        "\n",
        "# print out shapes as these should be equal\n",
        "print(f\"\\nSignal Shape {all_signal_concat_train.shape}\")\n",
        "print(f\"Label Shape {all_label_concat_train.shape}\")\n",
        "\n",
        "#finally convert labels to dummy variables as this is more favourable in deep learning \n",
        "\n",
        "# convert to dummy category\n",
        "all_label_concat_train_dum = pd.get_dummies(all_label_concat_train)\n",
        "\n",
        "print(f'\\nDummy labels Shape {all_label_concat_train_dum.shape}')"
      ],
      "execution_count": null,
      "outputs": [
        {
          "output_type": "stream",
          "text": [
            "(array(['Go', 'Turn 1', 'Turn 2', 'Walk 1', 'Walk 2', 'sit'], dtype='<U6'), array([ 6789, 35465, 33112, 15533, 20273, 12763]))\n",
            "\n",
            "Signal Shape (123935, 10, 9)\n",
            "Label Shape (123935,)\n",
            "\n",
            "Dummy labels Shape (123935, 6)\n"
          ],
          "name": "stdout"
        }
      ]
    },
    {
      "cell_type": "code",
      "metadata": {
        "colab": {
          "base_uri": "https://localhost:8080/"
        },
        "id": "9xBN_7VvmBpr",
        "outputId": "7d41b648-6aa0-4c54-b908-16fde7fdbcf5"
      },
      "source": [
        "'not set' in np.unique(all_label_concat_train)"
      ],
      "execution_count": null,
      "outputs": [
        {
          "output_type": "execute_result",
          "data": {
            "text/plain": [
              "False"
            ]
          },
          "metadata": {
            "tags": []
          },
          "execution_count": 11
        }
      ]
    },
    {
      "cell_type": "markdown",
      "metadata": {
        "id": "vK1UqZpbSoRQ"
      },
      "source": [
        "Test"
      ]
    },
    {
      "cell_type": "code",
      "metadata": {
        "colab": {
          "base_uri": "https://localhost:8080/"
        },
        "id": "9sGbKpc2S7um",
        "outputId": "5a4d0ff7-f664-43e0-9757-48494b9a992c"
      },
      "source": [
        "# concate the signal and labels\n",
        "all_signal_concat_test = np.concatenate((all_signal_list_test))\n",
        "all_label_concat_test = np.concatenate((all_label_list_test))\n",
        "\n",
        "# unique values\n",
        "print(np.unique(all_label_concat_test, return_counts=True))\n",
        "\n",
        "# print out shapes as these should be equal\n",
        "print(f\"\\nSignal Shape {all_signal_concat_test.shape}\")\n",
        "print(f\"Label Shape {all_label_concat_test.shape}\")\n",
        "\n",
        "#finally convert labels to dummy variables as this is more favourable in deep learning \n",
        "\n",
        "# convert to dummy category\n",
        "all_label_concat_test_dum = pd.get_dummies(all_label_concat_test)\n",
        "\n",
        "print(f'\\nDummy labels Shape {all_label_concat_test_dum.shape}')"
      ],
      "execution_count": null,
      "outputs": [
        {
          "output_type": "stream",
          "text": [
            "(array(['Go', 'Turn 1', 'Turn 2', 'Walk 1', 'Walk 2', 'sit'], dtype='<U6'), array([1001, 5238, 4833, 2121, 2929, 1818]))\n",
            "\n",
            "Signal Shape (17940, 10, 9)\n",
            "Label Shape (17940,)\n",
            "\n",
            "Dummy labels Shape (17940, 6)\n"
          ],
          "name": "stdout"
        }
      ]
    },
    {
      "cell_type": "markdown",
      "metadata": {
        "id": "HQnmoCYwVMxv"
      },
      "source": [
        "-------------------------"
      ]
    },
    {
      "cell_type": "code",
      "metadata": {
        "id": "sKp629ysdVMc"
      },
      "source": [
        "# for i in list_of_signals_train[:10]:\n",
        "\n",
        "#   if i in list_of_signals_train[:10]:\n",
        "\n",
        "#     print(\"yes\")"
      ],
      "execution_count": null,
      "outputs": []
    },
    {
      "cell_type": "code",
      "metadata": {
        "id": "MsTiithFVNqD"
      },
      "source": [
        "#Check Train/Test no overlap\n",
        "\n",
        "\n",
        "for i in list_of_signals_train:\n",
        "\n",
        "  if i in list_of_signals_test:\n",
        "    print(\"Leak\")\n"
      ],
      "execution_count": null,
      "outputs": []
    },
    {
      "cell_type": "markdown",
      "metadata": {
        "id": "-X7OgdfwIHcy"
      },
      "source": [
        "# DataFrame to balance out labels \n",
        "\n",
        "----------------"
      ]
    },
    {
      "cell_type": "code",
      "metadata": {
        "id": "B_C-aIjAIGvB"
      },
      "source": [
        "# df = pd.DataFrame()\n",
        "\n",
        "# df['Label'] = all_label_concat\n",
        "\n",
        "# df['Index_num'] = df.index"
      ],
      "execution_count": null,
      "outputs": []
    },
    {
      "cell_type": "code",
      "metadata": {
        "id": "HFeIjqySMe7W"
      },
      "source": [
        "#df.head()"
      ],
      "execution_count": null,
      "outputs": []
    },
    {
      "cell_type": "code",
      "metadata": {
        "id": "5qUCUEfUL4_j"
      },
      "source": [
        "# val_counts = df['Label'].value_counts()\n",
        "# min_val_count = val_counts.min()\n",
        "\n",
        "# new_df = df.groupby('Label').apply(lambda x: x.sample(min_val_count))"
      ],
      "execution_count": null,
      "outputs": []
    },
    {
      "cell_type": "code",
      "metadata": {
        "id": "nRPkIAdaMJgA"
      },
      "source": [
        "# new_df['Label'].value_counts()"
      ],
      "execution_count": null,
      "outputs": []
    },
    {
      "cell_type": "code",
      "metadata": {
        "id": "B-GF-rpRMPy4"
      },
      "source": [
        "# mask = new_df['Index_num'].values"
      ],
      "execution_count": null,
      "outputs": []
    },
    {
      "cell_type": "code",
      "metadata": {
        "id": "oq40C1IWMxm8"
      },
      "source": [
        "# ss = all_signal_concat[mask]\n",
        "\n",
        "# ls = all_label_concat[mask]"
      ],
      "execution_count": null,
      "outputs": []
    },
    {
      "cell_type": "code",
      "metadata": {
        "id": "N168dn6gYDh7"
      },
      "source": [
        "# # convert to dummy category\n",
        "# ls_dum = pd.get_dummies(ls)"
      ],
      "execution_count": null,
      "outputs": []
    },
    {
      "cell_type": "markdown",
      "metadata": {
        "id": "mqIMMXsQR9ks"
      },
      "source": [
        "# Split Train Test "
      ]
    },
    {
      "cell_type": "code",
      "metadata": {
        "colab": {
          "base_uri": "https://localhost:8080/"
        },
        "id": "RA6xJ_Z2lg_0",
        "outputId": "b51b7f53-0ea5-40e9-d70a-db7a497cd0c3"
      },
      "source": [
        "# All Features 3 Axis 3 Features Accel , Mag , Gyro \n",
        "\n",
        "all_signal_concat_train.shape"
      ],
      "execution_count": null,
      "outputs": [
        {
          "output_type": "execute_result",
          "data": {
            "text/plain": [
              "(123935, 10, 9)"
            ]
          },
          "metadata": {
            "tags": []
          },
          "execution_count": 14
        }
      ]
    },
    {
      "cell_type": "code",
      "metadata": {
        "colab": {
          "base_uri": "https://localhost:8080/"
        },
        "id": "1iqtuCJHllZl",
        "outputId": "c501739d-24ac-49ff-8d63-dbb6e909bb42"
      },
      "source": [
        "# This is only Accel, features are in following shape  -  X Acc  Y Acc  Z Acc  X Mag  Y Mag Z Mag  X Gyro  Y Gyro Z Gyro\n",
        "\n",
        "all_signal_concat_train[:,:,0:3].shape"
      ],
      "execution_count": null,
      "outputs": [
        {
          "output_type": "execute_result",
          "data": {
            "text/plain": [
              "(123935, 10, 3)"
            ]
          },
          "metadata": {
            "tags": []
          },
          "execution_count": 15
        }
      ]
    },
    {
      "cell_type": "code",
      "metadata": {
        "id": "xRnTisaSR_kp"
      },
      "source": [
        "#X_train, X_test, y_train, y_test = train_test_split(all_signal_concat, all_label_concat_dum, test_size=0.25, random_state=RANDOM_SEED , stratify = all_label_concat_dum)"
      ],
      "execution_count": null,
      "outputs": []
    },
    {
      "cell_type": "code",
      "metadata": {
        "id": "huBp_r8dNjv7"
      },
      "source": [
        "#X_train, X_test, y_train, y_test = train_test_split(ss, ls_dum, test_size=0.25, random_state=RANDOM_SEED , stratify = ls_dum)"
      ],
      "execution_count": null,
      "outputs": []
    },
    {
      "cell_type": "code",
      "metadata": {
        "id": "a4a4RW6JTmSk"
      },
      "source": [
        "X_train , X_test = all_signal_concat_train , all_signal_concat_test\n",
        "y_train , y_test = all_label_concat_train_dum , all_label_concat_test_dum"
      ],
      "execution_count": null,
      "outputs": []
    },
    {
      "cell_type": "code",
      "metadata": {
        "colab": {
          "base_uri": "https://localhost:8080/"
        },
        "id": "z3D7jMKvSMlZ",
        "outputId": "9617669c-060c-4d96-cb8e-6621ffcf7afd"
      },
      "source": [
        "# print out length \n",
        "print(\"Train Size:\" ,len(X_train))\n",
        "print(\"Test Size:\" ,len(X_test))"
      ],
      "execution_count": null,
      "outputs": [
        {
          "output_type": "stream",
          "text": [
            "Train Size: 123935\n",
            "Test Size: 17940\n"
          ],
          "name": "stdout"
        }
      ]
    },
    {
      "cell_type": "markdown",
      "metadata": {
        "id": "tXdqd1PDXeE6"
      },
      "source": [
        "-----------------------------\n",
        "\n",
        "Plain LSTM "
      ]
    },
    {
      "cell_type": "markdown",
      "metadata": {
        "id": "WXNvrnDQaTDp"
      },
      "source": [
        "https://machinelearningmastery.com/how-to-develop-rnn-models-for-human-activity-recognition-time-series-classification/"
      ]
    },
    {
      "cell_type": "code",
      "metadata": {
        "id": "_I0C1WLmaWXo"
      },
      "source": [
        "# lstm model\n",
        "from numpy import mean\n",
        "from numpy import std\n",
        "from numpy import dstack\n",
        "from pandas import read_csv\n",
        "from keras.models import Sequential\n",
        "from keras.layers import Dense\n",
        "from keras.layers import Flatten\n",
        "from keras.layers import Dropout\n",
        "from keras.layers import LSTM\n",
        "from keras.layers import TimeDistributed\n",
        "from matplotlib import pyplot\n",
        "\n",
        "from keras.optimizers import Adam"
      ],
      "execution_count": null,
      "outputs": []
    },
    {
      "cell_type": "markdown",
      "metadata": {
        "id": "EvFUCbu4-Oe7"
      },
      "source": [
        "-------------------------------"
      ]
    },
    {
      "cell_type": "markdown",
      "metadata": {
        "id": "jRfPtPhbBhVi"
      },
      "source": [
        "# Define Model"
      ]
    },
    {
      "cell_type": "code",
      "metadata": {
        "id": "zoErRxn6IeOi"
      },
      "source": [
        "import time\n",
        "import tensorflow as tf"
      ],
      "execution_count": null,
      "outputs": []
    },
    {
      "cell_type": "code",
      "metadata": {
        "id": "S_GdiDklvlJU"
      },
      "source": [
        "n_timesteps, n_features, n_outputs = X_train.shape[1] , X_train.shape[2] , y_train.shape[1]\n",
        "\n",
        "# set up model\n",
        "model = Sequential()\n",
        "\n",
        "#input layer\n",
        "model.add(LSTM(100, input_shape=(n_timesteps,n_features)))\n",
        "\n",
        "# hidden layers\n",
        "model.add(Dense(100, activation='relu'))\n",
        "model.add(Dropout(0.4))\n",
        "model.add(Dense(50, activation='relu'))\n",
        "# model.add(Dropout(0.4))\n",
        "# model.add(Dense(100, activation='relu'))\n",
        "\n",
        "# output layer\n",
        "model.add(Dense(n_outputs, activation='softmax'))\n",
        "\n",
        "# compile model\n",
        "model.compile(loss='categorical_crossentropy', optimizer='adam', metrics=[tf.keras.metrics.CategoricalAccuracy()])"
      ],
      "execution_count": null,
      "outputs": []
    },
    {
      "cell_type": "code",
      "metadata": {
        "id": "csOeYlKAQbgY"
      },
      "source": [
        "n_timesteps, n_features, n_outputs = X_train.shape[1] , X_train.shape[2] , y_train.shape[1]\n",
        "\n",
        "# set up model\n",
        "model = Sequential()\n",
        "\n",
        "#input layer\n",
        "model.add(LSTM(100,return_sequences= True , input_shape=(n_timesteps,n_features)))\n",
        "\n",
        "model.add(LSTM(units=128, dropout=0.05, recurrent_dropout=0.35, return_sequences=True , input_shape=(n_timesteps,n_features)))\n",
        "\n",
        "model.add(LSTM(units=32, dropout=0.05, recurrent_dropout=0.35, return_sequences=False, input_shape=(n_timesteps,n_features)))\n",
        "\n",
        "\n",
        "# output layer\n",
        "model.add(Dense(n_outputs, activation='softmax'))\n",
        "\n",
        "# compile model\n",
        "model.compile(loss='categorical_crossentropy', optimizer='adam', metrics=[tf.keras.metrics.CategoricalAccuracy()])"
      ],
      "execution_count": null,
      "outputs": []
    },
    {
      "cell_type": "markdown",
      "metadata": {
        "id": "C5z61aTZyo9b"
      },
      "source": [
        "----------------------\n",
        "\n",
        "https://stackoverflow.com/questions/40496069/reset-weights-in-keras-layer"
      ]
    },
    {
      "cell_type": "code",
      "metadata": {
        "id": "PoL55nL-yYsX"
      },
      "source": [
        "# save initial weights, so can reload to base weights in later hacker CV\n",
        "model.save_weights('base_model.h5')"
      ],
      "execution_count": null,
      "outputs": []
    },
    {
      "cell_type": "markdown",
      "metadata": {
        "id": "qnYjLuZEDW62"
      },
      "source": [
        "-------------------------------------"
      ]
    },
    {
      "cell_type": "markdown",
      "metadata": {
        "id": "3N1IdVSZrV9X"
      },
      "source": [
        "Optimize \n",
        "\n",
        "https://machinelearningmastery.com/grid-search-hyperparameters-deep-learning-models-python-keras/"
      ]
    },
    {
      "cell_type": "markdown",
      "metadata": {
        "id": "CBB_TbWa9sIl"
      },
      "source": [
        "https://machinelearningmastery.com/how-to-stop-training-deep-neural-networks-at-the-right-time-using-early-stopping/"
      ]
    },
    {
      "cell_type": "markdown",
      "metadata": {
        "id": "9mjd3PWGgdVS"
      },
      "source": [
        "https://stackoverflow.com/questions/48285129/saving-best-model-in-keras"
      ]
    },
    {
      "cell_type": "code",
      "metadata": {
        "id": "kiyl3ohOEvQW"
      },
      "source": [
        "from keras.callbacks import EarlyStopping, ModelCheckpoint\n",
        "\n",
        " \t\n",
        "# patient early stopping\n",
        "#es = EarlyStopping(monitor='val_loss', mode='auto', verbose=1, patience=5 , min_delta=0.05)\n",
        "\n",
        "\n",
        "earlyStopping = EarlyStopping(monitor='val_loss', patience=10, verbose=0, mode='min')\n",
        "mcp_save = ModelCheckpoint('.base_model_wts.hdf5', save_best_only=True, monitor='val_loss', mode='min')"
      ],
      "execution_count": null,
      "outputs": []
    },
    {
      "cell_type": "markdown",
      "metadata": {
        "id": "mLEy9dDL1g41"
      },
      "source": [
        "## Fit Model"
      ]
    },
    {
      "cell_type": "code",
      "metadata": {
        "colab": {
          "base_uri": "https://localhost:8080/"
        },
        "id": "JVkSAFQE8A2c",
        "outputId": "08e98b13-e07f-40e2-d51c-147acd93009b"
      },
      "source": [
        "# just for timing model\n",
        "t0 = time.time()\n",
        "\n",
        "# fitting model \n",
        "history = model.fit(X_train, y_train,\n",
        "                    validation_data=(X_test, y_test),\n",
        "                    epochs = 100,\n",
        "                    batch_size=200,\n",
        "                    callbacks=[earlyStopping, mcp_save]\n",
        "                    )\n",
        "\n",
        "\n",
        "t1 = time.time()\n",
        "\n",
        "total = t1-t0\n",
        "\n",
        "print(f'Time Taken: {total}')"
      ],
      "execution_count": null,
      "outputs": [
        {
          "output_type": "stream",
          "text": [
            "Epoch 1/100\n",
            "620/620 [==============================] - 92s 148ms/step - loss: 0.6743 - categorical_accuracy: 0.6392 - val_loss: 1.0222 - val_categorical_accuracy: 0.6422\n",
            "Epoch 2/100\n",
            "620/620 [==============================] - 92s 148ms/step - loss: 0.6564 - categorical_accuracy: 0.6450 - val_loss: 1.0392 - val_categorical_accuracy: 0.6478\n",
            "Epoch 3/100\n",
            "620/620 [==============================] - 102s 165ms/step - loss: 0.6395 - categorical_accuracy: 0.6505 - val_loss: 1.0234 - val_categorical_accuracy: 0.6531\n",
            "Epoch 4/100\n",
            "620/620 [==============================] - 102s 165ms/step - loss: 0.6209 - categorical_accuracy: 0.6557 - val_loss: 1.0242 - val_categorical_accuracy: 0.6582\n",
            "Epoch 5/100\n",
            "620/620 [==============================] - 102s 165ms/step - loss: 0.6074 - categorical_accuracy: 0.6607 - val_loss: 1.0302 - val_categorical_accuracy: 0.6630\n",
            "Epoch 6/100\n",
            "620/620 [==============================] - 102s 165ms/step - loss: 0.5904 - categorical_accuracy: 0.6654 - val_loss: 1.0459 - val_categorical_accuracy: 0.6675\n",
            "Epoch 7/100\n",
            "620/620 [==============================] - 102s 165ms/step - loss: 0.5823 - categorical_accuracy: 0.6697 - val_loss: 1.0643 - val_categorical_accuracy: 0.6718\n",
            "Epoch 8/100\n",
            "620/620 [==============================] - 103s 166ms/step - loss: 0.5663 - categorical_accuracy: 0.6739 - val_loss: 1.0891 - val_categorical_accuracy: 0.6759\n",
            "Epoch 9/100\n",
            "620/620 [==============================] - 102s 165ms/step - loss: 0.5553 - categorical_accuracy: 0.6779 - val_loss: 1.0708 - val_categorical_accuracy: 0.6799\n",
            "Epoch 10/100\n",
            "620/620 [==============================] - 102s 164ms/step - loss: 0.5412 - categorical_accuracy: 0.6819 - val_loss: 1.0850 - val_categorical_accuracy: 0.6837\n",
            "Epoch 11/100\n",
            "620/620 [==============================] - 101s 163ms/step - loss: 0.5337 - categorical_accuracy: 0.6856 - val_loss: 1.1034 - val_categorical_accuracy: 0.6874\n",
            "Time Taken: 1103.6034014225006\n"
          ],
          "name": "stdout"
        }
      ]
    },
    {
      "cell_type": "code",
      "metadata": {
        "id": "3lTZXCf1g9t_"
      },
      "source": [
        "# model.save_weights(filepath = '.base_model_wts.hdf5')\n",
        "\n",
        "# files.download('.base_model_wts.hdf5')"
      ],
      "execution_count": null,
      "outputs": []
    },
    {
      "cell_type": "markdown",
      "metadata": {
        "id": "9N5dd-Q01i4A"
      },
      "source": [
        "----------------------------\n",
        "\n",
        "# Learning Curves\n",
        "\n",
        "https://vitalflux.com/python-keras-learning-validation-curve-classification-model/"
      ]
    },
    {
      "cell_type": "code",
      "metadata": {
        "colab": {
          "base_uri": "https://localhost:8080/",
          "height": 441
        },
        "id": "X3NGPoQL1pU8",
        "outputId": "dc57290e-a452-4593-c871-a998718fae4b"
      },
      "source": [
        "history_dict = history.history\n",
        "loss_values = history_dict['loss']\n",
        "val_loss_values = history_dict['val_loss']\n",
        "accuracy = history_dict['categorical_accuracy']\n",
        "val_accuracy = history_dict['val_categorical_accuracy']\n",
        " \n",
        "epochs = range(1, len(loss_values) + 1)\n",
        "fig, ax = plt.subplots(1, 2, figsize=(14, 6))\n",
        "#\n",
        "# Plot the model accuracy vs Epochs\n",
        "#\n",
        "ax[0].plot(epochs, accuracy, 'r', label='Training accuracy')\n",
        "ax[0].plot(epochs, val_accuracy, 'b', label='Validation accuracy')\n",
        "ax[0].set_title('Training & Validation Accuracy', fontsize=16)\n",
        "ax[0].set_xlabel('Epochs', fontsize=16)\n",
        "ax[0].set_ylabel('Accuracy', fontsize=16)\n",
        "ax[0].legend()\n",
        "#\n",
        "# Plot the loss vs Epochs\n",
        "#\n",
        "ax[1].plot(epochs, loss_values, 'r', label='Training loss')\n",
        "ax[1].plot(epochs, val_loss_values, 'b', label='Validation loss')\n",
        "ax[1].set_title('Training & Validation Loss', fontsize=16)\n",
        "ax[1].set_xlabel('Epochs', fontsize=16)\n",
        "ax[1].set_ylabel('Loss', fontsize=16)\n",
        "ax[1].legend()"
      ],
      "execution_count": null,
      "outputs": [
        {
          "output_type": "execute_result",
          "data": {
            "text/plain": [
              "<matplotlib.legend.Legend at 0x7f719aca35d0>"
            ]
          },
          "metadata": {
            "tags": []
          },
          "execution_count": 45
        },
        {
          "output_type": "display_data",
          "data": {
            "image/png": "[encoded data removed]",
            "text/plain": [
              "<Figure size 1008x432 with 2 Axes>"
            ]
          },
          "metadata": {
            "tags": []
          }
        }
      ]
    },
    {
      "cell_type": "markdown",
      "metadata": {
        "id": "y-9luGZA6S4o"
      },
      "source": [
        "-----------\n",
        "# Classification Reports "
      ]
    },
    {
      "cell_type": "markdown",
      "metadata": {
        "id": "OI5PTbCb6MJW"
      },
      "source": [
        "Make Predicitions"
      ]
    },
    {
      "cell_type": "code",
      "metadata": {
        "id": "0pZrUb3e9SSH"
      },
      "source": [
        "# For Confusion matrix & Classification Report \n",
        "\n",
        "y_preds = model.predict(X_test)\n",
        "max_predictions = np.argmax(y_preds, axis=1)\n",
        "\n",
        "max_test = np.argmax(np.asarray(y_test), axis=1)\n",
        "\n",
        "##################\n",
        "\n",
        "\n",
        "y_preds_t = model.predict(X_train)\n",
        "\n",
        "max_predictions_t = np.argmax(y_preds_t, axis=1)\n",
        "max_train = np.argmax(np.asarray(y_train), axis=1)\n"
      ],
      "execution_count": null,
      "outputs": []
    },
    {
      "cell_type": "markdown",
      "metadata": {
        "id": "ocbl1VTVaZXO"
      },
      "source": [
        "# Metrics "
      ]
    },
    {
      "cell_type": "markdown",
      "metadata": {
        "id": "LGPfaIQna1qB"
      },
      "source": [
        "Test"
      ]
    },
    {
      "cell_type": "code",
      "metadata": {
        "colab": {
          "base_uri": "https://localhost:8080/"
        },
        "id": "63JnyIrJaai2",
        "outputId": "e610a793-ac47-4238-8db0-410706c23fbc"
      },
      "source": [
        "from sklearn.metrics import accuracy_score\n",
        "from sklearn.metrics import balanced_accuracy_score, precision_score , recall_score\n",
        "from sklearn.metrics import f1_score\n",
        "\n",
        "print(\"Test Accuracy : \\t\\t\" ,accuracy_score(max_test, max_predictions))\n",
        "print(\"Test Balanced Accuracy : \\t\" , balanced_accuracy_score(max_test, max_predictions))\n",
        "print(\"Test F1 Score : \\t\\t\" , f1_score(max_test, max_predictions , average='weighted'))\n",
        "print(\"Test Precision Score : \\t\\t\" , precision_score(max_test, max_predictions , average='weighted'))\n",
        "print(\"Test Recall Score : \\t\\t\" , recall_score(max_test, max_predictions , average='weighted'))"
      ],
      "execution_count": null,
      "outputs": [
        {
          "output_type": "stream",
          "text": [
            "Test Accuracy : \t\t 0.6481047937569677\n",
            "Test Balanced Accuracy : \t 0.5892172464737234\n",
            "Test F1 Score : \t\t 0.644016109771195\n",
            "Test Precision Score : \t\t 0.643661718080033\n",
            "Test Recall Score : \t\t 0.6481047937569677\n"
          ],
          "name": "stdout"
        }
      ]
    },
    {
      "cell_type": "markdown",
      "metadata": {
        "id": "1EjHZjy0a2vF"
      },
      "source": [
        "Train"
      ]
    },
    {
      "cell_type": "code",
      "metadata": {
        "colab": {
          "base_uri": "https://localhost:8080/"
        },
        "id": "J6DnA8cfa_wz",
        "outputId": "45cf8c6d-b303-4461-bd67-a76ee34157d4"
      },
      "source": [
        "print(\"Train Accuracy : \\t\\t\" ,accuracy_score(max_train, max_predictions_t))\n",
        "print(\"Train Balanced Accuracy : \\t\" , balanced_accuracy_score(max_train, max_predictions_t))\n",
        "print(\"Train F1 Score : \\t\\t\" , f1_score(max_train, max_predictions_t, average='weighted'))\n",
        "print(\"Test Precision Score : \\t\\t\" , precision_score(max_train, max_predictions_t , average='weighted'))\n",
        "print(\"Test Recall Score : \\t\\t\" , recall_score(max_train, max_predictions_t , average='weighted'))"
      ],
      "execution_count": null,
      "outputs": [
        {
          "output_type": "stream",
          "text": [
            "Train Accuracy : \t\t 0.832218501633921\n",
            "Train Balanced Accuracy : \t 0.8176490783430422\n",
            "Train F1 Score : \t\t 0.8314533755888415\n",
            "Test Precision Score : \t\t 0.8318841592646218\n",
            "Test Recall Score : \t\t 0.832218501633921\n"
          ],
          "name": "stdout"
        }
      ]
    },
    {
      "cell_type": "markdown",
      "metadata": {
        "id": "R2LpL8jl3WE1"
      },
      "source": [
        "Imports "
      ]
    },
    {
      "cell_type": "code",
      "metadata": {
        "id": "H9cJEhcm7Hcv"
      },
      "source": [
        "from sklearn.metrics import classification_report\n",
        "from sklearn.metrics import confusion_matrix\n",
        "\n",
        "# set up labels \n",
        "LABELS = ['Go', 'Turn1',  'Turn2' , 'Walk1', 'Walk2', 'Sit']\n"
      ],
      "execution_count": null,
      "outputs": []
    },
    {
      "cell_type": "markdown",
      "metadata": {
        "id": "9VPW38Ol13r7"
      },
      "source": [
        "# Test Set "
      ]
    },
    {
      "cell_type": "code",
      "metadata": {
        "colab": {
          "base_uri": "https://localhost:8080/"
        },
        "id": "Cmqio-IFxVKT",
        "outputId": "768a11ec-6b47-4837-c738-fb8f6a98b988"
      },
      "source": [
        "print(classification_report(max_test, max_predictions , target_names=LABELS))\n"
      ],
      "execution_count": null,
      "outputs": [
        {
          "output_type": "stream",
          "text": [
            "              precision    recall  f1-score   support\n",
            "\n",
            "          Go       0.69      0.35      0.46      1001\n",
            "       Turn1       0.63      0.79      0.70      5238\n",
            "       Turn2       0.67      0.71      0.69      4833\n",
            "       Walk1       0.54      0.39      0.46      2121\n",
            "       Walk2       0.55      0.47      0.51      2929\n",
            "         Sit       0.55      0.52      0.54      1818\n",
            "\n",
            "    accuracy                           0.62     17940\n",
            "   macro avg       0.61      0.54      0.56     17940\n",
            "weighted avg       0.61      0.62      0.61     17940\n",
            "\n"
          ],
          "name": "stdout"
        }
      ]
    },
    {
      "cell_type": "markdown",
      "metadata": {
        "id": "EmAM0Jp115kv"
      },
      "source": [
        "# Train Set "
      ]
    },
    {
      "cell_type": "code",
      "metadata": {
        "colab": {
          "base_uri": "https://localhost:8080/"
        },
        "id": "hLpbBnmV11_2",
        "outputId": "679ac4f4-8f07-4b41-c500-d7df0471d55a"
      },
      "source": [
        "print(classification_report(max_train, max_predictions_t , target_names=LABELS))"
      ],
      "execution_count": null,
      "outputs": [
        {
          "output_type": "stream",
          "text": [
            "              precision    recall  f1-score   support\n",
            "\n",
            "          Go       0.87      0.63      0.73      6789\n",
            "       Turn1       0.70      0.86      0.77     35465\n",
            "       Turn2       0.73      0.78      0.76     33112\n",
            "       Walk1       0.68      0.50      0.57     15533\n",
            "       Walk2       0.67      0.56      0.61     20273\n",
            "         Sit       0.71      0.65      0.68     12763\n",
            "\n",
            "    accuracy                           0.71    123935\n",
            "   macro avg       0.73      0.66      0.69    123935\n",
            "weighted avg       0.71      0.71      0.71    123935\n",
            "\n"
          ],
          "name": "stdout"
        }
      ]
    },
    {
      "cell_type": "markdown",
      "metadata": {
        "id": "vGyuwOAC3RTT"
      },
      "source": [
        "--------------------\n",
        "\n",
        "# Confusion Matrix "
      ]
    },
    {
      "cell_type": "code",
      "metadata": {
        "id": "t3I2gx2Z_BGG"
      },
      "source": [
        "confusion_matrix = metrics.confusion_matrix(max_test, max_predictions )\n",
        "\n",
        "confusion_matrix_t = metrics.confusion_matrix(max_train, max_predictions_t )"
      ],
      "execution_count": null,
      "outputs": []
    },
    {
      "cell_type": "code",
      "metadata": {
        "colab": {
          "base_uri": "https://localhost:8080/",
          "height": 644
        },
        "id": "qU1i78_3_m23",
        "outputId": "7a548cd4-c8ef-4567-9297-63189712e56f"
      },
      "source": [
        "plt.figure(figsize=(14, 10))\n",
        "sns.heatmap(confusion_matrix, xticklabels=LABELS, yticklabels=LABELS, annot=True , fmt=\"d\");\n",
        "plt.title(\"Test Data Confusion matrix\")\n",
        "plt.ylabel('True label')\n",
        "plt.xlabel('Predicted label')\n",
        "plt.show();"
      ],
      "execution_count": null,
      "outputs": [
        {
          "output_type": "display_data",
          "data": {
            "image/png": "[encoded data removed]",
            "text/plain": [
              "<Figure size 1008x720 with 2 Axes>"
            ]
          },
          "metadata": {
            "tags": [],
            "needs_background": "light"
          }
        }
      ]
    },
    {
      "cell_type": "code",
      "metadata": {
        "colab": {
          "base_uri": "https://localhost:8080/",
          "height": 644
        },
        "id": "u31mjLP2Dxwp",
        "outputId": "2ed3dc74-e425-4509-afa3-51fae42cf819"
      },
      "source": [
        "plt.figure(figsize=(14, 10))\n",
        "sns.heatmap(confusion_matrix_t, xticklabels=LABELS, yticklabels=LABELS, annot=True, fmt=\"d\");\n",
        "plt.title(\"Train Confusion matrix\")\n",
        "plt.ylabel('True label')\n",
        "plt.xlabel('Predicted label')\n",
        "plt.show();"
      ],
      "execution_count": null,
      "outputs": [
        {
          "output_type": "display_data",
          "data": {
            "image/png": "[encoded data removed]",
            "text/plain": [
              "<Figure size 1008x720 with 2 Axes>"
            ]
          },
          "metadata": {
            "tags": [],
            "needs_background": "light"
          }
        }
      ]
    },
    {
      "cell_type": "markdown",
      "metadata": {
        "id": "ll9CM1mBzBl6"
      },
      "source": [
        "----------------------------------------------------------"
      ]
    },
    {
      "cell_type": "code",
      "metadata": {
        "id": "o3lPlN2Ypxkh"
      },
      "source": [
        "# import random\n",
        "\n",
        "\n",
        "# random.seed(4)\n",
        "# rands = random.sample(range(100), 3)\n",
        "\n",
        "# # hacker man CV - using train test split with different seeds\n",
        "\n",
        "# # just a counter\n",
        "# run_num = 0 \n",
        "\n",
        "# for random_num in rands: \n",
        "\n",
        "#   print(f'\\n----------------------- Run: {run_num} ---------------------------------------------')\n",
        "\n",
        "#   # reset base weights to prevent any leak between train & test\n",
        "#   model.load_weights('base_model.h5')\n",
        "\n",
        "#   # this will give different splits each time since different random seed \n",
        "#   X_train, X_test, y_train, y_test = train_test_split(all_signal_concat, all_label_concat_dum, test_size=0.25, random_state= random_num , stratify = all_label_concat_dum)\n",
        "\n",
        "   \t\n",
        "#   # patient early stopping\n",
        "#   es = EarlyStopping(monitor='val_accuracy', mode='auto', verbose=1, patience=5 , min_delta=0.1)\n",
        "\n",
        "#   ### Train Model ###\n",
        "\n",
        "#   # just for timing model\n",
        "#   t0 = time.time()\n",
        "\n",
        "#   # fitting model \n",
        "#   history = model.fit(X_train, y_train,\n",
        "#                       validation_data=(X_test, y_test),\n",
        "#                       epochs=30,\n",
        "#                       batch_size=20, verbose = 0\n",
        "#                       )\n",
        "  \n",
        "#   t1 = time.time()\n",
        "#   total = t1-t0\n",
        "#   print(f'Time Taken: {total}')\n",
        "\n",
        "#   ########################## Output Metrics ############################################\n",
        "\n",
        "#   # Learning Curves \n",
        "#   history_dict = history.history\n",
        "#   loss_values = history_dict['loss']\n",
        "#   val_loss_values = history_dict['val_loss']\n",
        "#   accuracy = history_dict['accuracy']\n",
        "#   val_accuracy = history_dict['val_accuracy']\n",
        "  \n",
        "#   epochs = range(1, len(loss_values) + 1)\n",
        "#   fig, ax = plt.subplots(1, 2, figsize=(14, 6))\n",
        "#   #\n",
        "#   # Plot the model accuracy vs Epochs\n",
        "#   #\n",
        "#   ax[0].plot(epochs, accuracy, 'r', label='Training accuracy')\n",
        "#   ax[0].plot(epochs, val_accuracy, 'b', label='Validation accuracy')\n",
        "#   ax[0].set_title('Training & Validation Accuracy', fontsize=16)\n",
        "#   ax[0].set_xlabel('Epochs', fontsize=16)\n",
        "#   ax[0].set_ylabel('Accuracy', fontsize=16)\n",
        "#   ax[0].legend()\n",
        "#   #\n",
        "#   # Plot the loss vs Epochs\n",
        "#   #\n",
        "#   ax[1].plot(epochs, loss_values, 'r', label='Training loss')\n",
        "#   ax[1].plot(epochs, val_loss_values, 'b', label='Validation loss')\n",
        "#   ax[1].set_title('Training & Validation Loss', fontsize=16)\n",
        "#   ax[1].set_xlabel('Epochs', fontsize=16)\n",
        "#   ax[1].set_ylabel('Loss', fontsize=16)\n",
        "#   ax[1].legend()\n",
        "\n",
        "\n",
        "#   # For Confusion matrix & Classification Report \n",
        "\n",
        "#   # predict test data \n",
        "\n",
        "#   y_preds = model.predict(X_test)\n",
        "#   max_predictions = np.argmax(y_preds, axis=1)\n",
        "\n",
        "#   max_test = np.argmax(np.asarray(y_test), axis=1)\n",
        "\n",
        "#   ##################\n",
        "\n",
        "#   # predict train data \n",
        "#   y_preds_t = model.predict(X_train)\n",
        "\n",
        "#   max_predictions_t = np.argmax(y_preds_t, axis=1)\n",
        "#   max_train = np.argmax(np.asarray(y_train), axis=1)\n",
        "\n",
        "\n",
        "#   print(\"\\nTest Data Report\\n\")\n",
        "#   print(classification_report(max_test, max_predictions , target_names=LABELS))\n",
        "\n",
        "#   print(\"\\nTrain Data Report\\n\")\n",
        "#   print(classification_report(max_train, max_predictions_t , target_names=LABELS))\n",
        "\n",
        "\n",
        "\n",
        "#   # user input to interrupt each run so can look \n",
        "\n",
        "#   #val = input(\"Press Anything to proceed: \")\n",
        "\n",
        "\n",
        "#   # increment run_num\n",
        "#   run_num += 1\n",
        "\n",
        "\n",
        "\n",
        "\n",
        "\n",
        "\n",
        "\n",
        "\n",
        "\n"
      ],
      "execution_count": null,
      "outputs": []
    },
    {
      "cell_type": "markdown",
      "metadata": {
        "id": "WUxiYNoIxMVb"
      },
      "source": [
        "------------------------------"
      ]
    },
    {
      "cell_type": "code",
      "metadata": {
        "colab": {
          "resources": {
            "http://localhost:8080/nbextensions/google.colab/files.js": {
              "data": "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",
              "ok": true,
              "headers": [
                [
                  "content-type",
                  "application/javascript"
                ]
              ],
              "status": 200,
              "status_text": "OK"
            }
          },
          "base_uri": "https://localhost:8080/",
          "height": 388
        },
        "id": "uF0sQzFHnl_g",
        "outputId": "8db88a40-1b68-4f1d-870b-fcbce0538ede"
      },
      "source": [
        "# Read in Fresh Data to see what predictions looks like\n",
        "from google.colab import files\n",
        "uploaded_signal_test = files.upload()"
      ],
      "execution_count": null,
      "outputs": [
        {
          "output_type": "display_data",
          "data": {
            "text/html": [
              "\n",
              "     <input type=\"file\" id=\"files-844f3806-f43b-4b95-8c85-fbc418b04391\" name=\"files[]\" multiple disabled\n",
              "        style=\"border:none\" />\n",
              "     <output id=\"result-844f3806-f43b-4b95-8c85-fbc418b04391\">\n",
              "      Upload widget is only available when the cell has been executed in the\n",
              "      current browser session. Please rerun this cell to enable.\n",
              "      </output>\n",
              "      <script src=\"/nbextensions/google.colab/files.js\"></script> "
            ],
            "text/plain": [
              "<IPython.core.display.HTML object>"
            ]
          },
          "metadata": {
            "tags": []
          }
        },
        {
          "output_type": "error",
          "ename": "KeyboardInterrupt",
          "evalue": "ignored",
          "traceback": [
            "\u001b[0;31m---------------------------------------------------------------------------\u001b[0m",
            "\u001b[0;31mKeyboardInterrupt\u001b[0m                         Traceback (most recent call last)",
            "\u001b[0;32m<ipython-input-46-1f9b97b6b56b>\u001b[0m in \u001b[0;36m<module>\u001b[0;34m()\u001b[0m\n\u001b[1;32m      1\u001b[0m \u001b[0;31m# Read in Fresh Data to see what predictions looks like\u001b[0m\u001b[0;34m\u001b[0m\u001b[0;34m\u001b[0m\u001b[0;34m\u001b[0m\u001b[0m\n\u001b[1;32m      2\u001b[0m \u001b[0;32mfrom\u001b[0m \u001b[0mgoogle\u001b[0m\u001b[0;34m.\u001b[0m\u001b[0mcolab\u001b[0m \u001b[0;32mimport\u001b[0m \u001b[0mfiles\u001b[0m\u001b[0;34m\u001b[0m\u001b[0;34m\u001b[0m\u001b[0m\n\u001b[0;32m----> 3\u001b[0;31m \u001b[0muploaded_signal_test\u001b[0m \u001b[0;34m=\u001b[0m \u001b[0mfiles\u001b[0m\u001b[0;34m.\u001b[0m\u001b[0mupload\u001b[0m\u001b[0;34m(\u001b[0m\u001b[0;34m)\u001b[0m\u001b[0;34m\u001b[0m\u001b[0;34m\u001b[0m\u001b[0m\n\u001b[0m",
            "\u001b[0;32m/usr/local/lib/python3.7/dist-packages/google/colab/files.py\u001b[0m in \u001b[0;36mupload\u001b[0;34m()\u001b[0m\n\u001b[1;32m     62\u001b[0m   result = _output.eval_js(\n\u001b[1;32m     63\u001b[0m       'google.colab._files._uploadFiles(\"{input_id}\", \"{output_id}\")'.format(\n\u001b[0;32m---> 64\u001b[0;31m           input_id=input_id, output_id=output_id))\n\u001b[0m\u001b[1;32m     65\u001b[0m   \u001b[0mfiles\u001b[0m \u001b[0;34m=\u001b[0m \u001b[0m_collections\u001b[0m\u001b[0;34m.\u001b[0m\u001b[0mdefaultdict\u001b[0m\u001b[0;34m(\u001b[0m\u001b[0m_six\u001b[0m\u001b[0;34m.\u001b[0m\u001b[0mbinary_type\u001b[0m\u001b[0;34m)\u001b[0m\u001b[0;34m\u001b[0m\u001b[0;34m\u001b[0m\u001b[0m\n\u001b[1;32m     66\u001b[0m   \u001b[0;31m# Mapping from original filename to filename as saved locally.\u001b[0m\u001b[0;34m\u001b[0m\u001b[0;34m\u001b[0m\u001b[0;34m\u001b[0m\u001b[0m\n",
            "\u001b[0;32m/usr/local/lib/python3.7/dist-packages/google/colab/output/_js.py\u001b[0m in \u001b[0;36meval_js\u001b[0;34m(script, ignore_result, timeout_sec)\u001b[0m\n\u001b[1;32m     38\u001b[0m   \u001b[0;32mif\u001b[0m \u001b[0mignore_result\u001b[0m\u001b[0;34m:\u001b[0m\u001b[0;34m\u001b[0m\u001b[0;34m\u001b[0m\u001b[0m\n\u001b[1;32m     39\u001b[0m     \u001b[0;32mreturn\u001b[0m\u001b[0;34m\u001b[0m\u001b[0;34m\u001b[0m\u001b[0m\n\u001b[0;32m---> 40\u001b[0;31m   \u001b[0;32mreturn\u001b[0m \u001b[0m_message\u001b[0m\u001b[0;34m.\u001b[0m\u001b[0mread_reply_from_input\u001b[0m\u001b[0;34m(\u001b[0m\u001b[0mrequest_id\u001b[0m\u001b[0;34m,\u001b[0m \u001b[0mtimeout_sec\u001b[0m\u001b[0;34m)\u001b[0m\u001b[0;34m\u001b[0m\u001b[0;34m\u001b[0m\u001b[0m\n\u001b[0m\u001b[1;32m     41\u001b[0m \u001b[0;34m\u001b[0m\u001b[0m\n\u001b[1;32m     42\u001b[0m \u001b[0;34m\u001b[0m\u001b[0m\n",
            "\u001b[0;32m/usr/local/lib/python3.7/dist-packages/google/colab/_message.py\u001b[0m in \u001b[0;36mread_reply_from_input\u001b[0;34m(message_id, timeout_sec)\u001b[0m\n\u001b[1;32m     99\u001b[0m     \u001b[0mreply\u001b[0m \u001b[0;34m=\u001b[0m \u001b[0m_read_next_input_message\u001b[0m\u001b[0;34m(\u001b[0m\u001b[0;34m)\u001b[0m\u001b[0;34m\u001b[0m\u001b[0;34m\u001b[0m\u001b[0m\n\u001b[1;32m    100\u001b[0m     \u001b[0;32mif\u001b[0m \u001b[0mreply\u001b[0m \u001b[0;34m==\u001b[0m \u001b[0m_NOT_READY\u001b[0m \u001b[0;32mor\u001b[0m \u001b[0;32mnot\u001b[0m \u001b[0misinstance\u001b[0m\u001b[0;34m(\u001b[0m\u001b[0mreply\u001b[0m\u001b[0;34m,\u001b[0m \u001b[0mdict\u001b[0m\u001b[0;34m)\u001b[0m\u001b[0;34m:\u001b[0m\u001b[0;34m\u001b[0m\u001b[0;34m\u001b[0m\u001b[0m\n\u001b[0;32m--> 101\u001b[0;31m       \u001b[0mtime\u001b[0m\u001b[0;34m.\u001b[0m\u001b[0msleep\u001b[0m\u001b[0;34m(\u001b[0m\u001b[0;36m0.025\u001b[0m\u001b[0;34m)\u001b[0m\u001b[0;34m\u001b[0m\u001b[0;34m\u001b[0m\u001b[0m\n\u001b[0m\u001b[1;32m    102\u001b[0m       \u001b[0;32mcontinue\u001b[0m\u001b[0;34m\u001b[0m\u001b[0;34m\u001b[0m\u001b[0m\n\u001b[1;32m    103\u001b[0m     if (reply.get('type') == 'colab_reply' and\n",
            "\u001b[0;31mKeyboardInterrupt\u001b[0m: "
          ]
        }
      ]
    },
    {
      "cell_type": "code",
      "metadata": {
        "id": "EyuGjt3Anpzu"
      },
      "source": [
        "signal_test = np.load('34_3_Participant_SlideSize_10_Signal_Segments_RJP.npy')"
      ],
      "execution_count": null,
      "outputs": []
    },
    {
      "cell_type": "code",
      "metadata": {
        "id": "iqpWZYklVPvN"
      },
      "source": [
        "# Read in Fresh Data to see what predictions looks like\n",
        "from google.colab import files\n",
        "uploaded_label_test = files.upload()"
      ],
      "execution_count": null,
      "outputs": []
    },
    {
      "cell_type": "code",
      "metadata": {
        "id": "rOaj69eGVSUf"
      },
      "source": [
        "signal_label = np.load('34_3_Participant_SlideSize_10_Labels_Segments_RJP.npy')"
      ],
      "execution_count": null,
      "outputs": []
    },
    {
      "cell_type": "code",
      "metadata": {
        "id": "WS9WRR8VVYhT"
      },
      "source": [
        "yy_test = pd.get_dummies(signal_label)"
      ],
      "execution_count": null,
      "outputs": []
    },
    {
      "cell_type": "code",
      "metadata": {
        "id": "LTNNi2MTVo0A"
      },
      "source": [
        "yy_test"
      ],
      "execution_count": null,
      "outputs": []
    },
    {
      "cell_type": "code",
      "metadata": {
        "id": "51q706jVm5lu"
      },
      "source": [
        "# Sliding window = 10 ->   10 points that are 0.01 seconds each -> this segment covers ( 10 * 0.01 ) = 0.1  seconds   since 50% overlap actually will be midpoints\n",
        "\n",
        "# 0    - 0.1      (label 1)\n",
        "# 0.5  - 1.5      (label 2)\n",
        "# 0.1  - 0.2      (label 3)\n",
        "# 0.15 - 0.25     (label 4)\n",
        "\n",
        "# so use midpoints\n",
        "\n",
        "# 0    - 0.05     (label 1)\n",
        "# 0.05 - 0.1      (label 2)\n",
        "# 0.1  - 0.15     (label 3)\n",
        "# 0.15 - 0.2      (label 4)\n",
        "\n",
        "\n",
        "\n",
        "# which looks like \n",
        "\n",
        "# 0.05 - (label 1)\n",
        "# 0.1  - (label 2)\n",
        "# 0.15 - (label 3)\n",
        "# 0.2  - (label 4)"
      ],
      "execution_count": null,
      "outputs": []
    },
    {
      "cell_type": "code",
      "metadata": {
        "id": "TlffeAAvXwnI"
      },
      "source": [
        "signal_test.shape"
      ],
      "execution_count": null,
      "outputs": []
    },
    {
      "cell_type": "code",
      "metadata": {
        "id": "ha2yhzKxXzNR"
      },
      "source": [
        "yy_test.shape"
      ],
      "execution_count": null,
      "outputs": []
    },
    {
      "cell_type": "code",
      "metadata": {
        "id": "uzEzvwjvo_9p"
      },
      "source": [
        "y_preds = model.predict(signal_test)\n",
        "max_predictions = np.argmax(y_preds, axis=1)\n",
        "\n",
        "#\n",
        "max_testtt = np.argmax(np.asarray(yy_test), axis=1)"
      ],
      "execution_count": null,
      "outputs": []
    },
    {
      "cell_type": "code",
      "metadata": {
        "id": "TAy6o85uVt6j"
      },
      "source": [
        "from sklearn.metrics import accuracy_score\n",
        "from sklearn.metrics import balanced_accuracy_score\n",
        "\n",
        "print(\"85 5 Cali Run Test Accuracy :\\t\\t\" ,accuracy_score(max_testtt, max_predictions))\n",
        "print(\"85 5 Cali Run Test Balanced Accuracy :\\t\" , balanced_accuracy_score(max_testtt, max_predictions))\n",
        "\n",
        "print(\"85 5 Cali Run Test F1 Score :\\t\\t\" , f1_score(max_testtt, max_predictions , average='weighted'))\n",
        "print(\"85 5 Cali Run Test Precision Score :\\t\" , precision_score(max_testtt, max_predictions, average='weighted'))\n",
        "print(\"85 5 Cali Run Test Recall Score :\\t\" , recall_score(max_testtt, max_predictions , average='weighted'))"
      ],
      "execution_count": null,
      "outputs": []
    },
    {
      "cell_type": "markdown",
      "metadata": {
        "id": "z-P6R-j8UDMD"
      },
      "source": [
        "Confusion Matrix"
      ]
    },
    {
      "cell_type": "code",
      "metadata": {
        "id": "7qd1Trt8UFyX"
      },
      "source": [
        "confusion_matrix_out = metrics.confusion_matrix(max_testtt, max_predictions)"
      ],
      "execution_count": null,
      "outputs": []
    },
    {
      "cell_type": "code",
      "metadata": {
        "id": "3yXURCW1UH7E"
      },
      "source": [
        "plt.figure(figsize=(14, 10))\n",
        "sns.heatmap(confusion_matrix_out, xticklabels=LABELS, yticklabels=LABELS, annot=True, fmt=\"d\");\n",
        "plt.title(\"Test Data Confusion matrix\")\n",
        "plt.ylabel('True label')\n",
        "plt.xlabel('Predicted label')\n",
        "plt.show();"
      ],
      "execution_count": null,
      "outputs": []
    },
    {
      "cell_type": "code",
      "metadata": {
        "id": "LOEDYHG9gg3P"
      },
      "source": [
        "print(classification_report(max_testtt, max_predictions , target_names=LABELS))"
      ],
      "execution_count": null,
      "outputs": []
    },
    {
      "cell_type": "code",
      "metadata": {
        "id": "3Okufmm8s8nM"
      },
      "source": [
        "print(y_preds[0])\n",
        "\n",
        "\n",
        "max_predictions[0]"
      ],
      "execution_count": null,
      "outputs": []
    },
    {
      "cell_type": "code",
      "metadata": {
        "id": "DVlnOEBFnEWq"
      },
      "source": [
        "max_predictions[:100]"
      ],
      "execution_count": null,
      "outputs": []
    },
    {
      "cell_type": "markdown",
      "metadata": {
        "id": "T9tqBEx0S_h6"
      },
      "source": [
        "-------------------------------------------------"
      ]
    },
    {
      "cell_type": "code",
      "metadata": {
        "id": "6L38p1vViz9g"
      },
      "source": [
        "# so create 0.05 steps for length of entire array, to be used as time index \n",
        "\n",
        "time_steps = [i for i in np.arange(0.05, len(max_predictions)/(10*2) + 0.05 , 0.05 )]\n",
        "\n",
        "print(len(time_steps))\n",
        "\n",
        "print(len(max_predictions))\n",
        "print(len(y_preds))"
      ],
      "execution_count": null,
      "outputs": []
    },
    {
      "cell_type": "code",
      "metadata": {
        "id": "FOaP54MGk0Q7"
      },
      "source": [
        "time_test  =  pd.to_datetime(time_steps, unit='s')"
      ],
      "execution_count": null,
      "outputs": []
    },
    {
      "cell_type": "code",
      "metadata": {
        "id": "uqMTvs_2m2k2"
      },
      "source": [
        "time_test[:10]"
      ],
      "execution_count": null,
      "outputs": []
    },
    {
      "cell_type": "code",
      "metadata": {
        "id": "LrggBa4yoxoK"
      },
      "source": [
        "# set up df\n",
        "predictions_dataframe = pd.DataFrame()\n",
        "\n",
        "# Add time as index \n",
        "predictions_dataframe['Preds'] = max_predictions\n",
        "predictions_dataframe['Time']  = time_test\n"
      ],
      "execution_count": null,
      "outputs": []
    },
    {
      "cell_type": "code",
      "metadata": {
        "id": "O3IzZIyw94Cl"
      },
      "source": [
        "predictions_dataframe.Preds.value_counts()"
      ],
      "execution_count": null,
      "outputs": []
    },
    {
      "cell_type": "code",
      "metadata": {
        "id": "pTu59GsUq3iJ"
      },
      "source": [
        "# look at 0 \"Go\" Predictions\n",
        "predictions_dataframe[predictions_dataframe['Preds'] == 0 ]"
      ],
      "execution_count": null,
      "outputs": []
    },
    {
      "cell_type": "code",
      "metadata": {
        "id": "Sch2Vnlx9uJ1"
      },
      "source": [
        "# look at 1 \"Turn 1\" Predictions\n",
        "predictions_dataframe[predictions_dataframe['Preds'] == 1 ].head(20)"
      ],
      "execution_count": null,
      "outputs": []
    },
    {
      "cell_type": "code",
      "metadata": {
        "id": "xwMyCc3Q-dUG"
      },
      "source": [
        "# look at 2 , \"Turn 2\" Predictions\n",
        "predictions_dataframe[predictions_dataframe['Preds'] == 2 ].head(20)"
      ],
      "execution_count": null,
      "outputs": []
    },
    {
      "cell_type": "code",
      "metadata": {
        "id": "JiJZI02o-goN"
      },
      "source": [
        "# look at 3 , \"Walk 1\" Predictions\n",
        "predictions_dataframe[predictions_dataframe['Preds'] == 3 ].head(20)"
      ],
      "execution_count": null,
      "outputs": []
    },
    {
      "cell_type": "code",
      "metadata": {
        "id": "3tQUPWF69xlq"
      },
      "source": [
        "# look at 4 , \"Walk 2\" Predictions\n",
        "predictions_dataframe[predictions_dataframe['Preds'] == 4 ].head(20)"
      ],
      "execution_count": null,
      "outputs": []
    },
    {
      "cell_type": "code",
      "metadata": {
        "id": "Pk_n6uKE-txF"
      },
      "source": [
        "# look at 5 , \"Sit\" Predictions\n",
        "predictions_dataframe[predictions_dataframe['Preds'] == 5 ].head(30)"
      ],
      "execution_count": null,
      "outputs": []
    },
    {
      "cell_type": "code",
      "metadata": {
        "id": "8D2-H07Hr-1l"
      },
      "source": [
        "print(predictions_dataframe.head(50))"
      ],
      "execution_count": null,
      "outputs": []
    },
    {
      "cell_type": "markdown",
      "metadata": {
        "id": "npl-RMf8aO0B"
      },
      "source": [
        "---------------------------------------------\n",
        "\n",
        "Attempt to Classify stages \n",
        "\n",
        "- First should always be Go, so this can be hard coded\n",
        "- Last should always be Sit, so this can be hard coded\n",
        "\n",
        "\n",
        "- Going to want to find 4 out of 5/6 in a row as first detection  \n",
        "\n",
        "- Want to find the maximum length of index ID in a row that have same label - this can tell us we are still in the same stage and to filter for next stage after this last index \n",
        "\n",
        "\n",
        "- Once found approx max list indexs,  condition that next longest ID has to big bigger than that index,  as its sequential Go -> Walk 1 -> Turn 1 -> Walk 2 -> Turn 2 -> Sit \n",
        "\n",
        "\n"
      ]
    },
    {
      "cell_type": "code",
      "metadata": {
        "id": "NTVfkWbuaRfI"
      },
      "source": [
        "# Hard Code\n",
        "\n",
        "# Go at beginnning\n",
        "predictions_dataframe.at[0, 'Preds'] = 0\n",
        "\n",
        "# Sit at end ( -1 because of 0 indexing)\n",
        "predictions_dataframe.at[ len(predictions_dataframe)-1 , 'Preds'] = 5"
      ],
      "execution_count": null,
      "outputs": []
    },
    {
      "cell_type": "markdown",
      "metadata": {
        "id": "LYTc_iOpDMMr"
      },
      "source": [
        "\n",
        "----------------------------------------------\n",
        "\n"
      ]
    },
    {
      "cell_type": "markdown",
      "metadata": {
        "id": "6cqTeGQcDPEZ"
      },
      "source": [
        "<br>"
      ]
    },
    {
      "cell_type": "markdown",
      "metadata": {
        "id": "tQqgPB9bii81"
      },
      "source": [
        "\n",
        "\n",
        "Longest Running \n",
        "\n",
        "https://stackoverflow.com/questions/55861000/find-longest-consecutive-sub-array-not-sorted-python"
      ]
    },
    {
      "cell_type": "markdown",
      "metadata": {
        "id": "lvnzhgLvmyBW"
      },
      "source": [
        "# Go \n",
        "\n",
        "----------------------------------"
      ]
    },
    {
      "cell_type": "code",
      "metadata": {
        "id": "bja0zyARmNn2"
      },
      "source": [
        "candidate = []\n",
        "longest = []\n",
        "\n",
        "for i in predictions_dataframe[predictions_dataframe['Preds'] == 0 ].index:\n",
        "    if candidate and candidate[-1] != i - 1:\n",
        "        if len(candidate) > len(longest):\n",
        "            longest = candidate\n",
        "        candidate = []\n",
        "    candidate.append(i)\n",
        "if len(candidate) > len(longest):\n",
        "    longest = candidate\n",
        "\n",
        "\n",
        "longest_go = longest\n",
        "\n",
        "print(longest_go)"
      ],
      "execution_count": null,
      "outputs": []
    },
    {
      "cell_type": "markdown",
      "metadata": {
        "id": "8JTqf2UKly_G"
      },
      "source": [
        "# Walk 1 \n",
        "\n",
        "-------------------------"
      ]
    },
    {
      "cell_type": "markdown",
      "metadata": {
        "id": "CS7oaZf1Dimc"
      },
      "source": [
        "**First Detection**"
      ]
    },
    {
      "cell_type": "code",
      "metadata": {
        "id": "9psiAPyuDb5J"
      },
      "source": [
        "candidate = []\n",
        "longest = []\n",
        "\n",
        "\n",
        "# for each index value in the sliced dataframe\n",
        "for i in predictions_dataframe[predictions_dataframe['Preds'] == 3 ].index:\n",
        "\n",
        "\n",
        "    # if statement so it doesnt go backwards into already classified indexs\n",
        "    #if i > longest_go[-1]:\n",
        "    if i > 0:\n",
        "   \n",
        "\n",
        "      # check the difference between the index, if there are not zero\n",
        "      if candidate and candidate[-1] != i - 1:\n",
        "          if len(candidate) >= 3:\n",
        "\n",
        "            # only interested in first one, so when we get it break for loop\n",
        "            first = candidate\n",
        "            break\n",
        "\n",
        "          # clear candidate and start again\n",
        "          candidate = []\n",
        "\n",
        "      # if avoids if statements above means its a consectitive index so just append    \n",
        "      candidate.append(i)\n",
        "\n",
        "first_walk_1 = first\n",
        "\n",
        "# where on interested in first 3 in a row\n",
        "print(first_walk_1)"
      ],
      "execution_count": null,
      "outputs": []
    },
    {
      "cell_type": "markdown",
      "metadata": {
        "id": "gDCHB3iEDcQg"
      },
      "source": [
        "**Longest in a row**"
      ]
    },
    {
      "cell_type": "code",
      "metadata": {
        "id": "W8RDufkPl06U"
      },
      "source": [
        "candidate = []\n",
        "longest = []\n",
        "\n",
        "print(longest_go[-1])\n",
        "\n",
        "for i in predictions_dataframe[predictions_dataframe['Preds'] == 3 ].index:\n",
        "\n",
        "    # if statement so it doesnt go backwards into already classified indexs\n",
        "    #if i > longest_go[-1]:\n",
        "    if i > 0:\n",
        "\n",
        "      if candidate and candidate[-1] != i - 1:\n",
        "          if len(candidate) > len(longest):\n",
        "              longest = candidate\n",
        "          candidate = []\n",
        "      candidate.append(i)\n",
        "\n",
        "\n",
        "if len(candidate) > len(longest):\n",
        "    longest = candidate\n",
        "\n",
        "\n",
        "longest_walk_1 = longest\n",
        "\n",
        "print(longest_walk_1)"
      ],
      "execution_count": null,
      "outputs": []
    },
    {
      "cell_type": "markdown",
      "metadata": {
        "id": "VL1smEpjjyIn"
      },
      "source": [
        "# Turn 1 \n",
        "\n",
        "------------------------------------------"
      ]
    },
    {
      "cell_type": "markdown",
      "metadata": {
        "id": "q6lT4iMHJQsi"
      },
      "source": [
        "**First Dectection**"
      ]
    },
    {
      "cell_type": "code",
      "metadata": {
        "id": "-mUjasWDJSxA"
      },
      "source": [
        "candidate = []\n",
        "longest = []\n",
        "\n",
        "\n",
        "# for each index value in the sliced dataframe\n",
        "for i in predictions_dataframe[predictions_dataframe['Preds'] == 1 ].index:\n",
        "\n",
        "\n",
        "    # if statement so it doesnt go backwards into already classified indexs\n",
        "    if i > longest_walk_1[-1]:\n",
        "\n",
        "      # check the difference between the index, if there are not zero means no longer consecutive\n",
        "      if candidate and candidate[-1] != i - 1:\n",
        "          if len(candidate) >= 3:\n",
        "\n",
        "            # only interested in first one, so when we get it break for loop\n",
        "            first = candidate\n",
        "            break\n",
        "\n",
        "          # clear candidate and start again\n",
        "          candidate = []\n",
        "\n",
        "      # if avoids if statements above means its a consectitive index so just append    \n",
        "      candidate.append(i)\n",
        "\n",
        "first_turn_1 = first\n",
        "\n",
        "# where on interested in first 3 in a row\n",
        "print(first_turn_1)"
      ],
      "execution_count": null,
      "outputs": []
    },
    {
      "cell_type": "markdown",
      "metadata": {
        "id": "DzR964cSJTSy"
      },
      "source": [
        "**Longest in a row**"
      ]
    },
    {
      "cell_type": "code",
      "metadata": {
        "id": "t8ZTHCo3i4H-"
      },
      "source": [
        "candidate = []\n",
        "longest = []\n",
        "\n",
        "for i in predictions_dataframe[predictions_dataframe['Preds'] == 1 ].index:\n",
        "\n",
        "    if i > longest_walk_1[-1]:\n",
        "\n",
        "      if candidate and candidate[-1] != i - 1:\n",
        "          if len(candidate) > len(longest):\n",
        "              longest = candidate\n",
        "          candidate = []\n",
        "      candidate.append(i)\n",
        "      \n",
        "if len(candidate) > len(longest):\n",
        "    longest = candidate\n",
        "\n",
        "\n",
        "longest_turn_1 = longest\n",
        "\n",
        "print(longest_turn_1)"
      ],
      "execution_count": null,
      "outputs": []
    },
    {
      "cell_type": "markdown",
      "metadata": {
        "id": "sc9eqhGzKyd-"
      },
      "source": [
        "# Walk 2 \n",
        "\n",
        "------------------------------------"
      ]
    },
    {
      "cell_type": "markdown",
      "metadata": {
        "id": "E16SJmLyK0sT"
      },
      "source": [
        "**First Dectection**"
      ]
    },
    {
      "cell_type": "code",
      "metadata": {
        "id": "PqZxZrSkK2ul"
      },
      "source": [
        "candidate = []\n",
        "longest = []\n",
        "\n",
        "\n",
        "# for each index value in the sliced dataframe\n",
        "for i in predictions_dataframe[predictions_dataframe['Preds'] == 4 ].index:\n",
        "\n",
        "\n",
        "    # if statement so it doesnt go backwards into already classified indexs\n",
        "    if i > longest_turn_1[-1]:\n",
        "\n",
        "      # check the difference between the index, if there are not zero means no longer consecutive\n",
        "      if candidate and candidate[-1] != i - 1:\n",
        "          if len(candidate) >= 3:\n",
        "\n",
        "            # only interested in first one, so when we get it break for loop\n",
        "            first = candidate\n",
        "            break\n",
        "\n",
        "          # clear candidate and start again\n",
        "          candidate = []\n",
        "\n",
        "      # if avoids if statements above means its a consectitive index so just append    \n",
        "      candidate.append(i)\n",
        "\n",
        "first_walk_2 = first\n",
        "\n",
        "# where on interested in first 3 in a row\n",
        "print(first_walk_2)"
      ],
      "execution_count": null,
      "outputs": []
    },
    {
      "cell_type": "markdown",
      "metadata": {
        "id": "NNvcDGBwLSGb"
      },
      "source": [
        "**Longest in a run**"
      ]
    },
    {
      "cell_type": "code",
      "metadata": {
        "id": "-_b87-D7LUOA"
      },
      "source": [
        "candidate = []\n",
        "longest = []\n",
        "\n",
        "for i in predictions_dataframe[predictions_dataframe['Preds'] == 4 ].index:\n",
        "\n",
        "    if i > longest_turn_1[-1]:\n",
        "\n",
        "      if candidate and candidate[-1] != i - 1:\n",
        "          if len(candidate) > len(longest):\n",
        "              longest = candidate\n",
        "          candidate = []\n",
        "      candidate.append(i)\n",
        "\n",
        "      \n",
        "if len(candidate) > len(longest):\n",
        "    longest = candidate\n",
        "\n",
        "\n",
        "longest_walk_2 = longest\n",
        "\n",
        "print(longest_walk_2)"
      ],
      "execution_count": null,
      "outputs": []
    },
    {
      "cell_type": "markdown",
      "metadata": {
        "id": "3aqiUOilkG-_"
      },
      "source": [
        "# Turn 2\n",
        "\n",
        "----------------------------------------------------"
      ]
    },
    {
      "cell_type": "markdown",
      "metadata": {
        "id": "zLwaqYfeKgJk"
      },
      "source": [
        "**First Dectection**"
      ]
    },
    {
      "cell_type": "code",
      "metadata": {
        "id": "sV31vqdyKh4S"
      },
      "source": [
        "candidate = []\n",
        "longest = []\n",
        "\n",
        "\n",
        "# for each index value in the sliced dataframe\n",
        "for i in predictions_dataframe[predictions_dataframe['Preds'] == 2 ].index:\n",
        "\n",
        "\n",
        "    # if statement so it doesnt go backwards into already classified indexs\n",
        "    if i > longest_walk_2[-1]:\n",
        "    \n",
        "    \n",
        "      # check the difference between the index, if there are not zero means no longer consecutive\n",
        "      if candidate and candidate[-1] != i - 1:\n",
        "          if len(candidate) >= 3:\n",
        "\n",
        "            # only interested in first one, so when we get it break for loop\n",
        "            first = candidate\n",
        "            break\n",
        "\n",
        "          # clear candidate and start again\n",
        "          candidate = []\n",
        "\n",
        "      # if avoids if statements above means its a consectitive index so just append    \n",
        "      candidate.append(i)\n",
        "\n",
        "first_turn_2 = first\n",
        "\n",
        "# where on interested in first 3 in a row\n",
        "print(first_turn_2)"
      ],
      "execution_count": null,
      "outputs": []
    },
    {
      "cell_type": "markdown",
      "metadata": {
        "id": "zoidW2O9KojM"
      },
      "source": [
        "**Longest in a row**"
      ]
    },
    {
      "cell_type": "code",
      "metadata": {
        "id": "Kv7Ih9qyjtp4"
      },
      "source": [
        "candidate = []\n",
        "longest = []\n",
        "\n",
        "for i in predictions_dataframe[predictions_dataframe['Preds'] == 2 ].index:\n",
        "\n",
        "    if i <= longest_walk_2[-1]:\n",
        "      continue\n",
        "\n",
        "    if candidate and candidate[-1] != i - 1:\n",
        "        if len(candidate) > len(longest):\n",
        "            longest = candidate\n",
        "        candidate = []\n",
        "    candidate.append(i)\n",
        "if len(candidate) > len(longest):\n",
        "    longest = candidate\n",
        "\n",
        "\n",
        "longest_turn_2 = longest\n",
        "\n",
        "print(longest_turn_2)"
      ],
      "execution_count": null,
      "outputs": []
    },
    {
      "cell_type": "markdown",
      "metadata": {
        "id": "TDRcqMjwm_ZX"
      },
      "source": [
        "# Sit\n",
        "\n",
        "----------------------------------------"
      ]
    },
    {
      "cell_type": "markdown",
      "metadata": {
        "id": "3AilZ1UXMFQp"
      },
      "source": [
        "**First Dectection**"
      ]
    },
    {
      "cell_type": "code",
      "metadata": {
        "id": "7be5CVq-MH89"
      },
      "source": [
        "candidate = []\n",
        "longest = []\n",
        "\n",
        "\n",
        "# for each index value in the sliced dataframe\n",
        "for i in predictions_dataframe[predictions_dataframe['Preds'] == 5 ].index:\n",
        "\n",
        "\n",
        "    # if statement so it doesnt go backwards into already classified indexs\n",
        "    if i > longest_turn_2[-1]:\n",
        "\n",
        "      # check the difference between the index, if there are not zero means no longer consecutive\n",
        "      if candidate and candidate[-1] != i - 1:\n",
        "          if len(candidate) >= 3:\n",
        "\n",
        "            # only interested in first one, so when we get it break for loop\n",
        "            first = candidate\n",
        "            break\n",
        "\n",
        "          # clear candidate and start again\n",
        "          candidate = []\n",
        "\n",
        "      # if avoids if statements above means its a consectitive index so just append    \n",
        "      candidate.append(i)\n",
        "\n",
        "first_sit = first\n",
        "\n",
        "# where on interested in first 3 in a row\n",
        "print(first_sit)"
      ],
      "execution_count": null,
      "outputs": []
    },
    {
      "cell_type": "markdown",
      "metadata": {
        "id": "KKJg5ppnMl0W"
      },
      "source": [
        "Dont need longest in a run as Sit is final phase + last entry is hard coded so can simply use that "
      ]
    },
    {
      "cell_type": "markdown",
      "metadata": {
        "id": "oZjDusneMt1E"
      },
      "source": [
        "<br>"
      ]
    },
    {
      "cell_type": "markdown",
      "metadata": {
        "id": "wUgStg8gMvCw"
      },
      "source": [
        "---------------------------------------------------------"
      ]
    },
    {
      "cell_type": "code",
      "metadata": {
        "id": "fVlfHZINMwhr"
      },
      "source": [
        "print(\"\\n First walk  : \", first_walk_1[0])\n",
        "print(\"\\n First turn 1: \", first_turn_1[0])\n",
        "print(\"\\n First walk 2: \", first_walk_2[0])\n",
        "print(\"\\n First turn 2: \", first_turn_2[0])\n",
        "print(\"\\n First Sit   : \", first_sit[0])"
      ],
      "execution_count": null,
      "outputs": []
    },
    {
      "cell_type": "code",
      "metadata": {
        "id": "9YVt7-deNn7q"
      },
      "source": [
        "# create first times dataframes\n",
        "\n",
        "go = predictions_dataframe.iloc[0]['Time']\n",
        "walk_1 = predictions_dataframe.iloc[first_walk_1[0]]['Time']\n",
        "turn_1 = predictions_dataframe.iloc[first_turn_1[0]]['Time']\n",
        "walk_2 = predictions_dataframe.iloc[first_walk_2[0]]['Time']\n",
        "turn_2 = predictions_dataframe.iloc[first_turn_2[0]]['Time']\n",
        "sit = predictions_dataframe.iloc[first_sit[0]]['Time']\n",
        "end = predictions_dataframe.iloc[-1]['Time']\n"
      ],
      "execution_count": null,
      "outputs": []
    },
    {
      "cell_type": "code",
      "metadata": {
        "id": "XJy3oUJjOcCf"
      },
      "source": [
        "\n",
        "print(\"\\nTime Difference: Walk 1 - Go   (Getting Up) :\", walk_1 - go)\n",
        "\n",
        "print(\"\\nTime Difference: Turn 1 - Walk 1 (Walking 1) :\", turn_1 - walk_1)\n",
        "\n",
        "print(\"\\nTime Difference: Walk 2 - Turn 1 (Turning 1) :\", walk_2 - turn_1)\n",
        "\n",
        "print(\"\\nTime Difference: Turn 2 - Walk 2 (Walking 2) :\", turn_2 - walk_2 )\n",
        "\n",
        "print(\"\\nTime Difference: Sit - Turn 2 (Turning 2) :\", sit - turn_2  )\n",
        "\n",
        "print(\"\\nTime Difference: End - Sit (Sitting) :\", end - sit  )"
      ],
      "execution_count": null,
      "outputs": []
    }
  ]
}