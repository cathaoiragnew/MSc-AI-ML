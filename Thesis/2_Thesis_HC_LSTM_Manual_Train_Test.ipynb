{
  "nbformat": 4,
  "nbformat_minor": 0,
  "metadata": {
    "colab": {
      "name": "2_July_HC_LSTM_Manual_Train_Test_HandCraft_Thesis.ipynb",
      "provenance": [],
      "collapsed_sections": []
    },
    "kernelspec": {
      "display_name": "Python 3",
      "name": "python3"
    },
    "language_info": {
      "name": "python"
    }
  },
  "cells": [
    {
      "cell_type": "markdown",
      "metadata": {
        "id": "5EKoxDdSsr8e"
      },
      "source": [
        "# Handcrafted Features"
      ]
    },
    {
      "cell_type": "markdown",
      "metadata": {
        "id": "WrVWaVNkPW2k"
      },
      "source": [
        "## Imports"
      ]
    },
    {
      "cell_type": "code",
      "metadata": {
        "id": "xtX5iMQHPDII",
        "colab": {
          "base_uri": "https://localhost:8080/"
        },
        "outputId": "c71bf320-2cc8-4bbf-f7cc-0b994fea5653"
      },
      "source": [
        "\n",
        "########################### (https://github.com/curiousily/TensorFlow-on-Android-for-Human-Activity-Recognition-with-LSTMs/blob/master/human_activity_recognition.ipynb) imports\n",
        "import numpy as np \n",
        "import pandas as pd\n",
        "import matplotlib.pyplot as plt\n",
        "\n",
        "\n",
        "from scipy import stats\n",
        "import tensorflow as tf\n",
        "import seaborn as sns\n",
        "from pylab import rcParams\n",
        "from sklearn import metrics\n",
        "from sklearn.model_selection import train_test_split\n",
        "\n",
        "from sklearn.preprocessing import StandardScaler\n",
        "\n",
        "%matplotlib inline\n",
        "sns.set(style='whitegrid', palette='muted', font_scale=1.5)\n",
        "rcParams['figure.figsize'] = 14, 8\n",
        "RANDOM_SEED = 42\n",
        "\n",
        "#!pip install imbalanced-learn\n",
        "\n",
        "from imblearn.over_sampling import SMOTE\n",
        "from collections import Counter\n",
        "from sklearn.metrics import classification_report\n",
        "from sklearn.metrics import confusion_matrix\n",
        "from sklearn.metrics import accuracy_score\n",
        "from sklearn.metrics import balanced_accuracy_score\n",
        "from sklearn.model_selection import GridSearchCV\n",
        "from sklearn.feature_selection import SelectFromModel\n",
        "from keras import backend as K\n",
        "from sklearn.utils import shuffle\n",
        "\n",
        "from matplotlib.pyplot import figure\n",
        "\n",
        "\n",
        "########################### (https://github.com/curiousily/TensorFlow-on-Android-for-Human-Activity-Recognition-with-LSTMs/blob/master/human_activity_recognition.ipynb) imports\n",
        "import numpy as np \n",
        "import pandas as pd\n",
        "import matplotlib.pyplot as plt\n",
        "\n",
        "\n",
        "from scipy import stats\n",
        "import tensorflow as tf\n",
        "import seaborn as sns\n",
        "from pylab import rcParams\n",
        "from sklearn import metrics\n",
        "from sklearn.model_selection import train_test_split\n",
        "from sklearn.utils import shuffle\n",
        "\n",
        "\n"
      ],
      "execution_count": null,
      "outputs": [
        {
          "output_type": "stream",
          "text": [
            "/usr/local/lib/python3.7/dist-packages/sklearn/externals/six.py:31: FutureWarning: The module is deprecated in version 0.21 and will be removed in version 0.23 since we've dropped support for Python 2.7. Please rely on the official version of six (https://pypi.org/project/six/).\n",
            "  \"(https://pypi.org/project/six/).\", FutureWarning)\n",
            "/usr/local/lib/python3.7/dist-packages/sklearn/utils/deprecation.py:144: FutureWarning: The sklearn.neighbors.base module is  deprecated in version 0.22 and will be removed in version 0.24. The corresponding classes / functions should instead be imported from sklearn.neighbors. Anything that cannot be imported from sklearn.neighbors is now part of the private API.\n",
            "  warnings.warn(message, FutureWarning)\n"
          ],
          "name": "stderr"
        }
      ]
    },
    {
      "cell_type": "markdown",
      "metadata": {
        "id": "W_M5F5DwPrKk"
      },
      "source": [
        "# Upload Data \n",
        "\n",
        "---------------------------------\n",
        "\n"
      ]
    },
    {
      "cell_type": "markdown",
      "metadata": {
        "id": "1ZX9OGsWPzvD"
      },
      "source": [
        "Train"
      ]
    },
    {
      "cell_type": "code",
      "metadata": {
        "id": "7IyDYp-eLY8K",
        "colab": {
          "resources": {
            "http://localhost:8080/nbextensions/google.colab/files.js": {
              "data": "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",
              "ok": true,
              "headers": [
                [
                  "content-type",
                  "application/javascript"
                ]
              ],
              "status": 200,
              "status_text": "OK"
            }
          },
          "base_uri": "https://localhost:8080/",
          "height": 1000
        },
        "outputId": "11a46084-6b2d-48a1-a9dc-74530098728c"
      },
      "source": [
        "from google.colab import files\n",
        "uploaded_signal_train = files.upload()"
      ],
      "execution_count": null,
      "outputs": [
        {
          "output_type": "display_data",
          "data": {
            "text/html": [
              "\n",
              "     <input type=\"file\" id=\"files-e3c1ddd7-a41f-45c5-89fc-e74ad9ad8809\" name=\"files[]\" multiple disabled\n",
              "        style=\"border:none\" />\n",
              "     <output id=\"result-e3c1ddd7-a41f-45c5-89fc-e74ad9ad8809\">\n",
              "      Upload widget is only available when the cell has been executed in the\n",
              "      current browser session. Please rerun this cell to enable.\n",
              "      </output>\n",
              "      <script src=\"/nbextensions/google.colab/files.js\"></script> "
            ],
            "text/plain": [
              "<IPython.core.display.HTML object>"
            ]
          },
          "metadata": {
            "tags": []
          }
        },
        {
          "output_type": "stream",
          "text": [
            "Saving 28_2_Participant_SlideSize_10_Handcrafted_Features_DF_Resampled_RJP to 28_2_Participant_SlideSize_10_Handcrafted_Features_DF_Resampled_RJP\n",
            "Saving 28_3_Participant_SlideSize_10_Handcrafted_Features_DF_Resampled_RJP to 28_3_Participant_SlideSize_10_Handcrafted_Features_DF_Resampled_RJP\n",
            "Saving 28_4_Participant_SlideSize_10_Handcrafted_Features_DF_Resampled_RJP to 28_4_Participant_SlideSize_10_Handcrafted_Features_DF_Resampled_RJP\n",
            "Saving 28_5_Participant_SlideSize_10_Handcrafted_Features_DF_Resampled_RJP to 28_5_Participant_SlideSize_10_Handcrafted_Features_DF_Resampled_RJP\n",
            "Saving 28_6_Participant_SlideSize_10_Handcrafted_Features_DF_Resampled_RJP to 28_6_Participant_SlideSize_10_Handcrafted_Features_DF_Resampled_RJP\n",
            "Saving 29_2_Participant_SlideSize_10_Handcrafted_Features_DF_Resampled_RCP to 29_2_Participant_SlideSize_10_Handcrafted_Features_DF_Resampled_RCP\n",
            "Saving 29_3_Participant_SlideSize_10_Handcrafted_Features_DF_Resampled_RCP to 29_3_Participant_SlideSize_10_Handcrafted_Features_DF_Resampled_RCP\n",
            "Saving 29_4_Participant_SlideSize_10_Handcrafted_Features_DF_Resampled_RCP to 29_4_Participant_SlideSize_10_Handcrafted_Features_DF_Resampled_RCP\n",
            "Saving 29_5_Participant_SlideSize_10_Handcrafted_Features_DF_Resampled_RCP to 29_5_Participant_SlideSize_10_Handcrafted_Features_DF_Resampled_RCP\n",
            "Saving 29_6_Participant_SlideSize_10_Handcrafted_Features_DF_Resampled_RCP to 29_6_Participant_SlideSize_10_Handcrafted_Features_DF_Resampled_RCP\n",
            "Saving 32_2_Participant_SlideSize_10_Handcrafted_Features_DF_Resampled_RJP to 32_2_Participant_SlideSize_10_Handcrafted_Features_DF_Resampled_RJP\n",
            "Saving 32_3_Participant_SlideSize_10_Handcrafted_Features_DF_Resampled_RJP to 32_3_Participant_SlideSize_10_Handcrafted_Features_DF_Resampled_RJP\n",
            "Saving 32_4_Participant_SlideSize_10_Handcrafted_Features_DF_Resampled_RJP to 32_4_Participant_SlideSize_10_Handcrafted_Features_DF_Resampled_RJP\n",
            "Saving 32_5_Participant_SlideSize_10_Handcrafted_Features_DF_Resampled_RJP to 32_5_Participant_SlideSize_10_Handcrafted_Features_DF_Resampled_RJP\n",
            "Saving 32_6_Participant_SlideSize_10_Handcrafted_Features_DF_Resampled_RJP to 32_6_Participant_SlideSize_10_Handcrafted_Features_DF_Resampled_RJP\n",
            "Saving 33_2_Participant_SlideSize_10_Handcrafted_Features_DF_Resampled_LJP to 33_2_Participant_SlideSize_10_Handcrafted_Features_DF_Resampled_LJP\n",
            "Saving 33_3_Participant_SlideSize_10_Handcrafted_Features_DF_Resampled_LJP to 33_3_Participant_SlideSize_10_Handcrafted_Features_DF_Resampled_LJP\n",
            "Saving 33_4_Participant_SlideSize_10_Handcrafted_Features_DF_Resampled_LJP to 33_4_Participant_SlideSize_10_Handcrafted_Features_DF_Resampled_LJP\n",
            "Saving 33_5_Participant_SlideSize_10_Handcrafted_Features_DF_Resampled_LJP to 33_5_Participant_SlideSize_10_Handcrafted_Features_DF_Resampled_LJP\n",
            "Saving 33_6_Participant_SlideSize_10_Handcrafted_Features_DF_Resampled_LJP to 33_6_Participant_SlideSize_10_Handcrafted_Features_DF_Resampled_LJP\n",
            "Saving 34_2_Participant_SlideSize_10_Handcrafted_Features_DF_Resampled_RJP to 34_2_Participant_SlideSize_10_Handcrafted_Features_DF_Resampled_RJP\n",
            "Saving 34_3_Participant_SlideSize_10_Handcrafted_Features_DF_Resampled_RJP to 34_3_Participant_SlideSize_10_Handcrafted_Features_DF_Resampled_RJP\n",
            "Saving 34_4_Participant_SlideSize_10_Handcrafted_Features_DF_Resampled_RJP to 34_4_Participant_SlideSize_10_Handcrafted_Features_DF_Resampled_RJP\n",
            "Saving 34_5_Participant_SlideSize_10_Handcrafted_Features_DF_Resampled_RJP to 34_5_Participant_SlideSize_10_Handcrafted_Features_DF_Resampled_RJP\n",
            "Saving 34_6_Participant_SlideSize_10_Handcrafted_Features_DF_Resampled_RJP to 34_6_Participant_SlideSize_10_Handcrafted_Features_DF_Resampled_RJP\n",
            "Saving 35_2_Participant_SlideSize_10_Handcrafted_Features_DF_Resampled_RCP to 35_2_Participant_SlideSize_10_Handcrafted_Features_DF_Resampled_RCP\n",
            "Saving 35_3_Participant_SlideSize_10_Handcrafted_Features_DF_Resampled_RCP to 35_3_Participant_SlideSize_10_Handcrafted_Features_DF_Resampled_RCP\n",
            "Saving 35_4_Participant_SlideSize_10_Handcrafted_Features_DF_Resampled_RCP to 35_4_Participant_SlideSize_10_Handcrafted_Features_DF_Resampled_RCP\n",
            "Saving 35_5_Participant_SlideSize_10_Handcrafted_Features_DF_Resampled_RCP to 35_5_Participant_SlideSize_10_Handcrafted_Features_DF_Resampled_RCP\n",
            "Saving 35_6_Participant_SlideSize_10_Handcrafted_Features_DF_Resampled_RCP to 35_6_Participant_SlideSize_10_Handcrafted_Features_DF_Resampled_RCP\n",
            "Saving 36_2_Participant_SlideSize_10_Handcrafted_Features_DF_Resampled_OTH to 36_2_Participant_SlideSize_10_Handcrafted_Features_DF_Resampled_OTH\n",
            "Saving 36_3_Participant_SlideSize_10_Handcrafted_Features_DF_Resampled_OTH to 36_3_Participant_SlideSize_10_Handcrafted_Features_DF_Resampled_OTH\n",
            "Saving 36_4_Participant_SlideSize_10_Handcrafted_Features_DF_Resampled_OTH to 36_4_Participant_SlideSize_10_Handcrafted_Features_DF_Resampled_OTH\n",
            "Saving 36_5_Participant_SlideSize_10_Handcrafted_Features_DF_Resampled_OTH to 36_5_Participant_SlideSize_10_Handcrafted_Features_DF_Resampled_OTH\n",
            "Saving 36_6_Participant_SlideSize_10_Handcrafted_Features_DF_Resampled_OTH to 36_6_Participant_SlideSize_10_Handcrafted_Features_DF_Resampled_OTH\n",
            "Saving 37_2_Participant_SlideSize_10_Handcrafted_Features_DF_Resampled_RCP to 37_2_Participant_SlideSize_10_Handcrafted_Features_DF_Resampled_RCP\n",
            "Saving 37_3_Participant_SlideSize_10_Handcrafted_Features_DF_Resampled_RCP to 37_3_Participant_SlideSize_10_Handcrafted_Features_DF_Resampled_RCP\n",
            "Saving 37_4_Participant_SlideSize_10_Handcrafted_Features_DF_Resampled_RCP to 37_4_Participant_SlideSize_10_Handcrafted_Features_DF_Resampled_RCP\n",
            "Saving 37_5_Participant_SlideSize_10_Handcrafted_Features_DF_Resampled_RCP to 37_5_Participant_SlideSize_10_Handcrafted_Features_DF_Resampled_RCP\n",
            "Saving 37_6_Participant_SlideSize_10_Handcrafted_Features_DF_Resampled_RCP to 37_6_Participant_SlideSize_10_Handcrafted_Features_DF_Resampled_RCP\n",
            "Saving 38_2_Participant_SlideSize_10_Handcrafted_Features_DF_Resampled_RJP to 38_2_Participant_SlideSize_10_Handcrafted_Features_DF_Resampled_RJP\n",
            "Saving 38_3_Participant_SlideSize_10_Handcrafted_Features_DF_Resampled_RJP to 38_3_Participant_SlideSize_10_Handcrafted_Features_DF_Resampled_RJP\n",
            "Saving 38_4_Participant_SlideSize_10_Handcrafted_Features_DF_Resampled_RJP to 38_4_Participant_SlideSize_10_Handcrafted_Features_DF_Resampled_RJP\n",
            "Saving 38_5_Participant_SlideSize_10_Handcrafted_Features_DF_Resampled_RJP to 38_5_Participant_SlideSize_10_Handcrafted_Features_DF_Resampled_RJP\n",
            "Saving 38_6_Participant_SlideSize_10_Handcrafted_Features_DF_Resampled_RJP to 38_6_Participant_SlideSize_10_Handcrafted_Features_DF_Resampled_RJP\n",
            "Saving 39_2_Participant_SlideSize_10_Handcrafted_Features_DF_Resampled_OTH to 39_2_Participant_SlideSize_10_Handcrafted_Features_DF_Resampled_OTH\n",
            "Saving 39_3_Participant_SlideSize_10_Handcrafted_Features_DF_Resampled_OTH to 39_3_Participant_SlideSize_10_Handcrafted_Features_DF_Resampled_OTH\n",
            "Saving 39_4_Participant_SlideSize_10_Handcrafted_Features_DF_Resampled_OTH to 39_4_Participant_SlideSize_10_Handcrafted_Features_DF_Resampled_OTH\n",
            "Saving 39_5_Participant_SlideSize_10_Handcrafted_Features_DF_Resampled_OTH to 39_5_Participant_SlideSize_10_Handcrafted_Features_DF_Resampled_OTH\n",
            "Saving 39_6_Participant_SlideSize_10_Handcrafted_Features_DF_Resampled_OTH to 39_6_Participant_SlideSize_10_Handcrafted_Features_DF_Resampled_OTH\n",
            "Saving 40_2_Participant_SlideSize_10_Handcrafted_Features_DF_Resampled_OTH to 40_2_Participant_SlideSize_10_Handcrafted_Features_DF_Resampled_OTH\n",
            "Saving 40_3_Participant_SlideSize_10_Handcrafted_Features_DF_Resampled_OTH to 40_3_Participant_SlideSize_10_Handcrafted_Features_DF_Resampled_OTH\n",
            "Saving 40_4_Participant_SlideSize_10_Handcrafted_Features_DF_Resampled_OTH to 40_4_Participant_SlideSize_10_Handcrafted_Features_DF_Resampled_OTH\n",
            "Saving 40_5_Participant_SlideSize_10_Handcrafted_Features_DF_Resampled_OTH to 40_5_Participant_SlideSize_10_Handcrafted_Features_DF_Resampled_OTH\n",
            "Saving 41_2_Participant_SlideSize_10_Handcrafted_Features_DF_Resampled_OTH to 41_2_Participant_SlideSize_10_Handcrafted_Features_DF_Resampled_OTH\n",
            "Saving 41_3_Participant_SlideSize_10_Handcrafted_Features_DF_Resampled_OTH to 41_3_Participant_SlideSize_10_Handcrafted_Features_DF_Resampled_OTH\n",
            "Saving 41_4_Participant_SlideSize_10_Handcrafted_Features_DF_Resampled_OTH to 41_4_Participant_SlideSize_10_Handcrafted_Features_DF_Resampled_OTH\n",
            "Saving 41_5_Participant_SlideSize_10_Handcrafted_Features_DF_Resampled_OTH to 41_5_Participant_SlideSize_10_Handcrafted_Features_DF_Resampled_OTH\n",
            "Saving 41_6_Participant_SlideSize_10_Handcrafted_Features_DF_Resampled_OTH to 41_6_Participant_SlideSize_10_Handcrafted_Features_DF_Resampled_OTH\n",
            "Saving 42_2_Participant_SlideSize_10_Handcrafted_Features_DF_Resampled_LCP to 42_2_Participant_SlideSize_10_Handcrafted_Features_DF_Resampled_LCP\n",
            "Saving 42_3_Participant_SlideSize_10_Handcrafted_Features_DF_Resampled_LCP to 42_3_Participant_SlideSize_10_Handcrafted_Features_DF_Resampled_LCP\n",
            "Saving 42_4_Participant_SlideSize_10_Handcrafted_Features_DF_Resampled_LCP to 42_4_Participant_SlideSize_10_Handcrafted_Features_DF_Resampled_LCP\n",
            "Saving 42_5_Participant_SlideSize_10_Handcrafted_Features_DF_Resampled_LCP to 42_5_Participant_SlideSize_10_Handcrafted_Features_DF_Resampled_LCP\n",
            "Saving 42_6_Participant_SlideSize_10_Handcrafted_Features_DF_Resampled_LCP to 42_6_Participant_SlideSize_10_Handcrafted_Features_DF_Resampled_LCP\n",
            "Saving 43_2_Participant_SlideSize_10_Handcrafted_Features_DF_Resampled_RCP to 43_2_Participant_SlideSize_10_Handcrafted_Features_DF_Resampled_RCP\n",
            "Saving 43_3_Participant_SlideSize_10_Handcrafted_Features_DF_Resampled_RCP to 43_3_Participant_SlideSize_10_Handcrafted_Features_DF_Resampled_RCP\n",
            "Saving 43_4_Participant_SlideSize_10_Handcrafted_Features_DF_Resampled_RCP to 43_4_Participant_SlideSize_10_Handcrafted_Features_DF_Resampled_RCP\n",
            "Saving 43_5_Participant_SlideSize_10_Handcrafted_Features_DF_Resampled_RCP to 43_5_Participant_SlideSize_10_Handcrafted_Features_DF_Resampled_RCP\n",
            "Saving 43_6_Participant_SlideSize_10_Handcrafted_Features_DF_Resampled_RCP to 43_6_Participant_SlideSize_10_Handcrafted_Features_DF_Resampled_RCP\n",
            "Saving 44_2_Participant_SlideSize_10_Handcrafted_Features_DF_Resampled_LJP to 44_2_Participant_SlideSize_10_Handcrafted_Features_DF_Resampled_LJP\n",
            "Saving 44_3_Participant_SlideSize_10_Handcrafted_Features_DF_Resampled_LJP to 44_3_Participant_SlideSize_10_Handcrafted_Features_DF_Resampled_LJP\n",
            "Saving 44_4_Participant_SlideSize_10_Handcrafted_Features_DF_Resampled_LJP to 44_4_Participant_SlideSize_10_Handcrafted_Features_DF_Resampled_LJP\n",
            "Saving 44_5_Participant_SlideSize_10_Handcrafted_Features_DF_Resampled_LJP to 44_5_Participant_SlideSize_10_Handcrafted_Features_DF_Resampled_LJP\n",
            "Saving 44_6_Participant_SlideSize_10_Handcrafted_Features_DF_Resampled_LJP to 44_6_Participant_SlideSize_10_Handcrafted_Features_DF_Resampled_LJP\n",
            "Saving 45_2_Participant_SlideSize_10_Handcrafted_Features_DF_Resampled_OTH to 45_2_Participant_SlideSize_10_Handcrafted_Features_DF_Resampled_OTH\n",
            "Saving 45_3_Participant_SlideSize_10_Handcrafted_Features_DF_Resampled_OTH to 45_3_Participant_SlideSize_10_Handcrafted_Features_DF_Resampled_OTH\n",
            "Saving 45_4_Participant_SlideSize_10_Handcrafted_Features_DF_Resampled_OTH to 45_4_Participant_SlideSize_10_Handcrafted_Features_DF_Resampled_OTH\n",
            "Saving 45_5_Participant_SlideSize_10_Handcrafted_Features_DF_Resampled_OTH to 45_5_Participant_SlideSize_10_Handcrafted_Features_DF_Resampled_OTH\n",
            "Saving 46_2_Participant_SlideSize_10_Handcrafted_Features_DF_Resampled_LJP to 46_2_Participant_SlideSize_10_Handcrafted_Features_DF_Resampled_LJP\n",
            "Saving 46_3_Participant_SlideSize_10_Handcrafted_Features_DF_Resampled_LJP to 46_3_Participant_SlideSize_10_Handcrafted_Features_DF_Resampled_LJP\n",
            "Saving 46_4_Participant_SlideSize_10_Handcrafted_Features_DF_Resampled_LJP to 46_4_Participant_SlideSize_10_Handcrafted_Features_DF_Resampled_LJP\n",
            "Saving 46_5_Participant_SlideSize_10_Handcrafted_Features_DF_Resampled_LJP to 46_5_Participant_SlideSize_10_Handcrafted_Features_DF_Resampled_LJP\n",
            "Saving 46_6_Participant_SlideSize_10_Handcrafted_Features_DF_Resampled_LJP to 46_6_Participant_SlideSize_10_Handcrafted_Features_DF_Resampled_LJP\n",
            "Saving 47_2_Participant_SlideSize_10_Handcrafted_Features_DF_Resampled_LJP to 47_2_Participant_SlideSize_10_Handcrafted_Features_DF_Resampled_LJP\n",
            "Saving 47_3_Participant_SlideSize_10_Handcrafted_Features_DF_Resampled_LJP to 47_3_Participant_SlideSize_10_Handcrafted_Features_DF_Resampled_LJP\n",
            "Saving 47_4_Participant_SlideSize_10_Handcrafted_Features_DF_Resampled_LJP to 47_4_Participant_SlideSize_10_Handcrafted_Features_DF_Resampled_LJP\n",
            "Saving 47_5_Participant_SlideSize_10_Handcrafted_Features_DF_Resampled_LJP to 47_5_Participant_SlideSize_10_Handcrafted_Features_DF_Resampled_LJP\n",
            "Saving 47_6_Participant_SlideSize_10_Handcrafted_Features_DF_Resampled_LJP to 47_6_Participant_SlideSize_10_Handcrafted_Features_DF_Resampled_LJP\n",
            "Saving 48_2_Participant_SlideSize_10_Handcrafted_Features_DF_Resampled_OTH to 48_2_Participant_SlideSize_10_Handcrafted_Features_DF_Resampled_OTH\n",
            "Saving 48_3_Participant_SlideSize_10_Handcrafted_Features_DF_Resampled_OTH to 48_3_Participant_SlideSize_10_Handcrafted_Features_DF_Resampled_OTH\n",
            "Saving 48_4_Participant_SlideSize_10_Handcrafted_Features_DF_Resampled_OTH to 48_4_Participant_SlideSize_10_Handcrafted_Features_DF_Resampled_OTH\n",
            "Saving 48_5_Participant_SlideSize_10_Handcrafted_Features_DF_Resampled_OTH to 48_5_Participant_SlideSize_10_Handcrafted_Features_DF_Resampled_OTH\n",
            "Saving 48_6_Participant_SlideSize_10_Handcrafted_Features_DF_Resampled_OTH to 48_6_Participant_SlideSize_10_Handcrafted_Features_DF_Resampled_OTH\n",
            "Saving 49_2_Participant_SlideSize_10_Handcrafted_Features_DF_Resampled_OTH to 49_2_Participant_SlideSize_10_Handcrafted_Features_DF_Resampled_OTH\n",
            "Saving 49_3_Participant_SlideSize_10_Handcrafted_Features_DF_Resampled_OTH to 49_3_Participant_SlideSize_10_Handcrafted_Features_DF_Resampled_OTH\n",
            "Saving 49_4_Participant_SlideSize_10_Handcrafted_Features_DF_Resampled_OTH to 49_4_Participant_SlideSize_10_Handcrafted_Features_DF_Resampled_OTH\n",
            "Saving 49_5_Participant_SlideSize_10_Handcrafted_Features_DF_Resampled_OTH to 49_5_Participant_SlideSize_10_Handcrafted_Features_DF_Resampled_OTH\n",
            "Saving 49_6_Participant_SlideSize_10_Handcrafted_Features_DF_Resampled_OTH to 49_6_Participant_SlideSize_10_Handcrafted_Features_DF_Resampled_OTH\n",
            "Saving 50_2_Participant_SlideSize_10_Handcrafted_Features_DF_Resampled_OTH to 50_2_Participant_SlideSize_10_Handcrafted_Features_DF_Resampled_OTH\n",
            "Saving 50_3_Participant_SlideSize_10_Handcrafted_Features_DF_Resampled_OTH to 50_3_Participant_SlideSize_10_Handcrafted_Features_DF_Resampled_OTH\n",
            "Saving 50_4_Participant_SlideSize_10_Handcrafted_Features_DF_Resampled_OTH to 50_4_Participant_SlideSize_10_Handcrafted_Features_DF_Resampled_OTH\n",
            "Saving 50_5_Participant_SlideSize_10_Handcrafted_Features_DF_Resampled_OTH to 50_5_Participant_SlideSize_10_Handcrafted_Features_DF_Resampled_OTH\n",
            "Saving 50_6_Participant_SlideSize_10_Handcrafted_Features_DF_Resampled_OTH to 50_6_Participant_SlideSize_10_Handcrafted_Features_DF_Resampled_OTH\n",
            "Saving 51_2_Participant_SlideSize_10_Handcrafted_Features_DF_Resampled_RJP to 51_2_Participant_SlideSize_10_Handcrafted_Features_DF_Resampled_RJP\n",
            "Saving 51_3_Participant_SlideSize_10_Handcrafted_Features_DF_Resampled_RJP to 51_3_Participant_SlideSize_10_Handcrafted_Features_DF_Resampled_RJP\n",
            "Saving 51_4_Participant_SlideSize_10_Handcrafted_Features_DF_Resampled_RJP to 51_4_Participant_SlideSize_10_Handcrafted_Features_DF_Resampled_RJP\n",
            "Saving 51_5_Participant_SlideSize_10_Handcrafted_Features_DF_Resampled_RJP to 51_5_Participant_SlideSize_10_Handcrafted_Features_DF_Resampled_RJP\n",
            "Saving 51_6_Participant_SlideSize_10_Handcrafted_Features_DF_Resampled_RJP to 51_6_Participant_SlideSize_10_Handcrafted_Features_DF_Resampled_RJP\n",
            "Saving 52_2_Participant_SlideSize_10_Handcrafted_Features_DF_Resampled_RJP to 52_2_Participant_SlideSize_10_Handcrafted_Features_DF_Resampled_RJP\n",
            "Saving 52_3_Participant_SlideSize_10_Handcrafted_Features_DF_Resampled_RJP to 52_3_Participant_SlideSize_10_Handcrafted_Features_DF_Resampled_RJP\n",
            "Saving 52_4_Participant_SlideSize_10_Handcrafted_Features_DF_Resampled_RJP to 52_4_Participant_SlideSize_10_Handcrafted_Features_DF_Resampled_RJP\n",
            "Saving 52_5_Participant_SlideSize_10_Handcrafted_Features_DF_Resampled_RJP to 52_5_Participant_SlideSize_10_Handcrafted_Features_DF_Resampled_RJP\n",
            "Saving 52_6_Participant_SlideSize_10_Handcrafted_Features_DF_Resampled_RJP to 52_6_Participant_SlideSize_10_Handcrafted_Features_DF_Resampled_RJP\n",
            "Saving 53_2_Participant_SlideSize_10_Handcrafted_Features_DF_Resampled_RJP to 53_2_Participant_SlideSize_10_Handcrafted_Features_DF_Resampled_RJP\n",
            "Saving 53_3_Participant_SlideSize_10_Handcrafted_Features_DF_Resampled_RJP to 53_3_Participant_SlideSize_10_Handcrafted_Features_DF_Resampled_RJP\n",
            "Saving 53_4_Participant_SlideSize_10_Handcrafted_Features_DF_Resampled_RJP to 53_4_Participant_SlideSize_10_Handcrafted_Features_DF_Resampled_RJP\n",
            "Saving 53_5_Participant_SlideSize_10_Handcrafted_Features_DF_Resampled_RJP to 53_5_Participant_SlideSize_10_Handcrafted_Features_DF_Resampled_RJP\n",
            "Saving 53_6_Participant_SlideSize_10_Handcrafted_Features_DF_Resampled_RJP to 53_6_Participant_SlideSize_10_Handcrafted_Features_DF_Resampled_RJP\n",
            "Saving 54_2_Participant_SlideSize_10_Handcrafted_Features_DF_Resampled_OTH to 54_2_Participant_SlideSize_10_Handcrafted_Features_DF_Resampled_OTH\n",
            "Saving 54_3_Participant_SlideSize_10_Handcrafted_Features_DF_Resampled_OTH to 54_3_Participant_SlideSize_10_Handcrafted_Features_DF_Resampled_OTH\n",
            "Saving 54_4_Participant_SlideSize_10_Handcrafted_Features_DF_Resampled_OTH to 54_4_Participant_SlideSize_10_Handcrafted_Features_DF_Resampled_OTH\n",
            "Saving 54_5_Participant_SlideSize_10_Handcrafted_Features_DF_Resampled_OTH to 54_5_Participant_SlideSize_10_Handcrafted_Features_DF_Resampled_OTH\n",
            "Saving 54_6_Participant_SlideSize_10_Handcrafted_Features_DF_Resampled_OTH to 54_6_Participant_SlideSize_10_Handcrafted_Features_DF_Resampled_OTH\n",
            "Saving 55_2_Participant_SlideSize_10_Handcrafted_Features_DF_Resampled_OTH to 55_2_Participant_SlideSize_10_Handcrafted_Features_DF_Resampled_OTH\n",
            "Saving 55_3_Participant_SlideSize_10_Handcrafted_Features_DF_Resampled_OTH to 55_3_Participant_SlideSize_10_Handcrafted_Features_DF_Resampled_OTH\n",
            "Saving 55_4_Participant_SlideSize_10_Handcrafted_Features_DF_Resampled_OTH to 55_4_Participant_SlideSize_10_Handcrafted_Features_DF_Resampled_OTH\n",
            "Saving 55_5_Participant_SlideSize_10_Handcrafted_Features_DF_Resampled_OTH to 55_5_Participant_SlideSize_10_Handcrafted_Features_DF_Resampled_OTH\n",
            "Saving 55_6_Participant_SlideSize_10_Handcrafted_Features_DF_Resampled_OTH to 55_6_Participant_SlideSize_10_Handcrafted_Features_DF_Resampled_OTH\n",
            "Saving 56_2_Participant_SlideSize_10_Handcrafted_Features_DF_Resampled_RJP to 56_2_Participant_SlideSize_10_Handcrafted_Features_DF_Resampled_RJP\n",
            "Saving 56_3_Participant_SlideSize_10_Handcrafted_Features_DF_Resampled_RJP to 56_3_Participant_SlideSize_10_Handcrafted_Features_DF_Resampled_RJP\n",
            "Saving 56_4_Participant_SlideSize_10_Handcrafted_Features_DF_Resampled_RJP to 56_4_Participant_SlideSize_10_Handcrafted_Features_DF_Resampled_RJP\n",
            "Saving 56_5_Participant_SlideSize_10_Handcrafted_Features_DF_Resampled_RJP to 56_5_Participant_SlideSize_10_Handcrafted_Features_DF_Resampled_RJP\n",
            "Saving 57_2_Participant_SlideSize_10_Handcrafted_Features_DF_Resampled_RJP to 57_2_Participant_SlideSize_10_Handcrafted_Features_DF_Resampled_RJP\n",
            "Saving 57_3_Participant_SlideSize_10_Handcrafted_Features_DF_Resampled_RJP to 57_3_Participant_SlideSize_10_Handcrafted_Features_DF_Resampled_RJP\n",
            "Saving 57_4_Participant_SlideSize_10_Handcrafted_Features_DF_Resampled_RJP to 57_4_Participant_SlideSize_10_Handcrafted_Features_DF_Resampled_RJP\n",
            "Saving 57_5_Participant_SlideSize_10_Handcrafted_Features_DF_Resampled_RJP to 57_5_Participant_SlideSize_10_Handcrafted_Features_DF_Resampled_RJP\n",
            "Saving 57_6_Participant_SlideSize_10_Handcrafted_Features_DF_Resampled_RJP to 57_6_Participant_SlideSize_10_Handcrafted_Features_DF_Resampled_RJP\n",
            "Saving 58_3_Participant_SlideSize_10_Handcrafted_Features_DF_Resampled_LJP to 58_3_Participant_SlideSize_10_Handcrafted_Features_DF_Resampled_LJP\n",
            "Saving 58_4_Participant_SlideSize_10_Handcrafted_Features_DF_Resampled_LJP to 58_4_Participant_SlideSize_10_Handcrafted_Features_DF_Resampled_LJP\n",
            "Saving 58_5_Participant_SlideSize_10_Handcrafted_Features_DF_Resampled_LJP to 58_5_Participant_SlideSize_10_Handcrafted_Features_DF_Resampled_LJP\n",
            "Saving 58_6_Participant_SlideSize_10_Handcrafted_Features_DF_Resampled_LJP to 58_6_Participant_SlideSize_10_Handcrafted_Features_DF_Resampled_LJP\n",
            "Saving 59_2_Participant_SlideSize_10_Handcrafted_Features_DF_Resampled_RJP to 59_2_Participant_SlideSize_10_Handcrafted_Features_DF_Resampled_RJP\n",
            "Saving 59_3_Participant_SlideSize_10_Handcrafted_Features_DF_Resampled_RJP to 59_3_Participant_SlideSize_10_Handcrafted_Features_DF_Resampled_RJP\n",
            "Saving 59_4_Participant_SlideSize_10_Handcrafted_Features_DF_Resampled_RJP to 59_4_Participant_SlideSize_10_Handcrafted_Features_DF_Resampled_RJP\n",
            "Saving 59_5_Participant_SlideSize_10_Handcrafted_Features_DF_Resampled_RJP to 59_5_Participant_SlideSize_10_Handcrafted_Features_DF_Resampled_RJP\n",
            "Saving 59_6_Participant_SlideSize_10_Handcrafted_Features_DF_Resampled_RJP to 59_6_Participant_SlideSize_10_Handcrafted_Features_DF_Resampled_RJP\n",
            "Saving 60_2_Participant_SlideSize_10_Handcrafted_Features_DF_Resampled_RJP to 60_2_Participant_SlideSize_10_Handcrafted_Features_DF_Resampled_RJP\n",
            "Saving 60_3_Participant_SlideSize_10_Handcrafted_Features_DF_Resampled_RJP to 60_3_Participant_SlideSize_10_Handcrafted_Features_DF_Resampled_RJP\n",
            "Saving 60_4_Participant_SlideSize_10_Handcrafted_Features_DF_Resampled_RJP to 60_4_Participant_SlideSize_10_Handcrafted_Features_DF_Resampled_RJP\n",
            "Saving 60_5_Participant_SlideSize_10_Handcrafted_Features_DF_Resampled_RJP to 60_5_Participant_SlideSize_10_Handcrafted_Features_DF_Resampled_RJP\n",
            "Saving 60_6_Participant_SlideSize_10_Handcrafted_Features_DF_Resampled_RJP to 60_6_Participant_SlideSize_10_Handcrafted_Features_DF_Resampled_RJP\n",
            "Saving 61_2_Participant_SlideSize_10_Handcrafted_Features_DF_Resampled_RJP to 61_2_Participant_SlideSize_10_Handcrafted_Features_DF_Resampled_RJP\n",
            "Saving 61_3_Participant_SlideSize_10_Handcrafted_Features_DF_Resampled_RJP to 61_3_Participant_SlideSize_10_Handcrafted_Features_DF_Resampled_RJP\n",
            "Saving 61_4_Participant_SlideSize_10_Handcrafted_Features_DF_Resampled_RJP to 61_4_Participant_SlideSize_10_Handcrafted_Features_DF_Resampled_RJP\n",
            "Saving 61_5_Participant_SlideSize_10_Handcrafted_Features_DF_Resampled_RJP to 61_5_Participant_SlideSize_10_Handcrafted_Features_DF_Resampled_RJP\n",
            "Saving 61_6_Participant_SlideSize_10_Handcrafted_Features_DF_Resampled_RJP to 61_6_Participant_SlideSize_10_Handcrafted_Features_DF_Resampled_RJP\n",
            "Saving 62_2_Participant_SlideSize_10_Handcrafted_Features_DF_Resampled_RJP to 62_2_Participant_SlideSize_10_Handcrafted_Features_DF_Resampled_RJP\n",
            "Saving 62_3_Participant_SlideSize_10_Handcrafted_Features_DF_Resampled_RJP to 62_3_Participant_SlideSize_10_Handcrafted_Features_DF_Resampled_RJP\n",
            "Saving 62_4_Participant_SlideSize_10_Handcrafted_Features_DF_Resampled_RJP to 62_4_Participant_SlideSize_10_Handcrafted_Features_DF_Resampled_RJP\n",
            "Saving 62_5_Participant_SlideSize_10_Handcrafted_Features_DF_Resampled_RJP to 62_5_Participant_SlideSize_10_Handcrafted_Features_DF_Resampled_RJP\n",
            "Saving 62_6_Participant_SlideSize_10_Handcrafted_Features_DF_Resampled_RJP to 62_6_Participant_SlideSize_10_Handcrafted_Features_DF_Resampled_RJP\n",
            "Saving 63_2_Participant_SlideSize_10_Handcrafted_Features_DF_Resampled_RJP to 63_2_Participant_SlideSize_10_Handcrafted_Features_DF_Resampled_RJP\n",
            "Saving 63_3_Participant_SlideSize_10_Handcrafted_Features_DF_Resampled_RJP to 63_3_Participant_SlideSize_10_Handcrafted_Features_DF_Resampled_RJP\n",
            "Saving 63_4_Participant_SlideSize_10_Handcrafted_Features_DF_Resampled_RJP to 63_4_Participant_SlideSize_10_Handcrafted_Features_DF_Resampled_RJP\n",
            "Saving 63_5_Participant_SlideSize_10_Handcrafted_Features_DF_Resampled_RJP to 63_5_Participant_SlideSize_10_Handcrafted_Features_DF_Resampled_RJP\n",
            "Saving 63_6_Participant_SlideSize_10_Handcrafted_Features_DF_Resampled_RJP to 63_6_Participant_SlideSize_10_Handcrafted_Features_DF_Resampled_RJP\n",
            "Saving 64_2_Participant_SlideSize_10_Handcrafted_Features_DF_Resampled_OTH to 64_2_Participant_SlideSize_10_Handcrafted_Features_DF_Resampled_OTH\n",
            "Saving 64_3_Participant_SlideSize_10_Handcrafted_Features_DF_Resampled_OTH to 64_3_Participant_SlideSize_10_Handcrafted_Features_DF_Resampled_OTH\n",
            "Saving 64_4_Participant_SlideSize_10_Handcrafted_Features_DF_Resampled_OTH to 64_4_Participant_SlideSize_10_Handcrafted_Features_DF_Resampled_OTH\n",
            "Saving 64_5_Participant_SlideSize_10_Handcrafted_Features_DF_Resampled_OTH to 64_5_Participant_SlideSize_10_Handcrafted_Features_DF_Resampled_OTH\n",
            "Saving 64_6_Participant_SlideSize_10_Handcrafted_Features_DF_Resampled_OTH to 64_6_Participant_SlideSize_10_Handcrafted_Features_DF_Resampled_OTH\n",
            "Saving 65_2_Participant_SlideSize_10_Handcrafted_Features_DF_Resampled_LCP to 65_2_Participant_SlideSize_10_Handcrafted_Features_DF_Resampled_LCP\n",
            "Saving 65_3_Participant_SlideSize_10_Handcrafted_Features_DF_Resampled_LCP to 65_3_Participant_SlideSize_10_Handcrafted_Features_DF_Resampled_LCP\n",
            "Saving 65_4_Participant_SlideSize_10_Handcrafted_Features_DF_Resampled_LCP to 65_4_Participant_SlideSize_10_Handcrafted_Features_DF_Resampled_LCP\n",
            "Saving 65_5_Participant_SlideSize_10_Handcrafted_Features_DF_Resampled_LCP to 65_5_Participant_SlideSize_10_Handcrafted_Features_DF_Resampled_LCP\n",
            "Saving 65_6_Participant_SlideSize_10_Handcrafted_Features_DF_Resampled_LCP to 65_6_Participant_SlideSize_10_Handcrafted_Features_DF_Resampled_LCP\n",
            "Saving 66_2_Participant_SlideSize_10_Handcrafted_Features_DF_Resampled_RJP to 66_2_Participant_SlideSize_10_Handcrafted_Features_DF_Resampled_RJP\n",
            "Saving 66_3_Participant_SlideSize_10_Handcrafted_Features_DF_Resampled_RJP to 66_3_Participant_SlideSize_10_Handcrafted_Features_DF_Resampled_RJP\n",
            "Saving 66_4_Participant_SlideSize_10_Handcrafted_Features_DF_Resampled_RJP to 66_4_Participant_SlideSize_10_Handcrafted_Features_DF_Resampled_RJP\n",
            "Saving 66_5_Participant_SlideSize_10_Handcrafted_Features_DF_Resampled_RJP to 66_5_Participant_SlideSize_10_Handcrafted_Features_DF_Resampled_RJP\n",
            "Saving 66_6_Participant_SlideSize_10_Handcrafted_Features_DF_Resampled_RJP to 66_6_Participant_SlideSize_10_Handcrafted_Features_DF_Resampled_RJP\n",
            "Saving 67_2_Participant_SlideSize_10_Handcrafted_Features_DF_Resampled_RJP to 67_2_Participant_SlideSize_10_Handcrafted_Features_DF_Resampled_RJP\n",
            "Saving 67_3_Participant_SlideSize_10_Handcrafted_Features_DF_Resampled_RJP to 67_3_Participant_SlideSize_10_Handcrafted_Features_DF_Resampled_RJP\n",
            "Saving 67_4_Participant_SlideSize_10_Handcrafted_Features_DF_Resampled_RJP to 67_4_Participant_SlideSize_10_Handcrafted_Features_DF_Resampled_RJP\n",
            "Saving 67_5_Participant_SlideSize_10_Handcrafted_Features_DF_Resampled_RJP to 67_5_Participant_SlideSize_10_Handcrafted_Features_DF_Resampled_RJP\n",
            "Saving 67_6_Participant_SlideSize_10_Handcrafted_Features_DF_Resampled_RJP to 67_6_Participant_SlideSize_10_Handcrafted_Features_DF_Resampled_RJP\n",
            "Saving 68_2_Participant_SlideSize_10_Handcrafted_Features_DF_Resampled_OTH to 68_2_Participant_SlideSize_10_Handcrafted_Features_DF_Resampled_OTH\n",
            "Saving 68_3_Participant_SlideSize_10_Handcrafted_Features_DF_Resampled_OTH to 68_3_Participant_SlideSize_10_Handcrafted_Features_DF_Resampled_OTH\n",
            "Saving 68_4_Participant_SlideSize_10_Handcrafted_Features_DF_Resampled_OTH to 68_4_Participant_SlideSize_10_Handcrafted_Features_DF_Resampled_OTH\n",
            "Saving 68_5_Participant_SlideSize_10_Handcrafted_Features_DF_Resampled_OTH to 68_5_Participant_SlideSize_10_Handcrafted_Features_DF_Resampled_OTH\n",
            "Saving 68_6_Participant_SlideSize_10_Handcrafted_Features_DF_Resampled_OTH to 68_6_Participant_SlideSize_10_Handcrafted_Features_DF_Resampled_OTH\n",
            "Saving 69_2_Participant_SlideSize_10_Handcrafted_Features_DF_Resampled_LCP to 69_2_Participant_SlideSize_10_Handcrafted_Features_DF_Resampled_LCP\n",
            "Saving 69_3_Participant_SlideSize_10_Handcrafted_Features_DF_Resampled_LCP to 69_3_Participant_SlideSize_10_Handcrafted_Features_DF_Resampled_LCP\n",
            "Saving 69_4_Participant_SlideSize_10_Handcrafted_Features_DF_Resampled_LCP to 69_4_Participant_SlideSize_10_Handcrafted_Features_DF_Resampled_LCP\n",
            "Saving 69_5_Participant_SlideSize_10_Handcrafted_Features_DF_Resampled_LCP to 69_5_Participant_SlideSize_10_Handcrafted_Features_DF_Resampled_LCP\n",
            "Saving 69_6_Participant_SlideSize_10_Handcrafted_Features_DF_Resampled_LCP to 69_6_Participant_SlideSize_10_Handcrafted_Features_DF_Resampled_LCP\n",
            "Saving 70_2_Participant_SlideSize_10_Handcrafted_Features_DF_Resampled_LJP to 70_2_Participant_SlideSize_10_Handcrafted_Features_DF_Resampled_LJP\n",
            "Saving 70_3_Participant_SlideSize_10_Handcrafted_Features_DF_Resampled_LJP to 70_3_Participant_SlideSize_10_Handcrafted_Features_DF_Resampled_LJP\n",
            "Saving 70_4_Participant_SlideSize_10_Handcrafted_Features_DF_Resampled_LJP to 70_4_Participant_SlideSize_10_Handcrafted_Features_DF_Resampled_LJP\n",
            "Saving 70_5_Participant_SlideSize_10_Handcrafted_Features_DF_Resampled_LJP to 70_5_Participant_SlideSize_10_Handcrafted_Features_DF_Resampled_LJP\n",
            "Saving 70_6_Participant_SlideSize_10_Handcrafted_Features_DF_Resampled_LJP to 70_6_Participant_SlideSize_10_Handcrafted_Features_DF_Resampled_LJP\n",
            "Saving 71_2_Participant_SlideSize_10_Handcrafted_Features_DF_Resampled_RJP to 71_2_Participant_SlideSize_10_Handcrafted_Features_DF_Resampled_RJP\n",
            "Saving 71_3_Participant_SlideSize_10_Handcrafted_Features_DF_Resampled_RJP to 71_3_Participant_SlideSize_10_Handcrafted_Features_DF_Resampled_RJP\n",
            "Saving 71_4_Participant_SlideSize_10_Handcrafted_Features_DF_Resampled_RJP to 71_4_Participant_SlideSize_10_Handcrafted_Features_DF_Resampled_RJP\n",
            "Saving 71_5_Participant_SlideSize_10_Handcrafted_Features_DF_Resampled_RJP to 71_5_Participant_SlideSize_10_Handcrafted_Features_DF_Resampled_RJP\n",
            "Saving 71_6_Participant_SlideSize_10_Handcrafted_Features_DF_Resampled_RJP to 71_6_Participant_SlideSize_10_Handcrafted_Features_DF_Resampled_RJP\n",
            "Saving 72_2_Participant_SlideSize_10_Handcrafted_Features_DF_Resampled_OTH to 72_2_Participant_SlideSize_10_Handcrafted_Features_DF_Resampled_OTH\n",
            "Saving 72_3_Participant_SlideSize_10_Handcrafted_Features_DF_Resampled_OTH to 72_3_Participant_SlideSize_10_Handcrafted_Features_DF_Resampled_OTH\n",
            "Saving 72_4_Participant_SlideSize_10_Handcrafted_Features_DF_Resampled_OTH to 72_4_Participant_SlideSize_10_Handcrafted_Features_DF_Resampled_OTH\n",
            "Saving 72_5_Participant_SlideSize_10_Handcrafted_Features_DF_Resampled_OTH to 72_5_Participant_SlideSize_10_Handcrafted_Features_DF_Resampled_OTH\n",
            "Saving 72_6_Participant_SlideSize_10_Handcrafted_Features_DF_Resampled_OTH to 72_6_Participant_SlideSize_10_Handcrafted_Features_DF_Resampled_OTH\n",
            "Saving 73_2_Participant_SlideSize_10_Handcrafted_Features_DF_Resampled_OTH to 73_2_Participant_SlideSize_10_Handcrafted_Features_DF_Resampled_OTH\n",
            "Saving 73_3_Participant_SlideSize_10_Handcrafted_Features_DF_Resampled_OTH to 73_3_Participant_SlideSize_10_Handcrafted_Features_DF_Resampled_OTH\n",
            "Saving 73_4_Participant_SlideSize_10_Handcrafted_Features_DF_Resampled_OTH to 73_4_Participant_SlideSize_10_Handcrafted_Features_DF_Resampled_OTH\n",
            "Saving 73_5_Participant_SlideSize_10_Handcrafted_Features_DF_Resampled_OTH to 73_5_Participant_SlideSize_10_Handcrafted_Features_DF_Resampled_OTH\n",
            "Saving 73_6_Participant_SlideSize_10_Handcrafted_Features_DF_Resampled_OTH to 73_6_Participant_SlideSize_10_Handcrafted_Features_DF_Resampled_OTH\n",
            "Saving 74_2_Participant_SlideSize_10_Handcrafted_Features_DF_Resampled_OTH to 74_2_Participant_SlideSize_10_Handcrafted_Features_DF_Resampled_OTH\n",
            "Saving 74_3_Participant_SlideSize_10_Handcrafted_Features_DF_Resampled_OTH to 74_3_Participant_SlideSize_10_Handcrafted_Features_DF_Resampled_OTH\n",
            "Saving 74_4_Participant_SlideSize_10_Handcrafted_Features_DF_Resampled_OTH to 74_4_Participant_SlideSize_10_Handcrafted_Features_DF_Resampled_OTH\n",
            "Saving 74_5_Participant_SlideSize_10_Handcrafted_Features_DF_Resampled_OTH to 74_5_Participant_SlideSize_10_Handcrafted_Features_DF_Resampled_OTH\n",
            "Saving 74_6_Participant_SlideSize_10_Handcrafted_Features_DF_Resampled_OTH to 74_6_Participant_SlideSize_10_Handcrafted_Features_DF_Resampled_OTH\n",
            "Saving 75_2_Participant_SlideSize_10_Handcrafted_Features_DF_Resampled_RJP to 75_2_Participant_SlideSize_10_Handcrafted_Features_DF_Resampled_RJP\n",
            "Saving 75_3_Participant_SlideSize_10_Handcrafted_Features_DF_Resampled_RJP to 75_3_Participant_SlideSize_10_Handcrafted_Features_DF_Resampled_RJP\n",
            "Saving 75_4_Participant_SlideSize_10_Handcrafted_Features_DF_Resampled_RJP to 75_4_Participant_SlideSize_10_Handcrafted_Features_DF_Resampled_RJP\n",
            "Saving 75_5_Participant_SlideSize_10_Handcrafted_Features_DF_Resampled_RJP to 75_5_Participant_SlideSize_10_Handcrafted_Features_DF_Resampled_RJP\n",
            "Saving 75_6_Participant_SlideSize_10_Handcrafted_Features_DF_Resampled_RJP to 75_6_Participant_SlideSize_10_Handcrafted_Features_DF_Resampled_RJP\n",
            "Saving 76_2_Participant_SlideSize_10_Handcrafted_Features_DF_Resampled_OTH to 76_2_Participant_SlideSize_10_Handcrafted_Features_DF_Resampled_OTH\n",
            "Saving 76_3_Participant_SlideSize_10_Handcrafted_Features_DF_Resampled_OTH to 76_3_Participant_SlideSize_10_Handcrafted_Features_DF_Resampled_OTH\n",
            "Saving 76_4_Participant_SlideSize_10_Handcrafted_Features_DF_Resampled_OTH to 76_4_Participant_SlideSize_10_Handcrafted_Features_DF_Resampled_OTH\n",
            "Saving 76_5_Participant_SlideSize_10_Handcrafted_Features_DF_Resampled_OTH to 76_5_Participant_SlideSize_10_Handcrafted_Features_DF_Resampled_OTH\n",
            "Saving 77_2_Participant_SlideSize_10_Handcrafted_Features_DF_Resampled_OTH to 77_2_Participant_SlideSize_10_Handcrafted_Features_DF_Resampled_OTH\n",
            "Saving 77_3_Participant_SlideSize_10_Handcrafted_Features_DF_Resampled_OTH to 77_3_Participant_SlideSize_10_Handcrafted_Features_DF_Resampled_OTH\n",
            "Saving 77_4_Participant_SlideSize_10_Handcrafted_Features_DF_Resampled_OTH to 77_4_Participant_SlideSize_10_Handcrafted_Features_DF_Resampled_OTH\n",
            "Saving 77_5_Participant_SlideSize_10_Handcrafted_Features_DF_Resampled_OTH to 77_5_Participant_SlideSize_10_Handcrafted_Features_DF_Resampled_OTH\n",
            "Saving 77_6_Participant_SlideSize_10_Handcrafted_Features_DF_Resampled_OTH to 77_6_Participant_SlideSize_10_Handcrafted_Features_DF_Resampled_OTH\n",
            "Saving 78_2_Participant_SlideSize_10_Handcrafted_Features_DF_Resampled_RJP to 78_2_Participant_SlideSize_10_Handcrafted_Features_DF_Resampled_RJP\n",
            "Saving 78_3_Participant_SlideSize_10_Handcrafted_Features_DF_Resampled_RJP to 78_3_Participant_SlideSize_10_Handcrafted_Features_DF_Resampled_RJP\n",
            "Saving 78_4_Participant_SlideSize_10_Handcrafted_Features_DF_Resampled_RJP to 78_4_Participant_SlideSize_10_Handcrafted_Features_DF_Resampled_RJP\n",
            "Saving 78_5_Participant_SlideSize_10_Handcrafted_Features_DF_Resampled_RJP to 78_5_Participant_SlideSize_10_Handcrafted_Features_DF_Resampled_RJP\n",
            "Saving 78_6_Participant_SlideSize_10_Handcrafted_Features_DF_Resampled_RJP to 78_6_Participant_SlideSize_10_Handcrafted_Features_DF_Resampled_RJP\n",
            "Saving 79_2_Participant_SlideSize_10_Handcrafted_Features_DF_Resampled_RJP to 79_2_Participant_SlideSize_10_Handcrafted_Features_DF_Resampled_RJP\n",
            "Saving 79_3_Participant_SlideSize_10_Handcrafted_Features_DF_Resampled_RJP to 79_3_Participant_SlideSize_10_Handcrafted_Features_DF_Resampled_RJP\n",
            "Saving 79_4_Participant_SlideSize_10_Handcrafted_Features_DF_Resampled_RJP to 79_4_Participant_SlideSize_10_Handcrafted_Features_DF_Resampled_RJP\n",
            "Saving 79_5_Participant_SlideSize_10_Handcrafted_Features_DF_Resampled_RJP to 79_5_Participant_SlideSize_10_Handcrafted_Features_DF_Resampled_RJP\n",
            "Saving 79_6_Participant_SlideSize_10_Handcrafted_Features_DF_Resampled_RJP to 79_6_Participant_SlideSize_10_Handcrafted_Features_DF_Resampled_RJP\n",
            "Saving 80_2_Participant_SlideSize_10_Handcrafted_Features_DF_Resampled_RCP to 80_2_Participant_SlideSize_10_Handcrafted_Features_DF_Resampled_RCP\n",
            "Saving 80_3_Participant_SlideSize_10_Handcrafted_Features_DF_Resampled_RCP to 80_3_Participant_SlideSize_10_Handcrafted_Features_DF_Resampled_RCP\n",
            "Saving 80_4_Participant_SlideSize_10_Handcrafted_Features_DF_Resampled_RCP to 80_4_Participant_SlideSize_10_Handcrafted_Features_DF_Resampled_RCP\n",
            "Saving 80_5_Participant_SlideSize_10_Handcrafted_Features_DF_Resampled_RCP to 80_5_Participant_SlideSize_10_Handcrafted_Features_DF_Resampled_RCP\n",
            "Saving 80_6_Participant_SlideSize_10_Handcrafted_Features_DF_Resampled_RCP to 80_6_Participant_SlideSize_10_Handcrafted_Features_DF_Resampled_RCP\n",
            "Saving 81_2_Participant_SlideSize_10_Handcrafted_Features_DF_Resampled_RCP to 81_2_Participant_SlideSize_10_Handcrafted_Features_DF_Resampled_RCP\n",
            "Saving 81_3_Participant_SlideSize_10_Handcrafted_Features_DF_Resampled_RCP to 81_3_Participant_SlideSize_10_Handcrafted_Features_DF_Resampled_RCP\n",
            "Saving 81_4_Participant_SlideSize_10_Handcrafted_Features_DF_Resampled_RCP to 81_4_Participant_SlideSize_10_Handcrafted_Features_DF_Resampled_RCP\n",
            "Saving 81_5_Participant_SlideSize_10_Handcrafted_Features_DF_Resampled_RCP to 81_5_Participant_SlideSize_10_Handcrafted_Features_DF_Resampled_RCP\n",
            "Saving 81_6_Participant_SlideSize_10_Handcrafted_Features_DF_Resampled_RCP to 81_6_Participant_SlideSize_10_Handcrafted_Features_DF_Resampled_RCP\n",
            "Saving 82_2_Participant_SlideSize_10_Handcrafted_Features_DF_Resampled_RJP to 82_2_Participant_SlideSize_10_Handcrafted_Features_DF_Resampled_RJP\n",
            "Saving 82_3_Participant_SlideSize_10_Handcrafted_Features_DF_Resampled_RJP to 82_3_Participant_SlideSize_10_Handcrafted_Features_DF_Resampled_RJP\n",
            "Saving 82_4_Participant_SlideSize_10_Handcrafted_Features_DF_Resampled_RJP to 82_4_Participant_SlideSize_10_Handcrafted_Features_DF_Resampled_RJP\n",
            "Saving 82_5_Participant_SlideSize_10_Handcrafted_Features_DF_Resampled_RJP to 82_5_Participant_SlideSize_10_Handcrafted_Features_DF_Resampled_RJP\n",
            "Saving 82_6_Participant_SlideSize_10_Handcrafted_Features_DF_Resampled_RJP to 82_6_Participant_SlideSize_10_Handcrafted_Features_DF_Resampled_RJP\n",
            "Saving 83_2_Participant_SlideSize_10_Handcrafted_Features_DF_Resampled_OTH to 83_2_Participant_SlideSize_10_Handcrafted_Features_DF_Resampled_OTH\n",
            "Saving 83_3_Participant_SlideSize_10_Handcrafted_Features_DF_Resampled_OTH to 83_3_Participant_SlideSize_10_Handcrafted_Features_DF_Resampled_OTH\n",
            "Saving 83_4_Participant_SlideSize_10_Handcrafted_Features_DF_Resampled_OTH to 83_4_Participant_SlideSize_10_Handcrafted_Features_DF_Resampled_OTH\n",
            "Saving 83_5_Participant_SlideSize_10_Handcrafted_Features_DF_Resampled_OTH to 83_5_Participant_SlideSize_10_Handcrafted_Features_DF_Resampled_OTH\n",
            "Saving 83_6_Participant_SlideSize_10_Handcrafted_Features_DF_Resampled_OTH to 83_6_Participant_SlideSize_10_Handcrafted_Features_DF_Resampled_OTH\n",
            "Saving 84_2_Participant_SlideSize_10_Handcrafted_Features_DF_Resampled_OTH to 84_2_Participant_SlideSize_10_Handcrafted_Features_DF_Resampled_OTH\n",
            "Saving 84_3_Participant_SlideSize_10_Handcrafted_Features_DF_Resampled_OTH to 84_3_Participant_SlideSize_10_Handcrafted_Features_DF_Resampled_OTH\n",
            "Saving 84_4_Participant_SlideSize_10_Handcrafted_Features_DF_Resampled_OTH to 84_4_Participant_SlideSize_10_Handcrafted_Features_DF_Resampled_OTH\n",
            "Saving 84_5_Participant_SlideSize_10_Handcrafted_Features_DF_Resampled_OTH to 84_5_Participant_SlideSize_10_Handcrafted_Features_DF_Resampled_OTH\n",
            "Saving 84_6_Participant_SlideSize_10_Handcrafted_Features_DF_Resampled_OTH to 84_6_Participant_SlideSize_10_Handcrafted_Features_DF_Resampled_OTH\n",
            "Saving 85_2_Participant_SlideSize_10_Handcrafted_Features_DF_Resampled_OTH to 85_2_Participant_SlideSize_10_Handcrafted_Features_DF_Resampled_OTH\n",
            "Saving 85_3_Participant_SlideSize_10_Handcrafted_Features_DF_Resampled_OTH to 85_3_Participant_SlideSize_10_Handcrafted_Features_DF_Resampled_OTH\n",
            "Saving 85_4_Participant_SlideSize_10_Handcrafted_Features_DF_Resampled_OTH to 85_4_Participant_SlideSize_10_Handcrafted_Features_DF_Resampled_OTH\n",
            "Saving 85_5_Participant_SlideSize_10_Handcrafted_Features_DF_Resampled_OTH to 85_5_Participant_SlideSize_10_Handcrafted_Features_DF_Resampled_OTH\n",
            "Saving 85_6_Participant_SlideSize_10_Handcrafted_Features_DF_Resampled_OTH to 85_6_Participant_SlideSize_10_Handcrafted_Features_DF_Resampled_OTH\n",
            "Saving 86_2_Participant_SlideSize_10_Handcrafted_Features_DF_Resampled_RCP to 86_2_Participant_SlideSize_10_Handcrafted_Features_DF_Resampled_RCP\n",
            "Saving 86_3_Participant_SlideSize_10_Handcrafted_Features_DF_Resampled_RCP to 86_3_Participant_SlideSize_10_Handcrafted_Features_DF_Resampled_RCP\n",
            "Saving 86_4_Participant_SlideSize_10_Handcrafted_Features_DF_Resampled_RCP to 86_4_Participant_SlideSize_10_Handcrafted_Features_DF_Resampled_RCP\n",
            "Saving 86_5_Participant_SlideSize_10_Handcrafted_Features_DF_Resampled_RCP to 86_5_Participant_SlideSize_10_Handcrafted_Features_DF_Resampled_RCP\n",
            "Saving 86_6_Participant_SlideSize_10_Handcrafted_Features_DF_Resampled_RCP to 86_6_Participant_SlideSize_10_Handcrafted_Features_DF_Resampled_RCP\n",
            "Saving 87_2_Participant_SlideSize_10_Handcrafted_Features_DF_Resampled_OTH to 87_2_Participant_SlideSize_10_Handcrafted_Features_DF_Resampled_OTH\n",
            "Saving 87_3_Participant_SlideSize_10_Handcrafted_Features_DF_Resampled_OTH to 87_3_Participant_SlideSize_10_Handcrafted_Features_DF_Resampled_OTH\n",
            "Saving 87_4_Participant_SlideSize_10_Handcrafted_Features_DF_Resampled_OTH to 87_4_Participant_SlideSize_10_Handcrafted_Features_DF_Resampled_OTH\n",
            "Saving 87_5_Participant_SlideSize_10_Handcrafted_Features_DF_Resampled_OTH to 87_5_Participant_SlideSize_10_Handcrafted_Features_DF_Resampled_OTH\n",
            "Saving 87_6_Participant_SlideSize_10_Handcrafted_Features_DF_Resampled_OTH to 87_6_Participant_SlideSize_10_Handcrafted_Features_DF_Resampled_OTH\n",
            "Saving 88_2_Participant_SlideSize_10_Handcrafted_Features_DF_Resampled_LJP to 88_2_Participant_SlideSize_10_Handcrafted_Features_DF_Resampled_LJP\n",
            "Saving 88_3_Participant_SlideSize_10_Handcrafted_Features_DF_Resampled_LJP to 88_3_Participant_SlideSize_10_Handcrafted_Features_DF_Resampled_LJP\n",
            "Saving 88_4_Participant_SlideSize_10_Handcrafted_Features_DF_Resampled_LJP to 88_4_Participant_SlideSize_10_Handcrafted_Features_DF_Resampled_LJP\n",
            "Saving 88_5_Participant_SlideSize_10_Handcrafted_Features_DF_Resampled_LJP to 88_5_Participant_SlideSize_10_Handcrafted_Features_DF_Resampled_LJP\n",
            "Saving 89_2_Participant_SlideSize_10_Handcrafted_Features_DF_Resampled_OTH to 89_2_Participant_SlideSize_10_Handcrafted_Features_DF_Resampled_OTH\n",
            "Saving 89_3_Participant_SlideSize_10_Handcrafted_Features_DF_Resampled_OTH to 89_3_Participant_SlideSize_10_Handcrafted_Features_DF_Resampled_OTH\n",
            "Saving 89_4_Participant_SlideSize_10_Handcrafted_Features_DF_Resampled_OTH to 89_4_Participant_SlideSize_10_Handcrafted_Features_DF_Resampled_OTH\n",
            "Saving 89_6_Participant_SlideSize_10_Handcrafted_Features_DF_Resampled_OTH to 89_6_Participant_SlideSize_10_Handcrafted_Features_DF_Resampled_OTH\n"
          ],
          "name": "stdout"
        }
      ]
    },
    {
      "cell_type": "markdown",
      "metadata": {
        "id": "juXPVt1AP0v1"
      },
      "source": [
        "Test"
      ]
    },
    {
      "cell_type": "code",
      "metadata": {
        "id": "eDlYInx_Pyx5",
        "colab": {
          "resources": {
            "http://localhost:8080/nbextensions/google.colab/files.js": {
              "data": "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",
              "ok": true,
              "headers": [
                [
                  "content-type",
                  "application/javascript"
                ]
              ],
              "status": 200,
              "status_text": "OK"
            }
          },
          "base_uri": "https://localhost:8080/",
          "height": 1000
        },
        "outputId": "78174a3f-1b6e-422a-c227-89a8fd1f711e"
      },
      "source": [
        "from google.colab import files\n",
        "uploaded_signal_test = files.upload()"
      ],
      "execution_count": null,
      "outputs": [
        {
          "output_type": "display_data",
          "data": {
            "text/html": [
              "\n",
              "     <input type=\"file\" id=\"files-62179468-d1e7-448f-9ab7-03c847403f7a\" name=\"files[]\" multiple disabled\n",
              "        style=\"border:none\" />\n",
              "     <output id=\"result-62179468-d1e7-448f-9ab7-03c847403f7a\">\n",
              "      Upload widget is only available when the cell has been executed in the\n",
              "      current browser session. Please rerun this cell to enable.\n",
              "      </output>\n",
              "      <script src=\"/nbextensions/google.colab/files.js\"></script> "
            ],
            "text/plain": [
              "<IPython.core.display.HTML object>"
            ]
          },
          "metadata": {
            "tags": []
          }
        },
        {
          "output_type": "stream",
          "text": [
            "Saving 28_7_Participant_SlideSize_10_Handcrafted_Features_DF_Resampled_RJP to 28_7_Participant_SlideSize_10_Handcrafted_Features_DF_Resampled_RJP\n",
            "Saving 28_8_Participant_SlideSize_10_Handcrafted_Features_DF_Resampled_RJP to 28_8_Participant_SlideSize_10_Handcrafted_Features_DF_Resampled_RJP\n",
            "Saving 29_7_Participant_SlideSize_10_Handcrafted_Features_DF_Resampled_RCP to 29_7_Participant_SlideSize_10_Handcrafted_Features_DF_Resampled_RCP\n",
            "Saving 29_8_Participant_SlideSize_10_Handcrafted_Features_DF_Resampled_RCP to 29_8_Participant_SlideSize_10_Handcrafted_Features_DF_Resampled_RCP\n",
            "Saving 32_7_Participant_SlideSize_10_Handcrafted_Features_DF_Resampled_RJP to 32_7_Participant_SlideSize_10_Handcrafted_Features_DF_Resampled_RJP\n",
            "Saving 32_8_Participant_SlideSize_10_Handcrafted_Features_DF_Resampled_RJP to 32_8_Participant_SlideSize_10_Handcrafted_Features_DF_Resampled_RJP\n",
            "Saving 33_7_Participant_SlideSize_10_Handcrafted_Features_DF_Resampled_LJP to 33_7_Participant_SlideSize_10_Handcrafted_Features_DF_Resampled_LJP\n",
            "Saving 33_8_Participant_SlideSize_10_Handcrafted_Features_DF_Resampled_LJP to 33_8_Participant_SlideSize_10_Handcrafted_Features_DF_Resampled_LJP\n",
            "Saving 34_7_Participant_SlideSize_10_Handcrafted_Features_DF_Resampled_RJP to 34_7_Participant_SlideSize_10_Handcrafted_Features_DF_Resampled_RJP\n",
            "Saving 34_8_Participant_SlideSize_10_Handcrafted_Features_DF_Resampled_RJP to 34_8_Participant_SlideSize_10_Handcrafted_Features_DF_Resampled_RJP\n",
            "Saving 35_7_Participant_SlideSize_10_Handcrafted_Features_DF_Resampled_RCP to 35_7_Participant_SlideSize_10_Handcrafted_Features_DF_Resampled_RCP\n",
            "Saving 35_8_Participant_SlideSize_10_Handcrafted_Features_DF_Resampled_RCP to 35_8_Participant_SlideSize_10_Handcrafted_Features_DF_Resampled_RCP\n",
            "Saving 36_7_Participant_SlideSize_10_Handcrafted_Features_DF_Resampled_OTH to 36_7_Participant_SlideSize_10_Handcrafted_Features_DF_Resampled_OTH\n",
            "Saving 36_8_Participant_SlideSize_10_Handcrafted_Features_DF_Resampled_OTH to 36_8_Participant_SlideSize_10_Handcrafted_Features_DF_Resampled_OTH\n",
            "Saving 37_7_Participant_SlideSize_10_Handcrafted_Features_DF_Resampled_RCP to 37_7_Participant_SlideSize_10_Handcrafted_Features_DF_Resampled_RCP\n",
            "Saving 37_8_Participant_SlideSize_10_Handcrafted_Features_DF_Resampled_RCP to 37_8_Participant_SlideSize_10_Handcrafted_Features_DF_Resampled_RCP\n",
            "Saving 38_7_Participant_SlideSize_10_Handcrafted_Features_DF_Resampled_RJP to 38_7_Participant_SlideSize_10_Handcrafted_Features_DF_Resampled_RJP\n",
            "Saving 38_8_Participant_SlideSize_10_Handcrafted_Features_DF_Resampled_RJP to 38_8_Participant_SlideSize_10_Handcrafted_Features_DF_Resampled_RJP\n",
            "Saving 39_7_Participant_SlideSize_10_Handcrafted_Features_DF_Resampled_OTH to 39_7_Participant_SlideSize_10_Handcrafted_Features_DF_Resampled_OTH\n",
            "Saving 40_7_Participant_SlideSize_10_Handcrafted_Features_DF_Resampled_OTH to 40_7_Participant_SlideSize_10_Handcrafted_Features_DF_Resampled_OTH\n",
            "Saving 40_8_Participant_SlideSize_10_Handcrafted_Features_DF_Resampled_OTH to 40_8_Participant_SlideSize_10_Handcrafted_Features_DF_Resampled_OTH\n",
            "Saving 41_7_Participant_SlideSize_10_Handcrafted_Features_DF_Resampled_OTH to 41_7_Participant_SlideSize_10_Handcrafted_Features_DF_Resampled_OTH\n",
            "Saving 41_8_Participant_SlideSize_10_Handcrafted_Features_DF_Resampled_OTH to 41_8_Participant_SlideSize_10_Handcrafted_Features_DF_Resampled_OTH\n",
            "Saving 42_7_Participant_SlideSize_10_Handcrafted_Features_DF_Resampled_LCP to 42_7_Participant_SlideSize_10_Handcrafted_Features_DF_Resampled_LCP\n",
            "Saving 42_8_Participant_SlideSize_10_Handcrafted_Features_DF_Resampled_LCP to 42_8_Participant_SlideSize_10_Handcrafted_Features_DF_Resampled_LCP\n",
            "Saving 43_7_Participant_SlideSize_10_Handcrafted_Features_DF_Resampled_RCP to 43_7_Participant_SlideSize_10_Handcrafted_Features_DF_Resampled_RCP\n",
            "Saving 43_8_Participant_SlideSize_10_Handcrafted_Features_DF_Resampled_RCP to 43_8_Participant_SlideSize_10_Handcrafted_Features_DF_Resampled_RCP\n",
            "Saving 44_7_Participant_SlideSize_10_Handcrafted_Features_DF_Resampled_LJP to 44_7_Participant_SlideSize_10_Handcrafted_Features_DF_Resampled_LJP\n",
            "Saving 44_8_Participant_SlideSize_10_Handcrafted_Features_DF_Resampled_LJP to 44_8_Participant_SlideSize_10_Handcrafted_Features_DF_Resampled_LJP\n",
            "Saving 45_6_Participant_SlideSize_10_Handcrafted_Features_DF_Resampled_OTH to 45_6_Participant_SlideSize_10_Handcrafted_Features_DF_Resampled_OTH\n",
            "Saving 45_8_Participant_SlideSize_10_Handcrafted_Features_DF_Resampled_OTH to 45_8_Participant_SlideSize_10_Handcrafted_Features_DF_Resampled_OTH\n",
            "Saving 46_7_Participant_SlideSize_10_Handcrafted_Features_DF_Resampled_LJP to 46_7_Participant_SlideSize_10_Handcrafted_Features_DF_Resampled_LJP\n",
            "Saving 46_8_Participant_SlideSize_10_Handcrafted_Features_DF_Resampled_LJP to 46_8_Participant_SlideSize_10_Handcrafted_Features_DF_Resampled_LJP\n",
            "Saving 47_7_Participant_SlideSize_10_Handcrafted_Features_DF_Resampled_LJP to 47_7_Participant_SlideSize_10_Handcrafted_Features_DF_Resampled_LJP\n",
            "Saving 47_8_Participant_SlideSize_10_Handcrafted_Features_DF_Resampled_LJP to 47_8_Participant_SlideSize_10_Handcrafted_Features_DF_Resampled_LJP\n",
            "Saving 48_7_Participant_SlideSize_10_Handcrafted_Features_DF_Resampled_OTH to 48_7_Participant_SlideSize_10_Handcrafted_Features_DF_Resampled_OTH\n",
            "Saving 48_8_Participant_SlideSize_10_Handcrafted_Features_DF_Resampled_OTH to 48_8_Participant_SlideSize_10_Handcrafted_Features_DF_Resampled_OTH\n",
            "Saving 49_7_Participant_SlideSize_10_Handcrafted_Features_DF_Resampled_OTH to 49_7_Participant_SlideSize_10_Handcrafted_Features_DF_Resampled_OTH\n",
            "Saving 49_8_Participant_SlideSize_10_Handcrafted_Features_DF_Resampled_OTH to 49_8_Participant_SlideSize_10_Handcrafted_Features_DF_Resampled_OTH\n",
            "Saving 50_7_Participant_SlideSize_10_Handcrafted_Features_DF_Resampled_OTH to 50_7_Participant_SlideSize_10_Handcrafted_Features_DF_Resampled_OTH\n",
            "Saving 50_8_Participant_SlideSize_10_Handcrafted_Features_DF_Resampled_OTH to 50_8_Participant_SlideSize_10_Handcrafted_Features_DF_Resampled_OTH\n",
            "Saving 51_7_Participant_SlideSize_10_Handcrafted_Features_DF_Resampled_RJP to 51_7_Participant_SlideSize_10_Handcrafted_Features_DF_Resampled_RJP\n",
            "Saving 51_8_Participant_SlideSize_10_Handcrafted_Features_DF_Resampled_RJP to 51_8_Participant_SlideSize_10_Handcrafted_Features_DF_Resampled_RJP\n",
            "Saving 52_7_Participant_SlideSize_10_Handcrafted_Features_DF_Resampled_RJP to 52_7_Participant_SlideSize_10_Handcrafted_Features_DF_Resampled_RJP\n",
            "Saving 52_8_Participant_SlideSize_10_Handcrafted_Features_DF_Resampled_RJP to 52_8_Participant_SlideSize_10_Handcrafted_Features_DF_Resampled_RJP\n",
            "Saving 53_7_Participant_SlideSize_10_Handcrafted_Features_DF_Resampled_RJP to 53_7_Participant_SlideSize_10_Handcrafted_Features_DF_Resampled_RJP\n",
            "Saving 53_8_Participant_SlideSize_10_Handcrafted_Features_DF_Resampled_RJP to 53_8_Participant_SlideSize_10_Handcrafted_Features_DF_Resampled_RJP\n",
            "Saving 54_7_Participant_SlideSize_10_Handcrafted_Features_DF_Resampled_OTH to 54_7_Participant_SlideSize_10_Handcrafted_Features_DF_Resampled_OTH\n",
            "Saving 54_8_Participant_SlideSize_10_Handcrafted_Features_DF_Resampled_OTH to 54_8_Participant_SlideSize_10_Handcrafted_Features_DF_Resampled_OTH\n",
            "Saving 55_7_Participant_SlideSize_10_Handcrafted_Features_DF_Resampled_OTH to 55_7_Participant_SlideSize_10_Handcrafted_Features_DF_Resampled_OTH\n",
            "Saving 55_8_Participant_SlideSize_10_Handcrafted_Features_DF_Resampled_OTH to 55_8_Participant_SlideSize_10_Handcrafted_Features_DF_Resampled_OTH\n",
            "Saving 56_7_Participant_SlideSize_10_Handcrafted_Features_DF_Resampled_RJP to 56_7_Participant_SlideSize_10_Handcrafted_Features_DF_Resampled_RJP\n",
            "Saving 56_8_Participant_SlideSize_10_Handcrafted_Features_DF_Resampled_RJP to 56_8_Participant_SlideSize_10_Handcrafted_Features_DF_Resampled_RJP\n",
            "Saving 57_7_Participant_SlideSize_10_Handcrafted_Features_DF_Resampled_RJP to 57_7_Participant_SlideSize_10_Handcrafted_Features_DF_Resampled_RJP\n",
            "Saving 57_8_Participant_SlideSize_10_Handcrafted_Features_DF_Resampled_RJP to 57_8_Participant_SlideSize_10_Handcrafted_Features_DF_Resampled_RJP\n",
            "Saving 58_7_Participant_SlideSize_10_Handcrafted_Features_DF_Resampled_LJP to 58_7_Participant_SlideSize_10_Handcrafted_Features_DF_Resampled_LJP\n",
            "Saving 58_8_Participant_SlideSize_10_Handcrafted_Features_DF_Resampled_LJP to 58_8_Participant_SlideSize_10_Handcrafted_Features_DF_Resampled_LJP\n",
            "Saving 59_7_Participant_SlideSize_10_Handcrafted_Features_DF_Resampled_RJP to 59_7_Participant_SlideSize_10_Handcrafted_Features_DF_Resampled_RJP\n",
            "Saving 59_8_Participant_SlideSize_10_Handcrafted_Features_DF_Resampled_RJP to 59_8_Participant_SlideSize_10_Handcrafted_Features_DF_Resampled_RJP\n",
            "Saving 60_7_Participant_SlideSize_10_Handcrafted_Features_DF_Resampled_RJP to 60_7_Participant_SlideSize_10_Handcrafted_Features_DF_Resampled_RJP\n",
            "Saving 60_8_Participant_SlideSize_10_Handcrafted_Features_DF_Resampled_RJP to 60_8_Participant_SlideSize_10_Handcrafted_Features_DF_Resampled_RJP\n",
            "Saving 61_7_Participant_SlideSize_10_Handcrafted_Features_DF_Resampled_RJP to 61_7_Participant_SlideSize_10_Handcrafted_Features_DF_Resampled_RJP\n",
            "Saving 61_8_Participant_SlideSize_10_Handcrafted_Features_DF_Resampled_RJP to 61_8_Participant_SlideSize_10_Handcrafted_Features_DF_Resampled_RJP\n",
            "Saving 62_7_Participant_SlideSize_10_Handcrafted_Features_DF_Resampled_RJP to 62_7_Participant_SlideSize_10_Handcrafted_Features_DF_Resampled_RJP\n",
            "Saving 63_7_Participant_SlideSize_10_Handcrafted_Features_DF_Resampled_RJP to 63_7_Participant_SlideSize_10_Handcrafted_Features_DF_Resampled_RJP\n",
            "Saving 63_8_Participant_SlideSize_10_Handcrafted_Features_DF_Resampled_RJP to 63_8_Participant_SlideSize_10_Handcrafted_Features_DF_Resampled_RJP\n",
            "Saving 64_7_Participant_SlideSize_10_Handcrafted_Features_DF_Resampled_OTH to 64_7_Participant_SlideSize_10_Handcrafted_Features_DF_Resampled_OTH\n",
            "Saving 64_8_Participant_SlideSize_10_Handcrafted_Features_DF_Resampled_OTH to 64_8_Participant_SlideSize_10_Handcrafted_Features_DF_Resampled_OTH\n",
            "Saving 65_7_Participant_SlideSize_10_Handcrafted_Features_DF_Resampled_LCP to 65_7_Participant_SlideSize_10_Handcrafted_Features_DF_Resampled_LCP\n",
            "Saving 65_8_Participant_SlideSize_10_Handcrafted_Features_DF_Resampled_LCP to 65_8_Participant_SlideSize_10_Handcrafted_Features_DF_Resampled_LCP\n",
            "Saving 66_7_Participant_SlideSize_10_Handcrafted_Features_DF_Resampled_RJP to 66_7_Participant_SlideSize_10_Handcrafted_Features_DF_Resampled_RJP\n",
            "Saving 66_8_Participant_SlideSize_10_Handcrafted_Features_DF_Resampled_RJP to 66_8_Participant_SlideSize_10_Handcrafted_Features_DF_Resampled_RJP\n",
            "Saving 67_7_Participant_SlideSize_10_Handcrafted_Features_DF_Resampled_RJP to 67_7_Participant_SlideSize_10_Handcrafted_Features_DF_Resampled_RJP\n",
            "Saving 67_8_Participant_SlideSize_10_Handcrafted_Features_DF_Resampled_RJP to 67_8_Participant_SlideSize_10_Handcrafted_Features_DF_Resampled_RJP\n",
            "Saving 68_7_Participant_SlideSize_10_Handcrafted_Features_DF_Resampled_OTH to 68_7_Participant_SlideSize_10_Handcrafted_Features_DF_Resampled_OTH\n",
            "Saving 68_8_Participant_SlideSize_10_Handcrafted_Features_DF_Resampled_OTH to 68_8_Participant_SlideSize_10_Handcrafted_Features_DF_Resampled_OTH\n",
            "Saving 69_7_Participant_SlideSize_10_Handcrafted_Features_DF_Resampled_LCP to 69_7_Participant_SlideSize_10_Handcrafted_Features_DF_Resampled_LCP\n",
            "Saving 69_8_Participant_SlideSize_10_Handcrafted_Features_DF_Resampled_LCP to 69_8_Participant_SlideSize_10_Handcrafted_Features_DF_Resampled_LCP\n",
            "Saving 70_7_Participant_SlideSize_10_Handcrafted_Features_DF_Resampled_LJP to 70_7_Participant_SlideSize_10_Handcrafted_Features_DF_Resampled_LJP\n",
            "Saving 70_8_Participant_SlideSize_10_Handcrafted_Features_DF_Resampled_LJP to 70_8_Participant_SlideSize_10_Handcrafted_Features_DF_Resampled_LJP\n",
            "Saving 71_7_Participant_SlideSize_10_Handcrafted_Features_DF_Resampled_RJP to 71_7_Participant_SlideSize_10_Handcrafted_Features_DF_Resampled_RJP\n",
            "Saving 71_8_Participant_SlideSize_10_Handcrafted_Features_DF_Resampled_RJP to 71_8_Participant_SlideSize_10_Handcrafted_Features_DF_Resampled_RJP\n",
            "Saving 72_7_Participant_SlideSize_10_Handcrafted_Features_DF_Resampled_OTH to 72_7_Participant_SlideSize_10_Handcrafted_Features_DF_Resampled_OTH\n",
            "Saving 72_8_Participant_SlideSize_10_Handcrafted_Features_DF_Resampled_OTH to 72_8_Participant_SlideSize_10_Handcrafted_Features_DF_Resampled_OTH\n",
            "Saving 73_7_Participant_SlideSize_10_Handcrafted_Features_DF_Resampled_OTH to 73_7_Participant_SlideSize_10_Handcrafted_Features_DF_Resampled_OTH\n",
            "Saving 73_8_Participant_SlideSize_10_Handcrafted_Features_DF_Resampled_OTH to 73_8_Participant_SlideSize_10_Handcrafted_Features_DF_Resampled_OTH\n",
            "Saving 74_7_Participant_SlideSize_10_Handcrafted_Features_DF_Resampled_OTH to 74_7_Participant_SlideSize_10_Handcrafted_Features_DF_Resampled_OTH\n",
            "Saving 74_8_Participant_SlideSize_10_Handcrafted_Features_DF_Resampled_OTH to 74_8_Participant_SlideSize_10_Handcrafted_Features_DF_Resampled_OTH\n",
            "Saving 75_7_Participant_SlideSize_10_Handcrafted_Features_DF_Resampled_RJP to 75_7_Participant_SlideSize_10_Handcrafted_Features_DF_Resampled_RJP\n",
            "Saving 75_8_Participant_SlideSize_10_Handcrafted_Features_DF_Resampled_RJP to 75_8_Participant_SlideSize_10_Handcrafted_Features_DF_Resampled_RJP\n",
            "Saving 76_6_Participant_SlideSize_10_Handcrafted_Features_DF_Resampled_OTH to 76_6_Participant_SlideSize_10_Handcrafted_Features_DF_Resampled_OTH\n",
            "Saving 76_7_Participant_SlideSize_10_Handcrafted_Features_DF_Resampled_OTH to 76_7_Participant_SlideSize_10_Handcrafted_Features_DF_Resampled_OTH\n",
            "Saving 76_8_Participant_SlideSize_10_Handcrafted_Features_DF_Resampled_OTH to 76_8_Participant_SlideSize_10_Handcrafted_Features_DF_Resampled_OTH\n",
            "Saving 77_7_Participant_SlideSize_10_Handcrafted_Features_DF_Resampled_OTH to 77_7_Participant_SlideSize_10_Handcrafted_Features_DF_Resampled_OTH\n",
            "Saving 77_8_Participant_SlideSize_10_Handcrafted_Features_DF_Resampled_OTH to 77_8_Participant_SlideSize_10_Handcrafted_Features_DF_Resampled_OTH\n",
            "Saving 78_7_Participant_SlideSize_10_Handcrafted_Features_DF_Resampled_RJP to 78_7_Participant_SlideSize_10_Handcrafted_Features_DF_Resampled_RJP\n",
            "Saving 78_8_Participant_SlideSize_10_Handcrafted_Features_DF_Resampled_RJP to 78_8_Participant_SlideSize_10_Handcrafted_Features_DF_Resampled_RJP\n",
            "Saving 79_7_Participant_SlideSize_10_Handcrafted_Features_DF_Resampled_RJP to 79_7_Participant_SlideSize_10_Handcrafted_Features_DF_Resampled_RJP\n",
            "Saving 79_8_Participant_SlideSize_10_Handcrafted_Features_DF_Resampled_RJP to 79_8_Participant_SlideSize_10_Handcrafted_Features_DF_Resampled_RJP\n",
            "Saving 80_7_Participant_SlideSize_10_Handcrafted_Features_DF_Resampled_RCP to 80_7_Participant_SlideSize_10_Handcrafted_Features_DF_Resampled_RCP\n",
            "Saving 80_8_Participant_SlideSize_10_Handcrafted_Features_DF_Resampled_RCP to 80_8_Participant_SlideSize_10_Handcrafted_Features_DF_Resampled_RCP\n",
            "Saving 81_7_Participant_SlideSize_10_Handcrafted_Features_DF_Resampled_RCP to 81_7_Participant_SlideSize_10_Handcrafted_Features_DF_Resampled_RCP\n",
            "Saving 81_8_Participant_SlideSize_10_Handcrafted_Features_DF_Resampled_RCP to 81_8_Participant_SlideSize_10_Handcrafted_Features_DF_Resampled_RCP\n",
            "Saving 82_7_Participant_SlideSize_10_Handcrafted_Features_DF_Resampled_RJP to 82_7_Participant_SlideSize_10_Handcrafted_Features_DF_Resampled_RJP\n",
            "Saving 82_8_Participant_SlideSize_10_Handcrafted_Features_DF_Resampled_RJP to 82_8_Participant_SlideSize_10_Handcrafted_Features_DF_Resampled_RJP\n",
            "Saving 83_7_Participant_SlideSize_10_Handcrafted_Features_DF_Resampled_OTH to 83_7_Participant_SlideSize_10_Handcrafted_Features_DF_Resampled_OTH\n",
            "Saving 83_8_Participant_SlideSize_10_Handcrafted_Features_DF_Resampled_OTH to 83_8_Participant_SlideSize_10_Handcrafted_Features_DF_Resampled_OTH\n",
            "Saving 84_7_Participant_SlideSize_10_Handcrafted_Features_DF_Resampled_OTH to 84_7_Participant_SlideSize_10_Handcrafted_Features_DF_Resampled_OTH\n",
            "Saving 84_8_Participant_SlideSize_10_Handcrafted_Features_DF_Resampled_OTH to 84_8_Participant_SlideSize_10_Handcrafted_Features_DF_Resampled_OTH\n",
            "Saving 85_7_Participant_SlideSize_10_Handcrafted_Features_DF_Resampled_OTH to 85_7_Participant_SlideSize_10_Handcrafted_Features_DF_Resampled_OTH\n",
            "Saving 85_8_Participant_SlideSize_10_Handcrafted_Features_DF_Resampled_OTH to 85_8_Participant_SlideSize_10_Handcrafted_Features_DF_Resampled_OTH\n",
            "Saving 86_7_Participant_SlideSize_10_Handcrafted_Features_DF_Resampled_RCP to 86_7_Participant_SlideSize_10_Handcrafted_Features_DF_Resampled_RCP\n",
            "Saving 86_8_Participant_SlideSize_10_Handcrafted_Features_DF_Resampled_RCP to 86_8_Participant_SlideSize_10_Handcrafted_Features_DF_Resampled_RCP\n",
            "Saving 87_7_Participant_SlideSize_10_Handcrafted_Features_DF_Resampled_OTH to 87_7_Participant_SlideSize_10_Handcrafted_Features_DF_Resampled_OTH\n",
            "Saving 87_8_Participant_SlideSize_10_Handcrafted_Features_DF_Resampled_OTH to 87_8_Participant_SlideSize_10_Handcrafted_Features_DF_Resampled_OTH\n",
            "Saving 88_7_Participant_SlideSize_10_Handcrafted_Features_DF_Resampled_LJP to 88_7_Participant_SlideSize_10_Handcrafted_Features_DF_Resampled_LJP\n",
            "Saving 88_8_Participant_SlideSize_10_Handcrafted_Features_DF_Resampled_LJP to 88_8_Participant_SlideSize_10_Handcrafted_Features_DF_Resampled_LJP\n",
            "Saving 89_7_Participant_SlideSize_10_Handcrafted_Features_DF_Resampled_OTH to 89_7_Participant_SlideSize_10_Handcrafted_Features_DF_Resampled_OTH\n",
            "Saving 89_8_Participant_SlideSize_10_Handcrafted_Features_DF_Resampled_OTH to 89_8_Participant_SlideSize_10_Handcrafted_Features_DF_Resampled_OTH\n"
          ],
          "name": "stdout"
        }
      ]
    },
    {
      "cell_type": "markdown",
      "metadata": {
        "id": "AFIL8q5nvqUf"
      },
      "source": [
        "### Reading in segments & labels"
      ]
    },
    {
      "cell_type": "markdown",
      "metadata": {
        "id": "Y70o5U5mSOUU"
      },
      "source": [
        "Train"
      ]
    },
    {
      "cell_type": "code",
      "metadata": {
        "id": "dxXU40eBttE6"
      },
      "source": [
        "# getting keys, which is file names of npy \n",
        "list_of_dataframes_train = [key for key in uploaded_signal_train.keys()]\n",
        "\n",
        "\n",
        "# set up list to hold all loaded npy \n",
        "all_dataframe_train = [] \n",
        "\n",
        "\n",
        "for i in range(len(list_of_dataframes_train)):\n",
        "\n",
        "    # load in the data \n",
        "    dataframe_train = pd.read_csv(list_of_dataframes_train[i])\n",
        "\n",
        "\n",
        "    # append the data to 'all' list\n",
        "    all_dataframe_train.append(dataframe_train) \n",
        "\n",
        "\n",
        "all_df_train = pd.concat(all_dataframe_train)"
      ],
      "execution_count": null,
      "outputs": []
    },
    {
      "cell_type": "markdown",
      "metadata": {
        "id": "uXzYX7vVSPqK"
      },
      "source": [
        "Test"
      ]
    },
    {
      "cell_type": "code",
      "metadata": {
        "id": "4s9Wo8YGSQeN"
      },
      "source": [
        "# getting keys, which is file names of npy \n",
        "list_of_dataframes_test = [key for key in uploaded_signal_test.keys()]\n",
        "\n",
        "\n",
        "# set up list to hold all loaded npy \n",
        "all_dataframe_test = [] \n",
        "\n",
        "\n",
        "for i in range(len(list_of_dataframes_test)):\n",
        "\n",
        "    # load in the data \n",
        "    dataframe_test = pd.read_csv(list_of_dataframes_test[i])\n",
        "\n",
        "\n",
        "    # append the data to 'all' list\n",
        "    all_dataframe_test.append(dataframe_test) \n",
        "\n",
        "\n",
        "all_df_test = pd.concat(all_dataframe_test)\n"
      ],
      "execution_count": null,
      "outputs": []
    },
    {
      "cell_type": "markdown",
      "metadata": {
        "id": "tv9p0IN6UTkW"
      },
      "source": [
        "# Quick Shuffle "
      ]
    },
    {
      "cell_type": "code",
      "metadata": {
        "id": "Yza_3-7pUVHI"
      },
      "source": [
        "all_df_train = shuffle(all_df_train)\n",
        "all_df_test = shuffle(all_df_test)"
      ],
      "execution_count": null,
      "outputs": []
    },
    {
      "cell_type": "markdown",
      "metadata": {
        "id": "8jsSnExgGesF"
      },
      "source": [
        "# Quick Look "
      ]
    },
    {
      "cell_type": "code",
      "metadata": {
        "id": "pCEZ0lTrGiz3",
        "colab": {
          "base_uri": "https://localhost:8080/",
          "height": 360
        },
        "outputId": "52e81269-3174-4228-ffd9-06998556868b"
      },
      "source": [
        "all_df_train.head()"
      ],
      "execution_count": null,
      "outputs": [
        {
          "output_type": "execute_result",
          "data": {
            "text/html": [
              "<div>\n",
              "<style scoped>\n",
              "    .dataframe tbody tr th:only-of-type {\n",
              "        vertical-align: middle;\n",
              "    }\n",
              "\n",
              "    .dataframe tbody tr th {\n",
              "        vertical-align: top;\n",
              "    }\n",
              "\n",
              "    .dataframe thead th {\n",
              "        text-align: right;\n",
              "    }\n",
              "</style>\n",
              "<table border=\"1\" class=\"dataframe\">\n",
              "  <thead>\n",
              "    <tr style=\"text-align: right;\">\n",
              "      <th></th>\n",
              "      <th>Unnamed: 0</th>\n",
              "      <th>X_Mean_Acc_Move</th>\n",
              "      <th>Y_Mean_Acc_Move</th>\n",
              "      <th>Z_Mean_Acc_Move</th>\n",
              "      <th>X_Mean_Magnet</th>\n",
              "      <th>Y_Mean_Magnet</th>\n",
              "      <th>Z_Mean_Magnet</th>\n",
              "      <th>Pitch_Mean_Gyro</th>\n",
              "      <th>Roll_Mean_Gyro</th>\n",
              "      <th>Yaw_Mean_Gyro</th>\n",
              "      <th>X_Acc_Move_FFT_EnergyBands</th>\n",
              "      <th>Y_Acc_Move_FFT_EnergyBands</th>\n",
              "      <th>Z_Acc_Move_FFT_EnergyBands</th>\n",
              "      <th>X_Acc_Move_FFT_DominantFrequency</th>\n",
              "      <th>Y_Acc_Move_FFT_DominantFrequency</th>\n",
              "      <th>Z_Acc_Move_FFT_DominantFrequency</th>\n",
              "      <th>X_Acc_Move_FFT_MaxPower</th>\n",
              "      <th>Y_Acc_Move_FFT_MaxPower</th>\n",
              "      <th>Z_Acc_Move_FFT_MaxPower</th>\n",
              "      <th>X_Acc_Move_FFT_MeanWeightedFrequency</th>\n",
              "      <th>Y_Acc_Move_FFT_MeanWeightedFrequency</th>\n",
              "      <th>Z_Acc_Move_FFT_MeanWeightedFrequency</th>\n",
              "      <th>X_Acc_Move_FFT_SkewnessFrequency</th>\n",
              "      <th>Y_Acc_Move_FFT_SkewnessFrequency</th>\n",
              "      <th>Z_Acc_Move_FFT_SkewnessFrequency</th>\n",
              "      <th>X_Acc_Move_FFT_KurtosisFrequency</th>\n",
              "      <th>Y_Acc_Move_FFT_KurtosisFrequency</th>\n",
              "      <th>Z_Acc_Move_FFT_KurtosisFrequency</th>\n",
              "      <th>X_Magnet_ChangeOfSign</th>\n",
              "      <th>Y_Magnet_ChangeOfSign</th>\n",
              "      <th>Z_Magnet_ChangeOfSign</th>\n",
              "      <th>X_std_Acc_Move</th>\n",
              "      <th>Y_std_Acc_Move</th>\n",
              "      <th>Z_std_Acc_Move</th>\n",
              "      <th>X_std_Magnet</th>\n",
              "      <th>Y_std_Magnet</th>\n",
              "      <th>Z_std_Magnet</th>\n",
              "      <th>Pitch_std_Gyro</th>\n",
              "      <th>Roll_std_Gyro</th>\n",
              "      <th>Yaw_std_Gyro</th>\n",
              "      <th>...</th>\n",
              "      <th>Z_max_Magnet</th>\n",
              "      <th>Pitch_max_Gyro</th>\n",
              "      <th>Roll_max_Gyro</th>\n",
              "      <th>Yaw_max_Gyro</th>\n",
              "      <th>X_min_Acc_Move</th>\n",
              "      <th>Y_min_Acc_Move</th>\n",
              "      <th>Z_min_Acc_Move</th>\n",
              "      <th>X_min_Magnet</th>\n",
              "      <th>Y_min_Magnet</th>\n",
              "      <th>Z_min_Magnet</th>\n",
              "      <th>Pitch_min_Gyro</th>\n",
              "      <th>Roll_min_Gyro</th>\n",
              "      <th>Yaw_min_Gyro</th>\n",
              "      <th>SMA_Acc_Move</th>\n",
              "      <th>SMA_Magnet</th>\n",
              "      <th>SMA_Gyro</th>\n",
              "      <th>Energy_Acc_Move</th>\n",
              "      <th>Energy_Magnet</th>\n",
              "      <th>Energy_Gyro</th>\n",
              "      <th>X_iqr_Acc_Move</th>\n",
              "      <th>Y_iqr_Acc_Move</th>\n",
              "      <th>Z_iqr_Acc_Move</th>\n",
              "      <th>X_iqr_Magnet</th>\n",
              "      <th>Y_iqr_Magnet</th>\n",
              "      <th>Z_iqr_Magnet</th>\n",
              "      <th>Pitch_iqr_Gyro</th>\n",
              "      <th>Roll_iqr_Gyro</th>\n",
              "      <th>Yaw_iqr_Gyro</th>\n",
              "      <th>XY_corr_Acc_Move</th>\n",
              "      <th>XZ_corr_Acc_Move</th>\n",
              "      <th>YZ_corr_Acc_Move</th>\n",
              "      <th>XY_corr_Magnet</th>\n",
              "      <th>XZ_corr_Magnet</th>\n",
              "      <th>YZ_corr_Magnet</th>\n",
              "      <th>Pitch_Roll_corr_Gyro</th>\n",
              "      <th>Pitch_Yaw_corr_Gyro</th>\n",
              "      <th>Roll_Yaw_corr_Gyro</th>\n",
              "      <th>Label_segment</th>\n",
              "      <th>Participant_ID</th>\n",
              "      <th>Participant_Run</th>\n",
              "    </tr>\n",
              "  </thead>\n",
              "  <tbody>\n",
              "    <tr>\n",
              "      <th>261</th>\n",
              "      <td>261</td>\n",
              "      <td>-1.177880</td>\n",
              "      <td>-0.291227</td>\n",
              "      <td>0.747499</td>\n",
              "      <td>-3.159495</td>\n",
              "      <td>10.964644</td>\n",
              "      <td>-43.858633</td>\n",
              "      <td>0.192649</td>\n",
              "      <td>-0.026149</td>\n",
              "      <td>-0.404660</td>\n",
              "      <td>[2.22044605e-16+0.j         1.02862885e+00-0.4...</td>\n",
              "      <td>[-1.94289029e-16+0.j          1.19779097e+00+0...</td>\n",
              "      <td>[-1.94289029e-16+0.j          1.19779097e+00+0...</td>\n",
              "      <td>10.0</td>\n",
              "      <td>10.0</td>\n",
              "      <td>10.0</td>\n",
              "      <td>1.142397</td>\n",
              "      <td>1.231735</td>\n",
              "      <td>1.231735</td>\n",
              "      <td>5.553739</td>\n",
              "      <td>3.993884</td>\n",
              "      <td>3.993884</td>\n",
              "      <td>5.553739</td>\n",
              "      <td>3.993884</td>\n",
              "      <td>3.993884</td>\n",
              "      <td>0.177887</td>\n",
              "      <td>1.024176</td>\n",
              "      <td>1.024176</td>\n",
              "      <td>0</td>\n",
              "      <td>0</td>\n",
              "      <td>0</td>\n",
              "      <td>0.177208</td>\n",
              "      <td>0.177645</td>\n",
              "      <td>0.860397</td>\n",
              "      <td>0.250883</td>\n",
              "      <td>0.302261</td>\n",
              "      <td>0.167248</td>\n",
              "      <td>0.022738</td>\n",
              "      <td>0.203173</td>\n",
              "      <td>0.179657</td>\n",
              "      <td>...</td>\n",
              "      <td>-43.642852</td>\n",
              "      <td>0.221178</td>\n",
              "      <td>0.288143</td>\n",
              "      <td>-0.209982</td>\n",
              "      <td>-1.400254</td>\n",
              "      <td>-0.544454</td>\n",
              "      <td>-0.994650</td>\n",
              "      <td>-3.663640</td>\n",
              "      <td>10.596051</td>\n",
              "      <td>-44.084503</td>\n",
              "      <td>0.152043</td>\n",
              "      <td>-0.253654</td>\n",
              "      <td>-0.682793</td>\n",
              "      <td>2.518457</td>\n",
              "      <td>57.982771</td>\n",
              "      <td>0.785627</td>\n",
              "      <td>2.834213</td>\n",
              "      <td>2053.967787</td>\n",
              "      <td>0.275619</td>\n",
              "      <td>0.259678</td>\n",
              "      <td>0.300634</td>\n",
              "      <td>1.162621</td>\n",
              "      <td>0.187726</td>\n",
              "      <td>0.048634</td>\n",
              "      <td>0.326612</td>\n",
              "      <td>0.034401</td>\n",
              "      <td>0.379687</td>\n",
              "      <td>0.321932</td>\n",
              "      <td>0.732010</td>\n",
              "      <td>-0.911987</td>\n",
              "      <td>-0.696713</td>\n",
              "      <td>-0.867184</td>\n",
              "      <td>0.188641</td>\n",
              "      <td>0.145016</td>\n",
              "      <td>-0.951090</td>\n",
              "      <td>-0.664138</td>\n",
              "      <td>0.805603</td>\n",
              "      <td>sit</td>\n",
              "      <td>85</td>\n",
              "      <td>6</td>\n",
              "    </tr>\n",
              "    <tr>\n",
              "      <th>8</th>\n",
              "      <td>8</td>\n",
              "      <td>0.021662</td>\n",
              "      <td>0.417292</td>\n",
              "      <td>-0.082392</td>\n",
              "      <td>-18.101200</td>\n",
              "      <td>-4.163246</td>\n",
              "      <td>-21.125292</td>\n",
              "      <td>0.001666</td>\n",
              "      <td>0.000183</td>\n",
              "      <td>-0.000532</td>\n",
              "      <td>[-1.04083409e-17+0.j         -2.48845444e-02+0...</td>\n",
              "      <td>[-4.44089210e-16+0.j          1.71095015e-01-0...</td>\n",
              "      <td>[-4.44089210e-16+0.j          1.71095015e-01-0...</td>\n",
              "      <td>10.0</td>\n",
              "      <td>10.0</td>\n",
              "      <td>10.0</td>\n",
              "      <td>0.220071</td>\n",
              "      <td>0.389915</td>\n",
              "      <td>0.389915</td>\n",
              "      <td>1.517300</td>\n",
              "      <td>2.026008</td>\n",
              "      <td>2.026008</td>\n",
              "      <td>1.517300</td>\n",
              "      <td>2.026008</td>\n",
              "      <td>2.026008</td>\n",
              "      <td>0.491810</td>\n",
              "      <td>0.720856</td>\n",
              "      <td>0.720856</td>\n",
              "      <td>0</td>\n",
              "      <td>0</td>\n",
              "      <td>0</td>\n",
              "      <td>0.034724</td>\n",
              "      <td>0.058669</td>\n",
              "      <td>0.064128</td>\n",
              "      <td>0.286437</td>\n",
              "      <td>0.218885</td>\n",
              "      <td>0.495037</td>\n",
              "      <td>0.003471</td>\n",
              "      <td>0.006970</td>\n",
              "      <td>0.003183</td>\n",
              "      <td>...</td>\n",
              "      <td>-20.638642</td>\n",
              "      <td>0.005349</td>\n",
              "      <td>0.007832</td>\n",
              "      <td>0.003770</td>\n",
              "      <td>-0.027609</td>\n",
              "      <td>0.323643</td>\n",
              "      <td>-0.198871</td>\n",
              "      <td>-18.536943</td>\n",
              "      <td>-4.594618</td>\n",
              "      <td>-22.114621</td>\n",
              "      <td>-0.004747</td>\n",
              "      <td>-0.009459</td>\n",
              "      <td>-0.005082</td>\n",
              "      <td>0.539373</td>\n",
              "      <td>43.389739</td>\n",
              "      <td>0.013032</td>\n",
              "      <td>0.190151</td>\n",
              "      <td>791.639063</td>\n",
              "      <td>0.000074</td>\n",
              "      <td>0.054477</td>\n",
              "      <td>0.100716</td>\n",
              "      <td>0.084348</td>\n",
              "      <td>0.529791</td>\n",
              "      <td>0.379342</td>\n",
              "      <td>0.851708</td>\n",
              "      <td>0.006039</td>\n",
              "      <td>0.013741</td>\n",
              "      <td>0.005399</td>\n",
              "      <td>-0.802498</td>\n",
              "      <td>0.029147</td>\n",
              "      <td>-0.479282</td>\n",
              "      <td>-0.327656</td>\n",
              "      <td>0.653575</td>\n",
              "      <td>0.426728</td>\n",
              "      <td>-0.750699</td>\n",
              "      <td>0.859585</td>\n",
              "      <td>-0.966733</td>\n",
              "      <td>Go</td>\n",
              "      <td>56</td>\n",
              "      <td>4</td>\n",
              "    </tr>\n",
              "    <tr>\n",
              "      <th>393</th>\n",
              "      <td>393</td>\n",
              "      <td>-0.387715</td>\n",
              "      <td>1.486262</td>\n",
              "      <td>-0.145638</td>\n",
              "      <td>1.410260</td>\n",
              "      <td>-24.924130</td>\n",
              "      <td>-21.534711</td>\n",
              "      <td>-0.105753</td>\n",
              "      <td>-0.188759</td>\n",
              "      <td>-1.117683</td>\n",
              "      <td>[-3.88578059e-16+0.j          5.10573361e-01-1...</td>\n",
              "      <td>[-1.55431223e-15+0.j          3.38996946e-01-0...</td>\n",
              "      <td>[-1.55431223e-15+0.j          3.38996946e-01-0...</td>\n",
              "      <td>10.0</td>\n",
              "      <td>10.0</td>\n",
              "      <td>10.0</td>\n",
              "      <td>1.594807</td>\n",
              "      <td>0.464054</td>\n",
              "      <td>0.464054</td>\n",
              "      <td>17.383244</td>\n",
              "      <td>2.143573</td>\n",
              "      <td>2.143573</td>\n",
              "      <td>17.383244</td>\n",
              "      <td>2.143573</td>\n",
              "      <td>2.143573</td>\n",
              "      <td>-0.458002</td>\n",
              "      <td>1.013226</td>\n",
              "      <td>1.013226</td>\n",
              "      <td>0</td>\n",
              "      <td>0</td>\n",
              "      <td>0</td>\n",
              "      <td>0.298071</td>\n",
              "      <td>0.067936</td>\n",
              "      <td>0.088568</td>\n",
              "      <td>0.535627</td>\n",
              "      <td>0.520264</td>\n",
              "      <td>0.192720</td>\n",
              "      <td>0.022709</td>\n",
              "      <td>0.042735</td>\n",
              "      <td>0.056875</td>\n",
              "      <td>...</td>\n",
              "      <td>-21.343334</td>\n",
              "      <td>-0.065896</td>\n",
              "      <td>-0.140369</td>\n",
              "      <td>-1.025560</td>\n",
              "      <td>-0.862600</td>\n",
              "      <td>1.375788</td>\n",
              "      <td>-0.249187</td>\n",
              "      <td>0.686446</td>\n",
              "      <td>-25.558348</td>\n",
              "      <td>-21.898392</td>\n",
              "      <td>-0.144899</td>\n",
              "      <td>-0.260401</td>\n",
              "      <td>-1.186561</td>\n",
              "      <td>2.049974</td>\n",
              "      <td>47.869101</td>\n",
              "      <td>1.412195</td>\n",
              "      <td>2.481814</td>\n",
              "      <td>1087.539580</td>\n",
              "      <td>1.301605</td>\n",
              "      <td>0.411107</td>\n",
              "      <td>0.124087</td>\n",
              "      <td>0.083931</td>\n",
              "      <td>0.850327</td>\n",
              "      <td>0.963757</td>\n",
              "      <td>0.130896</td>\n",
              "      <td>0.023276</td>\n",
              "      <td>0.074343</td>\n",
              "      <td>0.100351</td>\n",
              "      <td>0.644363</td>\n",
              "      <td>-0.900960</td>\n",
              "      <td>-0.310070</td>\n",
              "      <td>0.022476</td>\n",
              "      <td>-0.553961</td>\n",
              "      <td>0.815691</td>\n",
              "      <td>-0.869716</td>\n",
              "      <td>-0.953439</td>\n",
              "      <td>0.907003</td>\n",
              "      <td>sit</td>\n",
              "      <td>47</td>\n",
              "      <td>6</td>\n",
              "    </tr>\n",
              "    <tr>\n",
              "      <th>47</th>\n",
              "      <td>47</td>\n",
              "      <td>0.492190</td>\n",
              "      <td>-1.917973</td>\n",
              "      <td>-0.948565</td>\n",
              "      <td>-18.395941</td>\n",
              "      <td>6.070108</td>\n",
              "      <td>-27.311104</td>\n",
              "      <td>-0.478129</td>\n",
              "      <td>0.220168</td>\n",
              "      <td>0.146488</td>\n",
              "      <td>[-7.77156117e-16+0.j          1.40298276e+00-3...</td>\n",
              "      <td>[-1.11022302e-15+0.j          5.11617650e-01-2...</td>\n",
              "      <td>[-1.11022302e-15+0.j          5.11617650e-01-2...</td>\n",
              "      <td>10.0</td>\n",
              "      <td>10.0</td>\n",
              "      <td>10.0</td>\n",
              "      <td>3.384884</td>\n",
              "      <td>2.208069</td>\n",
              "      <td>2.208069</td>\n",
              "      <td>25.172822</td>\n",
              "      <td>13.899136</td>\n",
              "      <td>13.899136</td>\n",
              "      <td>25.172822</td>\n",
              "      <td>13.899136</td>\n",
              "      <td>13.899136</td>\n",
              "      <td>0.305609</td>\n",
              "      <td>0.485673</td>\n",
              "      <td>0.485673</td>\n",
              "      <td>0</td>\n",
              "      <td>0</td>\n",
              "      <td>0</td>\n",
              "      <td>0.546557</td>\n",
              "      <td>0.344469</td>\n",
              "      <td>0.254654</td>\n",
              "      <td>0.616353</td>\n",
              "      <td>0.669272</td>\n",
              "      <td>0.237352</td>\n",
              "      <td>0.171002</td>\n",
              "      <td>0.068296</td>\n",
              "      <td>0.083351</td>\n",
              "      <td>...</td>\n",
              "      <td>-27.066686</td>\n",
              "      <td>-0.259493</td>\n",
              "      <td>0.397137</td>\n",
              "      <td>0.230417</td>\n",
              "      <td>-0.174634</td>\n",
              "      <td>-2.425449</td>\n",
              "      <td>-1.387181</td>\n",
              "      <td>-19.322091</td>\n",
              "      <td>5.515420</td>\n",
              "      <td>-27.891545</td>\n",
              "      <td>-0.740418</td>\n",
              "      <td>0.166307</td>\n",
              "      <td>-0.028660</td>\n",
              "      <td>3.440960</td>\n",
              "      <td>51.777153</td>\n",
              "      <td>0.850518</td>\n",
              "      <td>5.302877</td>\n",
              "      <td>1122.037405</td>\n",
              "      <td>0.339393</td>\n",
              "      <td>1.022373</td>\n",
              "      <td>0.686335</td>\n",
              "      <td>0.369452</td>\n",
              "      <td>1.089154</td>\n",
              "      <td>0.435826</td>\n",
              "      <td>0.305033</td>\n",
              "      <td>0.315917</td>\n",
              "      <td>0.029932</td>\n",
              "      <td>0.093958</td>\n",
              "      <td>0.981438</td>\n",
              "      <td>0.763196</td>\n",
              "      <td>0.816126</td>\n",
              "      <td>-0.759170</td>\n",
              "      <td>0.878481</td>\n",
              "      <td>-0.946791</td>\n",
              "      <td>-0.617645</td>\n",
              "      <td>-0.483549</td>\n",
              "      <td>-0.025829</td>\n",
              "      <td>Walk 1</td>\n",
              "      <td>46</td>\n",
              "      <td>6</td>\n",
              "    </tr>\n",
              "    <tr>\n",
              "      <th>110</th>\n",
              "      <td>110</td>\n",
              "      <td>0.995919</td>\n",
              "      <td>-0.199652</td>\n",
              "      <td>-0.575876</td>\n",
              "      <td>-17.075848</td>\n",
              "      <td>6.452823</td>\n",
              "      <td>-30.750659</td>\n",
              "      <td>-0.267323</td>\n",
              "      <td>-0.310701</td>\n",
              "      <td>0.268255</td>\n",
              "      <td>[6.66133815e-16+0.j         2.42771409e+00-6.0...</td>\n",
              "      <td>[ 0.        +0.j         -1.74559547+3.0378067...</td>\n",
              "      <td>[ 0.        +0.j         -1.74559547+3.0378067...</td>\n",
              "      <td>10.0</td>\n",
              "      <td>10.0</td>\n",
              "      <td>10.0</td>\n",
              "      <td>6.509095</td>\n",
              "      <td>3.503623</td>\n",
              "      <td>3.503623</td>\n",
              "      <td>48.164817</td>\n",
              "      <td>32.624460</td>\n",
              "      <td>32.624460</td>\n",
              "      <td>48.164817</td>\n",
              "      <td>32.624460</td>\n",
              "      <td>32.624460</td>\n",
              "      <td>0.416200</td>\n",
              "      <td>-0.305901</td>\n",
              "      <td>-0.305901</td>\n",
              "      <td>0</td>\n",
              "      <td>0</td>\n",
              "      <td>0</td>\n",
              "      <td>1.042176</td>\n",
              "      <td>0.615429</td>\n",
              "      <td>0.329316</td>\n",
              "      <td>0.263194</td>\n",
              "      <td>1.100092</td>\n",
              "      <td>0.219267</td>\n",
              "      <td>0.177846</td>\n",
              "      <td>0.197700</td>\n",
              "      <td>0.172048</td>\n",
              "      <td>...</td>\n",
              "      <td>-30.473519</td>\n",
              "      <td>0.053665</td>\n",
              "      <td>0.070499</td>\n",
              "      <td>0.476515</td>\n",
              "      <td>-0.310410</td>\n",
              "      <td>-1.322725</td>\n",
              "      <td>-0.872945</td>\n",
              "      <td>-17.357579</td>\n",
              "      <td>4.688454</td>\n",
              "      <td>-31.134238</td>\n",
              "      <td>-0.474954</td>\n",
              "      <td>-0.536522</td>\n",
              "      <td>0.022731</td>\n",
              "      <td>2.276484</td>\n",
              "      <td>54.279331</td>\n",
              "      <td>0.871112</td>\n",
              "      <td>2.936680</td>\n",
              "      <td>1280.154113</td>\n",
              "      <td>0.340273</td>\n",
              "      <td>1.997528</td>\n",
              "      <td>0.964130</td>\n",
              "      <td>0.343542</td>\n",
              "      <td>0.482623</td>\n",
              "      <td>1.522906</td>\n",
              "      <td>0.131788</td>\n",
              "      <td>0.313253</td>\n",
              "      <td>0.339697</td>\n",
              "      <td>0.335165</td>\n",
              "      <td>-0.980650</td>\n",
              "      <td>0.856449</td>\n",
              "      <td>-0.926813</td>\n",
              "      <td>-0.958071</td>\n",
              "      <td>-0.850691</td>\n",
              "      <td>0.942640</td>\n",
              "      <td>0.700337</td>\n",
              "      <td>-0.460238</td>\n",
              "      <td>0.279081</td>\n",
              "      <td>Turn 1</td>\n",
              "      <td>47</td>\n",
              "      <td>6</td>\n",
              "    </tr>\n",
              "  </tbody>\n",
              "</table>\n",
              "<p>5 rows × 94 columns</p>\n",
              "</div>"
            ],
            "text/plain": [
              "     Unnamed: 0  X_Mean_Acc_Move  ...  Participant_ID  Participant_Run\n",
              "261         261        -1.177880  ...              85                6\n",
              "8             8         0.021662  ...              56                4\n",
              "393         393        -0.387715  ...              47                6\n",
              "47           47         0.492190  ...              46                6\n",
              "110         110         0.995919  ...              47                6\n",
              "\n",
              "[5 rows x 94 columns]"
            ]
          },
          "metadata": {
            "tags": []
          },
          "execution_count": 65
        }
      ]
    },
    {
      "cell_type": "code",
      "metadata": {
        "id": "TJ-KTwnDGhYv",
        "colab": {
          "base_uri": "https://localhost:8080/",
          "height": 360
        },
        "outputId": "4ee53310-85bb-4f7e-a8e5-2868a68fb9d5"
      },
      "source": [
        "all_df_test.head()"
      ],
      "execution_count": null,
      "outputs": [
        {
          "output_type": "execute_result",
          "data": {
            "text/html": [
              "<div>\n",
              "<style scoped>\n",
              "    .dataframe tbody tr th:only-of-type {\n",
              "        vertical-align: middle;\n",
              "    }\n",
              "\n",
              "    .dataframe tbody tr th {\n",
              "        vertical-align: top;\n",
              "    }\n",
              "\n",
              "    .dataframe thead th {\n",
              "        text-align: right;\n",
              "    }\n",
              "</style>\n",
              "<table border=\"1\" class=\"dataframe\">\n",
              "  <thead>\n",
              "    <tr style=\"text-align: right;\">\n",
              "      <th></th>\n",
              "      <th>Unnamed: 0</th>\n",
              "      <th>X_Mean_Acc_Move</th>\n",
              "      <th>Y_Mean_Acc_Move</th>\n",
              "      <th>Z_Mean_Acc_Move</th>\n",
              "      <th>X_Mean_Magnet</th>\n",
              "      <th>Y_Mean_Magnet</th>\n",
              "      <th>Z_Mean_Magnet</th>\n",
              "      <th>Pitch_Mean_Gyro</th>\n",
              "      <th>Roll_Mean_Gyro</th>\n",
              "      <th>Yaw_Mean_Gyro</th>\n",
              "      <th>X_Acc_Move_FFT_EnergyBands</th>\n",
              "      <th>Y_Acc_Move_FFT_EnergyBands</th>\n",
              "      <th>Z_Acc_Move_FFT_EnergyBands</th>\n",
              "      <th>X_Acc_Move_FFT_DominantFrequency</th>\n",
              "      <th>Y_Acc_Move_FFT_DominantFrequency</th>\n",
              "      <th>Z_Acc_Move_FFT_DominantFrequency</th>\n",
              "      <th>X_Acc_Move_FFT_MaxPower</th>\n",
              "      <th>Y_Acc_Move_FFT_MaxPower</th>\n",
              "      <th>Z_Acc_Move_FFT_MaxPower</th>\n",
              "      <th>X_Acc_Move_FFT_MeanWeightedFrequency</th>\n",
              "      <th>Y_Acc_Move_FFT_MeanWeightedFrequency</th>\n",
              "      <th>Z_Acc_Move_FFT_MeanWeightedFrequency</th>\n",
              "      <th>X_Acc_Move_FFT_SkewnessFrequency</th>\n",
              "      <th>Y_Acc_Move_FFT_SkewnessFrequency</th>\n",
              "      <th>Z_Acc_Move_FFT_SkewnessFrequency</th>\n",
              "      <th>X_Acc_Move_FFT_KurtosisFrequency</th>\n",
              "      <th>Y_Acc_Move_FFT_KurtosisFrequency</th>\n",
              "      <th>Z_Acc_Move_FFT_KurtosisFrequency</th>\n",
              "      <th>X_Magnet_ChangeOfSign</th>\n",
              "      <th>Y_Magnet_ChangeOfSign</th>\n",
              "      <th>Z_Magnet_ChangeOfSign</th>\n",
              "      <th>X_std_Acc_Move</th>\n",
              "      <th>Y_std_Acc_Move</th>\n",
              "      <th>Z_std_Acc_Move</th>\n",
              "      <th>X_std_Magnet</th>\n",
              "      <th>Y_std_Magnet</th>\n",
              "      <th>Z_std_Magnet</th>\n",
              "      <th>Pitch_std_Gyro</th>\n",
              "      <th>Roll_std_Gyro</th>\n",
              "      <th>Yaw_std_Gyro</th>\n",
              "      <th>...</th>\n",
              "      <th>Z_max_Magnet</th>\n",
              "      <th>Pitch_max_Gyro</th>\n",
              "      <th>Roll_max_Gyro</th>\n",
              "      <th>Yaw_max_Gyro</th>\n",
              "      <th>X_min_Acc_Move</th>\n",
              "      <th>Y_min_Acc_Move</th>\n",
              "      <th>Z_min_Acc_Move</th>\n",
              "      <th>X_min_Magnet</th>\n",
              "      <th>Y_min_Magnet</th>\n",
              "      <th>Z_min_Magnet</th>\n",
              "      <th>Pitch_min_Gyro</th>\n",
              "      <th>Roll_min_Gyro</th>\n",
              "      <th>Yaw_min_Gyro</th>\n",
              "      <th>SMA_Acc_Move</th>\n",
              "      <th>SMA_Magnet</th>\n",
              "      <th>SMA_Gyro</th>\n",
              "      <th>Energy_Acc_Move</th>\n",
              "      <th>Energy_Magnet</th>\n",
              "      <th>Energy_Gyro</th>\n",
              "      <th>X_iqr_Acc_Move</th>\n",
              "      <th>Y_iqr_Acc_Move</th>\n",
              "      <th>Z_iqr_Acc_Move</th>\n",
              "      <th>X_iqr_Magnet</th>\n",
              "      <th>Y_iqr_Magnet</th>\n",
              "      <th>Z_iqr_Magnet</th>\n",
              "      <th>Pitch_iqr_Gyro</th>\n",
              "      <th>Roll_iqr_Gyro</th>\n",
              "      <th>Yaw_iqr_Gyro</th>\n",
              "      <th>XY_corr_Acc_Move</th>\n",
              "      <th>XZ_corr_Acc_Move</th>\n",
              "      <th>YZ_corr_Acc_Move</th>\n",
              "      <th>XY_corr_Magnet</th>\n",
              "      <th>XZ_corr_Magnet</th>\n",
              "      <th>YZ_corr_Magnet</th>\n",
              "      <th>Pitch_Roll_corr_Gyro</th>\n",
              "      <th>Pitch_Yaw_corr_Gyro</th>\n",
              "      <th>Roll_Yaw_corr_Gyro</th>\n",
              "      <th>Label_segment</th>\n",
              "      <th>Participant_ID</th>\n",
              "      <th>Participant_Run</th>\n",
              "    </tr>\n",
              "  </thead>\n",
              "  <tbody>\n",
              "    <tr>\n",
              "      <th>404</th>\n",
              "      <td>404</td>\n",
              "      <td>-0.054666</td>\n",
              "      <td>-0.691848</td>\n",
              "      <td>0.408665</td>\n",
              "      <td>-6.228542</td>\n",
              "      <td>18.220690</td>\n",
              "      <td>-32.536599</td>\n",
              "      <td>-0.357342</td>\n",
              "      <td>0.108189</td>\n",
              "      <td>0.676094</td>\n",
              "      <td>[-1.11022302e-16+0.j          1.25450193e+00+0...</td>\n",
              "      <td>[ 7.77156117e-16+0.j         -5.71086232e-02-0...</td>\n",
              "      <td>[ 7.77156117e-16+0.j         -5.71086232e-02-0...</td>\n",
              "      <td>10.0</td>\n",
              "      <td>10.0</td>\n",
              "      <td>10.0</td>\n",
              "      <td>1.421109</td>\n",
              "      <td>0.214347</td>\n",
              "      <td>0.214347</td>\n",
              "      <td>8.227998</td>\n",
              "      <td>2.497035</td>\n",
              "      <td>2.497035</td>\n",
              "      <td>8.227998</td>\n",
              "      <td>2.497035</td>\n",
              "      <td>2.497035</td>\n",
              "      <td>0.773172</td>\n",
              "      <td>-0.658926</td>\n",
              "      <td>-0.658926</td>\n",
              "      <td>0</td>\n",
              "      <td>0</td>\n",
              "      <td>0</td>\n",
              "      <td>0.215446</td>\n",
              "      <td>0.041595</td>\n",
              "      <td>0.180549</td>\n",
              "      <td>0.936939</td>\n",
              "      <td>0.546389</td>\n",
              "      <td>0.163880</td>\n",
              "      <td>0.092630</td>\n",
              "      <td>0.024991</td>\n",
              "      <td>0.062006</td>\n",
              "      <td>...</td>\n",
              "      <td>-32.408887</td>\n",
              "      <td>-0.239898</td>\n",
              "      <td>0.142037</td>\n",
              "      <td>0.802443</td>\n",
              "      <td>-0.342607</td>\n",
              "      <td>-0.775455</td>\n",
              "      <td>0.215416</td>\n",
              "      <td>-7.516199</td>\n",
              "      <td>17.493458</td>\n",
              "      <td>-32.854389</td>\n",
              "      <td>-0.529693</td>\n",
              "      <td>0.068204</td>\n",
              "      <td>0.567924</td>\n",
              "      <td>1.281496</td>\n",
              "      <td>56.985831</td>\n",
              "      <td>1.141625</td>\n",
              "      <td>0.729395</td>\n",
              "      <td>1430.621793</td>\n",
              "      <td>0.609551</td>\n",
              "      <td>0.253958</td>\n",
              "      <td>0.047635</td>\n",
              "      <td>0.119908</td>\n",
              "      <td>1.501791</td>\n",
              "      <td>0.901663</td>\n",
              "      <td>0.137385</td>\n",
              "      <td>0.136592</td>\n",
              "      <td>0.043542</td>\n",
              "      <td>0.051260</td>\n",
              "      <td>-0.714179</td>\n",
              "      <td>0.769080</td>\n",
              "      <td>-0.906211</td>\n",
              "      <td>0.998754</td>\n",
              "      <td>0.810030</td>\n",
              "      <td>0.791431</td>\n",
              "      <td>0.299071</td>\n",
              "      <td>-0.960770</td>\n",
              "      <td>-0.049222</td>\n",
              "      <td>Turn 1</td>\n",
              "      <td>40</td>\n",
              "      <td>8</td>\n",
              "    </tr>\n",
              "    <tr>\n",
              "      <th>69</th>\n",
              "      <td>69</td>\n",
              "      <td>2.899653</td>\n",
              "      <td>-0.849470</td>\n",
              "      <td>0.639792</td>\n",
              "      <td>-20.821131</td>\n",
              "      <td>4.354321</td>\n",
              "      <td>-29.172313</td>\n",
              "      <td>0.232769</td>\n",
              "      <td>-1.150210</td>\n",
              "      <td>-3.098759</td>\n",
              "      <td>[-1.55431223e-15+0.j         -6.52276765e+00+6...</td>\n",
              "      <td>[-4.44089210e-16+0.j          4.46117726e+00+2...</td>\n",
              "      <td>[-4.44089210e-16+0.j          4.46117726e+00+2...</td>\n",
              "      <td>10.0</td>\n",
              "      <td>10.0</td>\n",
              "      <td>10.0</td>\n",
              "      <td>8.877266</td>\n",
              "      <td>5.087641</td>\n",
              "      <td>5.087641</td>\n",
              "      <td>50.046387</td>\n",
              "      <td>17.259392</td>\n",
              "      <td>17.259392</td>\n",
              "      <td>50.046387</td>\n",
              "      <td>17.259392</td>\n",
              "      <td>17.259392</td>\n",
              "      <td>0.945806</td>\n",
              "      <td>0.627690</td>\n",
              "      <td>0.627690</td>\n",
              "      <td>0</td>\n",
              "      <td>0</td>\n",
              "      <td>0</td>\n",
              "      <td>1.323404</td>\n",
              "      <td>0.751372</td>\n",
              "      <td>1.181475</td>\n",
              "      <td>1.900395</td>\n",
              "      <td>1.602944</td>\n",
              "      <td>0.556057</td>\n",
              "      <td>0.137559</td>\n",
              "      <td>0.828633</td>\n",
              "      <td>1.408528</td>\n",
              "      <td>...</td>\n",
              "      <td>-28.281563</td>\n",
              "      <td>0.391241</td>\n",
              "      <td>-0.001697</td>\n",
              "      <td>-0.981962</td>\n",
              "      <td>0.904831</td>\n",
              "      <td>-2.039331</td>\n",
              "      <td>-1.115563</td>\n",
              "      <td>-24.022844</td>\n",
              "      <td>1.931069</td>\n",
              "      <td>-29.897329</td>\n",
              "      <td>0.009579</td>\n",
              "      <td>-2.315606</td>\n",
              "      <td>-5.038716</td>\n",
              "      <td>4.908531</td>\n",
              "      <td>54.347764</td>\n",
              "      <td>4.481737</td>\n",
              "      <td>13.250762</td>\n",
              "      <td>1309.993581</td>\n",
              "      <td>13.668976</td>\n",
              "      <td>2.373954</td>\n",
              "      <td>1.030360</td>\n",
              "      <td>1.887069</td>\n",
              "      <td>1.928236</td>\n",
              "      <td>2.185975</td>\n",
              "      <td>0.577814</td>\n",
              "      <td>0.212155</td>\n",
              "      <td>1.434665</td>\n",
              "      <td>2.458816</td>\n",
              "      <td>-0.268666</td>\n",
              "      <td>0.807685</td>\n",
              "      <td>-0.772964</td>\n",
              "      <td>0.986745</td>\n",
              "      <td>-0.995325</td>\n",
              "      <td>-0.987531</td>\n",
              "      <td>-0.602941</td>\n",
              "      <td>-0.578619</td>\n",
              "      <td>0.988365</td>\n",
              "      <td>Turn 1</td>\n",
              "      <td>69</td>\n",
              "      <td>7</td>\n",
              "    </tr>\n",
              "    <tr>\n",
              "      <th>19</th>\n",
              "      <td>19</td>\n",
              "      <td>-1.770122</td>\n",
              "      <td>2.211932</td>\n",
              "      <td>-3.169464</td>\n",
              "      <td>9.111235</td>\n",
              "      <td>10.675381</td>\n",
              "      <td>-42.870441</td>\n",
              "      <td>0.072032</td>\n",
              "      <td>-0.599916</td>\n",
              "      <td>-0.819885</td>\n",
              "      <td>[-2.99760217e-15+0.j         -1.18814077e+00+9...</td>\n",
              "      <td>[ 3.99680289e-15+0.j         -1.12632290e+01+8...</td>\n",
              "      <td>[ 3.99680289e-15+0.j         -1.12632290e+01+8...</td>\n",
              "      <td>10.0</td>\n",
              "      <td>10.0</td>\n",
              "      <td>10.0</td>\n",
              "      <td>9.212324</td>\n",
              "      <td>14.213635</td>\n",
              "      <td>14.213635</td>\n",
              "      <td>52.670001</td>\n",
              "      <td>85.418211</td>\n",
              "      <td>85.418211</td>\n",
              "      <td>52.670001</td>\n",
              "      <td>85.418211</td>\n",
              "      <td>85.418211</td>\n",
              "      <td>0.781605</td>\n",
              "      <td>0.761732</td>\n",
              "      <td>0.761732</td>\n",
              "      <td>0</td>\n",
              "      <td>0</td>\n",
              "      <td>0</td>\n",
              "      <td>1.393167</td>\n",
              "      <td>2.164065</td>\n",
              "      <td>0.969009</td>\n",
              "      <td>0.565095</td>\n",
              "      <td>0.325865</td>\n",
              "      <td>0.133589</td>\n",
              "      <td>0.136240</td>\n",
              "      <td>0.265535</td>\n",
              "      <td>0.311892</td>\n",
              "      <td>...</td>\n",
              "      <td>-42.624533</td>\n",
              "      <td>0.322983</td>\n",
              "      <td>-0.043507</td>\n",
              "      <td>-0.332389</td>\n",
              "      <td>-3.245819</td>\n",
              "      <td>-1.892270</td>\n",
              "      <td>-4.625148</td>\n",
              "      <td>8.228899</td>\n",
              "      <td>10.215578</td>\n",
              "      <td>-43.015065</td>\n",
              "      <td>-0.116345</td>\n",
              "      <td>-0.870535</td>\n",
              "      <td>-1.197526</td>\n",
              "      <td>7.745091</td>\n",
              "      <td>62.657057</td>\n",
              "      <td>1.550136</td>\n",
              "      <td>25.634545</td>\n",
              "      <td>2035.296470</td>\n",
              "      <td>1.223646</td>\n",
              "      <td>2.832856</td>\n",
              "      <td>3.206430</td>\n",
              "      <td>1.630077</td>\n",
              "      <td>0.949586</td>\n",
              "      <td>0.460779</td>\n",
              "      <td>0.196665</td>\n",
              "      <td>0.197159</td>\n",
              "      <td>0.367828</td>\n",
              "      <td>0.533596</td>\n",
              "      <td>0.745101</td>\n",
              "      <td>-0.859684</td>\n",
              "      <td>-0.939057</td>\n",
              "      <td>-0.900974</td>\n",
              "      <td>0.646694</td>\n",
              "      <td>-0.323491</td>\n",
              "      <td>0.260784</td>\n",
              "      <td>0.353239</td>\n",
              "      <td>0.883997</td>\n",
              "      <td>Walk 1</td>\n",
              "      <td>74</td>\n",
              "      <td>7</td>\n",
              "    </tr>\n",
              "    <tr>\n",
              "      <th>181</th>\n",
              "      <td>181</td>\n",
              "      <td>0.517061</td>\n",
              "      <td>0.087010</td>\n",
              "      <td>-1.006016</td>\n",
              "      <td>-0.970584</td>\n",
              "      <td>1.414559</td>\n",
              "      <td>-34.398329</td>\n",
              "      <td>0.058725</td>\n",
              "      <td>0.009044</td>\n",
              "      <td>1.285464</td>\n",
              "      <td>[ 6.66133815e-16+0.j         -1.34054962e-01-2...</td>\n",
              "      <td>[ 1.11022302e-16 +0.j          2.61000183e+00+...</td>\n",
              "      <td>[ 1.11022302e-16 +0.j          2.61000183e+00+...</td>\n",
              "      <td>20.0</td>\n",
              "      <td>10.0</td>\n",
              "      <td>10.0</td>\n",
              "      <td>2.221920</td>\n",
              "      <td>11.483513</td>\n",
              "      <td>11.483513</td>\n",
              "      <td>33.887608</td>\n",
              "      <td>83.055476</td>\n",
              "      <td>83.055476</td>\n",
              "      <td>33.887608</td>\n",
              "      <td>83.055476</td>\n",
              "      <td>83.055476</td>\n",
              "      <td>-1.132715</td>\n",
              "      <td>0.259925</td>\n",
              "      <td>0.259925</td>\n",
              "      <td>1</td>\n",
              "      <td>1</td>\n",
              "      <td>0</td>\n",
              "      <td>0.506518</td>\n",
              "      <td>1.856169</td>\n",
              "      <td>0.648940</td>\n",
              "      <td>8.165764</td>\n",
              "      <td>4.931892</td>\n",
              "      <td>0.167013</td>\n",
              "      <td>0.384753</td>\n",
              "      <td>0.491085</td>\n",
              "      <td>0.594324</td>\n",
              "      <td>...</td>\n",
              "      <td>-34.255458</td>\n",
              "      <td>0.493262</td>\n",
              "      <td>0.625626</td>\n",
              "      <td>2.259529</td>\n",
              "      <td>-0.341971</td>\n",
              "      <td>-2.326475</td>\n",
              "      <td>-1.672309</td>\n",
              "      <td>-7.797313</td>\n",
              "      <td>-4.911193</td>\n",
              "      <td>-34.648365</td>\n",
              "      <td>-0.464150</td>\n",
              "      <td>-0.671473</td>\n",
              "      <td>0.505355</td>\n",
              "      <td>3.431199</td>\n",
              "      <td>47.690924</td>\n",
              "      <td>2.114531</td>\n",
              "      <td>5.410037</td>\n",
              "      <td>1277.219209</td>\n",
              "      <td>2.398367</td>\n",
              "      <td>0.787221</td>\n",
              "      <td>3.626059</td>\n",
              "      <td>0.813806</td>\n",
              "      <td>16.531659</td>\n",
              "      <td>10.141918</td>\n",
              "      <td>0.314911</td>\n",
              "      <td>0.780417</td>\n",
              "      <td>0.908200</td>\n",
              "      <td>0.984629</td>\n",
              "      <td>-0.562214</td>\n",
              "      <td>-0.065321</td>\n",
              "      <td>-0.406527</td>\n",
              "      <td>-0.994348</td>\n",
              "      <td>-0.883872</td>\n",
              "      <td>0.926930</td>\n",
              "      <td>0.972928</td>\n",
              "      <td>-0.863964</td>\n",
              "      <td>-0.798527</td>\n",
              "      <td>Walk 2</td>\n",
              "      <td>45</td>\n",
              "      <td>6</td>\n",
              "    </tr>\n",
              "    <tr>\n",
              "      <th>62</th>\n",
              "      <td>62</td>\n",
              "      <td>-1.936431</td>\n",
              "      <td>0.471490</td>\n",
              "      <td>1.818251</td>\n",
              "      <td>5.235470</td>\n",
              "      <td>-20.823634</td>\n",
              "      <td>-29.874343</td>\n",
              "      <td>-0.142685</td>\n",
              "      <td>0.192093</td>\n",
              "      <td>0.092905</td>\n",
              "      <td>[ 4.44089210e-16+0.j         -6.98908521e+00-3...</td>\n",
              "      <td>[ 0.        +0.j          4.90645186+6.8233108...</td>\n",
              "      <td>[ 0.        +0.j          4.90645186+6.8233108...</td>\n",
              "      <td>10.0</td>\n",
              "      <td>10.0</td>\n",
              "      <td>10.0</td>\n",
              "      <td>7.922076</td>\n",
              "      <td>8.404216</td>\n",
              "      <td>8.404216</td>\n",
              "      <td>42.784705</td>\n",
              "      <td>19.715423</td>\n",
              "      <td>19.715423</td>\n",
              "      <td>42.784705</td>\n",
              "      <td>19.715423</td>\n",
              "      <td>19.715423</td>\n",
              "      <td>0.838379</td>\n",
              "      <td>1.187193</td>\n",
              "      <td>1.187193</td>\n",
              "      <td>0</td>\n",
              "      <td>0</td>\n",
              "      <td>0</td>\n",
              "      <td>1.187902</td>\n",
              "      <td>1.191061</td>\n",
              "      <td>1.214288</td>\n",
              "      <td>1.019275</td>\n",
              "      <td>0.191863</td>\n",
              "      <td>0.176420</td>\n",
              "      <td>0.220084</td>\n",
              "      <td>0.376393</td>\n",
              "      <td>0.316905</td>\n",
              "      <td>...</td>\n",
              "      <td>-29.635136</td>\n",
              "      <td>0.264352</td>\n",
              "      <td>0.707802</td>\n",
              "      <td>0.478771</td>\n",
              "      <td>-4.228220</td>\n",
              "      <td>-1.194167</td>\n",
              "      <td>0.612701</td>\n",
              "      <td>3.911343</td>\n",
              "      <td>-21.006989</td>\n",
              "      <td>-30.096825</td>\n",
              "      <td>-0.409401</td>\n",
              "      <td>-0.452668</td>\n",
              "      <td>-0.447303</td>\n",
              "      <td>4.899534</td>\n",
              "      <td>55.933447</td>\n",
              "      <td>0.893729</td>\n",
              "      <td>11.582337</td>\n",
              "      <td>1354.617135</td>\n",
              "      <td>0.356428</td>\n",
              "      <td>1.475727</td>\n",
              "      <td>2.054732</td>\n",
              "      <td>1.622929</td>\n",
              "      <td>1.610358</td>\n",
              "      <td>0.309471</td>\n",
              "      <td>0.346973</td>\n",
              "      <td>0.321105</td>\n",
              "      <td>0.595282</td>\n",
              "      <td>0.506709</td>\n",
              "      <td>-0.828085</td>\n",
              "      <td>-0.721434</td>\n",
              "      <td>0.716301</td>\n",
              "      <td>0.669782</td>\n",
              "      <td>-0.137081</td>\n",
              "      <td>0.605295</td>\n",
              "      <td>0.802403</td>\n",
              "      <td>0.529679</td>\n",
              "      <td>0.874721</td>\n",
              "      <td>Walk 1</td>\n",
              "      <td>38</td>\n",
              "      <td>7</td>\n",
              "    </tr>\n",
              "  </tbody>\n",
              "</table>\n",
              "<p>5 rows × 94 columns</p>\n",
              "</div>"
            ],
            "text/plain": [
              "     Unnamed: 0  X_Mean_Acc_Move  ...  Participant_ID  Participant_Run\n",
              "404         404        -0.054666  ...              40                8\n",
              "69           69         2.899653  ...              69                7\n",
              "19           19        -1.770122  ...              74                7\n",
              "181         181         0.517061  ...              45                6\n",
              "62           62        -1.936431  ...              38                7\n",
              "\n",
              "[5 rows x 94 columns]"
            ]
          },
          "metadata": {
            "tags": []
          },
          "execution_count": 66
        }
      ]
    },
    {
      "cell_type": "markdown",
      "metadata": {
        "id": "wVPv0iQ6SPeH"
      },
      "source": [
        "# Train Test Split "
      ]
    },
    {
      "cell_type": "code",
      "metadata": {
        "id": "QlyxtKg4SRMP",
        "colab": {
          "base_uri": "https://localhost:8080/"
        },
        "outputId": "40002307-6d30-4a12-ea28-0f36c49f30a3"
      },
      "source": [
        "# Getting X_train & y_train'\n",
        "X_train = all_df_train.drop(['Unnamed: 0' , 'Label_segment' , 'Participant_ID' , 'Participant_Run', 'X_Acc_Move_FFT_EnergyBands', \t'Y_Acc_Move_FFT_EnergyBands', \t'Z_Acc_Move_FFT_EnergyBands'\t], axis = 1)\n",
        "#X_train = all_df_train.drop(['Unnamed: 0' , 'Label_segment' , 'Participant_ID' , 'Participant_Run'\t], axis = 1)\n",
        "\n",
        "y_train = all_df_train['Label_segment'].values\n",
        "\n",
        "\n",
        "# convert to dummy category\n",
        "y_train_dum = pd.get_dummies(y_train)\n",
        "\n",
        "print(f'\\nDummy labels Shape {y_train_dum.shape}')"
      ],
      "execution_count": null,
      "outputs": [
        {
          "output_type": "stream",
          "text": [
            "\n",
            "Dummy labels Shape (83873, 6)\n"
          ],
          "name": "stdout"
        }
      ]
    },
    {
      "cell_type": "code",
      "metadata": {
        "id": "lyOL-dTlTDbw",
        "colab": {
          "base_uri": "https://localhost:8080/"
        },
        "outputId": "d5165921-0fcc-409e-f167-c808ff6d3654"
      },
      "source": [
        "# Getting X_train & y_train\n",
        "\n",
        "X_test = all_df_test.drop(['Unnamed: 0' , 'Label_segment' , 'Participant_ID' , 'Participant_Run',  'X_Acc_Move_FFT_EnergyBands', \t'Y_Acc_Move_FFT_EnergyBands', \t'Z_Acc_Move_FFT_EnergyBands'], axis = 1)\n",
        "#X_test = all_df_test.drop(['Unnamed: 0' , 'Label_segment' , 'Participant_ID' , 'Participant_Run'\t], axis = 1)\n",
        "\n",
        "y_test = all_df_test['Label_segment'].values\n",
        "\n",
        "# convert to dummy category\n",
        "y_test_dum = pd.get_dummies(y_test)\n",
        "\n",
        "print(f'\\nDummy labels Shape {y_test_dum.shape}')"
      ],
      "execution_count": null,
      "outputs": [
        {
          "output_type": "stream",
          "text": [
            "\n",
            "Dummy labels Shape (38687, 6)\n"
          ],
          "name": "stdout"
        }
      ]
    },
    {
      "cell_type": "markdown",
      "metadata": {
        "id": "wFFnYKxVTIf6"
      },
      "source": [
        "--------------------------------------"
      ]
    },
    {
      "cell_type": "markdown",
      "metadata": {
        "id": "6tVnwD0csNgw"
      },
      "source": [
        "Standard Scale "
      ]
    },
    {
      "cell_type": "code",
      "metadata": {
        "id": "gFhyhbcjsO7K"
      },
      "source": [
        "# Set up ss for non-shuffled data\n",
        "ss = StandardScaler()\n",
        "\n",
        "# fit for non-shuffled\n",
        "X_train_scale = ss.fit_transform(X_train)\n",
        "X_test_scale = ss.transform(X_test)\n"
      ],
      "execution_count": null,
      "outputs": []
    },
    {
      "cell_type": "markdown",
      "metadata": {
        "id": "hmI_62XaSoYf"
      },
      "source": [
        "---------------------------\n",
        "\n",
        "Deep "
      ]
    },
    {
      "cell_type": "code",
      "metadata": {
        "id": "pWbPnaf7S09a"
      },
      "source": [
        "# lstm model\n",
        "from numpy import mean\n",
        "from numpy import std\n",
        "from numpy import dstack\n",
        "from pandas import read_csv\n",
        "from keras.models import Sequential\n",
        "from keras.layers import Dense\n",
        "from keras.layers import Flatten\n",
        "from keras.layers import Dropout\n",
        "from keras.layers import LSTM\n",
        "from keras.layers import TimeDistributed\n",
        "from matplotlib import pyplot\n",
        "\n",
        "from keras.optimizers import Adam\n",
        "\n",
        "import time\n",
        "import tensorflow as tf"
      ],
      "execution_count": null,
      "outputs": []
    },
    {
      "cell_type": "code",
      "metadata": {
        "id": "ijn3-yBIS6SX"
      },
      "source": [
        "#n_timesteps, n_features, n_outputs = X_train.shape[1] , X_train.shape[2] , y_train_dum.shape[1]\n",
        "\n",
        "n_outputs =  y_train_dum.shape[1]\n",
        "\n",
        "# set up model\n",
        "model = Sequential()\n",
        "\n",
        "#input layer\n",
        "model.add(Dense(100, activation='relu' , input_shape = (X_train_scale.shape[1], )))\n",
        "\n",
        "# hidden layers\n",
        "model.add(Dense(50, activation='relu'))\n",
        "model.add(Dropout(0.5))\n",
        "model.add(Dense(50, activation='relu'))\n",
        "\n",
        "\n",
        "# output layer\n",
        "model.add(Dense(n_outputs, activation='softmax'))\n",
        "\n",
        "# compile model\n",
        "model.compile(loss='categorical_crossentropy', optimizer='adam', metrics=[tf.keras.metrics.CategoricalAccuracy()])"
      ],
      "execution_count": null,
      "outputs": []
    },
    {
      "cell_type": "markdown",
      "metadata": {
        "id": "NZnLHWPxT4mP"
      },
      "source": [
        "Early Stopping"
      ]
    },
    {
      "cell_type": "code",
      "metadata": {
        "id": "pH_6vdl4T4K4"
      },
      "source": [
        "from keras.callbacks import EarlyStopping, ModelCheckpoint\n",
        "\n",
        " \t\n",
        "# patient early stopping\n",
        "#es = EarlyStopping(monitor='val_loss', mode='auto', verbose=1, patience=5 , min_delta=0.05)\n",
        "\n",
        "\n",
        "earlyStopping = EarlyStopping(monitor='val_loss', patience=5, verbose=0, mode='min')\n",
        "mcp_save = ModelCheckpoint('.base_model_wts.hdf5', save_best_only=True, monitor='val_loss', mode='min')"
      ],
      "execution_count": null,
      "outputs": []
    },
    {
      "cell_type": "code",
      "metadata": {
        "id": "8aidJIMEaG0Y",
        "colab": {
          "base_uri": "https://localhost:8080/"
        },
        "outputId": "00273f00-47a6-4993-a84f-361711a18382"
      },
      "source": [
        "X_train_scale.shape"
      ],
      "execution_count": null,
      "outputs": [
        {
          "output_type": "execute_result",
          "data": {
            "text/plain": [
              "(83873, 87)"
            ]
          },
          "metadata": {
            "tags": []
          },
          "execution_count": 73
        }
      ]
    },
    {
      "cell_type": "markdown",
      "metadata": {
        "id": "WDcTe09pT90L"
      },
      "source": [
        "Fit "
      ]
    },
    {
      "cell_type": "code",
      "metadata": {
        "id": "EJ1jMHoyT7IS",
        "colab": {
          "base_uri": "https://localhost:8080/"
        },
        "outputId": "f6d359b0-5e6e-4f4b-f2ec-c67141cb3ab9"
      },
      "source": [
        "# just for timing model\n",
        "t0 = time.time()\n",
        "\n",
        "# fitting model \n",
        "history = model.fit(X_train_scale, y_train_dum,\n",
        "                    validation_data=(X_test_scale, y_test_dum),\n",
        "                    epochs = 100,\n",
        "                    batch_size=200,\n",
        "                    callbacks=[earlyStopping, mcp_save]\n",
        "                    )\n",
        "\n",
        "\n",
        "t1 = time.time()\n",
        "\n",
        "total = t1-t0\n",
        "\n",
        "print(f'Time Taken: {total}')"
      ],
      "execution_count": null,
      "outputs": [
        {
          "output_type": "stream",
          "text": [
            "Epoch 1/100\n",
            "420/420 [==============================] - 3s 4ms/step - loss: 1.6240 - categorical_accuracy: 0.2734 - val_loss: 1.3983 - val_categorical_accuracy: 0.3835\n",
            "Epoch 2/100\n",
            "420/420 [==============================] - 1s 3ms/step - loss: 1.3773 - categorical_accuracy: 0.3997 - val_loss: 1.3211 - val_categorical_accuracy: 0.4250\n",
            "Epoch 3/100\n",
            "420/420 [==============================] - 1s 3ms/step - loss: 1.2908 - categorical_accuracy: 0.4325 - val_loss: 1.2759 - val_categorical_accuracy: 0.4472\n",
            "Epoch 4/100\n",
            "420/420 [==============================] - 1s 3ms/step - loss: 1.2463 - categorical_accuracy: 0.4523 - val_loss: 1.2644 - val_categorical_accuracy: 0.4621\n",
            "Epoch 5/100\n",
            "420/420 [==============================] - 1s 3ms/step - loss: 1.2201 - categorical_accuracy: 0.4655 - val_loss: 1.2460 - val_categorical_accuracy: 0.4728\n",
            "Epoch 6/100\n",
            "420/420 [==============================] - 1s 3ms/step - loss: 1.2036 - categorical_accuracy: 0.4754 - val_loss: 1.2292 - val_categorical_accuracy: 0.4810\n",
            "Epoch 7/100\n",
            "420/420 [==============================] - 1s 3ms/step - loss: 1.1800 - categorical_accuracy: 0.4832 - val_loss: 1.2251 - val_categorical_accuracy: 0.4878\n",
            "Epoch 8/100\n",
            "420/420 [==============================] - 1s 3ms/step - loss: 1.1644 - categorical_accuracy: 0.4895 - val_loss: 1.2202 - val_categorical_accuracy: 0.4935\n",
            "Epoch 9/100\n",
            "420/420 [==============================] - 1s 3ms/step - loss: 1.1573 - categorical_accuracy: 0.4950 - val_loss: 1.2064 - val_categorical_accuracy: 0.4986\n",
            "Epoch 10/100\n",
            "420/420 [==============================] - 1s 3ms/step - loss: 1.1466 - categorical_accuracy: 0.4999 - val_loss: 1.1988 - val_categorical_accuracy: 0.5031\n",
            "Epoch 11/100\n",
            "420/420 [==============================] - 1s 3ms/step - loss: 1.1336 - categorical_accuracy: 0.5043 - val_loss: 1.1967 - val_categorical_accuracy: 0.5071\n",
            "Epoch 12/100\n",
            "420/420 [==============================] - 1s 3ms/step - loss: 1.1306 - categorical_accuracy: 0.5081 - val_loss: 1.1930 - val_categorical_accuracy: 0.5105\n",
            "Epoch 13/100\n",
            "420/420 [==============================] - 1s 3ms/step - loss: 1.1167 - categorical_accuracy: 0.5115 - val_loss: 1.1836 - val_categorical_accuracy: 0.5139\n",
            "Epoch 14/100\n",
            "420/420 [==============================] - 2s 4ms/step - loss: 1.1059 - categorical_accuracy: 0.5148 - val_loss: 1.1819 - val_categorical_accuracy: 0.5170\n",
            "Epoch 15/100\n",
            "420/420 [==============================] - 1s 3ms/step - loss: 1.0983 - categorical_accuracy: 0.5179 - val_loss: 1.1853 - val_categorical_accuracy: 0.5198\n",
            "Epoch 16/100\n",
            "420/420 [==============================] - 1s 3ms/step - loss: 1.0974 - categorical_accuracy: 0.5205 - val_loss: 1.1864 - val_categorical_accuracy: 0.5223\n",
            "Epoch 17/100\n",
            "420/420 [==============================] - 1s 3ms/step - loss: 1.0849 - categorical_accuracy: 0.5229 - val_loss: 1.1767 - val_categorical_accuracy: 0.5245\n",
            "Epoch 18/100\n",
            "420/420 [==============================] - 1s 3ms/step - loss: 1.0783 - categorical_accuracy: 0.5251 - val_loss: 1.1769 - val_categorical_accuracy: 0.5268\n",
            "Epoch 19/100\n",
            "420/420 [==============================] - 1s 3ms/step - loss: 1.0811 - categorical_accuracy: 0.5274 - val_loss: 1.1812 - val_categorical_accuracy: 0.5288\n",
            "Epoch 20/100\n",
            "420/420 [==============================] - 1s 3ms/step - loss: 1.0815 - categorical_accuracy: 0.5293 - val_loss: 1.1794 - val_categorical_accuracy: 0.5306\n",
            "Epoch 21/100\n",
            "420/420 [==============================] - 1s 3ms/step - loss: 1.0753 - categorical_accuracy: 0.5311 - val_loss: 1.1800 - val_categorical_accuracy: 0.5325\n",
            "Epoch 22/100\n",
            "420/420 [==============================] - 1s 3ms/step - loss: 1.0712 - categorical_accuracy: 0.5329 - val_loss: 1.1729 - val_categorical_accuracy: 0.5342\n",
            "Epoch 23/100\n",
            "420/420 [==============================] - 1s 3ms/step - loss: 1.0590 - categorical_accuracy: 0.5346 - val_loss: 1.1665 - val_categorical_accuracy: 0.5358\n",
            "Epoch 24/100\n",
            "420/420 [==============================] - 1s 3ms/step - loss: 1.0584 - categorical_accuracy: 0.5363 - val_loss: 1.1659 - val_categorical_accuracy: 0.5375\n",
            "Epoch 25/100\n",
            "420/420 [==============================] - 1s 3ms/step - loss: 1.0458 - categorical_accuracy: 0.5379 - val_loss: 1.1633 - val_categorical_accuracy: 0.5390\n",
            "Epoch 26/100\n",
            "420/420 [==============================] - 1s 3ms/step - loss: 1.0460 - categorical_accuracy: 0.5394 - val_loss: 1.1586 - val_categorical_accuracy: 0.5405\n",
            "Epoch 27/100\n",
            "420/420 [==============================] - 1s 3ms/step - loss: 1.0468 - categorical_accuracy: 0.5409 - val_loss: 1.1661 - val_categorical_accuracy: 0.5419\n",
            "Epoch 28/100\n",
            "420/420 [==============================] - 1s 3ms/step - loss: 1.0473 - categorical_accuracy: 0.5422 - val_loss: 1.1596 - val_categorical_accuracy: 0.5431\n",
            "Epoch 29/100\n",
            "420/420 [==============================] - 1s 3ms/step - loss: 1.0389 - categorical_accuracy: 0.5434 - val_loss: 1.1579 - val_categorical_accuracy: 0.5444\n",
            "Epoch 30/100\n",
            "420/420 [==============================] - 1s 3ms/step - loss: 1.0374 - categorical_accuracy: 0.5447 - val_loss: 1.1645 - val_categorical_accuracy: 0.5456\n",
            "Epoch 31/100\n",
            "420/420 [==============================] - 1s 3ms/step - loss: 1.0362 - categorical_accuracy: 0.5458 - val_loss: 1.1641 - val_categorical_accuracy: 0.5467\n",
            "Epoch 32/100\n",
            "420/420 [==============================] - 1s 3ms/step - loss: 1.0329 - categorical_accuracy: 0.5470 - val_loss: 1.1633 - val_categorical_accuracy: 0.5478\n",
            "Epoch 33/100\n",
            "420/420 [==============================] - 1s 3ms/step - loss: 1.0298 - categorical_accuracy: 0.5481 - val_loss: 1.1671 - val_categorical_accuracy: 0.5489\n",
            "Epoch 34/100\n",
            "420/420 [==============================] - 1s 3ms/step - loss: 1.0218 - categorical_accuracy: 0.5491 - val_loss: 1.1608 - val_categorical_accuracy: 0.5499\n",
            "Time Taken: 48.56873106956482\n"
          ],
          "name": "stdout"
        }
      ]
    },
    {
      "cell_type": "markdown",
      "metadata": {
        "id": "nnCgxPxEatRz"
      },
      "source": [
        "Learning Curves"
      ]
    },
    {
      "cell_type": "code",
      "metadata": {
        "id": "noy3cqnyaxCZ",
        "colab": {
          "base_uri": "https://localhost:8080/",
          "height": 441
        },
        "outputId": "420fd80a-9119-4a28-e7d7-b624539fe7eb"
      },
      "source": [
        "history_dict = history.history\n",
        "loss_values = history_dict['loss']\n",
        "val_loss_values = history_dict['val_loss']\n",
        "accuracy = history_dict['categorical_accuracy']\n",
        "val_accuracy = history_dict['val_categorical_accuracy']\n",
        " \n",
        "epochs = range(1, len(loss_values) + 1)\n",
        "fig, ax = plt.subplots(1, 2, figsize=(14, 6))\n",
        "#\n",
        "# Plot the model accuracy vs Epochs\n",
        "#\n",
        "ax[0].plot(epochs, accuracy, 'r', label='Training accuracy')\n",
        "ax[0].plot(epochs, val_accuracy, 'b', label='Validation accuracy')\n",
        "ax[0].set_title('Training & Validation Accuracy', fontsize=16)\n",
        "ax[0].set_xlabel('Epochs', fontsize=16)\n",
        "ax[0].set_ylabel('Accuracy', fontsize=16)\n",
        "ax[0].legend()\n",
        "#\n",
        "# Plot the loss vs Epochs\n",
        "#\n",
        "ax[1].plot(epochs, loss_values, 'r', label='Training loss')\n",
        "ax[1].plot(epochs, val_loss_values, 'b', label='Validation loss')\n",
        "ax[1].set_title('Training & Validation Loss', fontsize=16)\n",
        "ax[1].set_xlabel('Epochs', fontsize=16)\n",
        "ax[1].set_ylabel('Loss', fontsize=16)\n",
        "ax[1].legend()"
      ],
      "execution_count": null,
      "outputs": [
        {
          "output_type": "execute_result",
          "data": {
            "text/plain": [
              "<matplotlib.legend.Legend at 0x7fb633083210>"
            ]
          },
          "metadata": {
            "tags": []
          },
          "execution_count": 75
        },
        {
          "output_type": "display_data",
          "data": {
            "image/png": "[encoded data removed]",
            "text/plain": [
              "<Figure size 1008x432 with 2 Axes>"
            ]
          },
          "metadata": {
            "tags": [],
            "needs_background": "light"
          }
        }
      ]
    },
    {
      "cell_type": "markdown",
      "metadata": {
        "id": "oB3ENVF9a6xv"
      },
      "source": [
        "------------------------\n",
        "\n",
        "Reports"
      ]
    },
    {
      "cell_type": "markdown",
      "metadata": {
        "id": "OI5PTbCb6MJW"
      },
      "source": [
        "Make Predicitions"
      ]
    },
    {
      "cell_type": "code",
      "metadata": {
        "id": "0pZrUb3e9SSH"
      },
      "source": [
        "# For Confusion matrix & Classification Report \n",
        "\n",
        "y_preds = model.predict(X_test_scale)\n",
        "max_predictions = np.argmax(y_preds, axis=1)\n",
        "\n",
        "max_test = np.argmax(np.asarray(y_test_dum), axis=1)\n",
        "\n",
        "##################\n",
        "\n",
        "\n",
        "y_preds_train = model.predict(X_train_scale)\n",
        "\n",
        "max_predictions_train = np.argmax(y_preds_train, axis=1)\n",
        "max_train = np.argmax(np.asarray(y_train_dum), axis=1)\n"
      ],
      "execution_count": null,
      "outputs": []
    },
    {
      "cell_type": "markdown",
      "metadata": {
        "id": "ocbl1VTVaZXO"
      },
      "source": [
        "# Metrics "
      ]
    },
    {
      "cell_type": "markdown",
      "metadata": {
        "id": "LGPfaIQna1qB"
      },
      "source": [
        "Test"
      ]
    },
    {
      "cell_type": "code",
      "metadata": {
        "id": "63JnyIrJaai2",
        "colab": {
          "base_uri": "https://localhost:8080/"
        },
        "outputId": "d41930ec-68c0-4d1f-c7a6-4f790d594e40"
      },
      "source": [
        "from sklearn.metrics import accuracy_score , precision_score\n",
        "from sklearn.metrics import balanced_accuracy_score, recall_score\n",
        "from sklearn.metrics import f1_score\n",
        "\n",
        "\n",
        "print(\"Test Balanced Accuracy : \\t\" , balanced_accuracy_score(max_test, max_predictions))\n",
        "print(\"Test F1 Score : \\t\\t\" , f1_score(max_test, max_predictions , average='weighted'))\n",
        "print(\"Test Precision Score : \\t\\t\" , precision_score(max_test, max_predictions , average='weighted'))\n",
        "print(\"Test Recall Score : \\t\\t\" , recall_score(max_test, max_predictions , average='weighted'))"
      ],
      "execution_count": null,
      "outputs": [
        {
          "output_type": "stream",
          "text": [
            "Test Balanced Accuracy : \t 0.4857358589364677\n",
            "Test F1 Score : \t\t 0.5336133828100966\n",
            "Test Precision Score : \t\t 0.5450635222250577\n",
            "Test Recall Score : \t\t 0.5474448781244345\n"
          ],
          "name": "stdout"
        }
      ]
    },
    {
      "cell_type": "markdown",
      "metadata": {
        "id": "1EjHZjy0a2vF"
      },
      "source": [
        "Train"
      ]
    },
    {
      "cell_type": "code",
      "metadata": {
        "id": "J6DnA8cfa_wz",
        "colab": {
          "base_uri": "https://localhost:8080/"
        },
        "outputId": "8257569b-9b09-4879-b4da-ffa81a6b7945"
      },
      "source": [
        "print(\"Train Accuracy : \\t\\t\" ,accuracy_score(max_train, max_predictions_train))\n",
        "print(\"Train Balanced Accuracy : \\t\" , balanced_accuracy_score(max_train, max_predictions_train))\n",
        "print(\"Train F1 Score : \\t\\t\" , f1_score(max_train, max_predictions_train, average='weighted'))"
      ],
      "execution_count": null,
      "outputs": [
        {
          "output_type": "stream",
          "text": [
            "Train Accuracy : \t\t 0.6365338070654442\n",
            "Train Balanced Accuracy : \t 0.5713420841630986\n",
            "Train F1 Score : \t\t 0.6237720133334861\n"
          ],
          "name": "stdout"
        }
      ]
    },
    {
      "cell_type": "markdown",
      "metadata": {
        "id": "R2LpL8jl3WE1"
      },
      "source": [
        "Imports "
      ]
    },
    {
      "cell_type": "code",
      "metadata": {
        "id": "H9cJEhcm7Hcv"
      },
      "source": [
        "from sklearn.metrics import classification_report\n",
        "from sklearn.metrics import confusion_matrix\n",
        "\n",
        "# set up labels \n",
        "LABELS = ['Go', 'Turn1',  'Turn2' , 'Walk1', 'Walk2', 'Sit']\n"
      ],
      "execution_count": null,
      "outputs": []
    },
    {
      "cell_type": "markdown",
      "metadata": {
        "id": "9VPW38Ol13r7"
      },
      "source": [
        "# Test Set "
      ]
    },
    {
      "cell_type": "code",
      "metadata": {
        "id": "Cmqio-IFxVKT",
        "colab": {
          "base_uri": "https://localhost:8080/"
        },
        "outputId": "fffcfee2-72c2-4b3e-d306-0c37b5eee814"
      },
      "source": [
        "print(classification_report(max_test, max_predictions , target_names=LABELS))\n"
      ],
      "execution_count": null,
      "outputs": [
        {
          "output_type": "stream",
          "text": [
            "              precision    recall  f1-score   support\n",
            "\n",
            "          Go       0.71      0.48      0.58      2214\n",
            "       Turn1       0.53      0.79      0.63     10801\n",
            "       Turn2       0.64      0.60      0.62     10754\n",
            "       Walk1       0.43      0.26      0.33      4790\n",
            "       Walk2       0.47      0.36      0.41      6471\n",
            "         Sit       0.49      0.42      0.45      3657\n",
            "\n",
            "    accuracy                           0.55     38687\n",
            "   macro avg       0.55      0.49      0.50     38687\n",
            "weighted avg       0.55      0.55      0.53     38687\n",
            "\n"
          ],
          "name": "stdout"
        }
      ]
    },
    {
      "cell_type": "markdown",
      "metadata": {
        "id": "EmAM0Jp115kv"
      },
      "source": [
        "# Train Set "
      ]
    },
    {
      "cell_type": "code",
      "metadata": {
        "id": "hLpbBnmV11_2",
        "colab": {
          "base_uri": "https://localhost:8080/"
        },
        "outputId": "bfcbef1a-211d-4fea-b1b0-138fbb4ef469"
      },
      "source": [
        "print(classification_report(max_train, max_predictions_train , target_names=LABELS))"
      ],
      "execution_count": null,
      "outputs": [
        {
          "output_type": "stream",
          "text": [
            "              precision    recall  f1-score   support\n",
            "\n",
            "          Go       0.78      0.58      0.66      4641\n",
            "       Turn1       0.59      0.87      0.71     24354\n",
            "       Turn2       0.69      0.69      0.69     21995\n",
            "       Walk1       0.61      0.36      0.45     10321\n",
            "       Walk2       0.59      0.47      0.53     13607\n",
            "         Sit       0.74      0.45      0.56      8955\n",
            "\n",
            "    accuracy                           0.64     83873\n",
            "   macro avg       0.67      0.57      0.60     83873\n",
            "weighted avg       0.65      0.64      0.62     83873\n",
            "\n"
          ],
          "name": "stdout"
        }
      ]
    },
    {
      "cell_type": "markdown",
      "metadata": {
        "id": "vGyuwOAC3RTT"
      },
      "source": [
        "--------------------\n",
        "\n",
        "# Confusion Matrix "
      ]
    },
    {
      "cell_type": "code",
      "metadata": {
        "id": "t3I2gx2Z_BGG"
      },
      "source": [
        "confusion_matrix = metrics.confusion_matrix(max_test, max_predictions  )\n",
        "\n",
        "confusion_matrix_t = metrics.confusion_matrix(max_train, max_predictions_train )"
      ],
      "execution_count": null,
      "outputs": []
    },
    {
      "cell_type": "code",
      "metadata": {
        "id": "qU1i78_3_m23",
        "colab": {
          "base_uri": "https://localhost:8080/",
          "height": 644
        },
        "outputId": "668f8401-7a42-4588-d9bc-e238b1e7868c"
      },
      "source": [
        "plt.figure(figsize=(14, 10))\n",
        "sns.heatmap(confusion_matrix, xticklabels=LABELS, yticklabels=LABELS,  annot=True, fmt=\"d\");\n",
        "plt.title(\"Test Data Confusion matrix\")\n",
        "plt.ylabel('True label')\n",
        "plt.xlabel('Predicted label')\n",
        "plt.show();"
      ],
      "execution_count": null,
      "outputs": [
        {
          "output_type": "display_data",
          "data": {
            "image/png": "[encoded data removed]",
            "text/plain": [
              "<Figure size 1008x720 with 2 Axes>"
            ]
          },
          "metadata": {
            "tags": [],
            "needs_background": "light"
          }
        }
      ]
    },
    {
      "cell_type": "code",
      "metadata": {
        "id": "u31mjLP2Dxwp",
        "colab": {
          "base_uri": "https://localhost:8080/",
          "height": 644
        },
        "outputId": "c0970847-e317-4665-e939-98ab98c9433a"
      },
      "source": [
        "plt.figure(figsize=(14, 10))\n",
        "sns.heatmap(confusion_matrix_t, xticklabels=LABELS, yticklabels=LABELS, annot=True, fmt=\"d\");\n",
        "plt.title(\"Train Confusion matrix\")\n",
        "plt.ylabel('True label')\n",
        "plt.xlabel('Predicted label')\n",
        "plt.show();"
      ],
      "execution_count": null,
      "outputs": [
        {
          "output_type": "display_data",
          "data": {
            "image/png": "[encoded data removed]",
            "text/plain": [
              "<Figure size 1008x720 with 2 Axes>"
            ]
          },
          "metadata": {
            "tags": [],
            "needs_background": "light"
          }
        }
      ]
    },
    {
      "cell_type": "markdown",
      "metadata": {
        "id": "v_zZcYxTSqFQ"
      },
      "source": [
        "-------------------------------------"
      ]
    },
    {
      "cell_type": "markdown",
      "metadata": {
        "id": "a1FdW-A3SvYG"
      },
      "source": [
        "<br>"
      ]
    },
    {
      "cell_type": "markdown",
      "metadata": {
        "id": "58PH8YT0SxK1"
      },
      "source": [
        "<br>"
      ]
    },
    {
      "cell_type": "markdown",
      "metadata": {
        "id": "_rcBBSUHvqYv"
      },
      "source": [
        "---------------------------------------"
      ]
    },
    {
      "cell_type": "markdown",
      "metadata": {
        "id": "QVLILmUMvu_8"
      },
      "source": [
        "Check if SMOTE helps"
      ]
    },
    {
      "cell_type": "code",
      "metadata": {
        "id": "vGqsOBJ8uDyb",
        "colab": {
          "base_uri": "https://localhost:8080/"
        },
        "outputId": "3b9729c2-5d0a-48c3-90bd-001c1219d38a"
      },
      "source": [
        "print(Counter(y_train))"
      ],
      "execution_count": null,
      "outputs": [
        {
          "output_type": "stream",
          "text": [
            "Counter({'Turn 1': 24354, 'Turn 2': 21995, 'Walk 2': 13607, 'Walk 1': 10321, 'sit': 8955, 'Go': 4641})\n"
          ],
          "name": "stdout"
        }
      ]
    },
    {
      "cell_type": "code",
      "metadata": {
        "id": "HG4rgil4twz5",
        "colab": {
          "base_uri": "https://localhost:8080/"
        },
        "outputId": "b3980f44-fad8-431a-9dd6-52d5743d2c49"
      },
      "source": [
        "\n",
        "# transform the dataset\n",
        "oversample = SMOTE()\n",
        "X_train_smote, y_train_smote = oversample.fit_resample(X_train_scale, y_train)\n",
        "\n",
        "# convert to dummy category\n",
        "y_train_smote_dum = pd.get_dummies(y_train_smote)\n",
        "\n",
        "print(f'\\nDummy labels Shape {y_train_smote_dum.shape}')"
      ],
      "execution_count": null,
      "outputs": [
        {
          "output_type": "stream",
          "text": [
            "/usr/local/lib/python3.7/dist-packages/sklearn/utils/deprecation.py:87: FutureWarning: Function safe_indexing is deprecated; safe_indexing is deprecated in version 0.22 and will be removed in version 0.24.\n",
            "  warnings.warn(msg, category=FutureWarning)\n",
            "/usr/local/lib/python3.7/dist-packages/sklearn/utils/deprecation.py:87: FutureWarning: Function safe_indexing is deprecated; safe_indexing is deprecated in version 0.22 and will be removed in version 0.24.\n",
            "  warnings.warn(msg, category=FutureWarning)\n",
            "/usr/local/lib/python3.7/dist-packages/sklearn/utils/deprecation.py:87: FutureWarning: Function safe_indexing is deprecated; safe_indexing is deprecated in version 0.22 and will be removed in version 0.24.\n",
            "  warnings.warn(msg, category=FutureWarning)\n",
            "/usr/local/lib/python3.7/dist-packages/sklearn/utils/deprecation.py:87: FutureWarning: Function safe_indexing is deprecated; safe_indexing is deprecated in version 0.22 and will be removed in version 0.24.\n",
            "  warnings.warn(msg, category=FutureWarning)\n",
            "/usr/local/lib/python3.7/dist-packages/sklearn/utils/deprecation.py:87: FutureWarning: Function safe_indexing is deprecated; safe_indexing is deprecated in version 0.22 and will be removed in version 0.24.\n",
            "  warnings.warn(msg, category=FutureWarning)\n"
          ],
          "name": "stderr"
        },
        {
          "output_type": "stream",
          "text": [
            "\n",
            "Dummy labels Shape (146124, 6)\n"
          ],
          "name": "stdout"
        }
      ]
    },
    {
      "cell_type": "code",
      "metadata": {
        "id": "tCXSiUfCuOVP",
        "colab": {
          "base_uri": "https://localhost:8080/"
        },
        "outputId": "e8c31509-12f9-4e4f-e136-d423432dcc02"
      },
      "source": [
        "print(Counter(y_train_smote))"
      ],
      "execution_count": null,
      "outputs": [
        {
          "output_type": "stream",
          "text": [
            "Counter({'sit': 24354, 'Go': 24354, 'Walk 1': 24354, 'Turn 1': 24354, 'Turn 2': 24354, 'Walk 2': 24354})\n"
          ],
          "name": "stdout"
        }
      ]
    },
    {
      "cell_type": "markdown",
      "metadata": {
        "id": "y5EXGNacv4Hf"
      },
      "source": [
        "-----------------------------------------------------"
      ]
    },
    {
      "cell_type": "markdown",
      "metadata": {
        "id": "7qct63LuGfGG"
      },
      "source": [
        "-------------------------------\n",
        "\n",
        "Deep + Smote"
      ]
    },
    {
      "cell_type": "code",
      "metadata": {
        "id": "7R4NDyQhGgvA"
      },
      "source": [
        "#n_timesteps, n_features, n_outputs = X_train.shape[1] , X_train.shape[2] , y_train_dum.shape[1]\n",
        "\n",
        "n_outputs =  y_train_dum.shape[1]\n",
        "\n",
        "# set up model\n",
        "model_smote = Sequential()\n",
        "\n",
        "#input layer\n",
        "model_smote.add(Dense(50, activation='relu'))\n",
        "\n",
        "\n",
        "# hidden layers\n",
        "model_smote.add(Dense(50, activation='relu'))\n",
        "model_smote.add(Dropout(0.5))\n",
        "model_smote.add(Dense(50, activation='relu'))\n",
        "#model_smote.add(Dropout(0.5))\n",
        "#model_smote.add(Dense(100, activation='relu'))\n",
        "\n",
        "\n",
        "# output layer\n",
        "model_smote.add(Dense(n_outputs, activation='softmax'))\n",
        "\n",
        "# compile model\n",
        "model_smote.compile(loss='categorical_crossentropy', optimizer='adam', metrics=[tf.keras.metrics.CategoricalAccuracy()])"
      ],
      "execution_count": null,
      "outputs": []
    },
    {
      "cell_type": "code",
      "metadata": {
        "id": "vEIcMm4_Xi6Y"
      },
      "source": [
        "from keras.callbacks import EarlyStopping, ModelCheckpoint\n",
        "\n",
        " \t\n",
        "# patient early stopping\n",
        "#es = EarlyStopping(monitor='val_loss', mode='auto', verbose=1, patience=5 , min_delta=0.05)\n",
        "\n",
        "\n",
        "earlyStopping = EarlyStopping(monitor='val_loss', patience=2, verbose=0, mode='min')\n",
        "mcp_save = ModelCheckpoint('.base_model_wts.hdf5', save_best_only=True, monitor='val_loss', mode='min')"
      ],
      "execution_count": null,
      "outputs": []
    },
    {
      "cell_type": "code",
      "metadata": {
        "id": "32CFsexdXj69",
        "colab": {
          "base_uri": "https://localhost:8080/"
        },
        "outputId": "695c813b-9252-448c-a4ae-ea10f965c86d"
      },
      "source": [
        "# just for timing model\n",
        "t0 = time.time()\n",
        "\n",
        "# fitting model \n",
        "history_smote = model_smote.fit(X_train_smote, y_train_smote_dum,\n",
        "                    validation_data=(X_test_scale, y_test_dum),\n",
        "                    epochs = 100,\n",
        "                    batch_size=200,\n",
        "                    callbacks=[earlyStopping, mcp_save]\n",
        "                    )\n",
        "\n",
        "\n",
        "t1 = time.time()\n",
        "\n",
        "total = t1-t0\n",
        "\n",
        "print(f'Time Taken: {total}')"
      ],
      "execution_count": null,
      "outputs": [
        {
          "output_type": "stream",
          "text": [
            "Epoch 1/100\n",
            "731/731 [==============================] - 12s 3ms/step - loss: 1.6297 - categorical_accuracy: 0.2653 - val_loss: 1.4756 - val_categorical_accuracy: 0.3856\n",
            "Epoch 2/100\n",
            "731/731 [==============================] - 2s 3ms/step - loss: 1.3272 - categorical_accuracy: 0.3971 - val_loss: 1.3898 - val_categorical_accuracy: 0.4245\n",
            "Epoch 3/100\n",
            "731/731 [==============================] - 2s 3ms/step - loss: 1.2481 - categorical_accuracy: 0.4304 - val_loss: 1.3749 - val_categorical_accuracy: 0.4462\n",
            "Epoch 4/100\n",
            "731/731 [==============================] - 2s 3ms/step - loss: 1.2062 - categorical_accuracy: 0.4499 - val_loss: 1.3398 - val_categorical_accuracy: 0.4605\n",
            "Epoch 5/100\n",
            "731/731 [==============================] - 2s 3ms/step - loss: 1.1797 - categorical_accuracy: 0.4631 - val_loss: 1.3186 - val_categorical_accuracy: 0.4711\n",
            "Epoch 6/100\n",
            "731/731 [==============================] - 2s 2ms/step - loss: 1.1585 - categorical_accuracy: 0.4731 - val_loss: 1.3222 - val_categorical_accuracy: 0.4791\n",
            "Epoch 7/100\n",
            "731/731 [==============================] - 2s 3ms/step - loss: 1.1452 - categorical_accuracy: 0.4804 - val_loss: 1.3405 - val_categorical_accuracy: 0.4852\n",
            "Time Taken: 23.406684398651123\n"
          ],
          "name": "stdout"
        }
      ]
    },
    {
      "cell_type": "markdown",
      "metadata": {
        "id": "_GcPAF5Qcvb7"
      },
      "source": [
        "-----------------------------\n"
      ]
    },
    {
      "cell_type": "markdown",
      "metadata": {
        "id": "Qtq8sUI8dASA"
      },
      "source": [
        "Learning Curves"
      ]
    },
    {
      "cell_type": "code",
      "metadata": {
        "id": "mIKMVwmudASC",
        "colab": {
          "base_uri": "https://localhost:8080/",
          "height": 441
        },
        "outputId": "87d06248-dd09-44e7-9af8-04e9dbf85241"
      },
      "source": [
        "history_dict = history_smote.history\n",
        "loss_values = history_dict['loss']\n",
        "val_loss_values = history_dict['val_loss']\n",
        "accuracy = history_dict['categorical_accuracy']\n",
        "val_accuracy = history_dict['val_categorical_accuracy']\n",
        " \n",
        "epochs = range(1, len(loss_values) + 1)\n",
        "fig, ax = plt.subplots(1, 2, figsize=(14, 6))\n",
        "#\n",
        "# Plot the model accuracy vs Epochs\n",
        "#\n",
        "ax[0].plot(epochs, accuracy, 'r', label='Training accuracy')\n",
        "ax[0].plot(epochs, val_accuracy, 'b', label='Validation accuracy')\n",
        "ax[0].set_title('Training & Validation Accuracy', fontsize=16)\n",
        "ax[0].set_xlabel('Epochs', fontsize=16)\n",
        "ax[0].set_ylabel('Accuracy', fontsize=16)\n",
        "ax[0].legend()\n",
        "#\n",
        "# Plot the loss vs Epochs\n",
        "#\n",
        "ax[1].plot(epochs, loss_values, 'r', label='Training loss')\n",
        "ax[1].plot(epochs, val_loss_values, 'b', label='Validation loss')\n",
        "ax[1].set_title('Training & Validation Loss', fontsize=16)\n",
        "ax[1].set_xlabel('Epochs', fontsize=16)\n",
        "ax[1].set_ylabel('Loss', fontsize=16)\n",
        "ax[1].legend()"
      ],
      "execution_count": null,
      "outputs": [
        {
          "output_type": "execute_result",
          "data": {
            "text/plain": [
              "<matplotlib.legend.Legend at 0x7fb62edcb250>"
            ]
          },
          "metadata": {
            "tags": []
          },
          "execution_count": 91
        },
        {
          "output_type": "display_data",
          "data": {
            "image/png": "[encoded data removed]",
            "text/plain": [
              "<Figure size 1008x432 with 2 Axes>"
            ]
          },
          "metadata": {
            "tags": [],
            "needs_background": "light"
          }
        }
      ]
    },
    {
      "cell_type": "markdown",
      "metadata": {
        "id": "f5L7vcoKdASF"
      },
      "source": [
        "------------------------\n",
        "\n",
        "Reports"
      ]
    },
    {
      "cell_type": "markdown",
      "metadata": {
        "id": "ZVgJNPX4dASH"
      },
      "source": [
        "Make Predicitions"
      ]
    },
    {
      "cell_type": "code",
      "metadata": {
        "id": "CwPBzvkKdASJ"
      },
      "source": [
        "# For Confusion matrix & Classification Report \n",
        "\n",
        "y_preds = model_smote.predict(X_test_scale)\n",
        "max_predictions = np.argmax(y_preds, axis=1)\n",
        "\n",
        "max_test = np.argmax(np.asarray(y_test_dum), axis=1)\n",
        "\n",
        "##################\n",
        "\n",
        "\n",
        "y_preds_train = model_smote.predict(X_train_smote)\n",
        "\n",
        "max_predictions_train = np.argmax(y_preds_train, axis=1)\n",
        "max_train = np.argmax(np.asarray(y_train_smote_dum), axis=1)\n"
      ],
      "execution_count": null,
      "outputs": []
    },
    {
      "cell_type": "markdown",
      "metadata": {
        "id": "4KENTFbedASK"
      },
      "source": [
        "# Metrics "
      ]
    },
    {
      "cell_type": "markdown",
      "metadata": {
        "id": "7G4Q5qrjdASM"
      },
      "source": [
        "Test"
      ]
    },
    {
      "cell_type": "code",
      "metadata": {
        "id": "LyoTPFCadASM",
        "colab": {
          "base_uri": "https://localhost:8080/"
        },
        "outputId": "335568de-ed71-4e3d-c2ef-06c9f80ada07"
      },
      "source": [
        "from sklearn.metrics import accuracy_score\n",
        "from sklearn.metrics import balanced_accuracy_score\n",
        "from sklearn.metrics import f1_score\n",
        "\n",
        "print(\"Test Accuracy : \\t\\t\" ,accuracy_score(max_test, max_predictions))\n",
        "print(\"Test Balanced Accuracy : \\t\" , balanced_accuracy_score(max_test, max_predictions))\n",
        "print(\"Test F1 Score : \\t\\t\" , f1_score(max_test, max_predictions , average='weighted'))"
      ],
      "execution_count": null,
      "outputs": [
        {
          "output_type": "stream",
          "text": [
            "Test Accuracy : \t\t 0.45118515263525216\n",
            "Test Balanced Accuracy : \t 0.4707973207493412\n",
            "Test F1 Score : \t\t 0.4581216096227708\n"
          ],
          "name": "stdout"
        }
      ]
    },
    {
      "cell_type": "markdown",
      "metadata": {
        "id": "7Y5AiholdASN"
      },
      "source": [
        "Train"
      ]
    },
    {
      "cell_type": "code",
      "metadata": {
        "id": "8-mPl3NKdASP",
        "colab": {
          "base_uri": "https://localhost:8080/"
        },
        "outputId": "43bd7e58-3776-4f89-976c-c4421364df7e"
      },
      "source": [
        "print(\"Train Accuracy : \\t\\t\" ,accuracy_score(max_train, max_predictions_train))\n",
        "print(\"Train Balanced Accuracy : \\t\" , balanced_accuracy_score(max_train, max_predictions_train))\n",
        "print(\"Train F1 Score : \\t\\t\" , f1_score(max_train, max_predictions_train, average='weighted'))"
      ],
      "execution_count": null,
      "outputs": [
        {
          "output_type": "stream",
          "text": [
            "Train Accuracy : \t\t 0.5842093016889764\n",
            "Train Balanced Accuracy : \t 0.5842093016889764\n",
            "Train F1 Score : \t\t 0.5853787582847231\n"
          ],
          "name": "stdout"
        }
      ]
    },
    {
      "cell_type": "markdown",
      "metadata": {
        "id": "3z-2XFA1dASQ"
      },
      "source": [
        "Imports "
      ]
    },
    {
      "cell_type": "code",
      "metadata": {
        "id": "Sw9KxVWGdASQ"
      },
      "source": [
        "from sklearn.metrics import classification_report\n",
        "from sklearn.metrics import confusion_matrix\n",
        "\n",
        "LABELS = ['Go', 'Walk1', 'Turn1', 'Walk2', 'Turn2', 'Sit']\n"
      ],
      "execution_count": null,
      "outputs": []
    },
    {
      "cell_type": "markdown",
      "metadata": {
        "id": "i-LY75MJdASR"
      },
      "source": [
        "# Test Set "
      ]
    },
    {
      "cell_type": "code",
      "metadata": {
        "id": "4fVEiWdzdASS",
        "colab": {
          "base_uri": "https://localhost:8080/"
        },
        "outputId": "b9da6df1-174b-4090-fdc0-76ae51053f19"
      },
      "source": [
        "print(classification_report(max_test, max_predictions , target_names=LABELS))\n"
      ],
      "execution_count": null,
      "outputs": [
        {
          "output_type": "stream",
          "text": [
            "              precision    recall  f1-score   support\n",
            "\n",
            "          Go       0.51      0.56      0.53      2214\n",
            "       Walk1       0.56      0.44      0.49     10801\n",
            "       Turn1       0.63      0.42      0.50     10754\n",
            "       Walk2       0.31      0.35      0.33      4790\n",
            "       Turn2       0.37      0.50      0.43      6471\n",
            "         Sit       0.32      0.56      0.41      3657\n",
            "\n",
            "    accuracy                           0.45     38687\n",
            "   macro avg       0.45      0.47      0.45     38687\n",
            "weighted avg       0.49      0.45      0.46     38687\n",
            "\n"
          ],
          "name": "stdout"
        }
      ]
    },
    {
      "cell_type": "markdown",
      "metadata": {
        "id": "IxaivX71dASS"
      },
      "source": [
        "# Train Set "
      ]
    },
    {
      "cell_type": "code",
      "metadata": {
        "id": "-zCbm9vWdAST",
        "colab": {
          "base_uri": "https://localhost:8080/"
        },
        "outputId": "9e13a4c3-c03e-4d56-d466-5dd956baf989"
      },
      "source": [
        "print(classification_report(max_train, max_predictions_train , target_names=LABELS))"
      ],
      "execution_count": null,
      "outputs": [
        {
          "output_type": "stream",
          "text": [
            "              precision    recall  f1-score   support\n",
            "\n",
            "          Go       0.83      0.72      0.77     24354\n",
            "       Walk1       0.50      0.50      0.50     24354\n",
            "       Turn1       0.58      0.48      0.53     24354\n",
            "       Walk2       0.49      0.49      0.49     24354\n",
            "       Turn2       0.50      0.63      0.56     24354\n",
            "         Sit       0.65      0.69      0.67     24354\n",
            "\n",
            "    accuracy                           0.58    146124\n",
            "   macro avg       0.59      0.58      0.59    146124\n",
            "weighted avg       0.59      0.58      0.59    146124\n",
            "\n"
          ],
          "name": "stdout"
        }
      ]
    },
    {
      "cell_type": "markdown",
      "metadata": {
        "id": "u2G4KdQFdAST"
      },
      "source": [
        "--------------------\n",
        "\n",
        "# Confusion Matrix "
      ]
    },
    {
      "cell_type": "code",
      "metadata": {
        "id": "PZFHHJ-JdASU"
      },
      "source": [
        "confusion_matrix = metrics.confusion_matrix(max_test, max_predictions  )\n",
        "\n",
        "confusion_matrix_t = metrics.confusion_matrix(max_train, max_predictions_train )"
      ],
      "execution_count": null,
      "outputs": []
    },
    {
      "cell_type": "code",
      "metadata": {
        "id": "O8hlVtFudASU",
        "colab": {
          "base_uri": "https://localhost:8080/",
          "height": 644
        },
        "outputId": "6d9e9019-d348-4053-9d85-57910412e9a7"
      },
      "source": [
        "plt.figure(figsize=(14, 10))\n",
        "sns.heatmap(confusion_matrix, xticklabels=LABELS, yticklabels=LABELS,  annot=True, fmt=\"d\");\n",
        "plt.title(\"Test Data Confusion matrix\")\n",
        "plt.ylabel('True label')\n",
        "plt.xlabel('Predicted label')\n",
        "plt.show();"
      ],
      "execution_count": null,
      "outputs": [
        {
          "output_type": "display_data",
          "data": {
            "image/png": "[encoded data removed]",
            "text/plain": [
              "<Figure size 1008x720 with 2 Axes>"
            ]
          },
          "metadata": {
            "tags": [],
            "needs_background": "light"
          }
        }
      ]
    },
    {
      "cell_type": "code",
      "metadata": {
        "id": "ev7mQ0l9dASV",
        "colab": {
          "base_uri": "https://localhost:8080/",
          "height": 644
        },
        "outputId": "65bf454b-de80-48df-dd87-94042a7ab9a8"
      },
      "source": [
        "plt.figure(figsize=(14, 10))\n",
        "sns.heatmap(confusion_matrix_t, xticklabels=LABELS, yticklabels=LABELS, annot=True, fmt=\"d\");\n",
        "plt.title(\"Train Confusion matrix\")\n",
        "plt.ylabel('True label')\n",
        "plt.xlabel('Predicted label')\n",
        "plt.show();"
      ],
      "execution_count": null,
      "outputs": [
        {
          "output_type": "display_data",
          "data": {
            "image/png": "[encoded data removed]",
            "text/plain": [
              "<Figure size 1008x720 with 2 Axes>"
            ]
          },
          "metadata": {
            "tags": [],
            "needs_background": "light"
          }
        }
      ]
    },
    {
      "cell_type": "markdown",
      "metadata": {
        "id": "pu2VehGAdASV"
      },
      "source": [
        "-------------------------------------"
      ]
    },
    {
      "cell_type": "markdown",
      "metadata": {
        "id": "TFVqYm7t39_n"
      },
      "source": [
        "# Transfer Learning Touch Up"
      ]
    },
    {
      "cell_type": "code",
      "metadata": {
        "id": "vjRb6wP639wh",
        "colab": {
          "resources": {
            "http://localhost:8080/nbextensions/google.colab/files.js": {
              "data": "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",
              "ok": true,
              "headers": [
                [
                  "content-type",
                  "application/javascript"
                ]
              ],
              "status": 200,
              "status_text": "OK"
            }
          },
          "base_uri": "https://localhost:8080/",
          "height": 37
        },
        "outputId": "c993e589-a855-4bb0-9b52-878e59573daa"
      },
      "source": [
        "from google.colab import files\n",
        "uploaded_dataframe_train_id = files.upload()"
      ],
      "execution_count": null,
      "outputs": [
        {
          "output_type": "display_data",
          "data": {
            "text/html": [
              "\n",
              "     <input type=\"file\" id=\"files-76440b98-5f28-49ac-a192-88bc514a360b\" name=\"files[]\" multiple disabled\n",
              "        style=\"border:none\" />\n",
              "     <output id=\"result-76440b98-5f28-49ac-a192-88bc514a360b\">\n",
              "      Upload widget is only available when the cell has been executed in the\n",
              "      current browser session. Please rerun this cell to enable.\n",
              "      </output>\n",
              "      <script src=\"/nbextensions/google.colab/files.js\"></script> "
            ],
            "text/plain": [
              "<IPython.core.display.HTML object>"
            ]
          },
          "metadata": {
            "tags": []
          }
        }
      ]
    },
    {
      "cell_type": "code",
      "metadata": {
        "id": "hMHI7ZWl4fCO",
        "colab": {
          "base_uri": "https://localhost:8080/",
          "height": 371
        },
        "outputId": "d7c4c45e-1950-4285-df72-a15f35dcab05"
      },
      "source": [
        "# getting keys, which is file names of npy \n",
        "list_of_dataframes_train_trans = [key for key in uploaded_dataframe_train_id.keys()]\n",
        "\n",
        "\n",
        "# set up list to hold all loaded npy \n",
        "all_dataframe_train_trans = [] \n",
        "\n",
        "\n",
        "for i in range(len(list_of_dataframes_train_trans)):\n",
        "\n",
        "    # load in the data \n",
        "    dataframe_train = pd.read_csv(list_of_dataframes_train_trans[i])\n",
        "\n",
        "\n",
        "    # append the data to 'all' list\n",
        "    all_dataframe_train_trans.append(dataframe_train) \n",
        "\n",
        "\n",
        "all_df_train_trans = pd.concat(all_dataframe_train_trans)"
      ],
      "execution_count": null,
      "outputs": [
        {
          "output_type": "error",
          "ename": "ValueError",
          "evalue": "ignored",
          "traceback": [
            "\u001b[0;31m---------------------------------------------------------------------------\u001b[0m",
            "\u001b[0;31mValueError\u001b[0m                                Traceback (most recent call last)",
            "\u001b[0;32m<ipython-input-102-d2f9f579cf5f>\u001b[0m in \u001b[0;36m<module>\u001b[0;34m()\u001b[0m\n\u001b[1;32m     17\u001b[0m \u001b[0;34m\u001b[0m\u001b[0m\n\u001b[1;32m     18\u001b[0m \u001b[0;34m\u001b[0m\u001b[0m\n\u001b[0;32m---> 19\u001b[0;31m \u001b[0mall_df_train_trans\u001b[0m \u001b[0;34m=\u001b[0m \u001b[0mpd\u001b[0m\u001b[0;34m.\u001b[0m\u001b[0mconcat\u001b[0m\u001b[0;34m(\u001b[0m\u001b[0mall_dataframe_train_trans\u001b[0m\u001b[0;34m)\u001b[0m\u001b[0;34m\u001b[0m\u001b[0;34m\u001b[0m\u001b[0m\n\u001b[0m",
            "\u001b[0;32m/usr/local/lib/python3.7/dist-packages/pandas/core/reshape/concat.py\u001b[0m in \u001b[0;36mconcat\u001b[0;34m(objs, axis, join, ignore_index, keys, levels, names, verify_integrity, sort, copy)\u001b[0m\n\u001b[1;32m    282\u001b[0m         \u001b[0mverify_integrity\u001b[0m\u001b[0;34m=\u001b[0m\u001b[0mverify_integrity\u001b[0m\u001b[0;34m,\u001b[0m\u001b[0;34m\u001b[0m\u001b[0;34m\u001b[0m\u001b[0m\n\u001b[1;32m    283\u001b[0m         \u001b[0mcopy\u001b[0m\u001b[0;34m=\u001b[0m\u001b[0mcopy\u001b[0m\u001b[0;34m,\u001b[0m\u001b[0;34m\u001b[0m\u001b[0;34m\u001b[0m\u001b[0m\n\u001b[0;32m--> 284\u001b[0;31m         \u001b[0msort\u001b[0m\u001b[0;34m=\u001b[0m\u001b[0msort\u001b[0m\u001b[0;34m,\u001b[0m\u001b[0;34m\u001b[0m\u001b[0;34m\u001b[0m\u001b[0m\n\u001b[0m\u001b[1;32m    285\u001b[0m     )\n\u001b[1;32m    286\u001b[0m \u001b[0;34m\u001b[0m\u001b[0m\n",
            "\u001b[0;32m/usr/local/lib/python3.7/dist-packages/pandas/core/reshape/concat.py\u001b[0m in \u001b[0;36m__init__\u001b[0;34m(self, objs, axis, join, keys, levels, names, ignore_index, verify_integrity, copy, sort)\u001b[0m\n\u001b[1;32m    329\u001b[0m \u001b[0;34m\u001b[0m\u001b[0m\n\u001b[1;32m    330\u001b[0m         \u001b[0;32mif\u001b[0m \u001b[0mlen\u001b[0m\u001b[0;34m(\u001b[0m\u001b[0mobjs\u001b[0m\u001b[0;34m)\u001b[0m \u001b[0;34m==\u001b[0m \u001b[0;36m0\u001b[0m\u001b[0;34m:\u001b[0m\u001b[0;34m\u001b[0m\u001b[0;34m\u001b[0m\u001b[0m\n\u001b[0;32m--> 331\u001b[0;31m             \u001b[0;32mraise\u001b[0m \u001b[0mValueError\u001b[0m\u001b[0;34m(\u001b[0m\u001b[0;34m\"No objects to concatenate\"\u001b[0m\u001b[0;34m)\u001b[0m\u001b[0;34m\u001b[0m\u001b[0;34m\u001b[0m\u001b[0m\n\u001b[0m\u001b[1;32m    332\u001b[0m \u001b[0;34m\u001b[0m\u001b[0m\n\u001b[1;32m    333\u001b[0m         \u001b[0;32mif\u001b[0m \u001b[0mkeys\u001b[0m \u001b[0;32mis\u001b[0m \u001b[0;32mNone\u001b[0m\u001b[0;34m:\u001b[0m\u001b[0;34m\u001b[0m\u001b[0;34m\u001b[0m\u001b[0m\n",
            "\u001b[0;31mValueError\u001b[0m: No objects to concatenate"
          ]
        }
      ]
    },
    {
      "cell_type": "code",
      "metadata": {
        "id": "XhA7cVqN4H2e"
      },
      "source": [
        "from google.colab import files\n",
        "uploaded_dataframe_validation_id = files.upload()"
      ],
      "execution_count": null,
      "outputs": []
    },
    {
      "cell_type": "code",
      "metadata": {
        "id": "7XGe-Md44u1R"
      },
      "source": [
        "# getting keys, which is file names of df\n",
        "list_of_dataframes_val_trans = [key for key in uploaded_dataframe_validation_id.keys()]\n",
        "\n",
        "\n",
        "# set up list to hold all loaded npy \n",
        "all_dataframe_val_trans = [] \n",
        "\n",
        "\n",
        "for i in range(len(list_of_dataframes_val_trans)):\n",
        "\n",
        "    # load in the data \n",
        "    dataframe_val = pd.read_csv(list_of_dataframes_val_trans[i])\n",
        "\n",
        "\n",
        "    # append the data to 'all' list\n",
        "    all_dataframe_val_trans.append(dataframe_val) \n",
        "\n",
        "\n",
        "all_df_val_trans = pd.concat(all_dataframe_val_trans)"
      ],
      "execution_count": null,
      "outputs": []
    },
    {
      "cell_type": "markdown",
      "metadata": {
        "id": "8iPxcM6h5P-F"
      },
      "source": [
        "--------------------------"
      ]
    },
    {
      "cell_type": "code",
      "metadata": {
        "id": "VKEf3kf65SbD"
      },
      "source": [
        "# Getting X_train & y_train\n",
        "X_train_trans = all_df_train_trans.drop(['Unnamed: 0' , 'Label_segment' , 'Participant_ID' , 'Participant_Run',  'X_Acc_Move_FFT_EnergyBands', \t'Y_Acc_Move_FFT_EnergyBands', \t'Z_Acc_Move_FFT_EnergyBands'], axis = 1)\n",
        "y_train_trans = all_df_train_trans['Label_segment'].values\n",
        "\n",
        "# convert to dummy category\n",
        "y_train_trans_dum = pd.get_dummies(y_train_trans)\n",
        "\n",
        "# scale data using fitted ss\n",
        "X_train_trans_scale = ss.transform(X_train_trans)\n"
      ],
      "execution_count": null,
      "outputs": []
    },
    {
      "cell_type": "code",
      "metadata": {
        "id": "Pq5IXyEs4-3j"
      },
      "source": [
        "# Getting X_val & y_val\n",
        "X_val_trans = all_df_val_trans.drop(['Unnamed: 0' , 'Label_segment' , 'Participant_ID' , 'Participant_Run',  'X_Acc_Move_FFT_EnergyBands', \t'Y_Acc_Move_FFT_EnergyBands', \t'Z_Acc_Move_FFT_EnergyBands'], axis = 1)\n",
        "y_val_trans = all_df_val_trans['Label_segment'].values\n",
        "\n",
        "# convert to dummy category\n",
        "y_val_trans_dum = pd.get_dummies(y_val_trans)\n",
        "\n",
        "# scale data using fitted ss\n",
        "X_val_trans_scale = ss.transform(X_val_trans)\n"
      ],
      "execution_count": null,
      "outputs": []
    },
    {
      "cell_type": "markdown",
      "metadata": {
        "id": "Jk4iFxu0539j"
      },
      "source": [
        "-------------------------\n",
        "\n",
        "Now give quick train on specific case \"Calibration\""
      ]
    },
    {
      "cell_type": "code",
      "metadata": {
        "id": "0WlkUrKH58q1"
      },
      "source": [
        "# Change learning rate from default adam = 0.001 , to 0.0001 and train for handful more epochs on specific participant data \n",
        "K.set_value(model.optimizer.learning_rate, 0.001)\n",
        "#K.set_value(model_smote.optimizer.learning_rate, 0.001)\n",
        "\n",
        "print(\"Learning rate before second fit:\", model.optimizer.learning_rate.numpy())\n",
        "#print(\"Learning rate before second fit:\", model_smote.optimizer.learning_rate.numpy())"
      ],
      "execution_count": null,
      "outputs": []
    },
    {
      "cell_type": "markdown",
      "metadata": {
        "id": "8mYM7rht6ING"
      },
      "source": [
        "Fit Specfic ID"
      ]
    },
    {
      "cell_type": "code",
      "metadata": {
        "id": "mUkXnX7d6NF9"
      },
      "source": [
        "# just for timing model\n",
        "t0 = time.time()\n",
        "\n",
        "# fitting model \n",
        "new_history = model.fit(X_train_trans_scale, y_train_trans_dum,\n",
        "                    validation_data=(X_val_trans_scale, y_val_trans_dum),\n",
        "                    epochs = 3,\n",
        "                    batch_size= 200,\n",
        "                    callbacks = [earlyStopping]\n",
        "                    \n",
        "                    )\n",
        "\n",
        "\n",
        "t1 = time.time()\n",
        "\n",
        "total = t1-t0\n",
        "\n",
        "print(f'Time Taken: {total}')"
      ],
      "execution_count": null,
      "outputs": []
    },
    {
      "cell_type": "markdown",
      "metadata": {
        "id": "o9Frg8beCZm4"
      },
      "source": [
        "**Smote Model**"
      ]
    },
    {
      "cell_type": "code",
      "metadata": {
        "id": "r543b8LhCZ5t"
      },
      "source": [
        "# just for timing model\n",
        "t0 = time.time()\n",
        "\n",
        "# fitting model \n",
        "new_history = model_smote.fit(X_train_trans_scale, y_train_trans_dum,\n",
        "                    validation_data=(X_val_trans_scale, y_val_trans_dum),\n",
        "                    epochs = 5,\n",
        "                    batch_size= 200,\n",
        "                    callbacks = [earlyStopping]\n",
        "                    \n",
        "                    )\n",
        "\n",
        "\n",
        "t1 = time.time()\n",
        "\n",
        "total = t1-t0\n",
        "\n",
        "print(f'Time Taken: {total}')"
      ],
      "execution_count": null,
      "outputs": []
    },
    {
      "cell_type": "markdown",
      "metadata": {
        "id": "AGs_oxsnGhkP"
      },
      "source": [
        "---------------------------------------------"
      ]
    },
    {
      "cell_type": "code",
      "metadata": {
        "id": "x7aTO9RpvsOO"
      },
      "source": [
        "def holdout_checker(smote = False):\n",
        "\n",
        "  # Read in Fresh Data to see what predictions looks like\n",
        "  from google.colab import files\n",
        "  uploaded_test = files.upload()\n",
        "\n",
        "  # getting keys, which is file names of csv\n",
        "  val_file_name = [key for key in uploaded_test.keys()]\n",
        "\n",
        "  # read in csv \n",
        "  signal_test = pd.read_csv(val_file_name[0])\n",
        "\n",
        "\n",
        "  # Getting X_train & y_train\n",
        "  X_data = signal_test.drop(['Unnamed: 0' , 'Label_segment' , 'Participant_ID' , 'Participant_Run','X_Acc_Move_FFT_EnergyBands', \t'Y_Acc_Move_FFT_EnergyBands', \t'Z_Acc_Move_FFT_EnergyBands' ], axis = 1)\n",
        "  #X_data = signal_test.drop(['Unnamed: 0' , 'Label_segment' , 'Participant_ID' , 'Participant_Run' ], axis = 1)\n",
        "\n",
        "  y_data = signal_test['Label_segment'].values\n",
        "\n",
        "  # scale with already fit ss \n",
        "  X_data_scale = ss.transform(X_data)\n",
        "\n",
        "  # convert to dummy category\n",
        "  y_data_dum = pd.get_dummies(y_data)\n",
        "  \n",
        "  # Take max of dummy classifier\n",
        "  y_data = np.argmax(np.asarray(y_data_dum), axis=1)\n",
        "\n",
        "  # make prediction with model\n",
        "\n",
        "  # if selecting smote trained model\n",
        "  if smote == True:\n",
        "    hold_preds = model_smote.predict(X_data_scale)\n",
        "\n",
        "  # else non-smote trained model\n",
        "  else:\n",
        "    hold_preds = model.predict(X_data_scale)\n",
        "\n",
        "  # take max of predictions \n",
        "  max_predictions = np.argmax(hold_preds, axis=1)\n",
        "\n",
        "  # metrics \n",
        "  print(\"\\n---------------------- Metrics ----------------------------------------\")\n",
        "\n",
        "  #print(\"Accuracy : \\t\\t\" ,accuracy_score(y_data, max_predictions))\n",
        "  print(\"Balanced Accuracy : \\t\" , balanced_accuracy_score(y_data, max_predictions))\n",
        "  print(\"F1 Score : \\t\\t\" , f1_score(y_data, max_predictions, average='weighted'))\n",
        "  print(\"Precision Score : \\t\\t\" , precision_score(y_data, max_predictions, average='weighted'))\n",
        "  print(\"Recall Score : \\t\\t\" , recall_score(y_data, max_predictions, average='weighted'))\n",
        "\n",
        "\n",
        "  # set up labels \n",
        "  LABELS = ['Go', 'Turn1',  'Turn2' , 'Walk1', 'Walk2', 'Sit']\n",
        "\n",
        "  # classification report \n",
        "  print(\"\\n------------------- HoldOut Classification Report ---------------\")\n",
        "  print(classification_report(y_data ,max_predictions))\n",
        "  print(\" \")\n",
        "\n",
        "  # confusion matrix\n",
        "  confusion_matrix_out = metrics.confusion_matrix(y_data, max_predictions )\n",
        "\n",
        "  plt.figure(figsize=(14, 10))\n",
        "  sns.heatmap(confusion_matrix_out, xticklabels=LABELS, yticklabels=LABELS, annot=True ,fmt=\"d\" )\n",
        "\n",
        "\n",
        "\n",
        "  plt.title(\"HoldOut Data Confusion matrix\")\n",
        "  plt.ylabel('True label')\n",
        "  plt.xlabel('Predicted label')\n",
        "  plt.show()\n",
        "\n",
        "  # lastly just printing actual predictions\n",
        "  print(\"\\n0 = Go \\t\\t 1 = Turn 1 \\t 2 = Turn 2\")\n",
        "  print(\"\\n3 = Walk 1 \\t 4 = Walk 2 \\t 5 = Sit\")\n",
        "\n",
        "  print(\" \")\n",
        "  print(max_predictions)\n",
        "\n",
        "  print(\"\\nTest Counts\" ,Counter(max_predictions))\n",
        "  print(\"\\nReal Counts\" ,Counter(y_data))\n",
        "\n"
      ],
      "execution_count": null,
      "outputs": []
    },
    {
      "cell_type": "code",
      "metadata": {
        "id": "GOlZc9dh0Jz-"
      },
      "source": [
        "holdout_checker()"
      ],
      "execution_count": null,
      "outputs": []
    },
    {
      "cell_type": "code",
      "metadata": {
        "id": "dOZpCTmRCmuw"
      },
      "source": [
        "holdout_checker(smote=True)"
      ],
      "execution_count": null,
      "outputs": []
    },
    {
      "cell_type": "code",
      "metadata": {
        "id": "rBL79MvpIZYB"
      },
      "source": [
        "holdout_checker()"
      ],
      "execution_count": null,
      "outputs": []
    },
    {
      "cell_type": "code",
      "metadata": {
        "id": "iIbWPE2DIZxX"
      },
      "source": [
        "holdout_checker(smote=True)"
      ],
      "execution_count": null,
      "outputs": []
    },
    {
      "cell_type": "markdown",
      "metadata": {
        "id": "Bf0fa5JnkymK"
      },
      "source": [
        "<br>"
      ]
    },
    {
      "cell_type": "markdown",
      "metadata": {
        "id": "woUnPpP1k180"
      },
      "source": [
        "<br>"
      ]
    },
    {
      "cell_type": "markdown",
      "metadata": {
        "id": "yX_HPnTjQkf8"
      },
      "source": [
        "--------------------\n",
        "\n",
        "Hyper Tuning \n"
      ]
    },
    {
      "cell_type": "code",
      "metadata": {
        "id": "G01FtvYIQ8nT"
      },
      "source": [
        "from keras.optimizers import Adam , RMSprop, Adagrad"
      ],
      "execution_count": null,
      "outputs": []
    },
    {
      "cell_type": "code",
      "metadata": {
        "id": "iaBrN0BQQ6Uc"
      },
      "source": [
        "optimisers = ['Adam' , 'RMSprop', 'Adagrad']\n",
        "\n",
        "batch_sizes = [50,200,1000]\n",
        "\n",
        "#learning_rate = [0.001 , 0.01, 0.1]\n",
        "\n",
        "learning_rate = [0.00001 , 0.0001]"
      ],
      "execution_count": null,
      "outputs": []
    },
    {
      "cell_type": "code",
      "metadata": {
        "id": "FQtR2PClQ2eV"
      },
      "source": [
        "#n_timesteps, n_features, n_outputs = X_train.shape[1] , X_train.shape[2] , y_train_dum.shape[1]\n",
        "\n",
        "n_outputs =  y_train_dum.shape[1]\n",
        "\n",
        "# set up model\n",
        "model = Sequential()\n",
        "\n",
        "#input layer\n",
        "model.add(Dense(100, activation='relu' , input_shape = (X_train_scale.shape[1], )))\n",
        "\n",
        "\n",
        "# hidden layers\n",
        "model.add(Dense(50, activation='relu'))\n",
        "model.add(Dropout(0.5))\n",
        "model.add(Dense(50, activation='relu'))\n",
        "# model.add(Dropout(0.5))\n",
        "# model.add(Dense(100, activation='relu'))\n",
        "\n",
        "# output layer\n",
        "model.add(Dense(n_outputs, activation='softmax'))\n",
        "\n",
        "model.save_weights('basemodel.h5')"
      ],
      "execution_count": null,
      "outputs": []
    },
    {
      "cell_type": "markdown",
      "metadata": {
        "id": "mfp36iiDQ2eZ"
      },
      "source": [
        "Early Stopping"
      ]
    },
    {
      "cell_type": "code",
      "metadata": {
        "id": "PrfOeaGDQ2ea"
      },
      "source": [
        "from keras.callbacks import EarlyStopping, ModelCheckpoint\n",
        "\n",
        " \t\n",
        "# patient early stopping\n",
        "#es = EarlyStopping(monitor='val_loss', mode='auto', verbose=1, patience=5 , min_delta=0.05)\n",
        "\n",
        "\n",
        "earlyStopping = EarlyStopping(monitor='val_loss', patience=5, verbose=0, mode='min')\n",
        "mcp_save = ModelCheckpoint('.base_model_wts.hdf5', save_best_only=True, monitor='val_loss', mode='min')"
      ],
      "execution_count": null,
      "outputs": []
    },
    {
      "cell_type": "code",
      "metadata": {
        "id": "lN4neLfj_o_K"
      },
      "source": [
        "from sklearn.metrics import accuracy_score, recall_score , precision_score\n",
        "from sklearn.metrics import balanced_accuracy_score\n",
        "from sklearn.metrics import f1_score\n",
        "\n",
        "from sklearn.model_selection import KFold"
      ],
      "execution_count": null,
      "outputs": []
    },
    {
      "cell_type": "markdown",
      "metadata": {
        "id": "6yo9tfQkQ2ed"
      },
      "source": [
        "Fit "
      ]
    },
    {
      "cell_type": "code",
      "metadata": {
        "id": "cVnWue1LQ2ef"
      },
      "source": [
        "list_of_f1           = []\n",
        "list_of_recall       = []\n",
        "list_of_precision    = []\n",
        "list_of_balacc       = []\n",
        "list_of_learningrate = []\n",
        "list_of_optim        = []\n",
        "list_of_batch        = []\n",
        "\n",
        "# kf = KFold(n_splits = 3)\n",
        "# for train_index, test_index in kf.split(X_train_scale):\n",
        "#   X_train_scale , X_test_scale = X_train_scale[train_index] , X_train_scale[test_index] \n",
        "#   y_train , y_test = y_train_dum[train_index] , y_train_dum[test_index] \n",
        "\n",
        "\n",
        "for i in range(len(optimisers)):\n",
        "\n",
        "  for size in batch_sizes:\n",
        "\n",
        "    for learn in learning_rate:\n",
        "\n",
        "      # resets the weights back to random\n",
        "      model.load_weights('basemodel.h5')\n",
        "\n",
        "      # compile model\n",
        "      model.compile(loss='categorical_crossentropy', optimizer= optimisers[i] , metrics=[tf.keras.metrics.CategoricalAccuracy()])\n",
        "\n",
        "      # set learning rate\n",
        "      K.set_value(model.optimizer.learning_rate, learn)\n",
        "\n",
        "      # just for timing model\n",
        "      t0 = time.time()\n",
        "\n",
        "      # fitting model \n",
        "      history = model.fit(X_train_scale, y_train_dum,\n",
        "                          validation_data=(X_test_scale, y_test_dum),\n",
        "                          epochs = 100,\n",
        "                          batch_size=size,\n",
        "                          callbacks=[earlyStopping, mcp_save]\n",
        "                          )\n",
        "\n",
        "\n",
        "      t1 = time.time()\n",
        "\n",
        "      total = t1-t0\n",
        "\n",
        "      print(f'Time Taken: {total}')\n",
        "\n",
        "      # For Confusion matrix & Classification Report \n",
        "\n",
        "      y_preds = model.predict(X_test_scale)\n",
        "      max_predictions = np.argmax(y_preds, axis=1)\n",
        "\n",
        "      max_test = np.argmax(np.asarray(y_test_dum), axis=1)\n",
        "\n",
        "      ##################\n",
        "\n",
        "\n",
        "      y_preds_train = model.predict(X_train_scale)\n",
        "\n",
        "      max_predictions_train = np.argmax(y_preds_train, axis=1)\n",
        "      max_train = np.argmax(np.asarray(y_train_dum), axis=1)\n",
        "\n",
        "\n",
        "      #############################\n",
        "\n",
        "      list_of_f1.append(f1_score(max_test, max_predictions , average='weighted'))          \n",
        "      list_of_recall.append(recall_score(max_test, max_predictions , average='weighted'))       \n",
        "      list_of_precision.append(precision_score(max_test, max_predictions , average='weighted'))    \n",
        "      list_of_balacc.append(balanced_accuracy_score(max_test, max_predictions))       \n",
        "      list_of_learningrate.append(learn) \n",
        "      list_of_optim.append(optimisers[i])\n",
        "      list_of_batch.append(size)\n",
        "\n",
        "\n",
        "      print(\"-\"*50)\n",
        "      print(\"\\n\")\n",
        "      #Metrics\n",
        "      print(f\"{optimisers[i]} - Learning Rate {learn} - Batch Size: {size}  -  Test Balanced Accuracy : \\t\" , balanced_accuracy_score(max_test, max_predictions))\n",
        "      print(f\"{optimisers[i]} - Learning Rate {learn} - Batch Size: {size}  -  Test F1 Score : \\t\\t\" , f1_score(max_test, max_predictions , average='weighted'))\n",
        "      print(f\"{optimisers[i]} - Learning Rate {learn} - Batch Size: {size}  -  Test Precision Score : \\t\\t\" , precision_score(max_test, max_predictions , average='weighted'))\n",
        "      print(f\"{optimisers[i]} - Learning Rate {learn} - Batch Size: {size}  -  Test Recall Score : \\t\\t\" , recall_score(max_test, max_predictions , average='weighted'))\n",
        "\n",
        "      print(\"\\n\")\n",
        "      print(\"-\"*50)\n"
      ],
      "execution_count": null,
      "outputs": []
    },
    {
      "cell_type": "code",
      "metadata": {
        "id": "b0JuzqeuORAM"
      },
      "source": [
        "new_df[ (new_df['LearningRate'] == 0.001)  | (new_df['LearningRate'] == 0.01)   ]"
      ],
      "execution_count": null,
      "outputs": []
    },
    {
      "cell_type": "markdown",
      "metadata": {
        "id": "NPB9AoGGEOag"
      },
      "source": [
        "-------------------\n",
        "\n",
        "<br>"
      ]
    },
    {
      "cell_type": "markdown",
      "metadata": {
        "id": "ELV4JO46EQTd"
      },
      "source": [
        "#MLP CLassifier"
      ]
    },
    {
      "cell_type": "code",
      "metadata": {
        "id": "xs6Lu0l2mxpZ"
      },
      "source": [
        "from sklearn.neural_network import MLPClassifier\n",
        "from sklearn.model_selection import GridSearchCV , RandomizedSearchCV\n",
        "from sklearn.metrics import balanced_accuracy_score , f1_score, recall_score, precision_score"
      ],
      "execution_count": null,
      "outputs": []
    },
    {
      "cell_type": "code",
      "metadata": {
        "id": "sIitBXRNm5Gi"
      },
      "source": [
        "parameter_space = {\n",
        "    'hidden_layer_sizes': [100,200,500,1000],\n",
        "    'activation': ['tanh', 'relu', 'logistic'],\n",
        "    'solver': ['sgd', 'adam', 'lbfgs'],\n",
        "    'alpha': np.arange(0.00001, 0.01, 0.001),\n",
        "    'learning_rate': ['constant','adaptive']}"
      ],
      "execution_count": null,
      "outputs": []
    },
    {
      "cell_type": "code",
      "metadata": {
        "id": "5hIz6ZzwnJG6"
      },
      "source": [
        "gsearch = RandomizedSearchCV(estimator = MLPClassifier(),\n",
        "                        param_distributions = parameter_space,  \n",
        "                        scoring = 'balanced_accuracy',                \n",
        "                        cv = 2,\n",
        "                        n_jobs = -1,\n",
        "                        verbose = 4)\n"
      ],
      "execution_count": null,
      "outputs": []
    },
    {
      "cell_type": "code",
      "metadata": {
        "id": "LsUET1YjnR9v",
        "colab": {
          "base_uri": "https://localhost:8080/"
        },
        "outputId": "1d6d3b4e-d4f2-43e0-ae15-6efe863adc07"
      },
      "source": [
        "grid_search = gsearch.fit(X_train_scale, y_train)"
      ],
      "execution_count": null,
      "outputs": [
        {
          "output_type": "stream",
          "text": [
            "Fitting 2 folds for each of 10 candidates, totalling 20 fits\n"
          ],
          "name": "stdout"
        },
        {
          "output_type": "stream",
          "text": [
            "[Parallel(n_jobs=-1)]: Using backend LokyBackend with 2 concurrent workers.\n",
            "/usr/local/lib/python3.7/dist-packages/joblib/externals/loky/process_executor.py:691: UserWarning: A worker stopped while some jobs were given to the executor. This can be caused by a too short worker timeout or by a memory leak.\n",
            "  \"timeout or by a memory leak.\", UserWarning\n",
            "[Parallel(n_jobs=-1)]: Done  20 out of  20 | elapsed: 62.4min finished\n",
            "/usr/local/lib/python3.7/dist-packages/sklearn/neural_network/_multilayer_perceptron.py:571: ConvergenceWarning: Stochastic Optimizer: Maximum iterations (200) reached and the optimization hasn't converged yet.\n",
            "  % self.max_iter, ConvergenceWarning)\n"
          ],
          "name": "stderr"
        }
      ]
    },
    {
      "cell_type": "code",
      "metadata": {
        "id": "yG7jnPC3nwMg"
      },
      "source": [
        "gs_model = grid_search.best_estimator_"
      ],
      "execution_count": null,
      "outputs": []
    },
    {
      "cell_type": "code",
      "metadata": {
        "id": "dUvnmAQsnwuP",
        "colab": {
          "base_uri": "https://localhost:8080/"
        },
        "outputId": "e3e8faf7-16f0-471c-c7c2-92174bbed0c5"
      },
      "source": [
        "grid_search.best_params_"
      ],
      "execution_count": null,
      "outputs": [
        {
          "output_type": "execute_result",
          "data": {
            "text/plain": [
              "{'activation': 'relu',\n",
              " 'alpha': 0.00301,\n",
              " 'hidden_layer_sizes': 1000,\n",
              " 'learning_rate': 'constant',\n",
              " 'solver': 'adam'}"
            ]
          },
          "metadata": {
            "tags": []
          },
          "execution_count": 117
        }
      ]
    },
    {
      "cell_type": "code",
      "metadata": {
        "id": "Vhardnc5oRMZ",
        "colab": {
          "base_uri": "https://localhost:8080/"
        },
        "outputId": "94622f60-8dd2-4e49-eeda-68d02d17186b"
      },
      "source": [
        "preds = gs_model.predict(X_test_scale)\n",
        "\n",
        "train_preds = gs_model.predict(X_train_scale)\n",
        "\n",
        "print(\"-------------------Train------------------\")\n",
        "print(\"Train Balanced Accuracy : \\t\" , balanced_accuracy_score(y_train, train_preds))\n",
        "print(\"Train F1 Score : \\t\\t\" , f1_score(y_train, train_preds , average='weighted'))\n",
        "print(\"Train Precision Score : \\t\" , precision_score(y_train, train_preds , average='weighted'))\n",
        "print(\"Train Recall Score : \\t\\t\" , recall_score(y_train, train_preds , average='weighted'))\n",
        "\n",
        "print(\"\\n\\n-------------------Test------------------\")\n",
        "print(\"Test Balanced Accuracy : \\t\" , balanced_accuracy_score(y_test, preds))\n",
        "print(\"Test F1 Score : \\t\\t\" , f1_score(y_test, preds , average='weighted'))\n",
        "print(\"Test Precision Score : \\t\\t\" , precision_score(y_test, preds , average='weighted'))\n",
        "print(\"Test Recall Score : \\t\\t\" , recall_score(y_test, preds , average='weighted'))"
      ],
      "execution_count": null,
      "outputs": [
        {
          "output_type": "stream",
          "text": [
            "-------------------Train------------------\n",
            "Train Balanced Accuracy : \t 0.913068357548198\n",
            "Train F1 Score : \t\t 0.9195988628863845\n",
            "Train Precision Score : \t 0.9210389186981727\n",
            "Train Recall Score : \t\t 0.9194138757407032\n",
            "\n",
            "\n",
            "-------------------Test------------------\n",
            "Test Balanced Accuracy : \t 0.5248636604168837\n",
            "Test F1 Score : \t\t 0.5527731650543756\n",
            "Test Precision Score : \t\t 0.5579347786251687\n",
            "Test Recall Score : \t\t 0.5504174528911521\n"
          ],
          "name": "stdout"
        }
      ]
    },
    {
      "cell_type": "code",
      "metadata": {
        "id": "oA6t9_wtlv8_"
      },
      "source": [
        "print(\"\\n\\nTest Classification Report\\n\")\n",
        "print(classification_report(y_test, preds))"
      ],
      "execution_count": null,
      "outputs": []
    },
    {
      "cell_type": "markdown",
      "metadata": {
        "id": "r0p1f3UwdHOg"
      },
      "source": [
        "<br>"
      ]
    },
    {
      "cell_type": "markdown",
      "metadata": {
        "id": "lCApYDa4pj4k"
      },
      "source": [
        "-----------------------------------------------\n",
        "\n",
        "Tuned Decision Tree Classifier \n"
      ]
    },
    {
      "cell_type": "code",
      "metadata": {
        "id": "IEHCVi2NdQ5T"
      },
      "source": [
        "from sklearn.tree import DecisionTreeClassifier"
      ],
      "execution_count": null,
      "outputs": []
    },
    {
      "cell_type": "code",
      "metadata": {
        "id": "pMosygwoMjJo"
      },
      "source": [
        "params = {\n",
        "    'max_depth': [ 20, 30,50, 100, 1000],\n",
        "    'min_samples_leaf': [20, 50, 100, 500, 1000, 5000, 10000],\n",
        "    'criterion': [\"gini\", \"entropy\"]\n",
        "}"
      ],
      "execution_count": null,
      "outputs": []
    },
    {
      "cell_type": "code",
      "metadata": {
        "id": "4_wCjh5xMrk0"
      },
      "source": [
        "gsearch_2 = RandomizedSearchCV(estimator = DecisionTreeClassifier(),\n",
        "                        param_distributions = params,  \n",
        "                        scoring = 'balanced_accuracy',                \n",
        "                        cv = 3,\n",
        "                        n_jobs = -1,\n",
        "                        verbose = 4)"
      ],
      "execution_count": null,
      "outputs": []
    },
    {
      "cell_type": "code",
      "metadata": {
        "id": "6LU5xG2tMzl0"
      },
      "source": [
        "grid_search_2 = gsearch_2.fit(X_train_scale, y_train)"
      ],
      "execution_count": null,
      "outputs": []
    },
    {
      "cell_type": "code",
      "metadata": {
        "id": "oGJl2Ba5OZt3"
      },
      "source": [
        "gs_model_2 = grid_search_2.best_estimator_"
      ],
      "execution_count": null,
      "outputs": []
    },
    {
      "cell_type": "code",
      "metadata": {
        "id": "J-itU-CAOb-v"
      },
      "source": [
        "grid_search_2.best_params_"
      ],
      "execution_count": null,
      "outputs": []
    },
    {
      "cell_type": "code",
      "metadata": {
        "id": "K98ZV7ifOfEh"
      },
      "source": [
        "preds = gs_model_2.predict(X_test_scale)\n",
        "\n",
        "train_preds = gs_model_2.predict(X_train_scale)\n",
        "\n",
        "print(\"-------------------Train------------------\")\n",
        "print(\"Train Balanced Accuracy : \\t\" , balanced_accuracy_score(y_train, train_preds))\n",
        "print(\"Train F1 Score : \\t\\t\" , f1_score(y_train, train_preds , average='weighted'))\n",
        "print(\"Train Precision Score : \\t\" , precision_score(y_train, train_preds , average='weighted'))\n",
        "print(\"Train Recall Score : \\t\\t\" , recall_score(y_train, train_preds , average='weighted'))\n",
        "\n",
        "print(\"\\n\\n-------------------Test------------------\")\n",
        "print(\"Test Balanced Accuracy : \\t\" , balanced_accuracy_score(y_test, preds))\n",
        "print(\"Test F1 Score : \\t\\t\" , f1_score(y_test, preds , average='weighted'))\n",
        "print(\"Test Precision Score : \\t\\t\" , precision_score(y_test, preds , average='weighted'))\n",
        "print(\"Test Recall Score : \\t\\t\" , recall_score(y_test, preds , average='weighted'))"
      ],
      "execution_count": null,
      "outputs": []
    },
    {
      "cell_type": "code",
      "metadata": {
        "id": "HdjCP9zvW-Hc"
      },
      "source": [
        "print(\"Train Classification Report\\n\")\n",
        "print(classification_report(y_train, train_preds))\n",
        "\n",
        "print(\"\\n\\nTest Classification Report\\n\")\n",
        "print(classification_report(y_test, preds))"
      ],
      "execution_count": null,
      "outputs": []
    },
    {
      "cell_type": "markdown",
      "metadata": {
        "id": "l7R9GFwsf-gh"
      },
      "source": [
        "----------------------------------------\n",
        "\n",
        "AdaBoost "
      ]
    },
    {
      "cell_type": "code",
      "metadata": {
        "id": "mfEGG4icg0Xa"
      },
      "source": [
        "from sklearn.ensemble import RandomForestClassifier, AdaBoostClassifier, GradientBoostingClassifier"
      ],
      "execution_count": null,
      "outputs": []
    },
    {
      "cell_type": "code",
      "metadata": {
        "id": "xdpMqBcXgBo5"
      },
      "source": [
        "ab = AdaBoostClassifier(base_estimator=DecisionTreeClassifier( max_depth= 2 , min_samples_leaf= 10) , n_estimators= 250 , learning_rate = 0.1)"
      ],
      "execution_count": null,
      "outputs": []
    },
    {
      "cell_type": "code",
      "metadata": {
        "id": "CiGhBwyxg1-_"
      },
      "source": [
        "ab.fit(X_train_scale, y_train)"
      ],
      "execution_count": null,
      "outputs": []
    },
    {
      "cell_type": "code",
      "metadata": {
        "id": "nxCG7Ia6g6yC"
      },
      "source": [
        "train_preds = ab.predict(X_train_scale)\n",
        "\n",
        "preds = ab.predict(X_test_scale)"
      ],
      "execution_count": null,
      "outputs": []
    },
    {
      "cell_type": "code",
      "metadata": {
        "id": "UraGlkwyhF0H"
      },
      "source": [
        "print(\"-------------------Train------------------\")\n",
        "print(\"Train Balanced Accuracy : \\t\" , balanced_accuracy_score(y_train, train_preds))\n",
        "print(\"Train F1 Score : \\t\\t\" , f1_score(y_train, train_preds , average='weighted'))\n",
        "print(\"Train Precision Score : \\t\" , precision_score(y_train, train_preds , average='weighted'))\n",
        "print(\"Train Recall Score : \\t\\t\" , recall_score(y_train, train_preds , average='weighted'))\n",
        "\n",
        "print(\"\\n\\n-------------------Test------------------\")\n",
        "print(\"Test Balanced Accuracy : \\t\" , balanced_accuracy_score(y_test, preds))\n",
        "print(\"Test F1 Score : \\t\\t\" , f1_score(y_test, preds , average='weighted'))\n",
        "print(\"Test Precision Score : \\t\\t\" , precision_score(y_test, preds , average='weighted'))\n",
        "print(\"Test Recall Score : \\t\\t\" , recall_score(y_test, preds , average='weighted'))"
      ],
      "execution_count": null,
      "outputs": []
    },
    {
      "cell_type": "markdown",
      "metadata": {
        "id": "xYB98RrXaIgS"
      },
      "source": [
        "<br>"
      ]
    }
  ]
}